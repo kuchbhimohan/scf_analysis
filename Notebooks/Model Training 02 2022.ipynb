{
 "cells": [
  {
   "cell_type": "code",
   "execution_count": 47,
   "id": "cc36dcdf",
   "metadata": {},
   "outputs": [],
   "source": [
    "import pandas as pd\n",
    "import plotly.express as px\n",
    "import numpy as np\n",
    "import matplotlib.pyplot as plt\n",
    "import seaborn as sns\n",
    "from sklearn.cluster import KMeans\n",
    "from sklearn.metrics import silhouette_score\n",
    "from scipy.stats.mstats import trimmed_var\n",
    "from sklearn.preprocessing import StandardScaler\n",
    "from sklearn.pipeline import make_pipeline\n",
    "from sklearn.decomposition import PCA"
   ]
  },
  {
   "cell_type": "code",
   "execution_count": 11,
   "id": "70b25ed1",
   "metadata": {},
   "outputs": [
    {
     "data": {
      "text/html": [
       "<div>\n",
       "<style scoped>\n",
       "    .dataframe tbody tr th:only-of-type {\n",
       "        vertical-align: middle;\n",
       "    }\n",
       "\n",
       "    .dataframe tbody tr th {\n",
       "        vertical-align: top;\n",
       "    }\n",
       "\n",
       "    .dataframe thead th {\n",
       "        text-align: right;\n",
       "    }\n",
       "</style>\n",
       "<table border=\"1\" class=\"dataframe\">\n",
       "  <thead>\n",
       "    <tr style=\"text-align: right;\">\n",
       "      <th></th>\n",
       "      <th>YY1</th>\n",
       "      <th>Y1</th>\n",
       "      <th>WGT</th>\n",
       "      <th>HHSEX</th>\n",
       "      <th>AGE</th>\n",
       "      <th>AGECL</th>\n",
       "      <th>EDUC</th>\n",
       "      <th>EDCL</th>\n",
       "      <th>MARRIED</th>\n",
       "      <th>KIDS</th>\n",
       "      <th>...</th>\n",
       "      <th>NWCAT</th>\n",
       "      <th>INCCAT</th>\n",
       "      <th>ASSETCAT</th>\n",
       "      <th>NINCCAT</th>\n",
       "      <th>NINC2CAT</th>\n",
       "      <th>NWPCTLECAT</th>\n",
       "      <th>INCPCTLECAT</th>\n",
       "      <th>NINCPCTLECAT</th>\n",
       "      <th>INCQRTCAT</th>\n",
       "      <th>NINCQRTCAT</th>\n",
       "    </tr>\n",
       "  </thead>\n",
       "  <tbody>\n",
       "    <tr>\n",
       "      <th>0</th>\n",
       "      <td>1</td>\n",
       "      <td>11</td>\n",
       "      <td>3027.956120</td>\n",
       "      <td>2</td>\n",
       "      <td>70</td>\n",
       "      <td>5</td>\n",
       "      <td>9</td>\n",
       "      <td>3</td>\n",
       "      <td>2</td>\n",
       "      <td>2</td>\n",
       "      <td>...</td>\n",
       "      <td>4</td>\n",
       "      <td>2</td>\n",
       "      <td>4</td>\n",
       "      <td>2</td>\n",
       "      <td>1</td>\n",
       "      <td>8</td>\n",
       "      <td>3</td>\n",
       "      <td>3</td>\n",
       "      <td>2</td>\n",
       "      <td>1</td>\n",
       "    </tr>\n",
       "    <tr>\n",
       "      <th>1</th>\n",
       "      <td>1</td>\n",
       "      <td>12</td>\n",
       "      <td>3054.900065</td>\n",
       "      <td>2</td>\n",
       "      <td>70</td>\n",
       "      <td>5</td>\n",
       "      <td>9</td>\n",
       "      <td>3</td>\n",
       "      <td>2</td>\n",
       "      <td>2</td>\n",
       "      <td>...</td>\n",
       "      <td>4</td>\n",
       "      <td>2</td>\n",
       "      <td>5</td>\n",
       "      <td>2</td>\n",
       "      <td>1</td>\n",
       "      <td>8</td>\n",
       "      <td>3</td>\n",
       "      <td>3</td>\n",
       "      <td>2</td>\n",
       "      <td>1</td>\n",
       "    </tr>\n",
       "    <tr>\n",
       "      <th>2</th>\n",
       "      <td>1</td>\n",
       "      <td>13</td>\n",
       "      <td>3163.637766</td>\n",
       "      <td>2</td>\n",
       "      <td>70</td>\n",
       "      <td>5</td>\n",
       "      <td>9</td>\n",
       "      <td>3</td>\n",
       "      <td>2</td>\n",
       "      <td>2</td>\n",
       "      <td>...</td>\n",
       "      <td>4</td>\n",
       "      <td>2</td>\n",
       "      <td>4</td>\n",
       "      <td>2</td>\n",
       "      <td>1</td>\n",
       "      <td>8</td>\n",
       "      <td>3</td>\n",
       "      <td>3</td>\n",
       "      <td>1</td>\n",
       "      <td>1</td>\n",
       "    </tr>\n",
       "    <tr>\n",
       "      <th>3</th>\n",
       "      <td>1</td>\n",
       "      <td>14</td>\n",
       "      <td>3166.228463</td>\n",
       "      <td>2</td>\n",
       "      <td>70</td>\n",
       "      <td>5</td>\n",
       "      <td>9</td>\n",
       "      <td>3</td>\n",
       "      <td>2</td>\n",
       "      <td>2</td>\n",
       "      <td>...</td>\n",
       "      <td>3</td>\n",
       "      <td>2</td>\n",
       "      <td>4</td>\n",
       "      <td>1</td>\n",
       "      <td>1</td>\n",
       "      <td>6</td>\n",
       "      <td>3</td>\n",
       "      <td>2</td>\n",
       "      <td>1</td>\n",
       "      <td>1</td>\n",
       "    </tr>\n",
       "    <tr>\n",
       "      <th>4</th>\n",
       "      <td>1</td>\n",
       "      <td>15</td>\n",
       "      <td>3235.624715</td>\n",
       "      <td>2</td>\n",
       "      <td>70</td>\n",
       "      <td>5</td>\n",
       "      <td>9</td>\n",
       "      <td>3</td>\n",
       "      <td>2</td>\n",
       "      <td>2</td>\n",
       "      <td>...</td>\n",
       "      <td>3</td>\n",
       "      <td>2</td>\n",
       "      <td>4</td>\n",
       "      <td>2</td>\n",
       "      <td>1</td>\n",
       "      <td>8</td>\n",
       "      <td>3</td>\n",
       "      <td>3</td>\n",
       "      <td>1</td>\n",
       "      <td>1</td>\n",
       "    </tr>\n",
       "  </tbody>\n",
       "</table>\n",
       "<p>5 rows × 356 columns</p>\n",
       "</div>"
      ],
      "text/plain": [
       "   YY1  Y1          WGT  HHSEX  AGE  AGECL  EDUC  EDCL  MARRIED  KIDS  ...  \\\n",
       "0    1  11  3027.956120      2   70      5     9     3        2     2  ...   \n",
       "1    1  12  3054.900065      2   70      5     9     3        2     2  ...   \n",
       "2    1  13  3163.637766      2   70      5     9     3        2     2  ...   \n",
       "3    1  14  3166.228463      2   70      5     9     3        2     2  ...   \n",
       "4    1  15  3235.624715      2   70      5     9     3        2     2  ...   \n",
       "\n",
       "   NWCAT  INCCAT  ASSETCAT  NINCCAT  NINC2CAT  NWPCTLECAT  INCPCTLECAT  \\\n",
       "0      4       2         4        2         1           8            3   \n",
       "1      4       2         5        2         1           8            3   \n",
       "2      4       2         4        2         1           8            3   \n",
       "3      3       2         4        1         1           6            3   \n",
       "4      3       2         4        2         1           8            3   \n",
       "\n",
       "   NINCPCTLECAT  INCQRTCAT  NINCQRTCAT  \n",
       "0             3          2           1  \n",
       "1             3          2           1  \n",
       "2             3          1           1  \n",
       "3             2          1           1  \n",
       "4             3          1           1  \n",
       "\n",
       "[5 rows x 356 columns]"
      ]
     },
     "execution_count": 11,
     "metadata": {},
     "output_type": "execute_result"
    }
   ],
   "source": [
    "df  = pd.read_csv(\"../Dataset/SCFP2022.csv\")\n",
    "df.head()"
   ]
  },
  {
   "cell_type": "markdown",
   "id": "04596648",
   "metadata": {},
   "source": [
    "# In this notebook we are going to focus households which are credit fearful and those having Networth less than 2 milllion , because the households having Networth greater than 2 million dollars have very less chances of credit being denied and they act as outliers in the data of credit fearful people."
   ]
  },
  {
   "cell_type": "code",
   "execution_count": 12,
   "id": "5fd4be21",
   "metadata": {},
   "outputs": [
    {
     "data": {
      "text/plain": [
       "(3672, 356)"
      ]
     },
     "execution_count": 12,
     "metadata": {},
     "output_type": "execute_result"
    }
   ],
   "source": [
    "filter  = (df[\"TURNFEAR\"] == 1) & (df[\"NETWORTH\"] < 2e6)\n",
    "df = df[filter]\n",
    "df.shape"
   ]
  },
  {
   "cell_type": "markdown",
   "id": "c5882357",
   "metadata": {},
   "source": [
    "## We want to cluster this dataset based on multiple features now , but as the dataset has 356 columns , its difficult to gather information about each column, hence we will use those features which have high variance means they have more data and variability"
   ]
  },
  {
   "cell_type": "code",
   "execution_count": 13,
   "id": "60816826",
   "metadata": {},
   "outputs": [],
   "source": [
    "# Calculate variance, get 10 largest features\n",
    "top_ten_var = df.var().sort_values().tail(10)"
   ]
  },
  {
   "cell_type": "code",
   "execution_count": 14,
   "id": "2ad00ebe",
   "metadata": {},
   "outputs": [
    {
     "data": {
      "text/plain": [
       "HOMEEQ      1.481548e+10\n",
       "FIN         1.561213e+10\n",
       "DEBT        1.988860e+10\n",
       "NHNFIN      2.512559e+10\n",
       "KGBUS       3.167079e+10\n",
       "HOUSES      3.381911e+10\n",
       "KGTOTAL     3.853314e+10\n",
       "NETWORTH    6.670754e+10\n",
       "NFIN        7.102944e+10\n",
       "ASSET       1.102278e+11\n",
       "dtype: float64"
      ]
     },
     "execution_count": 14,
     "metadata": {},
     "output_type": "execute_result"
    }
   ],
   "source": [
    "top_ten_var"
   ]
  },
  {
   "cell_type": "code",
   "execution_count": 22,
   "id": "fe09b7a9",
   "metadata": {
    "scrolled": true
   },
   "outputs": [
    {
     "data": {
      "application/vnd.plotly.v1+json": {
       "config": {
        "plotlyServerURL": "https://plot.ly"
       },
       "data": [
        {
         "alignmentgroup": "True",
         "hovertemplate": "x=%{x}<br>y=%{y}<extra></extra>",
         "legendgroup": "",
         "marker": {
          "color": "#636efa",
          "pattern": {
           "shape": ""
          }
         },
         "name": "",
         "offsetgroup": "",
         "orientation": "h",
         "showlegend": false,
         "textposition": "auto",
         "type": "bar",
         "x": [
          14815479077.76806,
          15612126567.80515,
          19888604963.905964,
          25125590646.899128,
          31670785602.041668,
          33819109744.635277,
          38533141128.281845,
          66707535178.43951,
          71029443186.082,
          110227777747.52057
         ],
         "xaxis": "x",
         "y": [
          "HOMEEQ",
          "FIN",
          "DEBT",
          "NHNFIN",
          "KGBUS",
          "HOUSES",
          "KGTOTAL",
          "NETWORTH",
          "NFIN",
          "ASSET"
         ],
         "yaxis": "y"
        }
       ],
       "layout": {
        "barmode": "relative",
        "height": 500,
        "legend": {
         "tracegroupgap": 0
        },
        "template": {
         "data": {
          "bar": [
           {
            "error_x": {
             "color": "#2a3f5f"
            },
            "error_y": {
             "color": "#2a3f5f"
            },
            "marker": {
             "line": {
              "color": "#E5ECF6",
              "width": 0.5
             },
             "pattern": {
              "fillmode": "overlay",
              "size": 10,
              "solidity": 0.2
             }
            },
            "type": "bar"
           }
          ],
          "barpolar": [
           {
            "marker": {
             "line": {
              "color": "#E5ECF6",
              "width": 0.5
             },
             "pattern": {
              "fillmode": "overlay",
              "size": 10,
              "solidity": 0.2
             }
            },
            "type": "barpolar"
           }
          ],
          "carpet": [
           {
            "aaxis": {
             "endlinecolor": "#2a3f5f",
             "gridcolor": "white",
             "linecolor": "white",
             "minorgridcolor": "white",
             "startlinecolor": "#2a3f5f"
            },
            "baxis": {
             "endlinecolor": "#2a3f5f",
             "gridcolor": "white",
             "linecolor": "white",
             "minorgridcolor": "white",
             "startlinecolor": "#2a3f5f"
            },
            "type": "carpet"
           }
          ],
          "choropleth": [
           {
            "colorbar": {
             "outlinewidth": 0,
             "ticks": ""
            },
            "type": "choropleth"
           }
          ],
          "contour": [
           {
            "colorbar": {
             "outlinewidth": 0,
             "ticks": ""
            },
            "colorscale": [
             [
              0,
              "#0d0887"
             ],
             [
              0.1111111111111111,
              "#46039f"
             ],
             [
              0.2222222222222222,
              "#7201a8"
             ],
             [
              0.3333333333333333,
              "#9c179e"
             ],
             [
              0.4444444444444444,
              "#bd3786"
             ],
             [
              0.5555555555555556,
              "#d8576b"
             ],
             [
              0.6666666666666666,
              "#ed7953"
             ],
             [
              0.7777777777777778,
              "#fb9f3a"
             ],
             [
              0.8888888888888888,
              "#fdca26"
             ],
             [
              1,
              "#f0f921"
             ]
            ],
            "type": "contour"
           }
          ],
          "contourcarpet": [
           {
            "colorbar": {
             "outlinewidth": 0,
             "ticks": ""
            },
            "type": "contourcarpet"
           }
          ],
          "heatmap": [
           {
            "colorbar": {
             "outlinewidth": 0,
             "ticks": ""
            },
            "colorscale": [
             [
              0,
              "#0d0887"
             ],
             [
              0.1111111111111111,
              "#46039f"
             ],
             [
              0.2222222222222222,
              "#7201a8"
             ],
             [
              0.3333333333333333,
              "#9c179e"
             ],
             [
              0.4444444444444444,
              "#bd3786"
             ],
             [
              0.5555555555555556,
              "#d8576b"
             ],
             [
              0.6666666666666666,
              "#ed7953"
             ],
             [
              0.7777777777777778,
              "#fb9f3a"
             ],
             [
              0.8888888888888888,
              "#fdca26"
             ],
             [
              1,
              "#f0f921"
             ]
            ],
            "type": "heatmap"
           }
          ],
          "heatmapgl": [
           {
            "colorbar": {
             "outlinewidth": 0,
             "ticks": ""
            },
            "colorscale": [
             [
              0,
              "#0d0887"
             ],
             [
              0.1111111111111111,
              "#46039f"
             ],
             [
              0.2222222222222222,
              "#7201a8"
             ],
             [
              0.3333333333333333,
              "#9c179e"
             ],
             [
              0.4444444444444444,
              "#bd3786"
             ],
             [
              0.5555555555555556,
              "#d8576b"
             ],
             [
              0.6666666666666666,
              "#ed7953"
             ],
             [
              0.7777777777777778,
              "#fb9f3a"
             ],
             [
              0.8888888888888888,
              "#fdca26"
             ],
             [
              1,
              "#f0f921"
             ]
            ],
            "type": "heatmapgl"
           }
          ],
          "histogram": [
           {
            "marker": {
             "pattern": {
              "fillmode": "overlay",
              "size": 10,
              "solidity": 0.2
             }
            },
            "type": "histogram"
           }
          ],
          "histogram2d": [
           {
            "colorbar": {
             "outlinewidth": 0,
             "ticks": ""
            },
            "colorscale": [
             [
              0,
              "#0d0887"
             ],
             [
              0.1111111111111111,
              "#46039f"
             ],
             [
              0.2222222222222222,
              "#7201a8"
             ],
             [
              0.3333333333333333,
              "#9c179e"
             ],
             [
              0.4444444444444444,
              "#bd3786"
             ],
             [
              0.5555555555555556,
              "#d8576b"
             ],
             [
              0.6666666666666666,
              "#ed7953"
             ],
             [
              0.7777777777777778,
              "#fb9f3a"
             ],
             [
              0.8888888888888888,
              "#fdca26"
             ],
             [
              1,
              "#f0f921"
             ]
            ],
            "type": "histogram2d"
           }
          ],
          "histogram2dcontour": [
           {
            "colorbar": {
             "outlinewidth": 0,
             "ticks": ""
            },
            "colorscale": [
             [
              0,
              "#0d0887"
             ],
             [
              0.1111111111111111,
              "#46039f"
             ],
             [
              0.2222222222222222,
              "#7201a8"
             ],
             [
              0.3333333333333333,
              "#9c179e"
             ],
             [
              0.4444444444444444,
              "#bd3786"
             ],
             [
              0.5555555555555556,
              "#d8576b"
             ],
             [
              0.6666666666666666,
              "#ed7953"
             ],
             [
              0.7777777777777778,
              "#fb9f3a"
             ],
             [
              0.8888888888888888,
              "#fdca26"
             ],
             [
              1,
              "#f0f921"
             ]
            ],
            "type": "histogram2dcontour"
           }
          ],
          "mesh3d": [
           {
            "colorbar": {
             "outlinewidth": 0,
             "ticks": ""
            },
            "type": "mesh3d"
           }
          ],
          "parcoords": [
           {
            "line": {
             "colorbar": {
              "outlinewidth": 0,
              "ticks": ""
             }
            },
            "type": "parcoords"
           }
          ],
          "pie": [
           {
            "automargin": true,
            "type": "pie"
           }
          ],
          "scatter": [
           {
            "fillpattern": {
             "fillmode": "overlay",
             "size": 10,
             "solidity": 0.2
            },
            "type": "scatter"
           }
          ],
          "scatter3d": [
           {
            "line": {
             "colorbar": {
              "outlinewidth": 0,
              "ticks": ""
             }
            },
            "marker": {
             "colorbar": {
              "outlinewidth": 0,
              "ticks": ""
             }
            },
            "type": "scatter3d"
           }
          ],
          "scattercarpet": [
           {
            "marker": {
             "colorbar": {
              "outlinewidth": 0,
              "ticks": ""
             }
            },
            "type": "scattercarpet"
           }
          ],
          "scattergeo": [
           {
            "marker": {
             "colorbar": {
              "outlinewidth": 0,
              "ticks": ""
             }
            },
            "type": "scattergeo"
           }
          ],
          "scattergl": [
           {
            "marker": {
             "colorbar": {
              "outlinewidth": 0,
              "ticks": ""
             }
            },
            "type": "scattergl"
           }
          ],
          "scattermapbox": [
           {
            "marker": {
             "colorbar": {
              "outlinewidth": 0,
              "ticks": ""
             }
            },
            "type": "scattermapbox"
           }
          ],
          "scatterpolar": [
           {
            "marker": {
             "colorbar": {
              "outlinewidth": 0,
              "ticks": ""
             }
            },
            "type": "scatterpolar"
           }
          ],
          "scatterpolargl": [
           {
            "marker": {
             "colorbar": {
              "outlinewidth": 0,
              "ticks": ""
             }
            },
            "type": "scatterpolargl"
           }
          ],
          "scatterternary": [
           {
            "marker": {
             "colorbar": {
              "outlinewidth": 0,
              "ticks": ""
             }
            },
            "type": "scatterternary"
           }
          ],
          "surface": [
           {
            "colorbar": {
             "outlinewidth": 0,
             "ticks": ""
            },
            "colorscale": [
             [
              0,
              "#0d0887"
             ],
             [
              0.1111111111111111,
              "#46039f"
             ],
             [
              0.2222222222222222,
              "#7201a8"
             ],
             [
              0.3333333333333333,
              "#9c179e"
             ],
             [
              0.4444444444444444,
              "#bd3786"
             ],
             [
              0.5555555555555556,
              "#d8576b"
             ],
             [
              0.6666666666666666,
              "#ed7953"
             ],
             [
              0.7777777777777778,
              "#fb9f3a"
             ],
             [
              0.8888888888888888,
              "#fdca26"
             ],
             [
              1,
              "#f0f921"
             ]
            ],
            "type": "surface"
           }
          ],
          "table": [
           {
            "cells": {
             "fill": {
              "color": "#EBF0F8"
             },
             "line": {
              "color": "white"
             }
            },
            "header": {
             "fill": {
              "color": "#C8D4E3"
             },
             "line": {
              "color": "white"
             }
            },
            "type": "table"
           }
          ]
         },
         "layout": {
          "annotationdefaults": {
           "arrowcolor": "#2a3f5f",
           "arrowhead": 0,
           "arrowwidth": 1
          },
          "autotypenumbers": "strict",
          "coloraxis": {
           "colorbar": {
            "outlinewidth": 0,
            "ticks": ""
           }
          },
          "colorscale": {
           "diverging": [
            [
             0,
             "#8e0152"
            ],
            [
             0.1,
             "#c51b7d"
            ],
            [
             0.2,
             "#de77ae"
            ],
            [
             0.3,
             "#f1b6da"
            ],
            [
             0.4,
             "#fde0ef"
            ],
            [
             0.5,
             "#f7f7f7"
            ],
            [
             0.6,
             "#e6f5d0"
            ],
            [
             0.7,
             "#b8e186"
            ],
            [
             0.8,
             "#7fbc41"
            ],
            [
             0.9,
             "#4d9221"
            ],
            [
             1,
             "#276419"
            ]
           ],
           "sequential": [
            [
             0,
             "#0d0887"
            ],
            [
             0.1111111111111111,
             "#46039f"
            ],
            [
             0.2222222222222222,
             "#7201a8"
            ],
            [
             0.3333333333333333,
             "#9c179e"
            ],
            [
             0.4444444444444444,
             "#bd3786"
            ],
            [
             0.5555555555555556,
             "#d8576b"
            ],
            [
             0.6666666666666666,
             "#ed7953"
            ],
            [
             0.7777777777777778,
             "#fb9f3a"
            ],
            [
             0.8888888888888888,
             "#fdca26"
            ],
            [
             1,
             "#f0f921"
            ]
           ],
           "sequentialminus": [
            [
             0,
             "#0d0887"
            ],
            [
             0.1111111111111111,
             "#46039f"
            ],
            [
             0.2222222222222222,
             "#7201a8"
            ],
            [
             0.3333333333333333,
             "#9c179e"
            ],
            [
             0.4444444444444444,
             "#bd3786"
            ],
            [
             0.5555555555555556,
             "#d8576b"
            ],
            [
             0.6666666666666666,
             "#ed7953"
            ],
            [
             0.7777777777777778,
             "#fb9f3a"
            ],
            [
             0.8888888888888888,
             "#fdca26"
            ],
            [
             1,
             "#f0f921"
            ]
           ]
          },
          "colorway": [
           "#636efa",
           "#EF553B",
           "#00cc96",
           "#ab63fa",
           "#FFA15A",
           "#19d3f3",
           "#FF6692",
           "#B6E880",
           "#FF97FF",
           "#FECB52"
          ],
          "font": {
           "color": "#2a3f5f"
          },
          "geo": {
           "bgcolor": "white",
           "lakecolor": "white",
           "landcolor": "#E5ECF6",
           "showlakes": true,
           "showland": true,
           "subunitcolor": "white"
          },
          "hoverlabel": {
           "align": "left"
          },
          "hovermode": "closest",
          "mapbox": {
           "style": "light"
          },
          "paper_bgcolor": "white",
          "plot_bgcolor": "#E5ECF6",
          "polar": {
           "angularaxis": {
            "gridcolor": "white",
            "linecolor": "white",
            "ticks": ""
           },
           "bgcolor": "#E5ECF6",
           "radialaxis": {
            "gridcolor": "white",
            "linecolor": "white",
            "ticks": ""
           }
          },
          "scene": {
           "xaxis": {
            "backgroundcolor": "#E5ECF6",
            "gridcolor": "white",
            "gridwidth": 2,
            "linecolor": "white",
            "showbackground": true,
            "ticks": "",
            "zerolinecolor": "white"
           },
           "yaxis": {
            "backgroundcolor": "#E5ECF6",
            "gridcolor": "white",
            "gridwidth": 2,
            "linecolor": "white",
            "showbackground": true,
            "ticks": "",
            "zerolinecolor": "white"
           },
           "zaxis": {
            "backgroundcolor": "#E5ECF6",
            "gridcolor": "white",
            "gridwidth": 2,
            "linecolor": "white",
            "showbackground": true,
            "ticks": "",
            "zerolinecolor": "white"
           }
          },
          "shapedefaults": {
           "line": {
            "color": "#2a3f5f"
           }
          },
          "ternary": {
           "aaxis": {
            "gridcolor": "white",
            "linecolor": "white",
            "ticks": ""
           },
           "baxis": {
            "gridcolor": "white",
            "linecolor": "white",
            "ticks": ""
           },
           "bgcolor": "#E5ECF6",
           "caxis": {
            "gridcolor": "white",
            "linecolor": "white",
            "ticks": ""
           }
          },
          "title": {
           "x": 0.05
          },
          "xaxis": {
           "automargin": true,
           "gridcolor": "white",
           "linecolor": "white",
           "ticks": "",
           "title": {
            "standoff": 15
           },
           "zerolinecolor": "white",
           "zerolinewidth": 2
          },
          "yaxis": {
           "automargin": true,
           "gridcolor": "white",
           "linecolor": "white",
           "ticks": "",
           "title": {
            "standoff": 15
           },
           "zerolinecolor": "white",
           "zerolinewidth": 2
          }
         }
        },
        "title": {
         "text": "SCF: High Variance Features"
        },
        "xaxis": {
         "anchor": "y",
         "domain": [
          0,
          1
         ],
         "title": {
          "text": "Variance"
         }
        },
        "yaxis": {
         "anchor": "x",
         "domain": [
          0,
          1
         ],
         "title": {
          "text": "Feature"
         }
        }
       }
      },
      "text/html": [
       "<div>                            <div id=\"7c2931e6-1aaf-4c6e-969d-46433b0502c6\" class=\"plotly-graph-div\" style=\"height:500px; width:100%;\"></div>            <script type=\"text/javascript\">                require([\"plotly\"], function(Plotly) {                    window.PLOTLYENV=window.PLOTLYENV || {};                                    if (document.getElementById(\"7c2931e6-1aaf-4c6e-969d-46433b0502c6\")) {                    Plotly.newPlot(                        \"7c2931e6-1aaf-4c6e-969d-46433b0502c6\",                        [{\"alignmentgroup\":\"True\",\"hovertemplate\":\"x=%{x}<br>y=%{y}<extra></extra>\",\"legendgroup\":\"\",\"marker\":{\"color\":\"#636efa\",\"pattern\":{\"shape\":\"\"}},\"name\":\"\",\"offsetgroup\":\"\",\"orientation\":\"h\",\"showlegend\":false,\"textposition\":\"auto\",\"x\":[14815479077.76806,15612126567.80515,19888604963.905964,25125590646.899128,31670785602.041668,33819109744.635277,38533141128.281845,66707535178.43951,71029443186.082,110227777747.52057],\"xaxis\":\"x\",\"y\":[\"HOMEEQ\",\"FIN\",\"DEBT\",\"NHNFIN\",\"KGBUS\",\"HOUSES\",\"KGTOTAL\",\"NETWORTH\",\"NFIN\",\"ASSET\"],\"yaxis\":\"y\",\"type\":\"bar\"}],                        {\"template\":{\"data\":{\"histogram2dcontour\":[{\"type\":\"histogram2dcontour\",\"colorbar\":{\"outlinewidth\":0,\"ticks\":\"\"},\"colorscale\":[[0.0,\"#0d0887\"],[0.1111111111111111,\"#46039f\"],[0.2222222222222222,\"#7201a8\"],[0.3333333333333333,\"#9c179e\"],[0.4444444444444444,\"#bd3786\"],[0.5555555555555556,\"#d8576b\"],[0.6666666666666666,\"#ed7953\"],[0.7777777777777778,\"#fb9f3a\"],[0.8888888888888888,\"#fdca26\"],[1.0,\"#f0f921\"]]}],\"choropleth\":[{\"type\":\"choropleth\",\"colorbar\":{\"outlinewidth\":0,\"ticks\":\"\"}}],\"histogram2d\":[{\"type\":\"histogram2d\",\"colorbar\":{\"outlinewidth\":0,\"ticks\":\"\"},\"colorscale\":[[0.0,\"#0d0887\"],[0.1111111111111111,\"#46039f\"],[0.2222222222222222,\"#7201a8\"],[0.3333333333333333,\"#9c179e\"],[0.4444444444444444,\"#bd3786\"],[0.5555555555555556,\"#d8576b\"],[0.6666666666666666,\"#ed7953\"],[0.7777777777777778,\"#fb9f3a\"],[0.8888888888888888,\"#fdca26\"],[1.0,\"#f0f921\"]]}],\"heatmap\":[{\"type\":\"heatmap\",\"colorbar\":{\"outlinewidth\":0,\"ticks\":\"\"},\"colorscale\":[[0.0,\"#0d0887\"],[0.1111111111111111,\"#46039f\"],[0.2222222222222222,\"#7201a8\"],[0.3333333333333333,\"#9c179e\"],[0.4444444444444444,\"#bd3786\"],[0.5555555555555556,\"#d8576b\"],[0.6666666666666666,\"#ed7953\"],[0.7777777777777778,\"#fb9f3a\"],[0.8888888888888888,\"#fdca26\"],[1.0,\"#f0f921\"]]}],\"heatmapgl\":[{\"type\":\"heatmapgl\",\"colorbar\":{\"outlinewidth\":0,\"ticks\":\"\"},\"colorscale\":[[0.0,\"#0d0887\"],[0.1111111111111111,\"#46039f\"],[0.2222222222222222,\"#7201a8\"],[0.3333333333333333,\"#9c179e\"],[0.4444444444444444,\"#bd3786\"],[0.5555555555555556,\"#d8576b\"],[0.6666666666666666,\"#ed7953\"],[0.7777777777777778,\"#fb9f3a\"],[0.8888888888888888,\"#fdca26\"],[1.0,\"#f0f921\"]]}],\"contourcarpet\":[{\"type\":\"contourcarpet\",\"colorbar\":{\"outlinewidth\":0,\"ticks\":\"\"}}],\"contour\":[{\"type\":\"contour\",\"colorbar\":{\"outlinewidth\":0,\"ticks\":\"\"},\"colorscale\":[[0.0,\"#0d0887\"],[0.1111111111111111,\"#46039f\"],[0.2222222222222222,\"#7201a8\"],[0.3333333333333333,\"#9c179e\"],[0.4444444444444444,\"#bd3786\"],[0.5555555555555556,\"#d8576b\"],[0.6666666666666666,\"#ed7953\"],[0.7777777777777778,\"#fb9f3a\"],[0.8888888888888888,\"#fdca26\"],[1.0,\"#f0f921\"]]}],\"surface\":[{\"type\":\"surface\",\"colorbar\":{\"outlinewidth\":0,\"ticks\":\"\"},\"colorscale\":[[0.0,\"#0d0887\"],[0.1111111111111111,\"#46039f\"],[0.2222222222222222,\"#7201a8\"],[0.3333333333333333,\"#9c179e\"],[0.4444444444444444,\"#bd3786\"],[0.5555555555555556,\"#d8576b\"],[0.6666666666666666,\"#ed7953\"],[0.7777777777777778,\"#fb9f3a\"],[0.8888888888888888,\"#fdca26\"],[1.0,\"#f0f921\"]]}],\"mesh3d\":[{\"type\":\"mesh3d\",\"colorbar\":{\"outlinewidth\":0,\"ticks\":\"\"}}],\"scatter\":[{\"fillpattern\":{\"fillmode\":\"overlay\",\"size\":10,\"solidity\":0.2},\"type\":\"scatter\"}],\"parcoords\":[{\"type\":\"parcoords\",\"line\":{\"colorbar\":{\"outlinewidth\":0,\"ticks\":\"\"}}}],\"scatterpolargl\":[{\"type\":\"scatterpolargl\",\"marker\":{\"colorbar\":{\"outlinewidth\":0,\"ticks\":\"\"}}}],\"bar\":[{\"error_x\":{\"color\":\"#2a3f5f\"},\"error_y\":{\"color\":\"#2a3f5f\"},\"marker\":{\"line\":{\"color\":\"#E5ECF6\",\"width\":0.5},\"pattern\":{\"fillmode\":\"overlay\",\"size\":10,\"solidity\":0.2}},\"type\":\"bar\"}],\"scattergeo\":[{\"type\":\"scattergeo\",\"marker\":{\"colorbar\":{\"outlinewidth\":0,\"ticks\":\"\"}}}],\"scatterpolar\":[{\"type\":\"scatterpolar\",\"marker\":{\"colorbar\":{\"outlinewidth\":0,\"ticks\":\"\"}}}],\"histogram\":[{\"marker\":{\"pattern\":{\"fillmode\":\"overlay\",\"size\":10,\"solidity\":0.2}},\"type\":\"histogram\"}],\"scattergl\":[{\"type\":\"scattergl\",\"marker\":{\"colorbar\":{\"outlinewidth\":0,\"ticks\":\"\"}}}],\"scatter3d\":[{\"type\":\"scatter3d\",\"line\":{\"colorbar\":{\"outlinewidth\":0,\"ticks\":\"\"}},\"marker\":{\"colorbar\":{\"outlinewidth\":0,\"ticks\":\"\"}}}],\"scattermapbox\":[{\"type\":\"scattermapbox\",\"marker\":{\"colorbar\":{\"outlinewidth\":0,\"ticks\":\"\"}}}],\"scatterternary\":[{\"type\":\"scatterternary\",\"marker\":{\"colorbar\":{\"outlinewidth\":0,\"ticks\":\"\"}}}],\"scattercarpet\":[{\"type\":\"scattercarpet\",\"marker\":{\"colorbar\":{\"outlinewidth\":0,\"ticks\":\"\"}}}],\"carpet\":[{\"aaxis\":{\"endlinecolor\":\"#2a3f5f\",\"gridcolor\":\"white\",\"linecolor\":\"white\",\"minorgridcolor\":\"white\",\"startlinecolor\":\"#2a3f5f\"},\"baxis\":{\"endlinecolor\":\"#2a3f5f\",\"gridcolor\":\"white\",\"linecolor\":\"white\",\"minorgridcolor\":\"white\",\"startlinecolor\":\"#2a3f5f\"},\"type\":\"carpet\"}],\"table\":[{\"cells\":{\"fill\":{\"color\":\"#EBF0F8\"},\"line\":{\"color\":\"white\"}},\"header\":{\"fill\":{\"color\":\"#C8D4E3\"},\"line\":{\"color\":\"white\"}},\"type\":\"table\"}],\"barpolar\":[{\"marker\":{\"line\":{\"color\":\"#E5ECF6\",\"width\":0.5},\"pattern\":{\"fillmode\":\"overlay\",\"size\":10,\"solidity\":0.2}},\"type\":\"barpolar\"}],\"pie\":[{\"automargin\":true,\"type\":\"pie\"}]},\"layout\":{\"autotypenumbers\":\"strict\",\"colorway\":[\"#636efa\",\"#EF553B\",\"#00cc96\",\"#ab63fa\",\"#FFA15A\",\"#19d3f3\",\"#FF6692\",\"#B6E880\",\"#FF97FF\",\"#FECB52\"],\"font\":{\"color\":\"#2a3f5f\"},\"hovermode\":\"closest\",\"hoverlabel\":{\"align\":\"left\"},\"paper_bgcolor\":\"white\",\"plot_bgcolor\":\"#E5ECF6\",\"polar\":{\"bgcolor\":\"#E5ECF6\",\"angularaxis\":{\"gridcolor\":\"white\",\"linecolor\":\"white\",\"ticks\":\"\"},\"radialaxis\":{\"gridcolor\":\"white\",\"linecolor\":\"white\",\"ticks\":\"\"}},\"ternary\":{\"bgcolor\":\"#E5ECF6\",\"aaxis\":{\"gridcolor\":\"white\",\"linecolor\":\"white\",\"ticks\":\"\"},\"baxis\":{\"gridcolor\":\"white\",\"linecolor\":\"white\",\"ticks\":\"\"},\"caxis\":{\"gridcolor\":\"white\",\"linecolor\":\"white\",\"ticks\":\"\"}},\"coloraxis\":{\"colorbar\":{\"outlinewidth\":0,\"ticks\":\"\"}},\"colorscale\":{\"sequential\":[[0.0,\"#0d0887\"],[0.1111111111111111,\"#46039f\"],[0.2222222222222222,\"#7201a8\"],[0.3333333333333333,\"#9c179e\"],[0.4444444444444444,\"#bd3786\"],[0.5555555555555556,\"#d8576b\"],[0.6666666666666666,\"#ed7953\"],[0.7777777777777778,\"#fb9f3a\"],[0.8888888888888888,\"#fdca26\"],[1.0,\"#f0f921\"]],\"sequentialminus\":[[0.0,\"#0d0887\"],[0.1111111111111111,\"#46039f\"],[0.2222222222222222,\"#7201a8\"],[0.3333333333333333,\"#9c179e\"],[0.4444444444444444,\"#bd3786\"],[0.5555555555555556,\"#d8576b\"],[0.6666666666666666,\"#ed7953\"],[0.7777777777777778,\"#fb9f3a\"],[0.8888888888888888,\"#fdca26\"],[1.0,\"#f0f921\"]],\"diverging\":[[0,\"#8e0152\"],[0.1,\"#c51b7d\"],[0.2,\"#de77ae\"],[0.3,\"#f1b6da\"],[0.4,\"#fde0ef\"],[0.5,\"#f7f7f7\"],[0.6,\"#e6f5d0\"],[0.7,\"#b8e186\"],[0.8,\"#7fbc41\"],[0.9,\"#4d9221\"],[1,\"#276419\"]]},\"xaxis\":{\"gridcolor\":\"white\",\"linecolor\":\"white\",\"ticks\":\"\",\"title\":{\"standoff\":15},\"zerolinecolor\":\"white\",\"automargin\":true,\"zerolinewidth\":2},\"yaxis\":{\"gridcolor\":\"white\",\"linecolor\":\"white\",\"ticks\":\"\",\"title\":{\"standoff\":15},\"zerolinecolor\":\"white\",\"automargin\":true,\"zerolinewidth\":2},\"scene\":{\"xaxis\":{\"backgroundcolor\":\"#E5ECF6\",\"gridcolor\":\"white\",\"linecolor\":\"white\",\"showbackground\":true,\"ticks\":\"\",\"zerolinecolor\":\"white\",\"gridwidth\":2},\"yaxis\":{\"backgroundcolor\":\"#E5ECF6\",\"gridcolor\":\"white\",\"linecolor\":\"white\",\"showbackground\":true,\"ticks\":\"\",\"zerolinecolor\":\"white\",\"gridwidth\":2},\"zaxis\":{\"backgroundcolor\":\"#E5ECF6\",\"gridcolor\":\"white\",\"linecolor\":\"white\",\"showbackground\":true,\"ticks\":\"\",\"zerolinecolor\":\"white\",\"gridwidth\":2}},\"shapedefaults\":{\"line\":{\"color\":\"#2a3f5f\"}},\"annotationdefaults\":{\"arrowcolor\":\"#2a3f5f\",\"arrowhead\":0,\"arrowwidth\":1},\"geo\":{\"bgcolor\":\"white\",\"landcolor\":\"#E5ECF6\",\"subunitcolor\":\"white\",\"showland\":true,\"showlakes\":true,\"lakecolor\":\"white\"},\"title\":{\"x\":0.05},\"mapbox\":{\"style\":\"light\"}}},\"xaxis\":{\"anchor\":\"y\",\"domain\":[0.0,1.0],\"title\":{\"text\":\"Variance\"}},\"yaxis\":{\"anchor\":\"x\",\"domain\":[0.0,1.0],\"title\":{\"text\":\"Feature\"}},\"legend\":{\"tracegroupgap\":0},\"title\":{\"text\":\"SCF: High Variance Features\"},\"barmode\":\"relative\",\"height\":500},                        {\"responsive\": true}                    ).then(function(){\n",
       "                            \n",
       "var gd = document.getElementById('7c2931e6-1aaf-4c6e-969d-46433b0502c6');\n",
       "var x = new MutationObserver(function (mutations, observer) {{\n",
       "        var display = window.getComputedStyle(gd).display;\n",
       "        if (!display || display === 'none') {{\n",
       "            console.log([gd, 'removed!']);\n",
       "            Plotly.purge(gd);\n",
       "            observer.disconnect();\n",
       "        }}\n",
       "}});\n",
       "\n",
       "// Listen for the removal of the full notebook cells\n",
       "var notebookContainer = gd.closest('#notebook-container');\n",
       "if (notebookContainer) {{\n",
       "    x.observe(notebookContainer, {childList: true});\n",
       "}}\n",
       "\n",
       "// Listen for the clearing of the current output cell\n",
       "var outputEl = gd.closest('.output');\n",
       "if (outputEl) {{\n",
       "    x.observe(outputEl, {childList: true});\n",
       "}}\n",
       "\n",
       "                        })                };                });            </script>        </div>"
      ]
     },
     "metadata": {},
     "output_type": "display_data"
    }
   ],
   "source": [
    "fig = px.bar(\n",
    "    \n",
    "    x=top_ten_var,\n",
    "    y=top_ten_var.index,\n",
    "    title= \"SCF: High Variance Features\"\n",
    "\n",
    ")\n",
    "fig.update_layout(xaxis_title=\"Variance\",yaxis_title=\"Feature\", height = 500)\n",
    "\n",
    "fig.show()"
   ]
  },
  {
   "cell_type": "code",
   "execution_count": 23,
   "id": "9ec52525",
   "metadata": {},
   "outputs": [
    {
     "data": {
      "application/vnd.plotly.v1+json": {
       "config": {
        "plotlyServerURL": "https://plot.ly"
       },
       "data": [
        {
         "alignmentgroup": "True",
         "hovertemplate": "NHNFIN=%{x}<extra></extra>",
         "legendgroup": "",
         "marker": {
          "color": "#636efa"
         },
         "name": "",
         "notched": false,
         "offsetgroup": "",
         "orientation": "h",
         "showlegend": false,
         "type": "box",
         "x": [
          14000,
          14000,
          13000,
          14000,
          14000,
          40700,
          36800,
          37500,
          35900,
          36200,
          10000,
          10000,
          11000,
          11000,
          11000,
          0,
          0,
          0,
          0,
          0,
          557000,
          556000,
          556000,
          557000,
          556000,
          6800,
          11100,
          7500,
          7600,
          9800,
          15000,
          15000,
          14900,
          15000,
          15000,
          0,
          0,
          0,
          0,
          0,
          5800,
          5800,
          5900,
          5900,
          5900,
          0,
          0,
          0,
          0,
          0,
          19000,
          20000,
          20000,
          19000,
          20000,
          4500,
          4500,
          4500,
          4400,
          4500,
          342000,
          342000,
          342000,
          343000,
          341000,
          0,
          0,
          0,
          0,
          0,
          46000,
          31000,
          22900,
          30000,
          38000,
          0,
          0,
          0,
          0,
          0,
          90400,
          90300,
          90400,
          90400,
          90300,
          12000,
          12000,
          12100,
          12000,
          12100,
          0,
          0,
          0,
          0,
          0,
          2500,
          2500,
          2500,
          2500,
          2500,
          35000,
          35000,
          36000,
          35000,
          35000,
          35000,
          42500,
          43400,
          49700,
          49000,
          0,
          0,
          0,
          0,
          0,
          12000,
          11000,
          12000,
          10000,
          11000,
          24000,
          25000,
          25000,
          25000,
          24000,
          42000,
          42000,
          42000,
          42000,
          41000,
          13300,
          14900,
          12000,
          8860,
          9800,
          5000,
          6100,
          3900,
          8600,
          4900,
          45000,
          44000,
          46000,
          41000,
          41000,
          0,
          0,
          0,
          0,
          0,
          3900,
          3400,
          4100,
          3000,
          7700,
          0,
          0,
          0,
          0,
          0,
          11000,
          8000,
          4300,
          5900,
          4500,
          5700,
          4000,
          4100,
          3400,
          3100,
          27500,
          27500,
          27500,
          28500,
          27500,
          0,
          0,
          0,
          0,
          0,
          21000,
          22000,
          22000,
          21000,
          21000,
          471400,
          472400,
          471500,
          472400,
          472500,
          21500,
          20500,
          20500,
          21400,
          21500,
          12500,
          7600,
          12400,
          8900,
          8700,
          9100,
          9100,
          9100,
          9200,
          9200,
          6600,
          5200,
          6000,
          5200,
          8000,
          32000,
          32000,
          32000,
          33000,
          32000,
          12500,
          14500,
          12800,
          18300,
          17900,
          0,
          0,
          0,
          0,
          0,
          0,
          0,
          0,
          0,
          0,
          17500,
          50500,
          25500,
          10500,
          50500,
          0,
          0,
          0,
          0,
          0,
          60000,
          33000,
          34000,
          58000,
          36000,
          258800,
          263000,
          262000,
          263000,
          256200,
          95000,
          95000,
          95000,
          95000,
          95000,
          0,
          0,
          0,
          0,
          0,
          0,
          0,
          0,
          0,
          0,
          0,
          0,
          0,
          0,
          0,
          8100,
          8000,
          8000,
          8000,
          8100,
          3100,
          3200,
          3100,
          3200,
          3200,
          3700,
          3700,
          3700,
          3700,
          3700,
          0,
          0,
          0,
          0,
          0,
          16000,
          15000,
          15000,
          15000,
          15000,
          0,
          0,
          0,
          0,
          0,
          12000,
          13000,
          13000,
          12000,
          12000,
          76800,
          76900,
          76800,
          76900,
          76900,
          0,
          0,
          0,
          0,
          0,
          0,
          0,
          0,
          0,
          0,
          29000,
          29000,
          29000,
          29000,
          29000,
          15000,
          15000,
          15000,
          15000,
          15000,
          0,
          0,
          0,
          0,
          0,
          15000,
          15000,
          15000,
          14000,
          15000,
          87100,
          87400,
          82020,
          87100,
          89900,
          7000,
          7000,
          7100,
          7100,
          7100,
          53900,
          69000,
          60000,
          60000,
          62000,
          3700,
          3600,
          3700,
          3700,
          3600,
          13400,
          13400,
          13400,
          13400,
          13400,
          7600,
          7600,
          7500,
          7600,
          7500,
          42700,
          41700,
          41700,
          41700,
          41700,
          7700,
          3500,
          38000,
          37000,
          38000,
          37000,
          38000,
          6900,
          7800,
          5400,
          5000,
          5100,
          0,
          0,
          0,
          0,
          0,
          76000,
          76000,
          75000,
          75000,
          76000,
          81000,
          62400,
          65500,
          66500,
          59970,
          5400,
          5400,
          5300,
          5400,
          5400,
          13000,
          13000,
          14000,
          13000,
          13000,
          397000,
          399900,
          387500,
          390400,
          373900,
          42000,
          43800,
          44700,
          44100,
          43600,
          38100,
          38100,
          38100,
          38100,
          38200,
          40005,
          40010,
          40010,
          40010,
          40010,
          15400,
          14500,
          19000,
          11200,
          12600,
          95400,
          94400,
          94400,
          93400,
          95400,
          11000,
          11000,
          11000,
          11000,
          11000,
          8800,
          8900,
          8900,
          8900,
          8800,
          17800,
          17800,
          17900,
          18800,
          17900,
          0,
          0,
          0,
          0,
          0,
          19000,
          19000,
          18000,
          18000,
          19000,
          18600,
          18600,
          18700,
          18600,
          18600,
          3200,
          3200,
          3200,
          3100,
          3100,
          0,
          0,
          0,
          0,
          0,
          0,
          0,
          0,
          0,
          0,
          75900,
          104100,
          104000,
          94200,
          73300,
          5500,
          5500,
          5600,
          5600,
          5500,
          0,
          0,
          0,
          0,
          0,
          60000,
          61000,
          61000,
          61000,
          61000,
          0,
          0,
          0,
          0,
          0,
          54100,
          54100,
          54100,
          53100,
          54100,
          4200,
          5000,
          10000,
          7200,
          4100,
          37000,
          37000,
          38000,
          37000,
          38000,
          35000,
          37000,
          36000,
          36000,
          36000,
          48000,
          48000,
          48000,
          48000,
          49000,
          0,
          0,
          0,
          0,
          0,
          109000,
          88200,
          88300,
          101000,
          112000,
          0,
          0,
          0,
          0,
          0,
          0,
          0,
          0,
          0,
          0,
          82620,
          82610,
          84000,
          84000,
          83000,
          0,
          0,
          0,
          0,
          0,
          30500,
          36000,
          27600,
          26700,
          48000,
          15700,
          15700,
          8900,
          16800,
          9900,
          43000,
          43000,
          43000,
          42000,
          42000,
          9200,
          9100,
          9100,
          9100,
          9200,
          5900,
          5800,
          5900,
          5800,
          5900,
          5200,
          5300,
          5200,
          5200,
          5200,
          0,
          0,
          0,
          0,
          0,
          22000,
          22000,
          23000,
          22000,
          23000,
          2600,
          2700,
          2600,
          2700,
          2600,
          12000,
          13000,
          12000,
          12000,
          12000,
          31000,
          31000,
          31000,
          390200,
          401400,
          391100,
          393800,
          396400,
          45000,
          47000,
          42100,
          50000,
          48000,
          0,
          0,
          0,
          0,
          0,
          1727000,
          1727000,
          1727000,
          1726000,
          1726000,
          48000,
          48000,
          47000,
          48000,
          47000,
          48000,
          50000,
          49000,
          49000,
          49000,
          0,
          0,
          0,
          0,
          0,
          5800,
          5800,
          5800,
          5800,
          5800,
          8200,
          8100,
          8200,
          8200,
          8200,
          32000,
          28000,
          28000,
          32000,
          28000,
          13000,
          12000,
          12000,
          12000,
          12000,
          55800,
          54800,
          55700,
          55800,
          54800,
          19100,
          19100,
          19100,
          19100,
          19100,
          8900,
          9000,
          9000,
          9000,
          9000,
          45000,
          52000,
          43000,
          42000,
          44000,
          0,
          0,
          0,
          0,
          0,
          0,
          0,
          0,
          0,
          0,
          151000,
          151000,
          151000,
          151000,
          151000,
          0,
          0,
          0,
          0,
          0,
          100000,
          100000,
          100000,
          101000,
          100000,
          24400,
          17400,
          9100,
          16700,
          18000,
          0,
          0,
          0,
          0,
          0,
          9900,
          9900,
          9900,
          9900,
          9900,
          0,
          0,
          0,
          0,
          0,
          0,
          0,
          0,
          0,
          0,
          0,
          0,
          0,
          0,
          0,
          3100,
          3200,
          3200,
          3200,
          3200,
          0,
          0,
          0,
          0,
          0,
          0,
          0,
          0,
          0,
          0,
          53600,
          53600,
          53600,
          53500,
          53600,
          15600,
          10300,
          7800,
          8600,
          15600,
          0,
          0,
          0,
          0,
          0,
          44000,
          44000,
          44000,
          45000,
          45000,
          44000,
          43900,
          44000,
          44000,
          45000,
          19300,
          14660,
          20200,
          25100,
          24100,
          20000,
          19000,
          19000,
          20000,
          19000,
          0,
          0,
          0,
          0,
          0,
          0,
          0,
          0,
          0,
          0,
          22000,
          22000,
          23000,
          23000,
          22000,
          71000,
          70000,
          61000,
          72000,
          72000,
          0,
          0,
          0,
          0,
          0,
          4200,
          4300,
          4300,
          4200,
          4200,
          0,
          0,
          0,
          0,
          0,
          34000,
          34000,
          34000,
          34000,
          35000,
          132700,
          125700,
          124700,
          127700,
          122700,
          21700,
          30900,
          28100,
          28500,
          18900,
          0,
          0,
          0,
          0,
          0,
          10000,
          11000,
          10000,
          11000,
          10000,
          3100,
          3100,
          3000,
          3100,
          3000,
          10000,
          10000,
          10000,
          10000,
          10000,
          28100,
          27000,
          27000,
          27100,
          28100,
          8500,
          8500,
          8500,
          8500,
          8500,
          0,
          0,
          0,
          0,
          0,
          7400,
          7500,
          7400,
          7500,
          7500,
          11000,
          11000,
          11000,
          11000,
          11000,
          3600,
          3600,
          3600,
          3600,
          3600,
          0,
          0,
          0,
          0,
          0,
          0,
          0,
          0,
          0,
          0,
          31900,
          31900,
          42900,
          36800,
          44800,
          4700,
          4700,
          4700,
          4700,
          4700,
          5200,
          5200,
          5200,
          5200,
          5200,
          20000,
          21000,
          20000,
          20000,
          20000,
          1020500,
          1214500,
          1110500,
          1140500,
          1175000,
          21000,
          20000,
          21000,
          21000,
          21000,
          0,
          0,
          0,
          0,
          0,
          4000,
          4100,
          4100,
          4100,
          4100,
          143000,
          150000,
          140000,
          144000,
          152000,
          4300,
          4300,
          4300,
          4300,
          4300,
          61000,
          60000,
          61000,
          61000,
          60000,
          9700,
          9700,
          9700,
          9700,
          9700,
          66000,
          66000,
          57000,
          62000,
          57000,
          24200,
          22600,
          21600,
          24900,
          33000,
          6600,
          7000,
          7400,
          8100,
          6800,
          15900,
          36500,
          9100,
          22200,
          29700,
          0,
          0,
          0,
          0,
          0,
          37000,
          38000,
          0,
          0,
          0,
          0,
          0,
          49600,
          49600,
          49600,
          49500,
          49600,
          53000,
          52000,
          53000,
          54000,
          53000,
          299500,
          299500,
          253250,
          299500,
          309650,
          11000,
          11000,
          11000,
          11000,
          12000,
          15000,
          8200,
          19000,
          12000,
          11000,
          0,
          0,
          0,
          0,
          0,
          0,
          0,
          0,
          0,
          0,
          0,
          0,
          0,
          0,
          0,
          13000,
          13100,
          13100,
          13000,
          13100,
          22700,
          22800,
          22700,
          22800,
          23700,
          0,
          0,
          0,
          0,
          0,
          0,
          0,
          0,
          0,
          0,
          0,
          0,
          0,
          0,
          0,
          7400,
          7400,
          7400,
          7500,
          7400,
          20000,
          20000,
          20000,
          19000,
          20000,
          34000,
          35000,
          34000,
          35000,
          34000,
          30000,
          28000,
          29600,
          30800,
          29800,
          0,
          0,
          0,
          0,
          0,
          21880,
          21870,
          14960,
          22960,
          22380,
          3500,
          3500,
          3500,
          3500,
          3500,
          36500,
          36500,
          37500,
          37500,
          36500,
          20900,
          21000,
          21000,
          21000,
          20900,
          21100,
          20000,
          20000,
          20000,
          21100,
          4700,
          7400,
          4500,
          12000,
          4500,
          3600,
          8700,
          5000,
          5000,
          6300,
          32000,
          32000,
          31000,
          31000,
          31000,
          0,
          0,
          0,
          0,
          0,
          0,
          0,
          0,
          0,
          0,
          425200,
          881200,
          413600,
          418200,
          884200,
          0,
          0,
          0,
          0,
          0,
          24000,
          23000,
          22000,
          25000,
          24000,
          0,
          11000,
          12000,
          12000,
          11000,
          12000,
          3700,
          3700,
          3700,
          3700,
          3800,
          1014600,
          151600,
          274600,
          1008600,
          387600,
          4500,
          4500,
          4500,
          4500,
          4500,
          100700,
          100800,
          100800,
          99700,
          98900,
          4100,
          5200,
          3800,
          3300,
          3900,
          0,
          0,
          0,
          0,
          0,
          37700,
          38800,
          38800,
          38800,
          37800,
          500000,
          500000,
          500000,
          500000,
          500000,
          9000,
          9000,
          9000,
          9000,
          9000,
          24000,
          24000,
          24000,
          24000,
          24000,
          0,
          0,
          0,
          0,
          0,
          47000,
          47000,
          46000,
          46000,
          47000,
          58000,
          57000,
          58000,
          57000,
          57000,
          16000,
          15000,
          15000,
          15000,
          15000,
          8600,
          8700,
          8700,
          8600,
          8600,
          19000,
          19000,
          19000,
          20000,
          20000,
          25000,
          27000,
          27000,
          26000,
          26000,
          18900,
          29500,
          23200,
          34100,
          23600,
          34000,
          34000,
          34000,
          34000,
          34000,
          444000,
          445000,
          445000,
          444000,
          444000,
          31600,
          30500,
          34300,
          31600,
          30800,
          54000,
          54000,
          35100,
          54000,
          46000,
          0,
          0,
          0,
          0,
          0,
          12000,
          12000,
          13000,
          14000,
          11000,
          38000,
          38000,
          38000,
          37000,
          38000,
          412000,
          412000,
          411000,
          411000,
          411000,
          62300,
          63400,
          63400,
          63400,
          63400,
          8200,
          8200,
          8200,
          8200,
          8200,
          37000,
          37000,
          37000,
          37000,
          38000,
          8200,
          8100,
          8100,
          8100,
          8100,
          19800,
          16400,
          12500,
          10500,
          13700,
          8200,
          8300,
          8200,
          8300,
          8200,
          1653000,
          1653000,
          1653000,
          1652000,
          1653000,
          63000,
          62000,
          63000,
          62000,
          62000,
          28100,
          33200,
          27070,
          29900,
          31200,
          8600,
          8300,
          8400,
          11500,
          15000,
          9500,
          9500,
          9500,
          9500,
          9500,
          15600,
          14600,
          14500,
          14500,
          15600,
          24500,
          24600,
          24600,
          25600,
          25600,
          44400,
          45300,
          44300,
          44300,
          44400,
          28000,
          28000,
          29000,
          28000,
          28000,
          25000,
          24000,
          24000,
          24000,
          25000,
          270100,
          270200,
          270200,
          271100,
          270100,
          29600,
          29600,
          28600,
          29600,
          28600,
          0,
          0,
          0,
          0,
          0,
          86900,
          110900,
          137000,
          110200,
          69900,
          14000,
          14000,
          14000,
          14000,
          14000,
          3100,
          3200,
          3200,
          3200,
          3200,
          0,
          0,
          0,
          0,
          0,
          21000,
          22000,
          22000,
          22000,
          22000,
          12000,
          13000,
          13000,
          12000,
          13000,
          20600,
          20400,
          21100,
          20300,
          20300,
          18000,
          19000,
          15000,
          18000,
          18000,
          579000,
          563000,
          554200,
          564000,
          570000,
          21000,
          20000,
          21000,
          20000,
          21000,
          0,
          0,
          0,
          0,
          0,
          23000,
          23000,
          23000,
          23000,
          23000,
          37400,
          36900,
          49100,
          41100,
          54100,
          8300,
          8400,
          8300,
          8400,
          8300,
          40000,
          40000,
          40000,
          40000,
          40000,
          0,
          0,
          0,
          0,
          0,
          63000,
          64000,
          64000,
          63000,
          64000,
          3100,
          3100,
          3100,
          3100,
          3100,
          18000,
          18000,
          18000,
          18000,
          18000,
          6800,
          7900,
          7800,
          4900,
          7200,
          0,
          0,
          0,
          0,
          0,
          0,
          0,
          0,
          0,
          0,
          35900,
          35800,
          35800,
          35800,
          35900,
          11140,
          11140,
          11140,
          11140,
          11140,
          10000,
          6700,
          9700,
          12200,
          10300,
          0,
          0,
          0,
          0,
          0,
          262400,
          259900,
          264700,
          260600,
          269200,
          7200,
          8400,
          9900,
          11000,
          9600,
          4600,
          4200,
          4600,
          4500,
          4200,
          21300,
          21300,
          21300,
          21300,
          22400,
          23700,
          23700,
          23700,
          23800,
          23800,
          0,
          0,
          0,
          0,
          0,
          784000,
          784000,
          783000,
          783000,
          783000,
          0,
          0,
          0,
          0,
          0,
          35000,
          36000,
          35500,
          29400,
          31000,
          19900,
          20000,
          25800,
          30000,
          22310,
          192400,
          809900,
          58453.6,
          451500,
          370600,
          0,
          0,
          0,
          0,
          0,
          7000,
          7000,
          7000,
          7000,
          7000,
          63470,
          63370,
          63470,
          63470,
          63370,
          0,
          0,
          0,
          0,
          0,
          0,
          16000,
          16000,
          16000,
          16000,
          16000,
          28600,
          27600,
          28600,
          28600,
          27600,
          0,
          0,
          0,
          0,
          0,
          24000,
          25000,
          24000,
          25000,
          24000,
          110600,
          110500,
          110500,
          110500,
          110500,
          110100,
          109100,
          110100,
          110200,
          110100,
          31300,
          20300,
          34000,
          22300,
          35000,
          13300,
          13300,
          13300,
          13300,
          13400,
          37000,
          38000,
          38000,
          38000,
          38000,
          71000,
          59000,
          66000,
          59000,
          51000,
          38000,
          39000,
          38000,
          38000,
          39000,
          28000,
          29000,
          29000,
          28000,
          29000,
          7400,
          7500,
          7500,
          7500,
          7400,
          4000,
          4000,
          4000,
          4000,
          4000,
          36000,
          36000,
          36000,
          36000,
          36000,
          36000,
          36000,
          36000,
          36000,
          36000,
          276000,
          276000,
          276000,
          275000,
          276000,
          11000,
          11000,
          11000,
          11000,
          11000,
          0,
          0,
          0,
          0,
          0,
          102000,
          101000,
          100000,
          101000,
          100000,
          96000,
          94800,
          116000,
          133000,
          100000,
          6300,
          6300,
          6300,
          6400,
          6400,
          26300,
          25400,
          25300,
          25300,
          25300,
          10000,
          6900,
          6100,
          9800,
          5400,
          210600,
          210600,
          210600,
          210500,
          210500,
          4500,
          4500,
          4500,
          4500,
          4500,
          22000,
          22000,
          23000,
          22000,
          22000,
          50000,
          46000,
          46000,
          35600,
          44000,
          420100,
          420200,
          421100,
          420100,
          679100,
          0,
          0,
          0,
          0,
          0,
          0,
          0,
          0,
          0,
          0,
          139000,
          138000,
          139000,
          139000,
          140000,
          21000,
          22000,
          21000,
          21000,
          22000,
          21000,
          21000,
          21000,
          21000,
          21000,
          34000,
          34000,
          34000,
          34000,
          34000,
          0,
          0,
          0,
          0,
          0,
          49000,
          49000,
          48000,
          49000,
          49000,
          7900,
          7900,
          7900,
          7900,
          7900,
          38900,
          38000,
          39000,
          39000,
          39000,
          36000,
          35000,
          35000,
          36000,
          35000,
          90900,
          70900,
          63200,
          74800,
          80800,
          10600,
          18900,
          13100,
          15100,
          11900,
          56000,
          57000,
          57000,
          57000,
          58000,
          22900,
          22900,
          23900,
          22900,
          22900,
          40000,
          39000,
          39000,
          39000,
          40000,
          5600,
          5600,
          5500,
          5600,
          5600,
          75500,
          75400,
          75600,
          76500,
          75600,
          47000,
          40000,
          42000,
          36000,
          37000,
          70000,
          69000,
          70000,
          70000,
          68000,
          10200,
          8150,
          12100,
          11900,
          14000,
          10000,
          10000,
          10000,
          10000,
          10000,
          33700,
          33700,
          34700,
          33700,
          34700,
          1750,
          1750,
          1750,
          1750,
          1750,
          20000,
          20000,
          20000,
          20000,
          20000,
          116700,
          117700,
          116700,
          117700,
          117700,
          36600,
          33700,
          37200,
          31700,
          30600,
          6300,
          5900,
          5100,
          9700,
          9200,
          7500,
          7500,
          7500,
          7500,
          7500,
          14300,
          15300,
          15300,
          14300,
          14300,
          34000,
          34000,
          35000,
          35000,
          34000,
          69890,
          69890,
          71890,
          69890,
          72890,
          3000,
          3000,
          2900,
          3000,
          3000,
          560500,
          1115500,
          1115500,
          531500,
          593600,
          15000,
          15000,
          6800,
          11000,
          11000,
          22000,
          22000,
          23000,
          23000,
          23000,
          12900,
          12900,
          12800,
          12900,
          12800,
          324900,
          324900,
          324800,
          323900,
          323900,
          0,
          0,
          0,
          0,
          0,
          0,
          0,
          0,
          0,
          0,
          4500,
          4800,
          4200,
          4800,
          4800,
          42000,
          43000,
          43000,
          43000,
          43000,
          0,
          0,
          0,
          0,
          0,
          6100,
          6100,
          6100,
          6100,
          6100,
          4300,
          6900,
          7500,
          4100,
          5000,
          0,
          0,
          0,
          0,
          0,
          7700,
          3600,
          3200,
          4700,
          6100,
          6500,
          6600,
          6600,
          6500,
          6500,
          35600,
          35200,
          35500,
          30000,
          29200,
          1721000,
          1244000,
          1487000,
          1720000,
          1291000,
          0,
          0,
          0,
          0,
          0,
          0,
          0,
          0,
          0,
          0,
          113000,
          114000,
          113000,
          114000,
          113000,
          9100,
          9100,
          9100,
          9000,
          9100,
          0,
          0,
          0,
          0,
          0,
          8200,
          8100,
          8200,
          8200,
          8200,
          0,
          0,
          0,
          0,
          0,
          0,
          0,
          0,
          0,
          0,
          0,
          0,
          0,
          0,
          0,
          14000,
          15000,
          15000,
          15000,
          15000,
          15000,
          16000,
          15000,
          15000,
          16000,
          0,
          0,
          0,
          0,
          0,
          4300,
          4400,
          4300,
          4300,
          4300,
          0,
          0,
          0,
          0,
          0,
          11900,
          6400,
          7100,
          4400,
          6500,
          35000,
          34000,
          35000,
          35000,
          35000,
          1073800,
          1016100,
          1059800,
          1033800,
          1036800,
          0,
          0,
          0,
          0,
          0,
          9300,
          9000,
          7900,
          7600,
          8100,
          39200,
          41600,
          35630,
          36600,
          38900,
          0,
          0,
          0,
          0,
          0,
          0,
          0,
          0,
          0,
          0,
          26000,
          25000,
          26000,
          25000,
          26000,
          0,
          0,
          0,
          0,
          0,
          6700,
          6700,
          6700,
          6700,
          6700,
          0,
          0,
          0,
          0,
          0,
          47000,
          46000,
          46000,
          46000,
          46000,
          15300,
          12400,
          9600,
          13600,
          11400,
          394000,
          398000,
          397000,
          397000,
          394000,
          0,
          0,
          0,
          0,
          0,
          29200,
          24530,
          29800,
          25600,
          24530,
          119010,
          127500,
          125800,
          123000,
          124400,
          11000,
          11000,
          11000,
          11000,
          11000,
          50000,
          50000,
          50000,
          51000,
          50000,
          29300,
          41000,
          37000,
          33800,
          46000,
          0,
          0,
          0,
          0,
          0,
          42000,
          42000,
          42000,
          41000,
          42000,
          51000,
          51000,
          51000,
          51000,
          51000,
          458000,
          329000,
          373000,
          287000,
          427000,
          20900,
          14700,
          19800,
          18200,
          25700,
          19600,
          19600,
          19500,
          19500,
          19500,
          12000,
          12000,
          13000,
          12000,
          12000,
          8600,
          8700,
          8600,
          8600,
          8700,
          4600,
          4600,
          4600,
          4600,
          4600,
          5500,
          5500,
          5500,
          5400,
          5400,
          7400,
          7400,
          7400,
          7400,
          7500,
          7200,
          7200,
          7200,
          7200,
          7200,
          21000,
          21000,
          21000,
          21000,
          21000,
          290100,
          419000,
          354000,
          489000,
          427100,
          5300,
          5300,
          5300,
          5200,
          5200,
          393000,
          285000,
          329000,
          211000,
          231000,
          0,
          0,
          0,
          0,
          0,
          35000,
          34000,
          35000,
          34000,
          35000,
          0,
          0,
          0,
          0,
          0,
          9900,
          9100,
          8000,
          10500,
          10700,
          45300,
          45300,
          46200,
          45200,
          45300,
          42300,
          42300,
          42300,
          42300,
          42200,
          16000,
          16000,
          16000,
          16000,
          16000,
          686000,
          686000,
          686000,
          685000,
          686000,
          12200,
          10700,
          13500,
          16900,
          11800,
          82400,
          82300,
          82400,
          83300,
          83400,
          6200,
          6100,
          5600,
          8400,
          6300,
          25000,
          26000,
          26000,
          25000,
          25000,
          8800,
          10100,
          9900,
          13200,
          11100,
          18000,
          18000,
          18000,
          17000,
          17000,
          28700,
          30500,
          29300,
          27200,
          27800,
          8100,
          8200,
          8100,
          8200,
          8100,
          48400,
          57000,
          48800,
          59000,
          41700,
          0,
          0,
          0,
          0,
          0,
          8700,
          9600,
          10100,
          8600,
          9000,
          111000,
          111000,
          111000,
          111000,
          111000,
          497000,
          610000,
          222000,
          301000,
          1269000,
          9100,
          9100,
          9100,
          9100,
          9200,
          8200,
          8200,
          8200,
          8200,
          8200,
          11100,
          13900,
          17200,
          14900,
          17000,
          18000,
          18000,
          19000,
          18000,
          19000,
          20900,
          20800,
          20800,
          19800,
          20800,
          20,
          20,
          20,
          20,
          20,
          53000,
          54000,
          53000,
          53000,
          53000,
          78400,
          89100,
          85700,
          77600,
          82000,
          33000,
          33000,
          33000,
          33000,
          33000,
          0,
          0,
          0,
          0,
          0,
          10800,
          9250,
          9950,
          14000,
          12100,
          5200,
          7500,
          6300,
          6800,
          14000,
          31000,
          32000,
          32000,
          32000,
          31000,
          6100,
          6000,
          6000,
          6000,
          6000,
          131000,
          110000,
          90600,
          108000,
          157000,
          0,
          0,
          0,
          0,
          0,
          0,
          0,
          0,
          0,
          0,
          0,
          0,
          0,
          0,
          0,
          24600,
          31200,
          30300,
          26600,
          29500,
          20700,
          19700,
          20700,
          20700,
          19700,
          0,
          0,
          0,
          0,
          0,
          0,
          0,
          0,
          0,
          0,
          0,
          0,
          0,
          0,
          0,
          13000,
          14000,
          14000,
          14000,
          14000,
          60200,
          60100,
          60100,
          60100,
          60200,
          104100,
          104100,
          104100,
          103100,
          105100,
          118330,
          120470,
          120280,
          119280,
          118330,
          5500,
          5500,
          5500,
          5500,
          5600,
          67000,
          66000,
          66000,
          67000,
          66000,
          9300,
          9300,
          9300,
          9300,
          9300,
          28800,
          27300,
          26500,
          27100,
          28600,
          1015800,
          1015800,
          1015800,
          1015800,
          1016800,
          40000,
          40000,
          40000,
          40000,
          40000,
          0,
          0,
          0,
          0,
          0,
          21800,
          21800,
          21900,
          21800,
          21800,
          0,
          0,
          0,
          0,
          0,
          0,
          0,
          0,
          0,
          0,
          9900,
          9900,
          9800,
          9800,
          9800,
          6000,
          5400,
          9300,
          6200,
          13000,
          22000,
          24700,
          25600,
          25600,
          25600,
          25700,
          30000,
          29000,
          25200,
          35000,
          37000,
          5700,
          5800,
          5800,
          5800,
          5800,
          5600,
          5600,
          5600,
          5600,
          5600,
          14000,
          14000,
          13000,
          13000,
          13000,
          47000,
          33600,
          33600,
          43000,
          65000,
          38200,
          34200,
          29200,
          38200,
          28200,
          31100,
          31100,
          31100,
          31100,
          30100,
          68600,
          69500,
          68600,
          69600,
          68600,
          16000,
          63000,
          30000,
          15000,
          23100,
          0,
          0,
          0,
          0,
          0,
          15000,
          15000,
          15000,
          15000,
          15000,
          22000,
          21900,
          22100,
          22900,
          22000,
          0,
          0,
          0,
          0,
          0,
          32000,
          30000,
          31000,
          31000,
          30000,
          13200,
          25000,
          26100,
          25100,
          19000,
          22000,
          23000,
          22000,
          23000,
          0,
          0,
          0,
          0,
          0,
          0,
          -300,
          0,
          0,
          0,
          35000,
          37000,
          37000,
          37000,
          37000,
          0,
          0,
          0,
          0,
          0,
          6600,
          6600,
          6600,
          6600,
          6600,
          33000,
          34000,
          34000,
          33000,
          33000,
          40000,
          40000,
          40000,
          40000,
          40000,
          40000,
          40000,
          40000,
          40000,
          40000,
          0,
          0,
          0,
          0,
          0,
          362000,
          362000,
          363000,
          363000,
          363000,
          49300,
          39600,
          40600,
          52300,
          41300,
          21000,
          19600,
          19400,
          25900,
          26000,
          11000,
          10900,
          11000,
          10800,
          11000,
          250000,
          250000,
          250000,
          250000,
          250000,
          0,
          0,
          0,
          0,
          0,
          0,
          0,
          0,
          0,
          0,
          74000,
          74000,
          76000,
          74000,
          76000,
          6300,
          6200,
          6200,
          6200,
          6200,
          0,
          0,
          0,
          0,
          0,
          0,
          0,
          0,
          0,
          0,
          27000,
          29400,
          33700,
          25200,
          30900,
          7300,
          7300,
          7400,
          7300,
          7300,
          120500,
          101500,
          111500,
          108500,
          120500,
          0,
          0,
          0,
          0,
          0,
          33100,
          35700,
          57000,
          29100,
          52000,
          4400,
          4400,
          4400,
          4400,
          4400,
          0,
          0,
          0,
          0,
          0,
          0,
          0,
          0,
          0,
          0,
          0,
          0,
          0,
          0,
          0,
          43700,
          33800,
          46800,
          40700,
          46800,
          17200,
          19780,
          20000,
          20000,
          19700,
          16000,
          16000,
          16000,
          17000,
          16000,
          20000,
          20000,
          20000,
          20000,
          20000,
          8300,
          8300,
          8200,
          8300,
          8300,
          65000,
          66000,
          66000,
          66000,
          65000,
          16000,
          16000,
          16000,
          17000,
          17000,
          0,
          0,
          0,
          0,
          0,
          438100,
          439100,
          438100,
          438100,
          438100,
          23600,
          23600,
          23600,
          23600,
          23600,
          0,
          0,
          0,
          0,
          0,
          23000,
          23000,
          24000,
          23000,
          24000,
          13000,
          13000,
          13000,
          12000,
          12000,
          0,
          0,
          0,
          0,
          0,
          29000,
          31000,
          30000,
          30000,
          31000,
          9200,
          7100,
          10400,
          13400,
          14400,
          51620,
          62000,
          63000,
          69000,
          51630,
          349800,
          349900,
          348900,
          348900,
          349900,
          55640,
          55640,
          55630,
          55630,
          55740,
          0,
          0,
          0,
          0,
          0,
          31000,
          32000,
          32000,
          31000,
          32000,
          26700,
          35000,
          30900,
          27000,
          28500,
          27000,
          27000,
          27000,
          27000,
          27000,
          0,
          0,
          0,
          0,
          0,
          21000,
          20000,
          21000,
          20000,
          20000,
          0,
          0,
          0,
          0,
          0,
          28000,
          28000,
          28000,
          28000,
          28000,
          30000,
          30000,
          30000,
          30000,
          30000,
          55000,
          55000,
          55000,
          55000,
          55000,
          7800,
          7800,
          7700,
          7800,
          7800,
          3000,
          3000,
          3000,
          3000,
          3000,
          6100,
          6000,
          6000,
          6100,
          6000,
          91700,
          86700,
          90600,
          85600,
          87700,
          195000,
          197000,
          196000,
          196000,
          196000,
          33100,
          34100,
          33000,
          33100,
          33100,
          12800,
          8720,
          10100,
          9800,
          12000,
          28900,
          29000,
          29000,
          29000,
          29000,
          4400,
          4400,
          4400,
          4400,
          4400,
          14400,
          9600,
          7200,
          7200,
          10200,
          4800,
          10000,
          13000,
          13000,
          5400,
          6600,
          13000,
          7600,
          11600,
          6100,
          5200,
          5100,
          5200,
          5200,
          5100,
          0,
          0,
          0,
          0,
          0,
          40000,
          40000,
          40000,
          40000,
          40000,
          0,
          0,
          0,
          0,
          0,
          3000,
          3000,
          3000,
          3000,
          3000,
          0,
          0,
          0,
          0,
          0,
          0,
          0,
          0,
          0,
          0,
          22000,
          22000,
          22000,
          22000,
          21000,
          42000,
          43000,
          43000,
          43000,
          43000,
          0,
          0,
          0,
          0,
          0,
          0,
          0,
          0,
          0,
          0,
          10000,
          10000,
          10000,
          10000,
          10000,
          92900,
          93000,
          92900,
          94000,
          92900,
          59000,
          59000,
          60000,
          59000,
          59000,
          5200,
          4900,
          4900,
          6400,
          9800,
          17600,
          16700,
          17700,
          17700,
          17700,
          3900,
          3900,
          4000,
          3900,
          4000,
          4000,
          5900,
          3900,
          5600,
          9900,
          14000,
          15000,
          15000,
          15000,
          14000,
          66000,
          66000,
          66000,
          66000,
          66000,
          0,
          0,
          0,
          0,
          0,
          15000,
          14000,
          15000,
          14000,
          14000,
          24000,
          23000,
          24000,
          23000,
          23000,
          32000,
          18900,
          28600,
          55000,
          23000,
          30000,
          8100,
          10800,
          6000,
          7600,
          7900,
          50000,
          50000,
          50000,
          50000,
          50000,
          66000,
          67000,
          68000,
          66000,
          67000,
          0,
          0,
          0,
          0,
          0,
          0,
          0,
          0,
          0,
          0,
          146900,
          145900,
          145900,
          145900,
          146900,
          0,
          0,
          0,
          0,
          0,
          6800,
          5600,
          3600,
          9400,
          7900,
          30900,
          30900,
          30900,
          30900,
          30900,
          31800,
          31800,
          31900,
          31900,
          31900,
          47200,
          47200,
          48300,
          48300,
          48300,
          66700,
          66700,
          66700,
          66600,
          65600,
          41900,
          42000,
          41900,
          42000,
          42900,
          15000,
          18000,
          17000,
          18000,
          16000,
          43000,
          43000,
          43000,
          43000,
          44000,
          27000,
          28100,
          27000,
          28100,
          27100,
          6200,
          6300,
          6300,
          6300,
          6200,
          15000,
          8100,
          11000,
          11000,
          8800,
          9100,
          9100,
          9100,
          9100,
          9100,
          54000,
          54000,
          55000,
          55000,
          54000,
          5400,
          9800,
          3900,
          9400,
          4700,
          121900,
          124800,
          121900,
          137500,
          124700,
          0,
          0,
          0,
          0,
          0,
          0,
          0,
          0,
          0,
          0,
          0,
          0,
          0,
          0,
          0,
          6700,
          6800,
          6800,
          6800,
          6800,
          26000,
          26000,
          26000,
          26000,
          26000,
          19000,
          19000,
          19000,
          19000,
          19000,
          27000,
          26000,
          27000,
          26000,
          27000,
          65900,
          65900,
          65900,
          65800,
          65800,
          0,
          0,
          0,
          0,
          0,
          28000,
          28000,
          28000,
          28000,
          28000,
          8100,
          8200,
          8200,
          8100,
          8200,
          47900,
          47900,
          47900,
          48900,
          48900,
          26000,
          25000,
          26000,
          26000,
          25000,
          0,
          0,
          0,
          0,
          0,
          369000,
          368000,
          369000,
          368000,
          368000,
          117000,
          131000,
          892000,
          179000,
          353000,
          225000,
          206000,
          192000,
          191000,
          198000,
          0,
          0,
          0,
          0,
          0,
          5800,
          5800,
          5800,
          5700,
          5800,
          20730,
          20730,
          21730,
          22620,
          21730,
          16000,
          17000,
          16000,
          16000,
          16000,
          0,
          0,
          0,
          0,
          0,
          13100,
          13100,
          13100,
          13100,
          13100,
          0,
          0,
          0,
          0,
          0,
          37300,
          37400,
          37300,
          37300,
          37300,
          0,
          0,
          0,
          0,
          0,
          52000,
          60700,
          47200,
          42600,
          55900,
          42900,
          38900,
          32700,
          31200,
          39900,
          32710,
          33710,
          33400,
          32710,
          33250,
          72500,
          75500,
          88500,
          79800,
          67500,
          6800,
          7100,
          12000,
          5400,
          6500,
          228500,
          228500,
          228500,
          229600,
          229500,
          5400,
          5400,
          5400,
          5400,
          5400,
          37000,
          37000,
          35900,
          36900,
          37000,
          46200,
          31620,
          41200,
          44100,
          40200,
          33300,
          33300,
          33300,
          33300,
          33300,
          26300,
          26300,
          26300,
          27300,
          26300,
          17800,
          17800,
          18800,
          18800,
          18800,
          0,
          0,
          0,
          0,
          0,
          510000,
          510000,
          510000,
          507600,
          510000,
          7900,
          5900,
          6200,
          9300,
          6300,
          0,
          0,
          0,
          0,
          0,
          25000,
          25000,
          25000,
          25000,
          25000,
          8300,
          8300,
          8300,
          8300,
          8300,
          52000,
          52000,
          52000,
          52000,
          52000,
          21000,
          22000,
          22000,
          23000,
          23000,
          23800,
          23900,
          23900,
          23900,
          23900,
          0,
          0,
          0,
          0,
          0,
          6300,
          6200,
          6200,
          6300,
          6200,
          55000,
          55000,
          55000,
          56000,
          56000,
          177400,
          176400,
          176400,
          176400,
          176400,
          47100,
          47100,
          48100,
          47100,
          48100,
          0,
          0,
          0,
          0,
          0,
          0,
          0,
          0,
          0,
          0,
          0,
          0,
          0,
          0,
          0,
          12000,
          12000,
          12000,
          13000,
          13000,
          12000,
          12000,
          12000,
          12000,
          12000,
          4700,
          4700,
          4700,
          4700,
          4700,
          0,
          0,
          0,
          0,
          0,
          26500,
          26500,
          26600,
          26500,
          26600,
          0,
          0,
          0,
          0,
          0,
          30200,
          30200,
          30200,
          30200,
          29200,
          0,
          0,
          0,
          0,
          0,
          0,
          0,
          0,
          0,
          0,
          0,
          0,
          0,
          0,
          0,
          31000,
          31000,
          31000,
          31000,
          31000,
          18100,
          18100,
          18100,
          18100,
          18100,
          18000,
          17000,
          18000,
          17000,
          17000,
          0,
          0,
          0,
          0,
          0,
          5100,
          5100,
          5100,
          5100,
          5100,
          0,
          0,
          0,
          0,
          0,
          0,
          0,
          0,
          0,
          0,
          0,
          0,
          16000,
          16000,
          16000,
          16000,
          16000,
          0,
          0,
          0,
          0,
          0,
          377100,
          377100,
          377200,
          377100,
          377100,
          31050,
          30040,
          30040,
          30040,
          31040,
          20000,
          20000,
          20000,
          20000,
          20000,
          10100,
          13000,
          14600,
          10200,
          9600,
          54000,
          55000,
          54000,
          55000,
          55000,
          16000,
          15000,
          16000,
          16000,
          15000,
          0,
          0,
          0,
          0,
          0,
          21300,
          21300,
          20300,
          20300,
          21300,
          12140,
          14500,
          12800,
          10600,
          9230,
          0,
          0,
          0,
          0,
          0,
          9000,
          9000,
          9000,
          9000,
          9000,
          23000,
          23000,
          22000,
          23000,
          22000,
          17300,
          17300,
          20300,
          11200,
          21300,
          559000,
          664000,
          588000,
          729000,
          793000,
          0,
          0,
          0,
          0,
          0,
          96000,
          96000,
          96000,
          96000,
          96000,
          0,
          0,
          0,
          0,
          0,
          0,
          0,
          0,
          0,
          0
         ],
         "x0": " ",
         "xaxis": "x",
         "y0": " ",
         "yaxis": "y"
        }
       ],
       "layout": {
        "boxmode": "group",
        "legend": {
         "tracegroupgap": 0
        },
        "template": {
         "data": {
          "bar": [
           {
            "error_x": {
             "color": "#2a3f5f"
            },
            "error_y": {
             "color": "#2a3f5f"
            },
            "marker": {
             "line": {
              "color": "#E5ECF6",
              "width": 0.5
             },
             "pattern": {
              "fillmode": "overlay",
              "size": 10,
              "solidity": 0.2
             }
            },
            "type": "bar"
           }
          ],
          "barpolar": [
           {
            "marker": {
             "line": {
              "color": "#E5ECF6",
              "width": 0.5
             },
             "pattern": {
              "fillmode": "overlay",
              "size": 10,
              "solidity": 0.2
             }
            },
            "type": "barpolar"
           }
          ],
          "carpet": [
           {
            "aaxis": {
             "endlinecolor": "#2a3f5f",
             "gridcolor": "white",
             "linecolor": "white",
             "minorgridcolor": "white",
             "startlinecolor": "#2a3f5f"
            },
            "baxis": {
             "endlinecolor": "#2a3f5f",
             "gridcolor": "white",
             "linecolor": "white",
             "minorgridcolor": "white",
             "startlinecolor": "#2a3f5f"
            },
            "type": "carpet"
           }
          ],
          "choropleth": [
           {
            "colorbar": {
             "outlinewidth": 0,
             "ticks": ""
            },
            "type": "choropleth"
           }
          ],
          "contour": [
           {
            "colorbar": {
             "outlinewidth": 0,
             "ticks": ""
            },
            "colorscale": [
             [
              0,
              "#0d0887"
             ],
             [
              0.1111111111111111,
              "#46039f"
             ],
             [
              0.2222222222222222,
              "#7201a8"
             ],
             [
              0.3333333333333333,
              "#9c179e"
             ],
             [
              0.4444444444444444,
              "#bd3786"
             ],
             [
              0.5555555555555556,
              "#d8576b"
             ],
             [
              0.6666666666666666,
              "#ed7953"
             ],
             [
              0.7777777777777778,
              "#fb9f3a"
             ],
             [
              0.8888888888888888,
              "#fdca26"
             ],
             [
              1,
              "#f0f921"
             ]
            ],
            "type": "contour"
           }
          ],
          "contourcarpet": [
           {
            "colorbar": {
             "outlinewidth": 0,
             "ticks": ""
            },
            "type": "contourcarpet"
           }
          ],
          "heatmap": [
           {
            "colorbar": {
             "outlinewidth": 0,
             "ticks": ""
            },
            "colorscale": [
             [
              0,
              "#0d0887"
             ],
             [
              0.1111111111111111,
              "#46039f"
             ],
             [
              0.2222222222222222,
              "#7201a8"
             ],
             [
              0.3333333333333333,
              "#9c179e"
             ],
             [
              0.4444444444444444,
              "#bd3786"
             ],
             [
              0.5555555555555556,
              "#d8576b"
             ],
             [
              0.6666666666666666,
              "#ed7953"
             ],
             [
              0.7777777777777778,
              "#fb9f3a"
             ],
             [
              0.8888888888888888,
              "#fdca26"
             ],
             [
              1,
              "#f0f921"
             ]
            ],
            "type": "heatmap"
           }
          ],
          "heatmapgl": [
           {
            "colorbar": {
             "outlinewidth": 0,
             "ticks": ""
            },
            "colorscale": [
             [
              0,
              "#0d0887"
             ],
             [
              0.1111111111111111,
              "#46039f"
             ],
             [
              0.2222222222222222,
              "#7201a8"
             ],
             [
              0.3333333333333333,
              "#9c179e"
             ],
             [
              0.4444444444444444,
              "#bd3786"
             ],
             [
              0.5555555555555556,
              "#d8576b"
             ],
             [
              0.6666666666666666,
              "#ed7953"
             ],
             [
              0.7777777777777778,
              "#fb9f3a"
             ],
             [
              0.8888888888888888,
              "#fdca26"
             ],
             [
              1,
              "#f0f921"
             ]
            ],
            "type": "heatmapgl"
           }
          ],
          "histogram": [
           {
            "marker": {
             "pattern": {
              "fillmode": "overlay",
              "size": 10,
              "solidity": 0.2
             }
            },
            "type": "histogram"
           }
          ],
          "histogram2d": [
           {
            "colorbar": {
             "outlinewidth": 0,
             "ticks": ""
            },
            "colorscale": [
             [
              0,
              "#0d0887"
             ],
             [
              0.1111111111111111,
              "#46039f"
             ],
             [
              0.2222222222222222,
              "#7201a8"
             ],
             [
              0.3333333333333333,
              "#9c179e"
             ],
             [
              0.4444444444444444,
              "#bd3786"
             ],
             [
              0.5555555555555556,
              "#d8576b"
             ],
             [
              0.6666666666666666,
              "#ed7953"
             ],
             [
              0.7777777777777778,
              "#fb9f3a"
             ],
             [
              0.8888888888888888,
              "#fdca26"
             ],
             [
              1,
              "#f0f921"
             ]
            ],
            "type": "histogram2d"
           }
          ],
          "histogram2dcontour": [
           {
            "colorbar": {
             "outlinewidth": 0,
             "ticks": ""
            },
            "colorscale": [
             [
              0,
              "#0d0887"
             ],
             [
              0.1111111111111111,
              "#46039f"
             ],
             [
              0.2222222222222222,
              "#7201a8"
             ],
             [
              0.3333333333333333,
              "#9c179e"
             ],
             [
              0.4444444444444444,
              "#bd3786"
             ],
             [
              0.5555555555555556,
              "#d8576b"
             ],
             [
              0.6666666666666666,
              "#ed7953"
             ],
             [
              0.7777777777777778,
              "#fb9f3a"
             ],
             [
              0.8888888888888888,
              "#fdca26"
             ],
             [
              1,
              "#f0f921"
             ]
            ],
            "type": "histogram2dcontour"
           }
          ],
          "mesh3d": [
           {
            "colorbar": {
             "outlinewidth": 0,
             "ticks": ""
            },
            "type": "mesh3d"
           }
          ],
          "parcoords": [
           {
            "line": {
             "colorbar": {
              "outlinewidth": 0,
              "ticks": ""
             }
            },
            "type": "parcoords"
           }
          ],
          "pie": [
           {
            "automargin": true,
            "type": "pie"
           }
          ],
          "scatter": [
           {
            "fillpattern": {
             "fillmode": "overlay",
             "size": 10,
             "solidity": 0.2
            },
            "type": "scatter"
           }
          ],
          "scatter3d": [
           {
            "line": {
             "colorbar": {
              "outlinewidth": 0,
              "ticks": ""
             }
            },
            "marker": {
             "colorbar": {
              "outlinewidth": 0,
              "ticks": ""
             }
            },
            "type": "scatter3d"
           }
          ],
          "scattercarpet": [
           {
            "marker": {
             "colorbar": {
              "outlinewidth": 0,
              "ticks": ""
             }
            },
            "type": "scattercarpet"
           }
          ],
          "scattergeo": [
           {
            "marker": {
             "colorbar": {
              "outlinewidth": 0,
              "ticks": ""
             }
            },
            "type": "scattergeo"
           }
          ],
          "scattergl": [
           {
            "marker": {
             "colorbar": {
              "outlinewidth": 0,
              "ticks": ""
             }
            },
            "type": "scattergl"
           }
          ],
          "scattermapbox": [
           {
            "marker": {
             "colorbar": {
              "outlinewidth": 0,
              "ticks": ""
             }
            },
            "type": "scattermapbox"
           }
          ],
          "scatterpolar": [
           {
            "marker": {
             "colorbar": {
              "outlinewidth": 0,
              "ticks": ""
             }
            },
            "type": "scatterpolar"
           }
          ],
          "scatterpolargl": [
           {
            "marker": {
             "colorbar": {
              "outlinewidth": 0,
              "ticks": ""
             }
            },
            "type": "scatterpolargl"
           }
          ],
          "scatterternary": [
           {
            "marker": {
             "colorbar": {
              "outlinewidth": 0,
              "ticks": ""
             }
            },
            "type": "scatterternary"
           }
          ],
          "surface": [
           {
            "colorbar": {
             "outlinewidth": 0,
             "ticks": ""
            },
            "colorscale": [
             [
              0,
              "#0d0887"
             ],
             [
              0.1111111111111111,
              "#46039f"
             ],
             [
              0.2222222222222222,
              "#7201a8"
             ],
             [
              0.3333333333333333,
              "#9c179e"
             ],
             [
              0.4444444444444444,
              "#bd3786"
             ],
             [
              0.5555555555555556,
              "#d8576b"
             ],
             [
              0.6666666666666666,
              "#ed7953"
             ],
             [
              0.7777777777777778,
              "#fb9f3a"
             ],
             [
              0.8888888888888888,
              "#fdca26"
             ],
             [
              1,
              "#f0f921"
             ]
            ],
            "type": "surface"
           }
          ],
          "table": [
           {
            "cells": {
             "fill": {
              "color": "#EBF0F8"
             },
             "line": {
              "color": "white"
             }
            },
            "header": {
             "fill": {
              "color": "#C8D4E3"
             },
             "line": {
              "color": "white"
             }
            },
            "type": "table"
           }
          ]
         },
         "layout": {
          "annotationdefaults": {
           "arrowcolor": "#2a3f5f",
           "arrowhead": 0,
           "arrowwidth": 1
          },
          "autotypenumbers": "strict",
          "coloraxis": {
           "colorbar": {
            "outlinewidth": 0,
            "ticks": ""
           }
          },
          "colorscale": {
           "diverging": [
            [
             0,
             "#8e0152"
            ],
            [
             0.1,
             "#c51b7d"
            ],
            [
             0.2,
             "#de77ae"
            ],
            [
             0.3,
             "#f1b6da"
            ],
            [
             0.4,
             "#fde0ef"
            ],
            [
             0.5,
             "#f7f7f7"
            ],
            [
             0.6,
             "#e6f5d0"
            ],
            [
             0.7,
             "#b8e186"
            ],
            [
             0.8,
             "#7fbc41"
            ],
            [
             0.9,
             "#4d9221"
            ],
            [
             1,
             "#276419"
            ]
           ],
           "sequential": [
            [
             0,
             "#0d0887"
            ],
            [
             0.1111111111111111,
             "#46039f"
            ],
            [
             0.2222222222222222,
             "#7201a8"
            ],
            [
             0.3333333333333333,
             "#9c179e"
            ],
            [
             0.4444444444444444,
             "#bd3786"
            ],
            [
             0.5555555555555556,
             "#d8576b"
            ],
            [
             0.6666666666666666,
             "#ed7953"
            ],
            [
             0.7777777777777778,
             "#fb9f3a"
            ],
            [
             0.8888888888888888,
             "#fdca26"
            ],
            [
             1,
             "#f0f921"
            ]
           ],
           "sequentialminus": [
            [
             0,
             "#0d0887"
            ],
            [
             0.1111111111111111,
             "#46039f"
            ],
            [
             0.2222222222222222,
             "#7201a8"
            ],
            [
             0.3333333333333333,
             "#9c179e"
            ],
            [
             0.4444444444444444,
             "#bd3786"
            ],
            [
             0.5555555555555556,
             "#d8576b"
            ],
            [
             0.6666666666666666,
             "#ed7953"
            ],
            [
             0.7777777777777778,
             "#fb9f3a"
            ],
            [
             0.8888888888888888,
             "#fdca26"
            ],
            [
             1,
             "#f0f921"
            ]
           ]
          },
          "colorway": [
           "#636efa",
           "#EF553B",
           "#00cc96",
           "#ab63fa",
           "#FFA15A",
           "#19d3f3",
           "#FF6692",
           "#B6E880",
           "#FF97FF",
           "#FECB52"
          ],
          "font": {
           "color": "#2a3f5f"
          },
          "geo": {
           "bgcolor": "white",
           "lakecolor": "white",
           "landcolor": "#E5ECF6",
           "showlakes": true,
           "showland": true,
           "subunitcolor": "white"
          },
          "hoverlabel": {
           "align": "left"
          },
          "hovermode": "closest",
          "mapbox": {
           "style": "light"
          },
          "paper_bgcolor": "white",
          "plot_bgcolor": "#E5ECF6",
          "polar": {
           "angularaxis": {
            "gridcolor": "white",
            "linecolor": "white",
            "ticks": ""
           },
           "bgcolor": "#E5ECF6",
           "radialaxis": {
            "gridcolor": "white",
            "linecolor": "white",
            "ticks": ""
           }
          },
          "scene": {
           "xaxis": {
            "backgroundcolor": "#E5ECF6",
            "gridcolor": "white",
            "gridwidth": 2,
            "linecolor": "white",
            "showbackground": true,
            "ticks": "",
            "zerolinecolor": "white"
           },
           "yaxis": {
            "backgroundcolor": "#E5ECF6",
            "gridcolor": "white",
            "gridwidth": 2,
            "linecolor": "white",
            "showbackground": true,
            "ticks": "",
            "zerolinecolor": "white"
           },
           "zaxis": {
            "backgroundcolor": "#E5ECF6",
            "gridcolor": "white",
            "gridwidth": 2,
            "linecolor": "white",
            "showbackground": true,
            "ticks": "",
            "zerolinecolor": "white"
           }
          },
          "shapedefaults": {
           "line": {
            "color": "#2a3f5f"
           }
          },
          "ternary": {
           "aaxis": {
            "gridcolor": "white",
            "linecolor": "white",
            "ticks": ""
           },
           "baxis": {
            "gridcolor": "white",
            "linecolor": "white",
            "ticks": ""
           },
           "bgcolor": "#E5ECF6",
           "caxis": {
            "gridcolor": "white",
            "linecolor": "white",
            "ticks": ""
           }
          },
          "title": {
           "x": 0.05
          },
          "xaxis": {
           "automargin": true,
           "gridcolor": "white",
           "linecolor": "white",
           "ticks": "",
           "title": {
            "standoff": 15
           },
           "zerolinecolor": "white",
           "zerolinewidth": 2
          },
          "yaxis": {
           "automargin": true,
           "gridcolor": "white",
           "linecolor": "white",
           "ticks": "",
           "title": {
            "standoff": 15
           },
           "zerolinecolor": "white",
           "zerolinewidth": 2
          }
         }
        },
        "title": {
         "text": "Distribution of Non-home, Non-Financial Assets"
        },
        "xaxis": {
         "anchor": "y",
         "domain": [
          0,
          1
         ],
         "title": {
          "text": "Values [$]"
         }
        },
        "yaxis": {
         "anchor": "x",
         "domain": [
          0,
          1
         ]
        }
       }
      },
      "text/html": [
       "<div>                            <div id=\"676ce3ee-2d18-4d8b-b798-9d71685dbc63\" class=\"plotly-graph-div\" style=\"height:525px; width:100%;\"></div>            <script type=\"text/javascript\">                require([\"plotly\"], function(Plotly) {                    window.PLOTLYENV=window.PLOTLYENV || {};                                    if (document.getElementById(\"676ce3ee-2d18-4d8b-b798-9d71685dbc63\")) {                    Plotly.newPlot(                        \"676ce3ee-2d18-4d8b-b798-9d71685dbc63\",                        [{\"alignmentgroup\":\"True\",\"hovertemplate\":\"NHNFIN=%{x}<extra></extra>\",\"legendgroup\":\"\",\"marker\":{\"color\":\"#636efa\"},\"name\":\"\",\"notched\":false,\"offsetgroup\":\"\",\"orientation\":\"h\",\"showlegend\":false,\"x\":[14000.0,14000.0,13000.0,14000.0,14000.0,40700.0,36800.0,37500.0,35900.0,36200.0,10000.0,10000.0,11000.0,11000.0,11000.0,0.0,0.0,0.0,0.0,0.0,557000.0,556000.0,556000.0,557000.0,556000.0,6800.0,11100.0,7500.0,7600.0,9800.0,15000.0,15000.0,14900.0,15000.0,15000.0,0.0,0.0,0.0,0.0,0.0,5800.0,5800.0,5900.0,5900.0,5900.0,0.0,0.0,0.0,0.0,0.0,19000.0,20000.0,20000.0,19000.0,20000.0,4500.0,4500.0,4500.0,4400.0,4500.0,342000.0,342000.0,342000.0,343000.0,341000.0,0.0,0.0,0.0,0.0,0.0,46000.0,31000.0,22900.0,30000.0,38000.0,0.0,0.0,0.0,0.0,0.0,90400.0,90300.0,90400.0,90400.0,90300.0,12000.0,12000.0,12100.0,12000.0,12100.0,0.0,0.0,0.0,0.0,0.0,2500.0,2500.0,2500.0,2500.0,2500.0,35000.0,35000.0,36000.0,35000.0,35000.0,35000.0,42500.0,43400.0,49700.0,49000.0,0.0,0.0,0.0,0.0,0.0,12000.0,11000.0,12000.0,10000.0,11000.0,24000.0,25000.0,25000.0,25000.0,24000.0,42000.0,42000.0,42000.0,42000.0,41000.0,13300.0,14900.0,12000.0,8860.0,9800.0,5000.0,6100.0,3900.0,8600.0,4900.0,45000.0,44000.0,46000.0,41000.0,41000.0,0.0,0.0,0.0,0.0,0.0,3900.0,3400.0,4100.0,3000.0,7700.0,0.0,0.0,0.0,0.0,0.0,11000.0,8000.0,4300.0,5900.0,4500.0,5700.0,4000.0,4100.0,3400.0,3100.0,27500.0,27500.0,27500.0,28500.0,27500.0,0.0,0.0,0.0,0.0,0.0,21000.0,22000.0,22000.0,21000.0,21000.0,471400.0,472400.0,471500.0,472400.0,472500.0,21500.0,20500.0,20500.0,21400.0,21500.0,12500.0,7600.0,12400.0,8900.0,8700.0,9100.0,9100.0,9100.0,9200.0,9200.0,6600.0,5200.0,6000.0,5200.0,8000.0,32000.0,32000.0,32000.0,33000.0,32000.0,12500.0,14500.0,12800.0,18300.0,17900.0,0.0,0.0,0.0,0.0,0.0,0.0,0.0,0.0,0.0,0.0,17500.0,50500.0,25500.0,10500.0,50500.0,0.0,0.0,0.0,0.0,0.0,60000.0,33000.0,34000.0,58000.0,36000.0,258800.0,263000.0,262000.0,263000.0,256200.0,95000.0,95000.0,95000.0,95000.0,95000.0,0.0,0.0,0.0,0.0,0.0,0.0,0.0,0.0,0.0,0.0,0.0,0.0,0.0,0.0,0.0,8100.0,8000.0,8000.0,8000.0,8100.0,3100.0,3200.0,3100.0,3200.0,3200.0,3700.0,3700.0,3700.0,3700.0,3700.0,0.0,0.0,0.0,0.0,0.0,16000.0,15000.0,15000.0,15000.0,15000.0,0.0,0.0,0.0,0.0,0.0,12000.0,13000.0,13000.0,12000.0,12000.0,76800.0,76900.0,76800.0,76900.0,76900.0,0.0,0.0,0.0,0.0,0.0,0.0,0.0,0.0,0.0,0.0,29000.0,29000.0,29000.0,29000.0,29000.0,15000.0,15000.0,15000.0,15000.0,15000.0,0.0,0.0,0.0,0.0,0.0,15000.0,15000.0,15000.0,14000.0,15000.0,87100.0,87400.0,82020.0,87100.0,89900.0,7000.0,7000.0,7100.0,7100.0,7100.0,53900.0,69000.0,60000.0,60000.0,62000.0,3700.0,3600.0,3700.0,3700.0,3600.0,13400.0,13400.0,13400.0,13400.0,13400.0,7600.0,7600.0,7500.0,7600.0,7500.0,42700.0,41700.0,41700.0,41700.0,41700.0,7700.0,3500.0,38000.0,37000.0,38000.0,37000.0,38000.0,6900.0,7800.0,5400.0,5000.0,5100.0,0.0,0.0,0.0,0.0,0.0,76000.0,76000.0,75000.0,75000.0,76000.0,81000.0,62400.0,65500.0,66500.0,59970.0,5400.0,5400.0,5300.0,5400.0,5400.0,13000.0,13000.0,14000.0,13000.0,13000.0,397000.0,399900.0,387500.0,390400.0,373900.0,42000.0,43800.0,44700.0,44100.0,43600.0,38100.0,38100.0,38100.0,38100.0,38200.0,40005.0,40010.0,40010.0,40010.0,40010.0,15400.0,14500.0,19000.0,11200.0,12600.0,95400.0,94400.0,94400.0,93400.0,95400.0,11000.0,11000.0,11000.0,11000.0,11000.0,8800.0,8900.0,8900.0,8900.0,8800.0,17800.0,17800.0,17900.0,18800.0,17900.0,0.0,0.0,0.0,0.0,0.0,19000.0,19000.0,18000.0,18000.0,19000.0,18600.0,18600.0,18700.0,18600.0,18600.0,3200.0,3200.0,3200.0,3100.0,3100.0,0.0,0.0,0.0,0.0,0.0,0.0,0.0,0.0,0.0,0.0,75900.0,104100.0,104000.0,94200.0,73300.0,5500.0,5500.0,5600.0,5600.0,5500.0,0.0,0.0,0.0,0.0,0.0,60000.0,61000.0,61000.0,61000.0,61000.0,0.0,0.0,0.0,0.0,0.0,54100.0,54100.0,54100.0,53100.0,54100.0,4200.0,5000.0,10000.0,7200.0,4100.0,37000.0,37000.0,38000.0,37000.0,38000.0,35000.0,37000.0,36000.0,36000.0,36000.0,48000.0,48000.0,48000.0,48000.0,49000.0,0.0,0.0,0.0,0.0,0.0,109000.0,88200.0,88300.0,101000.0,112000.0,0.0,0.0,0.0,0.0,0.0,0.0,0.0,0.0,0.0,0.0,82620.0,82610.0,84000.0,84000.0,83000.0,0.0,0.0,0.0,0.0,0.0,30500.0,36000.0,27600.0,26700.0,48000.0,15700.0,15700.0,8900.0,16800.0,9900.0,43000.0,43000.0,43000.0,42000.0,42000.0,9200.0,9100.0,9100.0,9100.0,9200.0,5900.0,5800.0,5900.0,5800.0,5900.0,5200.0,5300.0,5200.0,5200.0,5200.0,0.0,0.0,0.0,0.0,0.0,22000.0,22000.0,23000.0,22000.0,23000.0,2600.0,2700.0,2600.0,2700.0,2600.0,12000.0,13000.0,12000.0,12000.0,12000.0,31000.0,31000.0,31000.0,390200.0,401400.0,391100.0,393800.0,396400.0,45000.0,47000.0,42100.0,50000.0,48000.0,0.0,0.0,0.0,0.0,0.0,1727000.0,1727000.0,1727000.0,1726000.0,1726000.0,48000.0,48000.0,47000.0,48000.0,47000.0,48000.0,50000.0,49000.0,49000.0,49000.0,0.0,0.0,0.0,0.0,0.0,5800.0,5800.0,5800.0,5800.0,5800.0,8200.0,8100.0,8200.0,8200.0,8200.0,32000.0,28000.0,28000.0,32000.0,28000.0,13000.0,12000.0,12000.0,12000.0,12000.0,55800.0,54800.0,55700.0,55800.0,54800.0,19100.0,19100.0,19100.0,19100.0,19100.0,8900.0,9000.0,9000.0,9000.0,9000.0,45000.0,52000.0,43000.0,42000.0,44000.0,0.0,0.0,0.0,0.0,0.0,0.0,0.0,0.0,0.0,0.0,151000.0,151000.0,151000.0,151000.0,151000.0,0.0,0.0,0.0,0.0,0.0,100000.0,100000.0,100000.0,101000.0,100000.0,24400.0,17400.0,9100.0,16700.0,18000.0,0.0,0.0,0.0,0.0,0.0,9900.0,9900.0,9900.0,9900.0,9900.0,0.0,0.0,0.0,0.0,0.0,0.0,0.0,0.0,0.0,0.0,0.0,0.0,0.0,0.0,0.0,3100.0,3200.0,3200.0,3200.0,3200.0,0.0,0.0,0.0,0.0,0.0,0.0,0.0,0.0,0.0,0.0,53600.0,53600.0,53600.0,53500.0,53600.0,15600.0,10300.0,7800.0,8600.0,15600.0,0.0,0.0,0.0,0.0,0.0,44000.0,44000.0,44000.0,45000.0,45000.0,44000.0,43900.0,44000.0,44000.0,45000.0,19300.0,14660.0,20200.0,25100.0,24100.0,20000.0,19000.0,19000.0,20000.0,19000.0,0.0,0.0,0.0,0.0,0.0,0.0,0.0,0.0,0.0,0.0,22000.0,22000.0,23000.0,23000.0,22000.0,71000.0,70000.0,61000.0,72000.0,72000.0,0.0,0.0,0.0,0.0,0.0,4200.0,4300.0,4300.0,4200.0,4200.0,0.0,0.0,0.0,0.0,0.0,34000.0,34000.0,34000.0,34000.0,35000.0,132700.0,125700.0,124700.0,127700.0,122700.0,21700.0,30900.0,28100.0,28500.0,18900.0,0.0,0.0,0.0,0.0,0.0,10000.0,11000.0,10000.0,11000.0,10000.0,3100.0,3100.0,3000.0,3100.0,3000.0,10000.0,10000.0,10000.0,10000.0,10000.0,28100.0,27000.0,27000.0,27100.0,28100.0,8500.0,8500.0,8500.0,8500.0,8500.0,0.0,0.0,0.0,0.0,0.0,7400.0,7500.0,7400.0,7500.0,7500.0,11000.0,11000.0,11000.0,11000.0,11000.0,3600.0,3600.0,3600.0,3600.0,3600.0,0.0,0.0,0.0,0.0,0.0,0.0,0.0,0.0,0.0,0.0,31900.0,31900.0,42900.0,36800.0,44800.0,4700.0,4700.0,4700.0,4700.0,4700.0,5200.0,5200.0,5200.0,5200.0,5200.0,20000.0,21000.0,20000.0,20000.0,20000.0,1020500.0,1214500.0,1110500.0,1140500.0,1175000.0,21000.0,20000.0,21000.0,21000.0,21000.0,0.0,0.0,0.0,0.0,0.0,4000.0,4100.0,4100.0,4100.0,4100.0,143000.0,150000.0,140000.0,144000.0,152000.0,4300.0,4300.0,4300.0,4300.0,4300.0,61000.0,60000.0,61000.0,61000.0,60000.0,9700.0,9700.0,9700.0,9700.0,9700.0,66000.0,66000.0,57000.0,62000.0,57000.0,24200.0,22600.0,21600.0,24900.0,33000.0,6600.0,7000.0,7400.0,8100.0,6800.0,15900.0,36500.0,9100.0,22200.0,29700.0,0.0,0.0,0.0,0.0,0.0,37000.0,38000.0,0.0,0.0,0.0,0.0,0.0,49600.0,49600.0,49600.0,49500.0,49600.0,53000.0,52000.0,53000.0,54000.0,53000.0,299500.0,299500.0,253250.0,299500.0,309650.0,11000.0,11000.0,11000.0,11000.0,12000.0,15000.0,8200.0,19000.0,12000.0,11000.0,0.0,0.0,0.0,0.0,0.0,0.0,0.0,0.0,0.0,0.0,0.0,0.0,0.0,0.0,0.0,13000.0,13100.0,13100.0,13000.0,13100.0,22700.0,22800.0,22700.0,22800.0,23700.0,0.0,0.0,0.0,0.0,0.0,0.0,0.0,0.0,0.0,0.0,0.0,0.0,0.0,0.0,0.0,7400.0,7400.0,7400.0,7500.0,7400.0,20000.0,20000.0,20000.0,19000.0,20000.0,34000.0,35000.0,34000.0,35000.0,34000.0,30000.0,28000.0,29600.0,30800.0,29800.0,0.0,0.0,0.0,0.0,0.0,21880.0,21870.0,14960.0,22960.0,22380.0,3500.0,3500.0,3500.0,3500.0,3500.0,36500.0,36500.0,37500.0,37500.0,36500.0,20900.0,21000.0,21000.0,21000.0,20900.0,21100.0,20000.0,20000.0,20000.0,21100.0,4700.0,7400.0,4500.0,12000.0,4500.0,3600.0,8700.0,5000.0,5000.0,6300.0,32000.0,32000.0,31000.0,31000.0,31000.0,0.0,0.0,0.0,0.0,0.0,0.0,0.0,0.0,0.0,0.0,425200.0,881200.0,413600.0,418200.0,884200.0,0.0,0.0,0.0,0.0,0.0,24000.0,23000.0,22000.0,25000.0,24000.0,0.0,11000.0,12000.0,12000.0,11000.0,12000.0,3700.0,3700.0,3700.0,3700.0,3800.0,1014600.0,151600.0,274600.0,1008600.0,387600.0,4500.0,4500.0,4500.0,4500.0,4500.0,100700.0,100800.0,100800.0,99700.0,98900.0,4100.0,5200.0,3800.0,3300.0,3900.0,0.0,0.0,0.0,0.0,0.0,37700.0,38800.0,38800.0,38800.0,37800.0,500000.0,500000.0,500000.0,500000.0,500000.0,9000.0,9000.0,9000.0,9000.0,9000.0,24000.0,24000.0,24000.0,24000.0,24000.0,0.0,0.0,0.0,0.0,0.0,47000.0,47000.0,46000.0,46000.0,47000.0,58000.0,57000.0,58000.0,57000.0,57000.0,16000.0,15000.0,15000.0,15000.0,15000.0,8600.0,8700.0,8700.0,8600.0,8600.0,19000.0,19000.0,19000.0,20000.0,20000.0,25000.0,27000.0,27000.0,26000.0,26000.0,18900.0,29500.0,23200.0,34100.0,23600.0,34000.0,34000.0,34000.0,34000.0,34000.0,444000.0,445000.0,445000.0,444000.0,444000.0,31600.0,30500.0,34300.0,31600.0,30800.0,54000.0,54000.0,35100.0,54000.0,46000.0,0.0,0.0,0.0,0.0,0.0,12000.0,12000.0,13000.0,14000.0,11000.0,38000.0,38000.0,38000.0,37000.0,38000.0,412000.0,412000.0,411000.0,411000.0,411000.0,62300.0,63400.0,63400.0,63400.0,63400.0,8200.0,8200.0,8200.0,8200.0,8200.0,37000.0,37000.0,37000.0,37000.0,38000.0,8200.0,8100.0,8100.0,8100.0,8100.0,19800.0,16400.0,12500.0,10500.0,13700.0,8200.0,8300.0,8200.0,8300.0,8200.0,1653000.0,1653000.0,1653000.0,1652000.0,1653000.0,63000.0,62000.0,63000.0,62000.0,62000.0,28100.0,33200.0,27070.0,29900.0,31200.0,8600.0,8300.0,8400.0,11500.0,15000.0,9500.0,9500.0,9500.0,9500.0,9500.0,15600.0,14600.0,14500.0,14500.0,15600.0,24500.0,24600.0,24600.0,25600.0,25600.0,44400.0,45300.0,44300.0,44300.0,44400.0,28000.0,28000.0,29000.0,28000.0,28000.0,25000.0,24000.0,24000.0,24000.0,25000.0,270100.0,270200.0,270200.0,271100.0,270100.0,29600.0,29600.0,28600.0,29600.0,28600.0,0.0,0.0,0.0,0.0,0.0,86900.0,110900.0,137000.0,110200.0,69900.0,14000.0,14000.0,14000.0,14000.0,14000.0,3100.0,3200.0,3200.0,3200.0,3200.0,0.0,0.0,0.0,0.0,0.0,21000.0,22000.0,22000.0,22000.0,22000.0,12000.0,13000.0,13000.0,12000.0,13000.0,20600.0,20400.0,21100.0,20300.0,20300.0,18000.0,19000.0,15000.0,18000.0,18000.0,579000.0,563000.0,554200.0,564000.0,570000.0,21000.0,20000.0,21000.0,20000.0,21000.0,0.0,0.0,0.0,0.0,0.0,23000.0,23000.0,23000.0,23000.0,23000.0,37400.0,36900.0,49100.0,41100.0,54100.0,8300.0,8400.0,8300.0,8400.0,8300.0,40000.0,40000.0,40000.0,40000.0,40000.0,0.0,0.0,0.0,0.0,0.0,63000.0,64000.0,64000.0,63000.0,64000.0,3100.0,3100.0,3100.0,3100.0,3100.0,18000.0,18000.0,18000.0,18000.0,18000.0,6800.0,7900.0,7800.0,4900.0,7200.0,0.0,0.0,0.0,0.0,0.0,0.0,0.0,0.0,0.0,0.0,35900.0,35800.0,35800.0,35800.0,35900.0,11140.0,11140.0,11140.0,11140.0,11140.0,10000.0,6700.0,9700.0,12200.0,10300.0,0.0,0.0,0.0,0.0,0.0,262400.0,259900.0,264700.0,260600.0,269200.0,7200.0,8400.0,9900.0,11000.0,9600.0,4600.0,4200.0,4600.0,4500.0,4200.0,21300.0,21300.0,21300.0,21300.0,22400.0,23700.0,23700.0,23700.0,23800.0,23800.0,0.0,0.0,0.0,0.0,0.0,784000.0,784000.0,783000.0,783000.0,783000.0,0.0,0.0,0.0,0.0,0.0,35000.0,36000.0,35500.0,29400.0,31000.0,19900.0,20000.0,25800.0,30000.0,22310.0,192400.0,809900.0,58453.6,451500.0,370600.0,0.0,0.0,0.0,0.0,0.0,7000.0,7000.0,7000.0,7000.0,7000.0,63470.0,63370.0,63470.0,63470.0,63370.0,0.0,0.0,0.0,0.0,0.0,0.0,16000.0,16000.0,16000.0,16000.0,16000.0,28600.0,27600.0,28600.0,28600.0,27600.0,0.0,0.0,0.0,0.0,0.0,24000.0,25000.0,24000.0,25000.0,24000.0,110600.0,110500.0,110500.0,110500.0,110500.0,110100.0,109100.0,110100.0,110200.0,110100.0,31300.0,20300.0,34000.0,22300.0,35000.0,13300.0,13300.0,13300.0,13300.0,13400.0,37000.0,38000.0,38000.0,38000.0,38000.0,71000.0,59000.0,66000.0,59000.0,51000.0,38000.0,39000.0,38000.0,38000.0,39000.0,28000.0,29000.0,29000.0,28000.0,29000.0,7400.0,7500.0,7500.0,7500.0,7400.0,4000.0,4000.0,4000.0,4000.0,4000.0,36000.0,36000.0,36000.0,36000.0,36000.0,36000.0,36000.0,36000.0,36000.0,36000.0,276000.0,276000.0,276000.0,275000.0,276000.0,11000.0,11000.0,11000.0,11000.0,11000.0,0.0,0.0,0.0,0.0,0.0,102000.0,101000.0,100000.0,101000.0,100000.0,96000.0,94800.0,116000.0,133000.0,100000.0,6300.0,6300.0,6300.0,6400.0,6400.0,26300.0,25400.0,25300.0,25300.0,25300.0,10000.0,6900.0,6100.0,9800.0,5400.0,210600.0,210600.0,210600.0,210500.0,210500.0,4500.0,4500.0,4500.0,4500.0,4500.0,22000.0,22000.0,23000.0,22000.0,22000.0,50000.0,46000.0,46000.0,35600.0,44000.0,420100.0,420200.0,421100.0,420100.0,679100.0,0.0,0.0,0.0,0.0,0.0,0.0,0.0,0.0,0.0,0.0,139000.0,138000.0,139000.0,139000.0,140000.0,21000.0,22000.0,21000.0,21000.0,22000.0,21000.0,21000.0,21000.0,21000.0,21000.0,34000.0,34000.0,34000.0,34000.0,34000.0,0.0,0.0,0.0,0.0,0.0,49000.0,49000.0,48000.0,49000.0,49000.0,7900.0,7900.0,7900.0,7900.0,7900.0,38900.0,38000.0,39000.0,39000.0,39000.0,36000.0,35000.0,35000.0,36000.0,35000.0,90900.0,70900.0,63200.0,74800.0,80800.0,10600.0,18900.0,13100.0,15100.0,11900.0,56000.0,57000.0,57000.0,57000.0,58000.0,22900.0,22900.0,23900.0,22900.0,22900.0,40000.0,39000.0,39000.0,39000.0,40000.0,5600.0,5600.0,5500.0,5600.0,5600.0,75500.0,75400.0,75600.0,76500.0,75600.0,47000.0,40000.0,42000.0,36000.0,37000.0,70000.0,69000.0,70000.0,70000.0,68000.0,10200.0,8150.0,12100.0,11900.0,14000.0,10000.0,10000.0,10000.0,10000.0,10000.0,33700.0,33700.0,34700.0,33700.0,34700.0,1750.0,1750.0,1750.0,1750.0,1750.0,20000.0,20000.0,20000.0,20000.0,20000.0,116700.0,117700.0,116700.0,117700.0,117700.0,36600.0,33700.0,37200.0,31700.0,30600.0,6300.0,5900.0,5100.0,9700.0,9200.0,7500.0,7500.0,7500.0,7500.0,7500.0,14300.0,15300.0,15300.0,14300.0,14300.0,34000.0,34000.0,35000.0,35000.0,34000.0,69890.0,69890.0,71890.0,69890.0,72890.0,3000.0,3000.0,2900.0,3000.0,3000.0,560500.0,1115500.0,1115500.0,531500.0,593600.0,15000.0,15000.0,6800.0,11000.0,11000.0,22000.0,22000.0,23000.0,23000.0,23000.0,12900.0,12900.0,12800.0,12900.0,12800.0,324900.0,324900.0,324800.0,323900.0,323900.0,0.0,0.0,0.0,0.0,0.0,0.0,0.0,0.0,0.0,0.0,4500.0,4800.0,4200.0,4800.0,4800.0,42000.0,43000.0,43000.0,43000.0,43000.0,0.0,0.0,0.0,0.0,0.0,6100.0,6100.0,6100.0,6100.0,6100.0,4300.0,6900.0,7500.0,4100.0,5000.0,0.0,0.0,0.0,0.0,0.0,7700.0,3600.0,3200.0,4700.0,6100.0,6500.0,6600.0,6600.0,6500.0,6500.0,35600.0,35200.0,35500.0,30000.0,29200.0,1721000.0,1244000.0,1487000.0,1720000.0,1291000.0,0.0,0.0,0.0,0.0,0.0,0.0,0.0,0.0,0.0,0.0,113000.0,114000.0,113000.0,114000.0,113000.0,9100.0,9100.0,9100.0,9000.0,9100.0,0.0,0.0,0.0,0.0,0.0,8200.0,8100.0,8200.0,8200.0,8200.0,0.0,0.0,0.0,0.0,0.0,0.0,0.0,0.0,0.0,0.0,0.0,0.0,0.0,0.0,0.0,14000.0,15000.0,15000.0,15000.0,15000.0,15000.0,16000.0,15000.0,15000.0,16000.0,0.0,0.0,0.0,0.0,0.0,4300.0,4400.0,4300.0,4300.0,4300.0,0.0,0.0,0.0,0.0,0.0,11900.0,6400.0,7100.0,4400.0,6500.0,35000.0,34000.0,35000.0,35000.0,35000.0,1073800.0,1016100.0,1059800.0,1033800.0,1036800.0,0.0,0.0,0.0,0.0,0.0,9300.0,9000.0,7900.0,7600.0,8100.0,39200.0,41600.0,35630.0,36600.0,38900.0,0.0,0.0,0.0,0.0,0.0,0.0,0.0,0.0,0.0,0.0,26000.0,25000.0,26000.0,25000.0,26000.0,0.0,0.0,0.0,0.0,0.0,6700.0,6700.0,6700.0,6700.0,6700.0,0.0,0.0,0.0,0.0,0.0,47000.0,46000.0,46000.0,46000.0,46000.0,15300.0,12400.0,9600.0,13600.0,11400.0,394000.0,398000.0,397000.0,397000.0,394000.0,0.0,0.0,0.0,0.0,0.0,29200.0,24530.0,29800.0,25600.0,24530.0,119010.0,127500.0,125800.0,123000.0,124400.0,11000.0,11000.0,11000.0,11000.0,11000.0,50000.0,50000.0,50000.0,51000.0,50000.0,29300.0,41000.0,37000.0,33800.0,46000.0,0.0,0.0,0.0,0.0,0.0,42000.0,42000.0,42000.0,41000.0,42000.0,51000.0,51000.0,51000.0,51000.0,51000.0,458000.0,329000.0,373000.0,287000.0,427000.0,20900.0,14700.0,19800.0,18200.0,25700.0,19600.0,19600.0,19500.0,19500.0,19500.0,12000.0,12000.0,13000.0,12000.0,12000.0,8600.0,8700.0,8600.0,8600.0,8700.0,4600.0,4600.0,4600.0,4600.0,4600.0,5500.0,5500.0,5500.0,5400.0,5400.0,7400.0,7400.0,7400.0,7400.0,7500.0,7200.0,7200.0,7200.0,7200.0,7200.0,21000.0,21000.0,21000.0,21000.0,21000.0,290100.0,419000.0,354000.0,489000.0,427100.0,5300.0,5300.0,5300.0,5200.0,5200.0,393000.0,285000.0,329000.0,211000.0,231000.0,0.0,0.0,0.0,0.0,0.0,35000.0,34000.0,35000.0,34000.0,35000.0,0.0,0.0,0.0,0.0,0.0,9900.0,9100.0,8000.0,10500.0,10700.0,45300.0,45300.0,46200.0,45200.0,45300.0,42300.0,42300.0,42300.0,42300.0,42200.0,16000.0,16000.0,16000.0,16000.0,16000.0,686000.0,686000.0,686000.0,685000.0,686000.0,12200.0,10700.0,13500.0,16900.0,11800.0,82400.0,82300.0,82400.0,83300.0,83400.0,6200.0,6100.0,5600.0,8400.0,6300.0,25000.0,26000.0,26000.0,25000.0,25000.0,8800.0,10100.0,9900.0,13200.0,11100.0,18000.0,18000.0,18000.0,17000.0,17000.0,28700.0,30500.0,29300.0,27200.0,27800.0,8100.0,8200.0,8100.0,8200.0,8100.0,48400.0,57000.0,48800.0,59000.0,41700.0,0.0,0.0,0.0,0.0,0.0,8700.0,9600.0,10100.0,8600.0,9000.0,111000.0,111000.0,111000.0,111000.0,111000.0,497000.0,610000.0,222000.0,301000.0,1269000.0,9100.0,9100.0,9100.0,9100.0,9200.0,8200.0,8200.0,8200.0,8200.0,8200.0,11100.0,13900.0,17200.0,14900.0,17000.0,18000.0,18000.0,19000.0,18000.0,19000.0,20900.0,20800.0,20800.0,19800.0,20800.0,20.0,20.0,20.0,20.0,20.0,53000.0,54000.0,53000.0,53000.0,53000.0,78400.0,89100.0,85700.0,77600.0,82000.0,33000.0,33000.0,33000.0,33000.0,33000.0,0.0,0.0,0.0,0.0,0.0,10800.0,9250.0,9950.0,14000.0,12100.0,5200.0,7500.0,6300.0,6800.0,14000.0,31000.0,32000.0,32000.0,32000.0,31000.0,6100.0,6000.0,6000.0,6000.0,6000.0,131000.0,110000.0,90600.0,108000.0,157000.0,0.0,0.0,0.0,0.0,0.0,0.0,0.0,0.0,0.0,0.0,0.0,0.0,0.0,0.0,0.0,24600.0,31200.0,30300.0,26600.0,29500.0,20700.0,19700.0,20700.0,20700.0,19700.0,0.0,0.0,0.0,0.0,0.0,0.0,0.0,0.0,0.0,0.0,0.0,0.0,0.0,0.0,0.0,13000.0,14000.0,14000.0,14000.0,14000.0,60200.0,60100.0,60100.0,60100.0,60200.0,104100.0,104100.0,104100.0,103100.0,105100.0,118330.0,120470.0,120280.0,119280.0,118330.0,5500.0,5500.0,5500.0,5500.0,5600.0,67000.0,66000.0,66000.0,67000.0,66000.0,9300.0,9300.0,9300.0,9300.0,9300.0,28800.0,27300.0,26500.0,27100.0,28600.0,1015800.0,1015800.0,1015800.0,1015800.0,1016800.0,40000.0,40000.0,40000.0,40000.0,40000.0,0.0,0.0,0.0,0.0,0.0,21800.0,21800.0,21900.0,21800.0,21800.0,0.0,0.0,0.0,0.0,0.0,0.0,0.0,0.0,0.0,0.0,9900.0,9900.0,9800.0,9800.0,9800.0,6000.0,5400.0,9300.0,6200.0,13000.0,22000.0,24700.0,25600.0,25600.0,25600.0,25700.0,30000.0,29000.0,25200.0,35000.0,37000.0,5700.0,5800.0,5800.0,5800.0,5800.0,5600.0,5600.0,5600.0,5600.0,5600.0,14000.0,14000.0,13000.0,13000.0,13000.0,47000.0,33600.0,33600.0,43000.0,65000.0,38200.0,34200.0,29200.0,38200.0,28200.0,31100.0,31100.0,31100.0,31100.0,30100.0,68600.0,69500.0,68600.0,69600.0,68600.0,16000.0,63000.0,30000.0,15000.0,23100.0,0.0,0.0,0.0,0.0,0.0,15000.0,15000.0,15000.0,15000.0,15000.0,22000.0,21900.0,22100.0,22900.0,22000.0,0.0,0.0,0.0,0.0,0.0,32000.0,30000.0,31000.0,31000.0,30000.0,13200.0,25000.0,26100.0,25100.0,19000.0,22000.0,23000.0,22000.0,23000.0,0.0,0.0,0.0,0.0,0.0,0.0,-300.0,0.0,0.0,0.0,35000.0,37000.0,37000.0,37000.0,37000.0,0.0,0.0,0.0,0.0,0.0,6600.0,6600.0,6600.0,6600.0,6600.0,33000.0,34000.0,34000.0,33000.0,33000.0,40000.0,40000.0,40000.0,40000.0,40000.0,40000.0,40000.0,40000.0,40000.0,40000.0,0.0,0.0,0.0,0.0,0.0,362000.0,362000.0,363000.0,363000.0,363000.0,49300.0,39600.0,40600.0,52300.0,41300.0,21000.0,19600.0,19400.0,25900.0,26000.0,11000.0,10900.0,11000.0,10800.0,11000.0,250000.0,250000.0,250000.0,250000.0,250000.0,0.0,0.0,0.0,0.0,0.0,0.0,0.0,0.0,0.0,0.0,74000.0,74000.0,76000.0,74000.0,76000.0,6300.0,6200.0,6200.0,6200.0,6200.0,0.0,0.0,0.0,0.0,0.0,0.0,0.0,0.0,0.0,0.0,27000.0,29400.0,33700.0,25200.0,30900.0,7300.0,7300.0,7400.0,7300.0,7300.0,120500.0,101500.0,111500.0,108500.0,120500.0,0.0,0.0,0.0,0.0,0.0,33100.0,35700.0,57000.0,29100.0,52000.0,4400.0,4400.0,4400.0,4400.0,4400.0,0.0,0.0,0.0,0.0,0.0,0.0,0.0,0.0,0.0,0.0,0.0,0.0,0.0,0.0,0.0,43700.0,33800.0,46800.0,40700.0,46800.0,17200.0,19780.0,20000.0,20000.0,19700.0,16000.0,16000.0,16000.0,17000.0,16000.0,20000.0,20000.0,20000.0,20000.0,20000.0,8300.0,8300.0,8200.0,8300.0,8300.0,65000.0,66000.0,66000.0,66000.0,65000.0,16000.0,16000.0,16000.0,17000.0,17000.0,0.0,0.0,0.0,0.0,0.0,438100.0,439100.0,438100.0,438100.0,438100.0,23600.0,23600.0,23600.0,23600.0,23600.0,0.0,0.0,0.0,0.0,0.0,23000.0,23000.0,24000.0,23000.0,24000.0,13000.0,13000.0,13000.0,12000.0,12000.0,0.0,0.0,0.0,0.0,0.0,29000.0,31000.0,30000.0,30000.0,31000.0,9200.0,7100.0,10400.0,13400.0,14400.0,51620.0,62000.0,63000.0,69000.0,51630.0,349800.0,349900.0,348900.0,348900.0,349900.0,55640.0,55640.0,55630.0,55630.0,55740.0,0.0,0.0,0.0,0.0,0.0,31000.0,32000.0,32000.0,31000.0,32000.0,26700.0,35000.0,30900.0,27000.0,28500.0,27000.0,27000.0,27000.0,27000.0,27000.0,0.0,0.0,0.0,0.0,0.0,21000.0,20000.0,21000.0,20000.0,20000.0,0.0,0.0,0.0,0.0,0.0,28000.0,28000.0,28000.0,28000.0,28000.0,30000.0,30000.0,30000.0,30000.0,30000.0,55000.0,55000.0,55000.0,55000.0,55000.0,7800.0,7800.0,7700.0,7800.0,7800.0,3000.0,3000.0,3000.0,3000.0,3000.0,6100.0,6000.0,6000.0,6100.0,6000.0,91700.0,86700.0,90600.0,85600.0,87700.0,195000.0,197000.0,196000.0,196000.0,196000.0,33100.0,34100.0,33000.0,33100.0,33100.0,12800.0,8720.0,10100.0,9800.0,12000.0,28900.0,29000.0,29000.0,29000.0,29000.0,4400.0,4400.0,4400.0,4400.0,4400.0,14400.0,9600.0,7200.0,7200.0,10200.0,4800.0,10000.0,13000.0,13000.0,5400.0,6600.0,13000.0,7600.0,11600.0,6100.0,5200.0,5100.0,5200.0,5200.0,5100.0,0.0,0.0,0.0,0.0,0.0,40000.0,40000.0,40000.0,40000.0,40000.0,0.0,0.0,0.0,0.0,0.0,3000.0,3000.0,3000.0,3000.0,3000.0,0.0,0.0,0.0,0.0,0.0,0.0,0.0,0.0,0.0,0.0,22000.0,22000.0,22000.0,22000.0,21000.0,42000.0,43000.0,43000.0,43000.0,43000.0,0.0,0.0,0.0,0.0,0.0,0.0,0.0,0.0,0.0,0.0,10000.0,10000.0,10000.0,10000.0,10000.0,92900.0,93000.0,92900.0,94000.0,92900.0,59000.0,59000.0,60000.0,59000.0,59000.0,5200.0,4900.0,4900.0,6400.0,9800.0,17600.0,16700.0,17700.0,17700.0,17700.0,3900.0,3900.0,4000.0,3900.0,4000.0,4000.0,5900.0,3900.0,5600.0,9900.0,14000.0,15000.0,15000.0,15000.0,14000.0,66000.0,66000.0,66000.0,66000.0,66000.0,0.0,0.0,0.0,0.0,0.0,15000.0,14000.0,15000.0,14000.0,14000.0,24000.0,23000.0,24000.0,23000.0,23000.0,32000.0,18900.0,28600.0,55000.0,23000.0,30000.0,8100.0,10800.0,6000.0,7600.0,7900.0,50000.0,50000.0,50000.0,50000.0,50000.0,66000.0,67000.0,68000.0,66000.0,67000.0,0.0,0.0,0.0,0.0,0.0,0.0,0.0,0.0,0.0,0.0,146900.0,145900.0,145900.0,145900.0,146900.0,0.0,0.0,0.0,0.0,0.0,6800.0,5600.0,3600.0,9400.0,7900.0,30900.0,30900.0,30900.0,30900.0,30900.0,31800.0,31800.0,31900.0,31900.0,31900.0,47200.0,47200.0,48300.0,48300.0,48300.0,66700.0,66700.0,66700.0,66600.0,65600.0,41900.0,42000.0,41900.0,42000.0,42900.0,15000.0,18000.0,17000.0,18000.0,16000.0,43000.0,43000.0,43000.0,43000.0,44000.0,27000.0,28100.0,27000.0,28100.0,27100.0,6200.0,6300.0,6300.0,6300.0,6200.0,15000.0,8100.0,11000.0,11000.0,8800.0,9100.0,9100.0,9100.0,9100.0,9100.0,54000.0,54000.0,55000.0,55000.0,54000.0,5400.0,9800.0,3900.0,9400.0,4700.0,121900.0,124800.0,121900.0,137500.0,124700.0,0.0,0.0,0.0,0.0,0.0,0.0,0.0,0.0,0.0,0.0,0.0,0.0,0.0,0.0,0.0,6700.0,6800.0,6800.0,6800.0,6800.0,26000.0,26000.0,26000.0,26000.0,26000.0,19000.0,19000.0,19000.0,19000.0,19000.0,27000.0,26000.0,27000.0,26000.0,27000.0,65900.0,65900.0,65900.0,65800.0,65800.0,0.0,0.0,0.0,0.0,0.0,28000.0,28000.0,28000.0,28000.0,28000.0,8100.0,8200.0,8200.0,8100.0,8200.0,47900.0,47900.0,47900.0,48900.0,48900.0,26000.0,25000.0,26000.0,26000.0,25000.0,0.0,0.0,0.0,0.0,0.0,369000.0,368000.0,369000.0,368000.0,368000.0,117000.0,131000.0,892000.0,179000.0,353000.0,225000.0,206000.0,192000.0,191000.0,198000.0,0.0,0.0,0.0,0.0,0.0,5800.0,5800.0,5800.0,5700.0,5800.0,20730.0,20730.0,21730.0,22620.0,21730.0,16000.0,17000.0,16000.0,16000.0,16000.0,0.0,0.0,0.0,0.0,0.0,13100.0,13100.0,13100.0,13100.0,13100.0,0.0,0.0,0.0,0.0,0.0,37300.0,37400.0,37300.0,37300.0,37300.0,0.0,0.0,0.0,0.0,0.0,52000.0,60700.0,47200.0,42600.0,55900.0,42900.0,38900.0,32700.0,31200.0,39900.0,32710.0,33710.0,33400.0,32710.0,33250.0,72500.0,75500.0,88500.0,79800.0,67500.0,6800.0,7100.0,12000.0,5400.0,6500.0,228500.0,228500.0,228500.0,229600.0,229500.0,5400.0,5400.0,5400.0,5400.0,5400.0,37000.0,37000.0,35900.0,36900.0,37000.0,46200.0,31620.0,41200.0,44100.0,40200.0,33300.0,33300.0,33300.0,33300.0,33300.0,26300.0,26300.0,26300.0,27300.0,26300.0,17800.0,17800.0,18800.0,18800.0,18800.0,0.0,0.0,0.0,0.0,0.0,510000.0,510000.0,510000.0,507600.0,510000.0,7900.0,5900.0,6200.0,9300.0,6300.0,0.0,0.0,0.0,0.0,0.0,25000.0,25000.0,25000.0,25000.0,25000.0,8300.0,8300.0,8300.0,8300.0,8300.0,52000.0,52000.0,52000.0,52000.0,52000.0,21000.0,22000.0,22000.0,23000.0,23000.0,23800.0,23900.0,23900.0,23900.0,23900.0,0.0,0.0,0.0,0.0,0.0,6300.0,6200.0,6200.0,6300.0,6200.0,55000.0,55000.0,55000.0,56000.0,56000.0,177400.0,176400.0,176400.0,176400.0,176400.0,47100.0,47100.0,48100.0,47100.0,48100.0,0.0,0.0,0.0,0.0,0.0,0.0,0.0,0.0,0.0,0.0,0.0,0.0,0.0,0.0,0.0,12000.0,12000.0,12000.0,13000.0,13000.0,12000.0,12000.0,12000.0,12000.0,12000.0,4700.0,4700.0,4700.0,4700.0,4700.0,0.0,0.0,0.0,0.0,0.0,26500.0,26500.0,26600.0,26500.0,26600.0,0.0,0.0,0.0,0.0,0.0,30200.0,30200.0,30200.0,30200.0,29200.0,0.0,0.0,0.0,0.0,0.0,0.0,0.0,0.0,0.0,0.0,0.0,0.0,0.0,0.0,0.0,31000.0,31000.0,31000.0,31000.0,31000.0,18100.0,18100.0,18100.0,18100.0,18100.0,18000.0,17000.0,18000.0,17000.0,17000.0,0.0,0.0,0.0,0.0,0.0,5100.0,5100.0,5100.0,5100.0,5100.0,0.0,0.0,0.0,0.0,0.0,0.0,0.0,0.0,0.0,0.0,0.0,0.0,16000.0,16000.0,16000.0,16000.0,16000.0,0.0,0.0,0.0,0.0,0.0,377100.0,377100.0,377200.0,377100.0,377100.0,31050.0,30040.0,30040.0,30040.0,31040.0,20000.0,20000.0,20000.0,20000.0,20000.0,10100.0,13000.0,14600.0,10200.0,9600.0,54000.0,55000.0,54000.0,55000.0,55000.0,16000.0,15000.0,16000.0,16000.0,15000.0,0.0,0.0,0.0,0.0,0.0,21300.0,21300.0,20300.0,20300.0,21300.0,12140.0,14500.0,12800.0,10600.0,9230.0,0.0,0.0,0.0,0.0,0.0,9000.0,9000.0,9000.0,9000.0,9000.0,23000.0,23000.0,22000.0,23000.0,22000.0,17300.0,17300.0,20300.0,11200.0,21300.0,559000.0,664000.0,588000.0,729000.0,793000.0,0.0,0.0,0.0,0.0,0.0,96000.0,96000.0,96000.0,96000.0,96000.0,0.0,0.0,0.0,0.0,0.0,0.0,0.0,0.0,0.0,0.0],\"x0\":\" \",\"xaxis\":\"x\",\"y0\":\" \",\"yaxis\":\"y\",\"type\":\"box\"}],                        {\"template\":{\"data\":{\"histogram2dcontour\":[{\"type\":\"histogram2dcontour\",\"colorbar\":{\"outlinewidth\":0,\"ticks\":\"\"},\"colorscale\":[[0.0,\"#0d0887\"],[0.1111111111111111,\"#46039f\"],[0.2222222222222222,\"#7201a8\"],[0.3333333333333333,\"#9c179e\"],[0.4444444444444444,\"#bd3786\"],[0.5555555555555556,\"#d8576b\"],[0.6666666666666666,\"#ed7953\"],[0.7777777777777778,\"#fb9f3a\"],[0.8888888888888888,\"#fdca26\"],[1.0,\"#f0f921\"]]}],\"choropleth\":[{\"type\":\"choropleth\",\"colorbar\":{\"outlinewidth\":0,\"ticks\":\"\"}}],\"histogram2d\":[{\"type\":\"histogram2d\",\"colorbar\":{\"outlinewidth\":0,\"ticks\":\"\"},\"colorscale\":[[0.0,\"#0d0887\"],[0.1111111111111111,\"#46039f\"],[0.2222222222222222,\"#7201a8\"],[0.3333333333333333,\"#9c179e\"],[0.4444444444444444,\"#bd3786\"],[0.5555555555555556,\"#d8576b\"],[0.6666666666666666,\"#ed7953\"],[0.7777777777777778,\"#fb9f3a\"],[0.8888888888888888,\"#fdca26\"],[1.0,\"#f0f921\"]]}],\"heatmap\":[{\"type\":\"heatmap\",\"colorbar\":{\"outlinewidth\":0,\"ticks\":\"\"},\"colorscale\":[[0.0,\"#0d0887\"],[0.1111111111111111,\"#46039f\"],[0.2222222222222222,\"#7201a8\"],[0.3333333333333333,\"#9c179e\"],[0.4444444444444444,\"#bd3786\"],[0.5555555555555556,\"#d8576b\"],[0.6666666666666666,\"#ed7953\"],[0.7777777777777778,\"#fb9f3a\"],[0.8888888888888888,\"#fdca26\"],[1.0,\"#f0f921\"]]}],\"heatmapgl\":[{\"type\":\"heatmapgl\",\"colorbar\":{\"outlinewidth\":0,\"ticks\":\"\"},\"colorscale\":[[0.0,\"#0d0887\"],[0.1111111111111111,\"#46039f\"],[0.2222222222222222,\"#7201a8\"],[0.3333333333333333,\"#9c179e\"],[0.4444444444444444,\"#bd3786\"],[0.5555555555555556,\"#d8576b\"],[0.6666666666666666,\"#ed7953\"],[0.7777777777777778,\"#fb9f3a\"],[0.8888888888888888,\"#fdca26\"],[1.0,\"#f0f921\"]]}],\"contourcarpet\":[{\"type\":\"contourcarpet\",\"colorbar\":{\"outlinewidth\":0,\"ticks\":\"\"}}],\"contour\":[{\"type\":\"contour\",\"colorbar\":{\"outlinewidth\":0,\"ticks\":\"\"},\"colorscale\":[[0.0,\"#0d0887\"],[0.1111111111111111,\"#46039f\"],[0.2222222222222222,\"#7201a8\"],[0.3333333333333333,\"#9c179e\"],[0.4444444444444444,\"#bd3786\"],[0.5555555555555556,\"#d8576b\"],[0.6666666666666666,\"#ed7953\"],[0.7777777777777778,\"#fb9f3a\"],[0.8888888888888888,\"#fdca26\"],[1.0,\"#f0f921\"]]}],\"surface\":[{\"type\":\"surface\",\"colorbar\":{\"outlinewidth\":0,\"ticks\":\"\"},\"colorscale\":[[0.0,\"#0d0887\"],[0.1111111111111111,\"#46039f\"],[0.2222222222222222,\"#7201a8\"],[0.3333333333333333,\"#9c179e\"],[0.4444444444444444,\"#bd3786\"],[0.5555555555555556,\"#d8576b\"],[0.6666666666666666,\"#ed7953\"],[0.7777777777777778,\"#fb9f3a\"],[0.8888888888888888,\"#fdca26\"],[1.0,\"#f0f921\"]]}],\"mesh3d\":[{\"type\":\"mesh3d\",\"colorbar\":{\"outlinewidth\":0,\"ticks\":\"\"}}],\"scatter\":[{\"fillpattern\":{\"fillmode\":\"overlay\",\"size\":10,\"solidity\":0.2},\"type\":\"scatter\"}],\"parcoords\":[{\"type\":\"parcoords\",\"line\":{\"colorbar\":{\"outlinewidth\":0,\"ticks\":\"\"}}}],\"scatterpolargl\":[{\"type\":\"scatterpolargl\",\"marker\":{\"colorbar\":{\"outlinewidth\":0,\"ticks\":\"\"}}}],\"bar\":[{\"error_x\":{\"color\":\"#2a3f5f\"},\"error_y\":{\"color\":\"#2a3f5f\"},\"marker\":{\"line\":{\"color\":\"#E5ECF6\",\"width\":0.5},\"pattern\":{\"fillmode\":\"overlay\",\"size\":10,\"solidity\":0.2}},\"type\":\"bar\"}],\"scattergeo\":[{\"type\":\"scattergeo\",\"marker\":{\"colorbar\":{\"outlinewidth\":0,\"ticks\":\"\"}}}],\"scatterpolar\":[{\"type\":\"scatterpolar\",\"marker\":{\"colorbar\":{\"outlinewidth\":0,\"ticks\":\"\"}}}],\"histogram\":[{\"marker\":{\"pattern\":{\"fillmode\":\"overlay\",\"size\":10,\"solidity\":0.2}},\"type\":\"histogram\"}],\"scattergl\":[{\"type\":\"scattergl\",\"marker\":{\"colorbar\":{\"outlinewidth\":0,\"ticks\":\"\"}}}],\"scatter3d\":[{\"type\":\"scatter3d\",\"line\":{\"colorbar\":{\"outlinewidth\":0,\"ticks\":\"\"}},\"marker\":{\"colorbar\":{\"outlinewidth\":0,\"ticks\":\"\"}}}],\"scattermapbox\":[{\"type\":\"scattermapbox\",\"marker\":{\"colorbar\":{\"outlinewidth\":0,\"ticks\":\"\"}}}],\"scatterternary\":[{\"type\":\"scatterternary\",\"marker\":{\"colorbar\":{\"outlinewidth\":0,\"ticks\":\"\"}}}],\"scattercarpet\":[{\"type\":\"scattercarpet\",\"marker\":{\"colorbar\":{\"outlinewidth\":0,\"ticks\":\"\"}}}],\"carpet\":[{\"aaxis\":{\"endlinecolor\":\"#2a3f5f\",\"gridcolor\":\"white\",\"linecolor\":\"white\",\"minorgridcolor\":\"white\",\"startlinecolor\":\"#2a3f5f\"},\"baxis\":{\"endlinecolor\":\"#2a3f5f\",\"gridcolor\":\"white\",\"linecolor\":\"white\",\"minorgridcolor\":\"white\",\"startlinecolor\":\"#2a3f5f\"},\"type\":\"carpet\"}],\"table\":[{\"cells\":{\"fill\":{\"color\":\"#EBF0F8\"},\"line\":{\"color\":\"white\"}},\"header\":{\"fill\":{\"color\":\"#C8D4E3\"},\"line\":{\"color\":\"white\"}},\"type\":\"table\"}],\"barpolar\":[{\"marker\":{\"line\":{\"color\":\"#E5ECF6\",\"width\":0.5},\"pattern\":{\"fillmode\":\"overlay\",\"size\":10,\"solidity\":0.2}},\"type\":\"barpolar\"}],\"pie\":[{\"automargin\":true,\"type\":\"pie\"}]},\"layout\":{\"autotypenumbers\":\"strict\",\"colorway\":[\"#636efa\",\"#EF553B\",\"#00cc96\",\"#ab63fa\",\"#FFA15A\",\"#19d3f3\",\"#FF6692\",\"#B6E880\",\"#FF97FF\",\"#FECB52\"],\"font\":{\"color\":\"#2a3f5f\"},\"hovermode\":\"closest\",\"hoverlabel\":{\"align\":\"left\"},\"paper_bgcolor\":\"white\",\"plot_bgcolor\":\"#E5ECF6\",\"polar\":{\"bgcolor\":\"#E5ECF6\",\"angularaxis\":{\"gridcolor\":\"white\",\"linecolor\":\"white\",\"ticks\":\"\"},\"radialaxis\":{\"gridcolor\":\"white\",\"linecolor\":\"white\",\"ticks\":\"\"}},\"ternary\":{\"bgcolor\":\"#E5ECF6\",\"aaxis\":{\"gridcolor\":\"white\",\"linecolor\":\"white\",\"ticks\":\"\"},\"baxis\":{\"gridcolor\":\"white\",\"linecolor\":\"white\",\"ticks\":\"\"},\"caxis\":{\"gridcolor\":\"white\",\"linecolor\":\"white\",\"ticks\":\"\"}},\"coloraxis\":{\"colorbar\":{\"outlinewidth\":0,\"ticks\":\"\"}},\"colorscale\":{\"sequential\":[[0.0,\"#0d0887\"],[0.1111111111111111,\"#46039f\"],[0.2222222222222222,\"#7201a8\"],[0.3333333333333333,\"#9c179e\"],[0.4444444444444444,\"#bd3786\"],[0.5555555555555556,\"#d8576b\"],[0.6666666666666666,\"#ed7953\"],[0.7777777777777778,\"#fb9f3a\"],[0.8888888888888888,\"#fdca26\"],[1.0,\"#f0f921\"]],\"sequentialminus\":[[0.0,\"#0d0887\"],[0.1111111111111111,\"#46039f\"],[0.2222222222222222,\"#7201a8\"],[0.3333333333333333,\"#9c179e\"],[0.4444444444444444,\"#bd3786\"],[0.5555555555555556,\"#d8576b\"],[0.6666666666666666,\"#ed7953\"],[0.7777777777777778,\"#fb9f3a\"],[0.8888888888888888,\"#fdca26\"],[1.0,\"#f0f921\"]],\"diverging\":[[0,\"#8e0152\"],[0.1,\"#c51b7d\"],[0.2,\"#de77ae\"],[0.3,\"#f1b6da\"],[0.4,\"#fde0ef\"],[0.5,\"#f7f7f7\"],[0.6,\"#e6f5d0\"],[0.7,\"#b8e186\"],[0.8,\"#7fbc41\"],[0.9,\"#4d9221\"],[1,\"#276419\"]]},\"xaxis\":{\"gridcolor\":\"white\",\"linecolor\":\"white\",\"ticks\":\"\",\"title\":{\"standoff\":15},\"zerolinecolor\":\"white\",\"automargin\":true,\"zerolinewidth\":2},\"yaxis\":{\"gridcolor\":\"white\",\"linecolor\":\"white\",\"ticks\":\"\",\"title\":{\"standoff\":15},\"zerolinecolor\":\"white\",\"automargin\":true,\"zerolinewidth\":2},\"scene\":{\"xaxis\":{\"backgroundcolor\":\"#E5ECF6\",\"gridcolor\":\"white\",\"linecolor\":\"white\",\"showbackground\":true,\"ticks\":\"\",\"zerolinecolor\":\"white\",\"gridwidth\":2},\"yaxis\":{\"backgroundcolor\":\"#E5ECF6\",\"gridcolor\":\"white\",\"linecolor\":\"white\",\"showbackground\":true,\"ticks\":\"\",\"zerolinecolor\":\"white\",\"gridwidth\":2},\"zaxis\":{\"backgroundcolor\":\"#E5ECF6\",\"gridcolor\":\"white\",\"linecolor\":\"white\",\"showbackground\":true,\"ticks\":\"\",\"zerolinecolor\":\"white\",\"gridwidth\":2}},\"shapedefaults\":{\"line\":{\"color\":\"#2a3f5f\"}},\"annotationdefaults\":{\"arrowcolor\":\"#2a3f5f\",\"arrowhead\":0,\"arrowwidth\":1},\"geo\":{\"bgcolor\":\"white\",\"landcolor\":\"#E5ECF6\",\"subunitcolor\":\"white\",\"showland\":true,\"showlakes\":true,\"lakecolor\":\"white\"},\"title\":{\"x\":0.05},\"mapbox\":{\"style\":\"light\"}}},\"xaxis\":{\"anchor\":\"y\",\"domain\":[0.0,1.0],\"title\":{\"text\":\"Values [$]\"}},\"yaxis\":{\"anchor\":\"x\",\"domain\":[0.0,1.0]},\"legend\":{\"tracegroupgap\":0},\"title\":{\"text\":\"Distribution of Non-home, Non-Financial Assets\"},\"boxmode\":\"group\"},                        {\"responsive\": true}                    ).then(function(){\n",
       "                            \n",
       "var gd = document.getElementById('676ce3ee-2d18-4d8b-b798-9d71685dbc63');\n",
       "var x = new MutationObserver(function (mutations, observer) {{\n",
       "        var display = window.getComputedStyle(gd).display;\n",
       "        if (!display || display === 'none') {{\n",
       "            console.log([gd, 'removed!']);\n",
       "            Plotly.purge(gd);\n",
       "            observer.disconnect();\n",
       "        }}\n",
       "}});\n",
       "\n",
       "// Listen for the removal of the full notebook cells\n",
       "var notebookContainer = gd.closest('#notebook-container');\n",
       "if (notebookContainer) {{\n",
       "    x.observe(notebookContainer, {childList: true});\n",
       "}}\n",
       "\n",
       "// Listen for the clearing of the current output cell\n",
       "var outputEl = gd.closest('.output');\n",
       "if (outputEl) {{\n",
       "    x.observe(outputEl, {childList: true});\n",
       "}}\n",
       "\n",
       "                        })                };                });            </script>        </div>"
      ]
     },
     "metadata": {},
     "output_type": "display_data"
    }
   ],
   "source": [
    "# Create a boxplot of `NHNFIN`\n",
    "fig = px.box(\n",
    "    data_frame=df,\n",
    "    x=\"NHNFIN\",\n",
    "    title=\"Distribution of Non-home, Non-Financial Assets\"\n",
    ")\n",
    "fig.update_layout(xaxis_title=\"Values [$]\")\n",
    "\n",
    "fig.show()"
   ]
  },
  {
   "cell_type": "markdown",
   "id": "161023db",
   "metadata": {},
   "source": [
    "## Even though we removed the outliers from the original dataset , some features are still affected by outliers mainly which are wealthy households"
   ]
  },
  {
   "cell_type": "code",
   "execution_count": 26,
   "id": "42148cfa",
   "metadata": {},
   "outputs": [
    {
     "data": {
      "text/plain": [
       "NH_MORT     9.661827e+08\n",
       "MRTHEL      9.885072e+08\n",
       "KGTOTAL     9.963638e+08\n",
       "PLOAN1      1.120744e+09\n",
       "HOMEEQ      1.494964e+09\n",
       "DEBT        2.775392e+09\n",
       "NETWORTH    5.946834e+09\n",
       "HOUSES      6.387043e+09\n",
       "NFIN        1.258410e+10\n",
       "ASSET       1.751559e+10\n",
       "dtype: float64"
      ]
     },
     "execution_count": 26,
     "metadata": {},
     "output_type": "execute_result"
    }
   ],
   "source": [
    "# Calculate trimmed variance\n",
    "top_ten_trim_var = df.apply(trimmed_var,limits=(0.1,0.1)).sort_values().tail(10)\n",
    "top_ten_trim_var"
   ]
  },
  {
   "cell_type": "code",
   "execution_count": 27,
   "id": "c4dea0a1",
   "metadata": {},
   "outputs": [
    {
     "data": {
      "application/vnd.plotly.v1+json": {
       "config": {
        "plotlyServerURL": "https://plot.ly"
       },
       "data": [
        {
         "alignmentgroup": "True",
         "hovertemplate": "x=%{x}<br>y=%{y}<extra></extra>",
         "legendgroup": "",
         "marker": {
          "color": "#636efa",
          "pattern": {
           "shape": ""
          }
         },
         "name": "",
         "offsetgroup": "",
         "orientation": "h",
         "showlegend": false,
         "textposition": "auto",
         "type": "bar",
         "x": [
          966182749.382403,
          988507211.2482569,
          996363815.9740413,
          1120743751.1547358,
          1494964193.0009394,
          2775391528.0043173,
          5946833962.002728,
          6387043364.198891,
          12584100533.170101,
          17515592952.085587
         ],
         "xaxis": "x",
         "y": [
          "NH_MORT",
          "MRTHEL",
          "KGTOTAL",
          "PLOAN1",
          "HOMEEQ",
          "DEBT",
          "NETWORTH",
          "HOUSES",
          "NFIN",
          "ASSET"
         ],
         "yaxis": "y"
        }
       ],
       "layout": {
        "barmode": "relative",
        "legend": {
         "tracegroupgap": 0
        },
        "template": {
         "data": {
          "bar": [
           {
            "error_x": {
             "color": "#2a3f5f"
            },
            "error_y": {
             "color": "#2a3f5f"
            },
            "marker": {
             "line": {
              "color": "#E5ECF6",
              "width": 0.5
             },
             "pattern": {
              "fillmode": "overlay",
              "size": 10,
              "solidity": 0.2
             }
            },
            "type": "bar"
           }
          ],
          "barpolar": [
           {
            "marker": {
             "line": {
              "color": "#E5ECF6",
              "width": 0.5
             },
             "pattern": {
              "fillmode": "overlay",
              "size": 10,
              "solidity": 0.2
             }
            },
            "type": "barpolar"
           }
          ],
          "carpet": [
           {
            "aaxis": {
             "endlinecolor": "#2a3f5f",
             "gridcolor": "white",
             "linecolor": "white",
             "minorgridcolor": "white",
             "startlinecolor": "#2a3f5f"
            },
            "baxis": {
             "endlinecolor": "#2a3f5f",
             "gridcolor": "white",
             "linecolor": "white",
             "minorgridcolor": "white",
             "startlinecolor": "#2a3f5f"
            },
            "type": "carpet"
           }
          ],
          "choropleth": [
           {
            "colorbar": {
             "outlinewidth": 0,
             "ticks": ""
            },
            "type": "choropleth"
           }
          ],
          "contour": [
           {
            "colorbar": {
             "outlinewidth": 0,
             "ticks": ""
            },
            "colorscale": [
             [
              0,
              "#0d0887"
             ],
             [
              0.1111111111111111,
              "#46039f"
             ],
             [
              0.2222222222222222,
              "#7201a8"
             ],
             [
              0.3333333333333333,
              "#9c179e"
             ],
             [
              0.4444444444444444,
              "#bd3786"
             ],
             [
              0.5555555555555556,
              "#d8576b"
             ],
             [
              0.6666666666666666,
              "#ed7953"
             ],
             [
              0.7777777777777778,
              "#fb9f3a"
             ],
             [
              0.8888888888888888,
              "#fdca26"
             ],
             [
              1,
              "#f0f921"
             ]
            ],
            "type": "contour"
           }
          ],
          "contourcarpet": [
           {
            "colorbar": {
             "outlinewidth": 0,
             "ticks": ""
            },
            "type": "contourcarpet"
           }
          ],
          "heatmap": [
           {
            "colorbar": {
             "outlinewidth": 0,
             "ticks": ""
            },
            "colorscale": [
             [
              0,
              "#0d0887"
             ],
             [
              0.1111111111111111,
              "#46039f"
             ],
             [
              0.2222222222222222,
              "#7201a8"
             ],
             [
              0.3333333333333333,
              "#9c179e"
             ],
             [
              0.4444444444444444,
              "#bd3786"
             ],
             [
              0.5555555555555556,
              "#d8576b"
             ],
             [
              0.6666666666666666,
              "#ed7953"
             ],
             [
              0.7777777777777778,
              "#fb9f3a"
             ],
             [
              0.8888888888888888,
              "#fdca26"
             ],
             [
              1,
              "#f0f921"
             ]
            ],
            "type": "heatmap"
           }
          ],
          "heatmapgl": [
           {
            "colorbar": {
             "outlinewidth": 0,
             "ticks": ""
            },
            "colorscale": [
             [
              0,
              "#0d0887"
             ],
             [
              0.1111111111111111,
              "#46039f"
             ],
             [
              0.2222222222222222,
              "#7201a8"
             ],
             [
              0.3333333333333333,
              "#9c179e"
             ],
             [
              0.4444444444444444,
              "#bd3786"
             ],
             [
              0.5555555555555556,
              "#d8576b"
             ],
             [
              0.6666666666666666,
              "#ed7953"
             ],
             [
              0.7777777777777778,
              "#fb9f3a"
             ],
             [
              0.8888888888888888,
              "#fdca26"
             ],
             [
              1,
              "#f0f921"
             ]
            ],
            "type": "heatmapgl"
           }
          ],
          "histogram": [
           {
            "marker": {
             "pattern": {
              "fillmode": "overlay",
              "size": 10,
              "solidity": 0.2
             }
            },
            "type": "histogram"
           }
          ],
          "histogram2d": [
           {
            "colorbar": {
             "outlinewidth": 0,
             "ticks": ""
            },
            "colorscale": [
             [
              0,
              "#0d0887"
             ],
             [
              0.1111111111111111,
              "#46039f"
             ],
             [
              0.2222222222222222,
              "#7201a8"
             ],
             [
              0.3333333333333333,
              "#9c179e"
             ],
             [
              0.4444444444444444,
              "#bd3786"
             ],
             [
              0.5555555555555556,
              "#d8576b"
             ],
             [
              0.6666666666666666,
              "#ed7953"
             ],
             [
              0.7777777777777778,
              "#fb9f3a"
             ],
             [
              0.8888888888888888,
              "#fdca26"
             ],
             [
              1,
              "#f0f921"
             ]
            ],
            "type": "histogram2d"
           }
          ],
          "histogram2dcontour": [
           {
            "colorbar": {
             "outlinewidth": 0,
             "ticks": ""
            },
            "colorscale": [
             [
              0,
              "#0d0887"
             ],
             [
              0.1111111111111111,
              "#46039f"
             ],
             [
              0.2222222222222222,
              "#7201a8"
             ],
             [
              0.3333333333333333,
              "#9c179e"
             ],
             [
              0.4444444444444444,
              "#bd3786"
             ],
             [
              0.5555555555555556,
              "#d8576b"
             ],
             [
              0.6666666666666666,
              "#ed7953"
             ],
             [
              0.7777777777777778,
              "#fb9f3a"
             ],
             [
              0.8888888888888888,
              "#fdca26"
             ],
             [
              1,
              "#f0f921"
             ]
            ],
            "type": "histogram2dcontour"
           }
          ],
          "mesh3d": [
           {
            "colorbar": {
             "outlinewidth": 0,
             "ticks": ""
            },
            "type": "mesh3d"
           }
          ],
          "parcoords": [
           {
            "line": {
             "colorbar": {
              "outlinewidth": 0,
              "ticks": ""
             }
            },
            "type": "parcoords"
           }
          ],
          "pie": [
           {
            "automargin": true,
            "type": "pie"
           }
          ],
          "scatter": [
           {
            "fillpattern": {
             "fillmode": "overlay",
             "size": 10,
             "solidity": 0.2
            },
            "type": "scatter"
           }
          ],
          "scatter3d": [
           {
            "line": {
             "colorbar": {
              "outlinewidth": 0,
              "ticks": ""
             }
            },
            "marker": {
             "colorbar": {
              "outlinewidth": 0,
              "ticks": ""
             }
            },
            "type": "scatter3d"
           }
          ],
          "scattercarpet": [
           {
            "marker": {
             "colorbar": {
              "outlinewidth": 0,
              "ticks": ""
             }
            },
            "type": "scattercarpet"
           }
          ],
          "scattergeo": [
           {
            "marker": {
             "colorbar": {
              "outlinewidth": 0,
              "ticks": ""
             }
            },
            "type": "scattergeo"
           }
          ],
          "scattergl": [
           {
            "marker": {
             "colorbar": {
              "outlinewidth": 0,
              "ticks": ""
             }
            },
            "type": "scattergl"
           }
          ],
          "scattermapbox": [
           {
            "marker": {
             "colorbar": {
              "outlinewidth": 0,
              "ticks": ""
             }
            },
            "type": "scattermapbox"
           }
          ],
          "scatterpolar": [
           {
            "marker": {
             "colorbar": {
              "outlinewidth": 0,
              "ticks": ""
             }
            },
            "type": "scatterpolar"
           }
          ],
          "scatterpolargl": [
           {
            "marker": {
             "colorbar": {
              "outlinewidth": 0,
              "ticks": ""
             }
            },
            "type": "scatterpolargl"
           }
          ],
          "scatterternary": [
           {
            "marker": {
             "colorbar": {
              "outlinewidth": 0,
              "ticks": ""
             }
            },
            "type": "scatterternary"
           }
          ],
          "surface": [
           {
            "colorbar": {
             "outlinewidth": 0,
             "ticks": ""
            },
            "colorscale": [
             [
              0,
              "#0d0887"
             ],
             [
              0.1111111111111111,
              "#46039f"
             ],
             [
              0.2222222222222222,
              "#7201a8"
             ],
             [
              0.3333333333333333,
              "#9c179e"
             ],
             [
              0.4444444444444444,
              "#bd3786"
             ],
             [
              0.5555555555555556,
              "#d8576b"
             ],
             [
              0.6666666666666666,
              "#ed7953"
             ],
             [
              0.7777777777777778,
              "#fb9f3a"
             ],
             [
              0.8888888888888888,
              "#fdca26"
             ],
             [
              1,
              "#f0f921"
             ]
            ],
            "type": "surface"
           }
          ],
          "table": [
           {
            "cells": {
             "fill": {
              "color": "#EBF0F8"
             },
             "line": {
              "color": "white"
             }
            },
            "header": {
             "fill": {
              "color": "#C8D4E3"
             },
             "line": {
              "color": "white"
             }
            },
            "type": "table"
           }
          ]
         },
         "layout": {
          "annotationdefaults": {
           "arrowcolor": "#2a3f5f",
           "arrowhead": 0,
           "arrowwidth": 1
          },
          "autotypenumbers": "strict",
          "coloraxis": {
           "colorbar": {
            "outlinewidth": 0,
            "ticks": ""
           }
          },
          "colorscale": {
           "diverging": [
            [
             0,
             "#8e0152"
            ],
            [
             0.1,
             "#c51b7d"
            ],
            [
             0.2,
             "#de77ae"
            ],
            [
             0.3,
             "#f1b6da"
            ],
            [
             0.4,
             "#fde0ef"
            ],
            [
             0.5,
             "#f7f7f7"
            ],
            [
             0.6,
             "#e6f5d0"
            ],
            [
             0.7,
             "#b8e186"
            ],
            [
             0.8,
             "#7fbc41"
            ],
            [
             0.9,
             "#4d9221"
            ],
            [
             1,
             "#276419"
            ]
           ],
           "sequential": [
            [
             0,
             "#0d0887"
            ],
            [
             0.1111111111111111,
             "#46039f"
            ],
            [
             0.2222222222222222,
             "#7201a8"
            ],
            [
             0.3333333333333333,
             "#9c179e"
            ],
            [
             0.4444444444444444,
             "#bd3786"
            ],
            [
             0.5555555555555556,
             "#d8576b"
            ],
            [
             0.6666666666666666,
             "#ed7953"
            ],
            [
             0.7777777777777778,
             "#fb9f3a"
            ],
            [
             0.8888888888888888,
             "#fdca26"
            ],
            [
             1,
             "#f0f921"
            ]
           ],
           "sequentialminus": [
            [
             0,
             "#0d0887"
            ],
            [
             0.1111111111111111,
             "#46039f"
            ],
            [
             0.2222222222222222,
             "#7201a8"
            ],
            [
             0.3333333333333333,
             "#9c179e"
            ],
            [
             0.4444444444444444,
             "#bd3786"
            ],
            [
             0.5555555555555556,
             "#d8576b"
            ],
            [
             0.6666666666666666,
             "#ed7953"
            ],
            [
             0.7777777777777778,
             "#fb9f3a"
            ],
            [
             0.8888888888888888,
             "#fdca26"
            ],
            [
             1,
             "#f0f921"
            ]
           ]
          },
          "colorway": [
           "#636efa",
           "#EF553B",
           "#00cc96",
           "#ab63fa",
           "#FFA15A",
           "#19d3f3",
           "#FF6692",
           "#B6E880",
           "#FF97FF",
           "#FECB52"
          ],
          "font": {
           "color": "#2a3f5f"
          },
          "geo": {
           "bgcolor": "white",
           "lakecolor": "white",
           "landcolor": "#E5ECF6",
           "showlakes": true,
           "showland": true,
           "subunitcolor": "white"
          },
          "hoverlabel": {
           "align": "left"
          },
          "hovermode": "closest",
          "mapbox": {
           "style": "light"
          },
          "paper_bgcolor": "white",
          "plot_bgcolor": "#E5ECF6",
          "polar": {
           "angularaxis": {
            "gridcolor": "white",
            "linecolor": "white",
            "ticks": ""
           },
           "bgcolor": "#E5ECF6",
           "radialaxis": {
            "gridcolor": "white",
            "linecolor": "white",
            "ticks": ""
           }
          },
          "scene": {
           "xaxis": {
            "backgroundcolor": "#E5ECF6",
            "gridcolor": "white",
            "gridwidth": 2,
            "linecolor": "white",
            "showbackground": true,
            "ticks": "",
            "zerolinecolor": "white"
           },
           "yaxis": {
            "backgroundcolor": "#E5ECF6",
            "gridcolor": "white",
            "gridwidth": 2,
            "linecolor": "white",
            "showbackground": true,
            "ticks": "",
            "zerolinecolor": "white"
           },
           "zaxis": {
            "backgroundcolor": "#E5ECF6",
            "gridcolor": "white",
            "gridwidth": 2,
            "linecolor": "white",
            "showbackground": true,
            "ticks": "",
            "zerolinecolor": "white"
           }
          },
          "shapedefaults": {
           "line": {
            "color": "#2a3f5f"
           }
          },
          "ternary": {
           "aaxis": {
            "gridcolor": "white",
            "linecolor": "white",
            "ticks": ""
           },
           "baxis": {
            "gridcolor": "white",
            "linecolor": "white",
            "ticks": ""
           },
           "bgcolor": "#E5ECF6",
           "caxis": {
            "gridcolor": "white",
            "linecolor": "white",
            "ticks": ""
           }
          },
          "title": {
           "x": 0.05
          },
          "xaxis": {
           "automargin": true,
           "gridcolor": "white",
           "linecolor": "white",
           "ticks": "",
           "title": {
            "standoff": 15
           },
           "zerolinecolor": "white",
           "zerolinewidth": 2
          },
          "yaxis": {
           "automargin": true,
           "gridcolor": "white",
           "linecolor": "white",
           "ticks": "",
           "title": {
            "standoff": 15
           },
           "zerolinecolor": "white",
           "zerolinewidth": 2
          }
         }
        },
        "title": {
         "text": "SCF: High Variance Features"
        },
        "xaxis": {
         "anchor": "y",
         "domain": [
          0,
          1
         ],
         "title": {
          "text": "Trimmed Variance"
         }
        },
        "yaxis": {
         "anchor": "x",
         "domain": [
          0,
          1
         ],
         "title": {
          "text": "Feature"
         }
        }
       }
      },
      "text/html": [
       "<div>                            <div id=\"166a4159-6f40-4e20-b988-00ab8df61d30\" class=\"plotly-graph-div\" style=\"height:525px; width:100%;\"></div>            <script type=\"text/javascript\">                require([\"plotly\"], function(Plotly) {                    window.PLOTLYENV=window.PLOTLYENV || {};                                    if (document.getElementById(\"166a4159-6f40-4e20-b988-00ab8df61d30\")) {                    Plotly.newPlot(                        \"166a4159-6f40-4e20-b988-00ab8df61d30\",                        [{\"alignmentgroup\":\"True\",\"hovertemplate\":\"x=%{x}<br>y=%{y}<extra></extra>\",\"legendgroup\":\"\",\"marker\":{\"color\":\"#636efa\",\"pattern\":{\"shape\":\"\"}},\"name\":\"\",\"offsetgroup\":\"\",\"orientation\":\"h\",\"showlegend\":false,\"textposition\":\"auto\",\"x\":[966182749.382403,988507211.2482569,996363815.9740413,1120743751.1547358,1494964193.0009394,2775391528.0043173,5946833962.002728,6387043364.198891,12584100533.170101,17515592952.085587],\"xaxis\":\"x\",\"y\":[\"NH_MORT\",\"MRTHEL\",\"KGTOTAL\",\"PLOAN1\",\"HOMEEQ\",\"DEBT\",\"NETWORTH\",\"HOUSES\",\"NFIN\",\"ASSET\"],\"yaxis\":\"y\",\"type\":\"bar\"}],                        {\"template\":{\"data\":{\"histogram2dcontour\":[{\"type\":\"histogram2dcontour\",\"colorbar\":{\"outlinewidth\":0,\"ticks\":\"\"},\"colorscale\":[[0.0,\"#0d0887\"],[0.1111111111111111,\"#46039f\"],[0.2222222222222222,\"#7201a8\"],[0.3333333333333333,\"#9c179e\"],[0.4444444444444444,\"#bd3786\"],[0.5555555555555556,\"#d8576b\"],[0.6666666666666666,\"#ed7953\"],[0.7777777777777778,\"#fb9f3a\"],[0.8888888888888888,\"#fdca26\"],[1.0,\"#f0f921\"]]}],\"choropleth\":[{\"type\":\"choropleth\",\"colorbar\":{\"outlinewidth\":0,\"ticks\":\"\"}}],\"histogram2d\":[{\"type\":\"histogram2d\",\"colorbar\":{\"outlinewidth\":0,\"ticks\":\"\"},\"colorscale\":[[0.0,\"#0d0887\"],[0.1111111111111111,\"#46039f\"],[0.2222222222222222,\"#7201a8\"],[0.3333333333333333,\"#9c179e\"],[0.4444444444444444,\"#bd3786\"],[0.5555555555555556,\"#d8576b\"],[0.6666666666666666,\"#ed7953\"],[0.7777777777777778,\"#fb9f3a\"],[0.8888888888888888,\"#fdca26\"],[1.0,\"#f0f921\"]]}],\"heatmap\":[{\"type\":\"heatmap\",\"colorbar\":{\"outlinewidth\":0,\"ticks\":\"\"},\"colorscale\":[[0.0,\"#0d0887\"],[0.1111111111111111,\"#46039f\"],[0.2222222222222222,\"#7201a8\"],[0.3333333333333333,\"#9c179e\"],[0.4444444444444444,\"#bd3786\"],[0.5555555555555556,\"#d8576b\"],[0.6666666666666666,\"#ed7953\"],[0.7777777777777778,\"#fb9f3a\"],[0.8888888888888888,\"#fdca26\"],[1.0,\"#f0f921\"]]}],\"heatmapgl\":[{\"type\":\"heatmapgl\",\"colorbar\":{\"outlinewidth\":0,\"ticks\":\"\"},\"colorscale\":[[0.0,\"#0d0887\"],[0.1111111111111111,\"#46039f\"],[0.2222222222222222,\"#7201a8\"],[0.3333333333333333,\"#9c179e\"],[0.4444444444444444,\"#bd3786\"],[0.5555555555555556,\"#d8576b\"],[0.6666666666666666,\"#ed7953\"],[0.7777777777777778,\"#fb9f3a\"],[0.8888888888888888,\"#fdca26\"],[1.0,\"#f0f921\"]]}],\"contourcarpet\":[{\"type\":\"contourcarpet\",\"colorbar\":{\"outlinewidth\":0,\"ticks\":\"\"}}],\"contour\":[{\"type\":\"contour\",\"colorbar\":{\"outlinewidth\":0,\"ticks\":\"\"},\"colorscale\":[[0.0,\"#0d0887\"],[0.1111111111111111,\"#46039f\"],[0.2222222222222222,\"#7201a8\"],[0.3333333333333333,\"#9c179e\"],[0.4444444444444444,\"#bd3786\"],[0.5555555555555556,\"#d8576b\"],[0.6666666666666666,\"#ed7953\"],[0.7777777777777778,\"#fb9f3a\"],[0.8888888888888888,\"#fdca26\"],[1.0,\"#f0f921\"]]}],\"surface\":[{\"type\":\"surface\",\"colorbar\":{\"outlinewidth\":0,\"ticks\":\"\"},\"colorscale\":[[0.0,\"#0d0887\"],[0.1111111111111111,\"#46039f\"],[0.2222222222222222,\"#7201a8\"],[0.3333333333333333,\"#9c179e\"],[0.4444444444444444,\"#bd3786\"],[0.5555555555555556,\"#d8576b\"],[0.6666666666666666,\"#ed7953\"],[0.7777777777777778,\"#fb9f3a\"],[0.8888888888888888,\"#fdca26\"],[1.0,\"#f0f921\"]]}],\"mesh3d\":[{\"type\":\"mesh3d\",\"colorbar\":{\"outlinewidth\":0,\"ticks\":\"\"}}],\"scatter\":[{\"fillpattern\":{\"fillmode\":\"overlay\",\"size\":10,\"solidity\":0.2},\"type\":\"scatter\"}],\"parcoords\":[{\"type\":\"parcoords\",\"line\":{\"colorbar\":{\"outlinewidth\":0,\"ticks\":\"\"}}}],\"scatterpolargl\":[{\"type\":\"scatterpolargl\",\"marker\":{\"colorbar\":{\"outlinewidth\":0,\"ticks\":\"\"}}}],\"bar\":[{\"error_x\":{\"color\":\"#2a3f5f\"},\"error_y\":{\"color\":\"#2a3f5f\"},\"marker\":{\"line\":{\"color\":\"#E5ECF6\",\"width\":0.5},\"pattern\":{\"fillmode\":\"overlay\",\"size\":10,\"solidity\":0.2}},\"type\":\"bar\"}],\"scattergeo\":[{\"type\":\"scattergeo\",\"marker\":{\"colorbar\":{\"outlinewidth\":0,\"ticks\":\"\"}}}],\"scatterpolar\":[{\"type\":\"scatterpolar\",\"marker\":{\"colorbar\":{\"outlinewidth\":0,\"ticks\":\"\"}}}],\"histogram\":[{\"marker\":{\"pattern\":{\"fillmode\":\"overlay\",\"size\":10,\"solidity\":0.2}},\"type\":\"histogram\"}],\"scattergl\":[{\"type\":\"scattergl\",\"marker\":{\"colorbar\":{\"outlinewidth\":0,\"ticks\":\"\"}}}],\"scatter3d\":[{\"type\":\"scatter3d\",\"line\":{\"colorbar\":{\"outlinewidth\":0,\"ticks\":\"\"}},\"marker\":{\"colorbar\":{\"outlinewidth\":0,\"ticks\":\"\"}}}],\"scattermapbox\":[{\"type\":\"scattermapbox\",\"marker\":{\"colorbar\":{\"outlinewidth\":0,\"ticks\":\"\"}}}],\"scatterternary\":[{\"type\":\"scatterternary\",\"marker\":{\"colorbar\":{\"outlinewidth\":0,\"ticks\":\"\"}}}],\"scattercarpet\":[{\"type\":\"scattercarpet\",\"marker\":{\"colorbar\":{\"outlinewidth\":0,\"ticks\":\"\"}}}],\"carpet\":[{\"aaxis\":{\"endlinecolor\":\"#2a3f5f\",\"gridcolor\":\"white\",\"linecolor\":\"white\",\"minorgridcolor\":\"white\",\"startlinecolor\":\"#2a3f5f\"},\"baxis\":{\"endlinecolor\":\"#2a3f5f\",\"gridcolor\":\"white\",\"linecolor\":\"white\",\"minorgridcolor\":\"white\",\"startlinecolor\":\"#2a3f5f\"},\"type\":\"carpet\"}],\"table\":[{\"cells\":{\"fill\":{\"color\":\"#EBF0F8\"},\"line\":{\"color\":\"white\"}},\"header\":{\"fill\":{\"color\":\"#C8D4E3\"},\"line\":{\"color\":\"white\"}},\"type\":\"table\"}],\"barpolar\":[{\"marker\":{\"line\":{\"color\":\"#E5ECF6\",\"width\":0.5},\"pattern\":{\"fillmode\":\"overlay\",\"size\":10,\"solidity\":0.2}},\"type\":\"barpolar\"}],\"pie\":[{\"automargin\":true,\"type\":\"pie\"}]},\"layout\":{\"autotypenumbers\":\"strict\",\"colorway\":[\"#636efa\",\"#EF553B\",\"#00cc96\",\"#ab63fa\",\"#FFA15A\",\"#19d3f3\",\"#FF6692\",\"#B6E880\",\"#FF97FF\",\"#FECB52\"],\"font\":{\"color\":\"#2a3f5f\"},\"hovermode\":\"closest\",\"hoverlabel\":{\"align\":\"left\"},\"paper_bgcolor\":\"white\",\"plot_bgcolor\":\"#E5ECF6\",\"polar\":{\"bgcolor\":\"#E5ECF6\",\"angularaxis\":{\"gridcolor\":\"white\",\"linecolor\":\"white\",\"ticks\":\"\"},\"radialaxis\":{\"gridcolor\":\"white\",\"linecolor\":\"white\",\"ticks\":\"\"}},\"ternary\":{\"bgcolor\":\"#E5ECF6\",\"aaxis\":{\"gridcolor\":\"white\",\"linecolor\":\"white\",\"ticks\":\"\"},\"baxis\":{\"gridcolor\":\"white\",\"linecolor\":\"white\",\"ticks\":\"\"},\"caxis\":{\"gridcolor\":\"white\",\"linecolor\":\"white\",\"ticks\":\"\"}},\"coloraxis\":{\"colorbar\":{\"outlinewidth\":0,\"ticks\":\"\"}},\"colorscale\":{\"sequential\":[[0.0,\"#0d0887\"],[0.1111111111111111,\"#46039f\"],[0.2222222222222222,\"#7201a8\"],[0.3333333333333333,\"#9c179e\"],[0.4444444444444444,\"#bd3786\"],[0.5555555555555556,\"#d8576b\"],[0.6666666666666666,\"#ed7953\"],[0.7777777777777778,\"#fb9f3a\"],[0.8888888888888888,\"#fdca26\"],[1.0,\"#f0f921\"]],\"sequentialminus\":[[0.0,\"#0d0887\"],[0.1111111111111111,\"#46039f\"],[0.2222222222222222,\"#7201a8\"],[0.3333333333333333,\"#9c179e\"],[0.4444444444444444,\"#bd3786\"],[0.5555555555555556,\"#d8576b\"],[0.6666666666666666,\"#ed7953\"],[0.7777777777777778,\"#fb9f3a\"],[0.8888888888888888,\"#fdca26\"],[1.0,\"#f0f921\"]],\"diverging\":[[0,\"#8e0152\"],[0.1,\"#c51b7d\"],[0.2,\"#de77ae\"],[0.3,\"#f1b6da\"],[0.4,\"#fde0ef\"],[0.5,\"#f7f7f7\"],[0.6,\"#e6f5d0\"],[0.7,\"#b8e186\"],[0.8,\"#7fbc41\"],[0.9,\"#4d9221\"],[1,\"#276419\"]]},\"xaxis\":{\"gridcolor\":\"white\",\"linecolor\":\"white\",\"ticks\":\"\",\"title\":{\"standoff\":15},\"zerolinecolor\":\"white\",\"automargin\":true,\"zerolinewidth\":2},\"yaxis\":{\"gridcolor\":\"white\",\"linecolor\":\"white\",\"ticks\":\"\",\"title\":{\"standoff\":15},\"zerolinecolor\":\"white\",\"automargin\":true,\"zerolinewidth\":2},\"scene\":{\"xaxis\":{\"backgroundcolor\":\"#E5ECF6\",\"gridcolor\":\"white\",\"linecolor\":\"white\",\"showbackground\":true,\"ticks\":\"\",\"zerolinecolor\":\"white\",\"gridwidth\":2},\"yaxis\":{\"backgroundcolor\":\"#E5ECF6\",\"gridcolor\":\"white\",\"linecolor\":\"white\",\"showbackground\":true,\"ticks\":\"\",\"zerolinecolor\":\"white\",\"gridwidth\":2},\"zaxis\":{\"backgroundcolor\":\"#E5ECF6\",\"gridcolor\":\"white\",\"linecolor\":\"white\",\"showbackground\":true,\"ticks\":\"\",\"zerolinecolor\":\"white\",\"gridwidth\":2}},\"shapedefaults\":{\"line\":{\"color\":\"#2a3f5f\"}},\"annotationdefaults\":{\"arrowcolor\":\"#2a3f5f\",\"arrowhead\":0,\"arrowwidth\":1},\"geo\":{\"bgcolor\":\"white\",\"landcolor\":\"#E5ECF6\",\"subunitcolor\":\"white\",\"showland\":true,\"showlakes\":true,\"lakecolor\":\"white\"},\"title\":{\"x\":0.05},\"mapbox\":{\"style\":\"light\"}}},\"xaxis\":{\"anchor\":\"y\",\"domain\":[0.0,1.0],\"title\":{\"text\":\"Trimmed Variance\"}},\"yaxis\":{\"anchor\":\"x\",\"domain\":[0.0,1.0],\"title\":{\"text\":\"Feature\"}},\"legend\":{\"tracegroupgap\":0},\"title\":{\"text\":\"SCF: High Variance Features\"},\"barmode\":\"relative\"},                        {\"responsive\": true}                    ).then(function(){\n",
       "                            \n",
       "var gd = document.getElementById('166a4159-6f40-4e20-b988-00ab8df61d30');\n",
       "var x = new MutationObserver(function (mutations, observer) {{\n",
       "        var display = window.getComputedStyle(gd).display;\n",
       "        if (!display || display === 'none') {{\n",
       "            console.log([gd, 'removed!']);\n",
       "            Plotly.purge(gd);\n",
       "            observer.disconnect();\n",
       "        }}\n",
       "}});\n",
       "\n",
       "// Listen for the removal of the full notebook cells\n",
       "var notebookContainer = gd.closest('#notebook-container');\n",
       "if (notebookContainer) {{\n",
       "    x.observe(notebookContainer, {childList: true});\n",
       "}}\n",
       "\n",
       "// Listen for the clearing of the current output cell\n",
       "var outputEl = gd.closest('.output');\n",
       "if (outputEl) {{\n",
       "    x.observe(outputEl, {childList: true});\n",
       "}}\n",
       "\n",
       "                        })                };                });            </script>        </div>"
      ]
     },
     "metadata": {},
     "output_type": "display_data"
    }
   ],
   "source": [
    "# Create horizontal bar chart of `top_ten_trim_var`\n",
    "fig = px.bar(\n",
    "    \n",
    "    x=top_ten_trim_var,\n",
    "    y=top_ten_trim_var.index,\n",
    "    title=\"SCF: High Variance Features\"\n",
    ")\n",
    "fig.update_layout(xaxis_title=\"Trimmed Variance\", yaxis_title=\"Feature\")\n",
    "\n",
    "fig.show()"
   ]
  },
  {
   "cell_type": "code",
   "execution_count": 28,
   "id": "361175cd",
   "metadata": {},
   "outputs": [
    {
     "data": {
      "text/plain": [
       "['DEBT', 'NETWORTH', 'HOUSES', 'NFIN', 'ASSET']"
      ]
     },
     "execution_count": 28,
     "metadata": {},
     "output_type": "execute_result"
    }
   ],
   "source": [
    "high_var_cols = top_ten_trim_var.tail(5).index.to_list()\n",
    "high_var_cols"
   ]
  },
  {
   "cell_type": "code",
   "execution_count": 29,
   "id": "ca35f10c",
   "metadata": {},
   "outputs": [
    {
     "name": "stdout",
     "output_type": "stream",
     "text": [
      "X shape: (3672, 5)\n"
     ]
    },
    {
     "data": {
      "text/html": [
       "<div>\n",
       "<style scoped>\n",
       "    .dataframe tbody tr th:only-of-type {\n",
       "        vertical-align: middle;\n",
       "    }\n",
       "\n",
       "    .dataframe tbody tr th {\n",
       "        vertical-align: top;\n",
       "    }\n",
       "\n",
       "    .dataframe thead th {\n",
       "        text-align: right;\n",
       "    }\n",
       "</style>\n",
       "<table border=\"1\" class=\"dataframe\">\n",
       "  <thead>\n",
       "    <tr style=\"text-align: right;\">\n",
       "      <th></th>\n",
       "      <th>DEBT</th>\n",
       "      <th>NETWORTH</th>\n",
       "      <th>HOUSES</th>\n",
       "      <th>NFIN</th>\n",
       "      <th>ASSET</th>\n",
       "    </tr>\n",
       "  </thead>\n",
       "  <tbody>\n",
       "    <tr>\n",
       "      <th>20</th>\n",
       "      <td>11000</td>\n",
       "      <td>4100.0</td>\n",
       "      <td>0</td>\n",
       "      <td>14000.0</td>\n",
       "      <td>15100.0</td>\n",
       "    </tr>\n",
       "    <tr>\n",
       "      <th>21</th>\n",
       "      <td>10000</td>\n",
       "      <td>5500.0</td>\n",
       "      <td>0</td>\n",
       "      <td>14000.0</td>\n",
       "      <td>15500.0</td>\n",
       "    </tr>\n",
       "    <tr>\n",
       "      <th>22</th>\n",
       "      <td>10000</td>\n",
       "      <td>4500.0</td>\n",
       "      <td>0</td>\n",
       "      <td>13000.0</td>\n",
       "      <td>14500.0</td>\n",
       "    </tr>\n",
       "    <tr>\n",
       "      <th>23</th>\n",
       "      <td>10000</td>\n",
       "      <td>5600.0</td>\n",
       "      <td>0</td>\n",
       "      <td>14000.0</td>\n",
       "      <td>15600.0</td>\n",
       "    </tr>\n",
       "    <tr>\n",
       "      <th>24</th>\n",
       "      <td>11000</td>\n",
       "      <td>4500.0</td>\n",
       "      <td>0</td>\n",
       "      <td>14000.0</td>\n",
       "      <td>15500.0</td>\n",
       "    </tr>\n",
       "  </tbody>\n",
       "</table>\n",
       "</div>"
      ],
      "text/plain": [
       "     DEBT  NETWORTH  HOUSES     NFIN    ASSET\n",
       "20  11000    4100.0       0  14000.0  15100.0\n",
       "21  10000    5500.0       0  14000.0  15500.0\n",
       "22  10000    4500.0       0  13000.0  14500.0\n",
       "23  10000    5600.0       0  14000.0  15600.0\n",
       "24  11000    4500.0       0  14000.0  15500.0"
      ]
     },
     "execution_count": 29,
     "metadata": {},
     "output_type": "execute_result"
    }
   ],
   "source": [
    "X = df[high_var_cols]\n",
    "print(\"X shape:\", X.shape)\n",
    "X.head()"
   ]
  },
  {
   "cell_type": "code",
   "execution_count": 30,
   "id": "68066832",
   "metadata": {},
   "outputs": [
    {
     "data": {
      "text/html": [
       "<div>\n",
       "<style scoped>\n",
       "    .dataframe tbody tr th:only-of-type {\n",
       "        vertical-align: middle;\n",
       "    }\n",
       "\n",
       "    .dataframe tbody tr th {\n",
       "        vertical-align: top;\n",
       "    }\n",
       "\n",
       "    .dataframe thead th {\n",
       "        text-align: right;\n",
       "    }\n",
       "</style>\n",
       "<table border=\"1\" class=\"dataframe\">\n",
       "  <thead>\n",
       "    <tr style=\"text-align: right;\">\n",
       "      <th></th>\n",
       "      <th>DEBT</th>\n",
       "      <th>NETWORTH</th>\n",
       "      <th>HOUSES</th>\n",
       "      <th>NFIN</th>\n",
       "      <th>ASSET</th>\n",
       "    </tr>\n",
       "  </thead>\n",
       "  <tbody>\n",
       "    <tr>\n",
       "      <th>mean</th>\n",
       "      <td>72319.986383</td>\n",
       "      <td>104823.999891</td>\n",
       "      <td>86763.071895</td>\n",
       "      <td>140926.500163</td>\n",
       "      <td>177143.986275</td>\n",
       "    </tr>\n",
       "    <tr>\n",
       "      <th>std</th>\n",
       "      <td>141026.965379</td>\n",
       "      <td>258278.019155</td>\n",
       "      <td>183899.727419</td>\n",
       "      <td>266513.495317</td>\n",
       "      <td>332005.689330</td>\n",
       "    </tr>\n",
       "  </tbody>\n",
       "</table>\n",
       "</div>"
      ],
      "text/plain": [
       "               DEBT       NETWORTH         HOUSES           NFIN  \\\n",
       "mean   72319.986383  104823.999891   86763.071895  140926.500163   \n",
       "std   141026.965379  258278.019155  183899.727419  266513.495317   \n",
       "\n",
       "              ASSET  \n",
       "mean  177143.986275  \n",
       "std   332005.689330  "
      ]
     },
     "execution_count": 30,
     "metadata": {},
     "output_type": "execute_result"
    }
   ],
   "source": [
    "X_summary = X.aggregate([\"mean\",\"std\"])\n",
    "X_summary"
   ]
  },
  {
   "cell_type": "code",
   "execution_count": 33,
   "id": "4d074bda",
   "metadata": {},
   "outputs": [
    {
     "name": "stdout",
     "output_type": "stream",
     "text": [
      "X_scaled shape: (3672, 5)\n"
     ]
    },
    {
     "data": {
      "text/html": [
       "<div>\n",
       "<style scoped>\n",
       "    .dataframe tbody tr th:only-of-type {\n",
       "        vertical-align: middle;\n",
       "    }\n",
       "\n",
       "    .dataframe tbody tr th {\n",
       "        vertical-align: top;\n",
       "    }\n",
       "\n",
       "    .dataframe thead th {\n",
       "        text-align: right;\n",
       "    }\n",
       "</style>\n",
       "<table border=\"1\" class=\"dataframe\">\n",
       "  <thead>\n",
       "    <tr style=\"text-align: right;\">\n",
       "      <th></th>\n",
       "      <th>DEBT</th>\n",
       "      <th>NETWORTH</th>\n",
       "      <th>HOUSES</th>\n",
       "      <th>NFIN</th>\n",
       "      <th>ASSET</th>\n",
       "    </tr>\n",
       "  </thead>\n",
       "  <tbody>\n",
       "    <tr>\n",
       "      <th>0</th>\n",
       "      <td>-0.434870</td>\n",
       "      <td>-0.390036</td>\n",
       "      <td>-0.47186</td>\n",
       "      <td>-0.476313</td>\n",
       "      <td>-0.488142</td>\n",
       "    </tr>\n",
       "    <tr>\n",
       "      <th>1</th>\n",
       "      <td>-0.441961</td>\n",
       "      <td>-0.384615</td>\n",
       "      <td>-0.47186</td>\n",
       "      <td>-0.476313</td>\n",
       "      <td>-0.486937</td>\n",
       "    </tr>\n",
       "    <tr>\n",
       "      <th>2</th>\n",
       "      <td>-0.441961</td>\n",
       "      <td>-0.388487</td>\n",
       "      <td>-0.47186</td>\n",
       "      <td>-0.480065</td>\n",
       "      <td>-0.489950</td>\n",
       "    </tr>\n",
       "    <tr>\n",
       "      <th>3</th>\n",
       "      <td>-0.441961</td>\n",
       "      <td>-0.384227</td>\n",
       "      <td>-0.47186</td>\n",
       "      <td>-0.476313</td>\n",
       "      <td>-0.486636</td>\n",
       "    </tr>\n",
       "    <tr>\n",
       "      <th>4</th>\n",
       "      <td>-0.434870</td>\n",
       "      <td>-0.388487</td>\n",
       "      <td>-0.47186</td>\n",
       "      <td>-0.476313</td>\n",
       "      <td>-0.486937</td>\n",
       "    </tr>\n",
       "  </tbody>\n",
       "</table>\n",
       "</div>"
      ],
      "text/plain": [
       "       DEBT  NETWORTH   HOUSES      NFIN     ASSET\n",
       "0 -0.434870 -0.390036 -0.47186 -0.476313 -0.488142\n",
       "1 -0.441961 -0.384615 -0.47186 -0.476313 -0.486937\n",
       "2 -0.441961 -0.388487 -0.47186 -0.480065 -0.489950\n",
       "3 -0.441961 -0.384227 -0.47186 -0.476313 -0.486636\n",
       "4 -0.434870 -0.388487 -0.47186 -0.476313 -0.486937"
      ]
     },
     "execution_count": 33,
     "metadata": {},
     "output_type": "execute_result"
    }
   ],
   "source": [
    "# Instantiate transformer\n",
    "ss = StandardScaler()\n",
    "\n",
    "# Transform `X`\n",
    "X_scaled_data = ss.fit_transform(X)\n",
    "\n",
    "# Put `X_scaled_data` into DataFrame\n",
    "X_scaled = pd.DataFrame(X_scaled_data,columns=X.columns)\n",
    "\n",
    "print(\"X_scaled shape:\", X_scaled.shape)\n",
    "X_scaled.head()"
   ]
  },
  {
   "cell_type": "code",
   "execution_count": 36,
   "id": "d0c0d1ef",
   "metadata": {},
   "outputs": [
    {
     "name": "stderr",
     "output_type": "stream",
     "text": [
      "C:\\Users\\shukl\\anaconda3\\lib\\site-packages\\sklearn\\cluster\\_kmeans.py:870: FutureWarning:\n",
      "\n",
      "The default value of `n_init` will change from 10 to 'auto' in 1.4. Set the value of `n_init` explicitly to suppress the warning\n",
      "\n",
      "C:\\Users\\shukl\\anaconda3\\lib\\site-packages\\sklearn\\cluster\\_kmeans.py:870: FutureWarning:\n",
      "\n",
      "The default value of `n_init` will change from 10 to 'auto' in 1.4. Set the value of `n_init` explicitly to suppress the warning\n",
      "\n",
      "C:\\Users\\shukl\\anaconda3\\lib\\site-packages\\sklearn\\cluster\\_kmeans.py:870: FutureWarning:\n",
      "\n",
      "The default value of `n_init` will change from 10 to 'auto' in 1.4. Set the value of `n_init` explicitly to suppress the warning\n",
      "\n",
      "C:\\Users\\shukl\\anaconda3\\lib\\site-packages\\sklearn\\cluster\\_kmeans.py:870: FutureWarning:\n",
      "\n",
      "The default value of `n_init` will change from 10 to 'auto' in 1.4. Set the value of `n_init` explicitly to suppress the warning\n",
      "\n",
      "C:\\Users\\shukl\\anaconda3\\lib\\site-packages\\sklearn\\cluster\\_kmeans.py:870: FutureWarning:\n",
      "\n",
      "The default value of `n_init` will change from 10 to 'auto' in 1.4. Set the value of `n_init` explicitly to suppress the warning\n",
      "\n",
      "C:\\Users\\shukl\\anaconda3\\lib\\site-packages\\sklearn\\cluster\\_kmeans.py:870: FutureWarning:\n",
      "\n",
      "The default value of `n_init` will change from 10 to 'auto' in 1.4. Set the value of `n_init` explicitly to suppress the warning\n",
      "\n",
      "C:\\Users\\shukl\\anaconda3\\lib\\site-packages\\sklearn\\cluster\\_kmeans.py:870: FutureWarning:\n",
      "\n",
      "The default value of `n_init` will change from 10 to 'auto' in 1.4. Set the value of `n_init` explicitly to suppress the warning\n",
      "\n",
      "C:\\Users\\shukl\\anaconda3\\lib\\site-packages\\sklearn\\cluster\\_kmeans.py:870: FutureWarning:\n",
      "\n",
      "The default value of `n_init` will change from 10 to 'auto' in 1.4. Set the value of `n_init` explicitly to suppress the warning\n",
      "\n",
      "C:\\Users\\shukl\\anaconda3\\lib\\site-packages\\sklearn\\cluster\\_kmeans.py:870: FutureWarning:\n",
      "\n",
      "The default value of `n_init` will change from 10 to 'auto' in 1.4. Set the value of `n_init` explicitly to suppress the warning\n",
      "\n",
      "C:\\Users\\shukl\\anaconda3\\lib\\site-packages\\sklearn\\cluster\\_kmeans.py:870: FutureWarning:\n",
      "\n",
      "The default value of `n_init` will change from 10 to 'auto' in 1.4. Set the value of `n_init` explicitly to suppress the warning\n",
      "\n",
      "C:\\Users\\shukl\\anaconda3\\lib\\site-packages\\sklearn\\cluster\\_kmeans.py:870: FutureWarning:\n",
      "\n",
      "The default value of `n_init` will change from 10 to 'auto' in 1.4. Set the value of `n_init` explicitly to suppress the warning\n",
      "\n"
     ]
    },
    {
     "name": "stdout",
     "output_type": "stream",
     "text": [
      "Inertia: [8330.713703262289, 5668.186693086036, 4638.125329170422]\n",
      "\n",
      "Silhouette Scores: [0.7623318800335575, 0.6991628816143209, 0.6816110141663074]\n"
     ]
    }
   ],
   "source": [
    "n_clusters = range(2,13)\n",
    "inertia_errors = []\n",
    "silhouette_scores = []\n",
    "\n",
    "# Add `for` loop to train model and calculate inertia, silhouette score.\n",
    "for k in n_clusters:\n",
    "    #building the pipeline for the model\n",
    "    model  = make_pipeline(StandardScaler(), KMeans(n_clusters=k, random_state=42))\n",
    "    #training of model\n",
    "    model.fit(X)\n",
    "    # calculating inertia for each model and adding to list inertia_errors\n",
    "    inertia_errors.append(model.named_steps[\"kmeans\"].inertia_)\n",
    "    # calculating sillhouette score for each model and appending to list sillsilhouette_scores\n",
    "    silhouette_scores.append(silhouette_score(X,model.named_steps[\"kmeans\"].labels_))\n",
    "\n",
    "print(\"Inertia:\", inertia_errors[:3])\n",
    "print()\n",
    "print(\"Silhouette Scores:\", silhouette_scores[:3])"
   ]
  },
  {
   "cell_type": "code",
   "execution_count": 37,
   "id": "e308a22b",
   "metadata": {},
   "outputs": [
    {
     "data": {
      "application/vnd.plotly.v1+json": {
       "config": {
        "plotlyServerURL": "https://plot.ly"
       },
       "data": [
        {
         "hovertemplate": "x=%{x}<br>y=%{y}<extra></extra>",
         "legendgroup": "",
         "line": {
          "color": "#636efa",
          "dash": "solid"
         },
         "marker": {
          "symbol": "circle"
         },
         "mode": "lines",
         "name": "",
         "orientation": "v",
         "showlegend": false,
         "type": "scatter",
         "x": [
          2,
          3,
          4,
          5,
          6,
          7,
          8,
          9,
          10,
          11,
          12
         ],
         "xaxis": "x",
         "y": [
          8330.713703262289,
          5668.186693086036,
          4638.125329170422,
          3721.877518118984,
          3317.6013656531695,
          2960.4812200642527,
          2675.1334687958156,
          2403.114862265821,
          2206.5599924292196,
          2016.5061705159972,
          1831.7116715834559
         ],
         "yaxis": "y"
        }
       ],
       "layout": {
        "legend": {
         "tracegroupgap": 0
        },
        "template": {
         "data": {
          "bar": [
           {
            "error_x": {
             "color": "#2a3f5f"
            },
            "error_y": {
             "color": "#2a3f5f"
            },
            "marker": {
             "line": {
              "color": "#E5ECF6",
              "width": 0.5
             },
             "pattern": {
              "fillmode": "overlay",
              "size": 10,
              "solidity": 0.2
             }
            },
            "type": "bar"
           }
          ],
          "barpolar": [
           {
            "marker": {
             "line": {
              "color": "#E5ECF6",
              "width": 0.5
             },
             "pattern": {
              "fillmode": "overlay",
              "size": 10,
              "solidity": 0.2
             }
            },
            "type": "barpolar"
           }
          ],
          "carpet": [
           {
            "aaxis": {
             "endlinecolor": "#2a3f5f",
             "gridcolor": "white",
             "linecolor": "white",
             "minorgridcolor": "white",
             "startlinecolor": "#2a3f5f"
            },
            "baxis": {
             "endlinecolor": "#2a3f5f",
             "gridcolor": "white",
             "linecolor": "white",
             "minorgridcolor": "white",
             "startlinecolor": "#2a3f5f"
            },
            "type": "carpet"
           }
          ],
          "choropleth": [
           {
            "colorbar": {
             "outlinewidth": 0,
             "ticks": ""
            },
            "type": "choropleth"
           }
          ],
          "contour": [
           {
            "colorbar": {
             "outlinewidth": 0,
             "ticks": ""
            },
            "colorscale": [
             [
              0,
              "#0d0887"
             ],
             [
              0.1111111111111111,
              "#46039f"
             ],
             [
              0.2222222222222222,
              "#7201a8"
             ],
             [
              0.3333333333333333,
              "#9c179e"
             ],
             [
              0.4444444444444444,
              "#bd3786"
             ],
             [
              0.5555555555555556,
              "#d8576b"
             ],
             [
              0.6666666666666666,
              "#ed7953"
             ],
             [
              0.7777777777777778,
              "#fb9f3a"
             ],
             [
              0.8888888888888888,
              "#fdca26"
             ],
             [
              1,
              "#f0f921"
             ]
            ],
            "type": "contour"
           }
          ],
          "contourcarpet": [
           {
            "colorbar": {
             "outlinewidth": 0,
             "ticks": ""
            },
            "type": "contourcarpet"
           }
          ],
          "heatmap": [
           {
            "colorbar": {
             "outlinewidth": 0,
             "ticks": ""
            },
            "colorscale": [
             [
              0,
              "#0d0887"
             ],
             [
              0.1111111111111111,
              "#46039f"
             ],
             [
              0.2222222222222222,
              "#7201a8"
             ],
             [
              0.3333333333333333,
              "#9c179e"
             ],
             [
              0.4444444444444444,
              "#bd3786"
             ],
             [
              0.5555555555555556,
              "#d8576b"
             ],
             [
              0.6666666666666666,
              "#ed7953"
             ],
             [
              0.7777777777777778,
              "#fb9f3a"
             ],
             [
              0.8888888888888888,
              "#fdca26"
             ],
             [
              1,
              "#f0f921"
             ]
            ],
            "type": "heatmap"
           }
          ],
          "heatmapgl": [
           {
            "colorbar": {
             "outlinewidth": 0,
             "ticks": ""
            },
            "colorscale": [
             [
              0,
              "#0d0887"
             ],
             [
              0.1111111111111111,
              "#46039f"
             ],
             [
              0.2222222222222222,
              "#7201a8"
             ],
             [
              0.3333333333333333,
              "#9c179e"
             ],
             [
              0.4444444444444444,
              "#bd3786"
             ],
             [
              0.5555555555555556,
              "#d8576b"
             ],
             [
              0.6666666666666666,
              "#ed7953"
             ],
             [
              0.7777777777777778,
              "#fb9f3a"
             ],
             [
              0.8888888888888888,
              "#fdca26"
             ],
             [
              1,
              "#f0f921"
             ]
            ],
            "type": "heatmapgl"
           }
          ],
          "histogram": [
           {
            "marker": {
             "pattern": {
              "fillmode": "overlay",
              "size": 10,
              "solidity": 0.2
             }
            },
            "type": "histogram"
           }
          ],
          "histogram2d": [
           {
            "colorbar": {
             "outlinewidth": 0,
             "ticks": ""
            },
            "colorscale": [
             [
              0,
              "#0d0887"
             ],
             [
              0.1111111111111111,
              "#46039f"
             ],
             [
              0.2222222222222222,
              "#7201a8"
             ],
             [
              0.3333333333333333,
              "#9c179e"
             ],
             [
              0.4444444444444444,
              "#bd3786"
             ],
             [
              0.5555555555555556,
              "#d8576b"
             ],
             [
              0.6666666666666666,
              "#ed7953"
             ],
             [
              0.7777777777777778,
              "#fb9f3a"
             ],
             [
              0.8888888888888888,
              "#fdca26"
             ],
             [
              1,
              "#f0f921"
             ]
            ],
            "type": "histogram2d"
           }
          ],
          "histogram2dcontour": [
           {
            "colorbar": {
             "outlinewidth": 0,
             "ticks": ""
            },
            "colorscale": [
             [
              0,
              "#0d0887"
             ],
             [
              0.1111111111111111,
              "#46039f"
             ],
             [
              0.2222222222222222,
              "#7201a8"
             ],
             [
              0.3333333333333333,
              "#9c179e"
             ],
             [
              0.4444444444444444,
              "#bd3786"
             ],
             [
              0.5555555555555556,
              "#d8576b"
             ],
             [
              0.6666666666666666,
              "#ed7953"
             ],
             [
              0.7777777777777778,
              "#fb9f3a"
             ],
             [
              0.8888888888888888,
              "#fdca26"
             ],
             [
              1,
              "#f0f921"
             ]
            ],
            "type": "histogram2dcontour"
           }
          ],
          "mesh3d": [
           {
            "colorbar": {
             "outlinewidth": 0,
             "ticks": ""
            },
            "type": "mesh3d"
           }
          ],
          "parcoords": [
           {
            "line": {
             "colorbar": {
              "outlinewidth": 0,
              "ticks": ""
             }
            },
            "type": "parcoords"
           }
          ],
          "pie": [
           {
            "automargin": true,
            "type": "pie"
           }
          ],
          "scatter": [
           {
            "fillpattern": {
             "fillmode": "overlay",
             "size": 10,
             "solidity": 0.2
            },
            "type": "scatter"
           }
          ],
          "scatter3d": [
           {
            "line": {
             "colorbar": {
              "outlinewidth": 0,
              "ticks": ""
             }
            },
            "marker": {
             "colorbar": {
              "outlinewidth": 0,
              "ticks": ""
             }
            },
            "type": "scatter3d"
           }
          ],
          "scattercarpet": [
           {
            "marker": {
             "colorbar": {
              "outlinewidth": 0,
              "ticks": ""
             }
            },
            "type": "scattercarpet"
           }
          ],
          "scattergeo": [
           {
            "marker": {
             "colorbar": {
              "outlinewidth": 0,
              "ticks": ""
             }
            },
            "type": "scattergeo"
           }
          ],
          "scattergl": [
           {
            "marker": {
             "colorbar": {
              "outlinewidth": 0,
              "ticks": ""
             }
            },
            "type": "scattergl"
           }
          ],
          "scattermapbox": [
           {
            "marker": {
             "colorbar": {
              "outlinewidth": 0,
              "ticks": ""
             }
            },
            "type": "scattermapbox"
           }
          ],
          "scatterpolar": [
           {
            "marker": {
             "colorbar": {
              "outlinewidth": 0,
              "ticks": ""
             }
            },
            "type": "scatterpolar"
           }
          ],
          "scatterpolargl": [
           {
            "marker": {
             "colorbar": {
              "outlinewidth": 0,
              "ticks": ""
             }
            },
            "type": "scatterpolargl"
           }
          ],
          "scatterternary": [
           {
            "marker": {
             "colorbar": {
              "outlinewidth": 0,
              "ticks": ""
             }
            },
            "type": "scatterternary"
           }
          ],
          "surface": [
           {
            "colorbar": {
             "outlinewidth": 0,
             "ticks": ""
            },
            "colorscale": [
             [
              0,
              "#0d0887"
             ],
             [
              0.1111111111111111,
              "#46039f"
             ],
             [
              0.2222222222222222,
              "#7201a8"
             ],
             [
              0.3333333333333333,
              "#9c179e"
             ],
             [
              0.4444444444444444,
              "#bd3786"
             ],
             [
              0.5555555555555556,
              "#d8576b"
             ],
             [
              0.6666666666666666,
              "#ed7953"
             ],
             [
              0.7777777777777778,
              "#fb9f3a"
             ],
             [
              0.8888888888888888,
              "#fdca26"
             ],
             [
              1,
              "#f0f921"
             ]
            ],
            "type": "surface"
           }
          ],
          "table": [
           {
            "cells": {
             "fill": {
              "color": "#EBF0F8"
             },
             "line": {
              "color": "white"
             }
            },
            "header": {
             "fill": {
              "color": "#C8D4E3"
             },
             "line": {
              "color": "white"
             }
            },
            "type": "table"
           }
          ]
         },
         "layout": {
          "annotationdefaults": {
           "arrowcolor": "#2a3f5f",
           "arrowhead": 0,
           "arrowwidth": 1
          },
          "autotypenumbers": "strict",
          "coloraxis": {
           "colorbar": {
            "outlinewidth": 0,
            "ticks": ""
           }
          },
          "colorscale": {
           "diverging": [
            [
             0,
             "#8e0152"
            ],
            [
             0.1,
             "#c51b7d"
            ],
            [
             0.2,
             "#de77ae"
            ],
            [
             0.3,
             "#f1b6da"
            ],
            [
             0.4,
             "#fde0ef"
            ],
            [
             0.5,
             "#f7f7f7"
            ],
            [
             0.6,
             "#e6f5d0"
            ],
            [
             0.7,
             "#b8e186"
            ],
            [
             0.8,
             "#7fbc41"
            ],
            [
             0.9,
             "#4d9221"
            ],
            [
             1,
             "#276419"
            ]
           ],
           "sequential": [
            [
             0,
             "#0d0887"
            ],
            [
             0.1111111111111111,
             "#46039f"
            ],
            [
             0.2222222222222222,
             "#7201a8"
            ],
            [
             0.3333333333333333,
             "#9c179e"
            ],
            [
             0.4444444444444444,
             "#bd3786"
            ],
            [
             0.5555555555555556,
             "#d8576b"
            ],
            [
             0.6666666666666666,
             "#ed7953"
            ],
            [
             0.7777777777777778,
             "#fb9f3a"
            ],
            [
             0.8888888888888888,
             "#fdca26"
            ],
            [
             1,
             "#f0f921"
            ]
           ],
           "sequentialminus": [
            [
             0,
             "#0d0887"
            ],
            [
             0.1111111111111111,
             "#46039f"
            ],
            [
             0.2222222222222222,
             "#7201a8"
            ],
            [
             0.3333333333333333,
             "#9c179e"
            ],
            [
             0.4444444444444444,
             "#bd3786"
            ],
            [
             0.5555555555555556,
             "#d8576b"
            ],
            [
             0.6666666666666666,
             "#ed7953"
            ],
            [
             0.7777777777777778,
             "#fb9f3a"
            ],
            [
             0.8888888888888888,
             "#fdca26"
            ],
            [
             1,
             "#f0f921"
            ]
           ]
          },
          "colorway": [
           "#636efa",
           "#EF553B",
           "#00cc96",
           "#ab63fa",
           "#FFA15A",
           "#19d3f3",
           "#FF6692",
           "#B6E880",
           "#FF97FF",
           "#FECB52"
          ],
          "font": {
           "color": "#2a3f5f"
          },
          "geo": {
           "bgcolor": "white",
           "lakecolor": "white",
           "landcolor": "#E5ECF6",
           "showlakes": true,
           "showland": true,
           "subunitcolor": "white"
          },
          "hoverlabel": {
           "align": "left"
          },
          "hovermode": "closest",
          "mapbox": {
           "style": "light"
          },
          "paper_bgcolor": "white",
          "plot_bgcolor": "#E5ECF6",
          "polar": {
           "angularaxis": {
            "gridcolor": "white",
            "linecolor": "white",
            "ticks": ""
           },
           "bgcolor": "#E5ECF6",
           "radialaxis": {
            "gridcolor": "white",
            "linecolor": "white",
            "ticks": ""
           }
          },
          "scene": {
           "xaxis": {
            "backgroundcolor": "#E5ECF6",
            "gridcolor": "white",
            "gridwidth": 2,
            "linecolor": "white",
            "showbackground": true,
            "ticks": "",
            "zerolinecolor": "white"
           },
           "yaxis": {
            "backgroundcolor": "#E5ECF6",
            "gridcolor": "white",
            "gridwidth": 2,
            "linecolor": "white",
            "showbackground": true,
            "ticks": "",
            "zerolinecolor": "white"
           },
           "zaxis": {
            "backgroundcolor": "#E5ECF6",
            "gridcolor": "white",
            "gridwidth": 2,
            "linecolor": "white",
            "showbackground": true,
            "ticks": "",
            "zerolinecolor": "white"
           }
          },
          "shapedefaults": {
           "line": {
            "color": "#2a3f5f"
           }
          },
          "ternary": {
           "aaxis": {
            "gridcolor": "white",
            "linecolor": "white",
            "ticks": ""
           },
           "baxis": {
            "gridcolor": "white",
            "linecolor": "white",
            "ticks": ""
           },
           "bgcolor": "#E5ECF6",
           "caxis": {
            "gridcolor": "white",
            "linecolor": "white",
            "ticks": ""
           }
          },
          "title": {
           "x": 0.05
          },
          "xaxis": {
           "automargin": true,
           "gridcolor": "white",
           "linecolor": "white",
           "ticks": "",
           "title": {
            "standoff": 15
           },
           "zerolinecolor": "white",
           "zerolinewidth": 2
          },
          "yaxis": {
           "automargin": true,
           "gridcolor": "white",
           "linecolor": "white",
           "ticks": "",
           "title": {
            "standoff": 15
           },
           "zerolinecolor": "white",
           "zerolinewidth": 2
          }
         }
        },
        "title": {
         "text": "K-Means Model: Inertia vs Number of Clusters"
        },
        "xaxis": {
         "anchor": "y",
         "domain": [
          0,
          1
         ],
         "title": {
          "text": "Number of Clusters(k)"
         }
        },
        "yaxis": {
         "anchor": "x",
         "domain": [
          0,
          1
         ],
         "title": {
          "text": "Inertia"
         }
        }
       }
      },
      "text/html": [
       "<div>                            <div id=\"652e35a1-c5ec-42c2-90e5-7461119354d5\" class=\"plotly-graph-div\" style=\"height:525px; width:100%;\"></div>            <script type=\"text/javascript\">                require([\"plotly\"], function(Plotly) {                    window.PLOTLYENV=window.PLOTLYENV || {};                                    if (document.getElementById(\"652e35a1-c5ec-42c2-90e5-7461119354d5\")) {                    Plotly.newPlot(                        \"652e35a1-c5ec-42c2-90e5-7461119354d5\",                        [{\"hovertemplate\":\"x=%{x}<br>y=%{y}<extra></extra>\",\"legendgroup\":\"\",\"line\":{\"color\":\"#636efa\",\"dash\":\"solid\"},\"marker\":{\"symbol\":\"circle\"},\"mode\":\"lines\",\"name\":\"\",\"orientation\":\"v\",\"showlegend\":false,\"x\":[2,3,4,5,6,7,8,9,10,11,12],\"xaxis\":\"x\",\"y\":[8330.713703262289,5668.186693086036,4638.125329170422,3721.877518118984,3317.6013656531695,2960.4812200642527,2675.1334687958156,2403.114862265821,2206.5599924292196,2016.5061705159972,1831.7116715834559],\"yaxis\":\"y\",\"type\":\"scatter\"}],                        {\"template\":{\"data\":{\"histogram2dcontour\":[{\"type\":\"histogram2dcontour\",\"colorbar\":{\"outlinewidth\":0,\"ticks\":\"\"},\"colorscale\":[[0.0,\"#0d0887\"],[0.1111111111111111,\"#46039f\"],[0.2222222222222222,\"#7201a8\"],[0.3333333333333333,\"#9c179e\"],[0.4444444444444444,\"#bd3786\"],[0.5555555555555556,\"#d8576b\"],[0.6666666666666666,\"#ed7953\"],[0.7777777777777778,\"#fb9f3a\"],[0.8888888888888888,\"#fdca26\"],[1.0,\"#f0f921\"]]}],\"choropleth\":[{\"type\":\"choropleth\",\"colorbar\":{\"outlinewidth\":0,\"ticks\":\"\"}}],\"histogram2d\":[{\"type\":\"histogram2d\",\"colorbar\":{\"outlinewidth\":0,\"ticks\":\"\"},\"colorscale\":[[0.0,\"#0d0887\"],[0.1111111111111111,\"#46039f\"],[0.2222222222222222,\"#7201a8\"],[0.3333333333333333,\"#9c179e\"],[0.4444444444444444,\"#bd3786\"],[0.5555555555555556,\"#d8576b\"],[0.6666666666666666,\"#ed7953\"],[0.7777777777777778,\"#fb9f3a\"],[0.8888888888888888,\"#fdca26\"],[1.0,\"#f0f921\"]]}],\"heatmap\":[{\"type\":\"heatmap\",\"colorbar\":{\"outlinewidth\":0,\"ticks\":\"\"},\"colorscale\":[[0.0,\"#0d0887\"],[0.1111111111111111,\"#46039f\"],[0.2222222222222222,\"#7201a8\"],[0.3333333333333333,\"#9c179e\"],[0.4444444444444444,\"#bd3786\"],[0.5555555555555556,\"#d8576b\"],[0.6666666666666666,\"#ed7953\"],[0.7777777777777778,\"#fb9f3a\"],[0.8888888888888888,\"#fdca26\"],[1.0,\"#f0f921\"]]}],\"heatmapgl\":[{\"type\":\"heatmapgl\",\"colorbar\":{\"outlinewidth\":0,\"ticks\":\"\"},\"colorscale\":[[0.0,\"#0d0887\"],[0.1111111111111111,\"#46039f\"],[0.2222222222222222,\"#7201a8\"],[0.3333333333333333,\"#9c179e\"],[0.4444444444444444,\"#bd3786\"],[0.5555555555555556,\"#d8576b\"],[0.6666666666666666,\"#ed7953\"],[0.7777777777777778,\"#fb9f3a\"],[0.8888888888888888,\"#fdca26\"],[1.0,\"#f0f921\"]]}],\"contourcarpet\":[{\"type\":\"contourcarpet\",\"colorbar\":{\"outlinewidth\":0,\"ticks\":\"\"}}],\"contour\":[{\"type\":\"contour\",\"colorbar\":{\"outlinewidth\":0,\"ticks\":\"\"},\"colorscale\":[[0.0,\"#0d0887\"],[0.1111111111111111,\"#46039f\"],[0.2222222222222222,\"#7201a8\"],[0.3333333333333333,\"#9c179e\"],[0.4444444444444444,\"#bd3786\"],[0.5555555555555556,\"#d8576b\"],[0.6666666666666666,\"#ed7953\"],[0.7777777777777778,\"#fb9f3a\"],[0.8888888888888888,\"#fdca26\"],[1.0,\"#f0f921\"]]}],\"surface\":[{\"type\":\"surface\",\"colorbar\":{\"outlinewidth\":0,\"ticks\":\"\"},\"colorscale\":[[0.0,\"#0d0887\"],[0.1111111111111111,\"#46039f\"],[0.2222222222222222,\"#7201a8\"],[0.3333333333333333,\"#9c179e\"],[0.4444444444444444,\"#bd3786\"],[0.5555555555555556,\"#d8576b\"],[0.6666666666666666,\"#ed7953\"],[0.7777777777777778,\"#fb9f3a\"],[0.8888888888888888,\"#fdca26\"],[1.0,\"#f0f921\"]]}],\"mesh3d\":[{\"type\":\"mesh3d\",\"colorbar\":{\"outlinewidth\":0,\"ticks\":\"\"}}],\"scatter\":[{\"fillpattern\":{\"fillmode\":\"overlay\",\"size\":10,\"solidity\":0.2},\"type\":\"scatter\"}],\"parcoords\":[{\"type\":\"parcoords\",\"line\":{\"colorbar\":{\"outlinewidth\":0,\"ticks\":\"\"}}}],\"scatterpolargl\":[{\"type\":\"scatterpolargl\",\"marker\":{\"colorbar\":{\"outlinewidth\":0,\"ticks\":\"\"}}}],\"bar\":[{\"error_x\":{\"color\":\"#2a3f5f\"},\"error_y\":{\"color\":\"#2a3f5f\"},\"marker\":{\"line\":{\"color\":\"#E5ECF6\",\"width\":0.5},\"pattern\":{\"fillmode\":\"overlay\",\"size\":10,\"solidity\":0.2}},\"type\":\"bar\"}],\"scattergeo\":[{\"type\":\"scattergeo\",\"marker\":{\"colorbar\":{\"outlinewidth\":0,\"ticks\":\"\"}}}],\"scatterpolar\":[{\"type\":\"scatterpolar\",\"marker\":{\"colorbar\":{\"outlinewidth\":0,\"ticks\":\"\"}}}],\"histogram\":[{\"marker\":{\"pattern\":{\"fillmode\":\"overlay\",\"size\":10,\"solidity\":0.2}},\"type\":\"histogram\"}],\"scattergl\":[{\"type\":\"scattergl\",\"marker\":{\"colorbar\":{\"outlinewidth\":0,\"ticks\":\"\"}}}],\"scatter3d\":[{\"type\":\"scatter3d\",\"line\":{\"colorbar\":{\"outlinewidth\":0,\"ticks\":\"\"}},\"marker\":{\"colorbar\":{\"outlinewidth\":0,\"ticks\":\"\"}}}],\"scattermapbox\":[{\"type\":\"scattermapbox\",\"marker\":{\"colorbar\":{\"outlinewidth\":0,\"ticks\":\"\"}}}],\"scatterternary\":[{\"type\":\"scatterternary\",\"marker\":{\"colorbar\":{\"outlinewidth\":0,\"ticks\":\"\"}}}],\"scattercarpet\":[{\"type\":\"scattercarpet\",\"marker\":{\"colorbar\":{\"outlinewidth\":0,\"ticks\":\"\"}}}],\"carpet\":[{\"aaxis\":{\"endlinecolor\":\"#2a3f5f\",\"gridcolor\":\"white\",\"linecolor\":\"white\",\"minorgridcolor\":\"white\",\"startlinecolor\":\"#2a3f5f\"},\"baxis\":{\"endlinecolor\":\"#2a3f5f\",\"gridcolor\":\"white\",\"linecolor\":\"white\",\"minorgridcolor\":\"white\",\"startlinecolor\":\"#2a3f5f\"},\"type\":\"carpet\"}],\"table\":[{\"cells\":{\"fill\":{\"color\":\"#EBF0F8\"},\"line\":{\"color\":\"white\"}},\"header\":{\"fill\":{\"color\":\"#C8D4E3\"},\"line\":{\"color\":\"white\"}},\"type\":\"table\"}],\"barpolar\":[{\"marker\":{\"line\":{\"color\":\"#E5ECF6\",\"width\":0.5},\"pattern\":{\"fillmode\":\"overlay\",\"size\":10,\"solidity\":0.2}},\"type\":\"barpolar\"}],\"pie\":[{\"automargin\":true,\"type\":\"pie\"}]},\"layout\":{\"autotypenumbers\":\"strict\",\"colorway\":[\"#636efa\",\"#EF553B\",\"#00cc96\",\"#ab63fa\",\"#FFA15A\",\"#19d3f3\",\"#FF6692\",\"#B6E880\",\"#FF97FF\",\"#FECB52\"],\"font\":{\"color\":\"#2a3f5f\"},\"hovermode\":\"closest\",\"hoverlabel\":{\"align\":\"left\"},\"paper_bgcolor\":\"white\",\"plot_bgcolor\":\"#E5ECF6\",\"polar\":{\"bgcolor\":\"#E5ECF6\",\"angularaxis\":{\"gridcolor\":\"white\",\"linecolor\":\"white\",\"ticks\":\"\"},\"radialaxis\":{\"gridcolor\":\"white\",\"linecolor\":\"white\",\"ticks\":\"\"}},\"ternary\":{\"bgcolor\":\"#E5ECF6\",\"aaxis\":{\"gridcolor\":\"white\",\"linecolor\":\"white\",\"ticks\":\"\"},\"baxis\":{\"gridcolor\":\"white\",\"linecolor\":\"white\",\"ticks\":\"\"},\"caxis\":{\"gridcolor\":\"white\",\"linecolor\":\"white\",\"ticks\":\"\"}},\"coloraxis\":{\"colorbar\":{\"outlinewidth\":0,\"ticks\":\"\"}},\"colorscale\":{\"sequential\":[[0.0,\"#0d0887\"],[0.1111111111111111,\"#46039f\"],[0.2222222222222222,\"#7201a8\"],[0.3333333333333333,\"#9c179e\"],[0.4444444444444444,\"#bd3786\"],[0.5555555555555556,\"#d8576b\"],[0.6666666666666666,\"#ed7953\"],[0.7777777777777778,\"#fb9f3a\"],[0.8888888888888888,\"#fdca26\"],[1.0,\"#f0f921\"]],\"sequentialminus\":[[0.0,\"#0d0887\"],[0.1111111111111111,\"#46039f\"],[0.2222222222222222,\"#7201a8\"],[0.3333333333333333,\"#9c179e\"],[0.4444444444444444,\"#bd3786\"],[0.5555555555555556,\"#d8576b\"],[0.6666666666666666,\"#ed7953\"],[0.7777777777777778,\"#fb9f3a\"],[0.8888888888888888,\"#fdca26\"],[1.0,\"#f0f921\"]],\"diverging\":[[0,\"#8e0152\"],[0.1,\"#c51b7d\"],[0.2,\"#de77ae\"],[0.3,\"#f1b6da\"],[0.4,\"#fde0ef\"],[0.5,\"#f7f7f7\"],[0.6,\"#e6f5d0\"],[0.7,\"#b8e186\"],[0.8,\"#7fbc41\"],[0.9,\"#4d9221\"],[1,\"#276419\"]]},\"xaxis\":{\"gridcolor\":\"white\",\"linecolor\":\"white\",\"ticks\":\"\",\"title\":{\"standoff\":15},\"zerolinecolor\":\"white\",\"automargin\":true,\"zerolinewidth\":2},\"yaxis\":{\"gridcolor\":\"white\",\"linecolor\":\"white\",\"ticks\":\"\",\"title\":{\"standoff\":15},\"zerolinecolor\":\"white\",\"automargin\":true,\"zerolinewidth\":2},\"scene\":{\"xaxis\":{\"backgroundcolor\":\"#E5ECF6\",\"gridcolor\":\"white\",\"linecolor\":\"white\",\"showbackground\":true,\"ticks\":\"\",\"zerolinecolor\":\"white\",\"gridwidth\":2},\"yaxis\":{\"backgroundcolor\":\"#E5ECF6\",\"gridcolor\":\"white\",\"linecolor\":\"white\",\"showbackground\":true,\"ticks\":\"\",\"zerolinecolor\":\"white\",\"gridwidth\":2},\"zaxis\":{\"backgroundcolor\":\"#E5ECF6\",\"gridcolor\":\"white\",\"linecolor\":\"white\",\"showbackground\":true,\"ticks\":\"\",\"zerolinecolor\":\"white\",\"gridwidth\":2}},\"shapedefaults\":{\"line\":{\"color\":\"#2a3f5f\"}},\"annotationdefaults\":{\"arrowcolor\":\"#2a3f5f\",\"arrowhead\":0,\"arrowwidth\":1},\"geo\":{\"bgcolor\":\"white\",\"landcolor\":\"#E5ECF6\",\"subunitcolor\":\"white\",\"showland\":true,\"showlakes\":true,\"lakecolor\":\"white\"},\"title\":{\"x\":0.05},\"mapbox\":{\"style\":\"light\"}}},\"xaxis\":{\"anchor\":\"y\",\"domain\":[0.0,1.0],\"title\":{\"text\":\"Number of Clusters(k)\"}},\"yaxis\":{\"anchor\":\"x\",\"domain\":[0.0,1.0],\"title\":{\"text\":\"Inertia\"}},\"legend\":{\"tracegroupgap\":0},\"title\":{\"text\":\"K-Means Model: Inertia vs Number of Clusters\"}},                        {\"responsive\": true}                    ).then(function(){\n",
       "                            \n",
       "var gd = document.getElementById('652e35a1-c5ec-42c2-90e5-7461119354d5');\n",
       "var x = new MutationObserver(function (mutations, observer) {{\n",
       "        var display = window.getComputedStyle(gd).display;\n",
       "        if (!display || display === 'none') {{\n",
       "            console.log([gd, 'removed!']);\n",
       "            Plotly.purge(gd);\n",
       "            observer.disconnect();\n",
       "        }}\n",
       "}});\n",
       "\n",
       "// Listen for the removal of the full notebook cells\n",
       "var notebookContainer = gd.closest('#notebook-container');\n",
       "if (notebookContainer) {{\n",
       "    x.observe(notebookContainer, {childList: true});\n",
       "}}\n",
       "\n",
       "// Listen for the clearing of the current output cell\n",
       "var outputEl = gd.closest('.output');\n",
       "if (outputEl) {{\n",
       "    x.observe(outputEl, {childList: true});\n",
       "}}\n",
       "\n",
       "                        })                };                });            </script>        </div>"
      ]
     },
     "metadata": {},
     "output_type": "display_data"
    }
   ],
   "source": [
    "# Create line plot of `inertia_errors` vs `n_clusters`\n",
    "fig = px.line(\n",
    "    \n",
    "    x=n_clusters,\n",
    "    y=inertia_errors,\n",
    "    title=\"K-Means Model: Inertia vs Number of Clusters\"\n",
    ")\n",
    "\n",
    "fig.update_layout(xaxis_title  = \"Number of Clusters(k)\", yaxis_title = \"Inertia\")\n",
    "\n",
    "fig.show()"
   ]
  },
  {
   "cell_type": "code",
   "execution_count": 38,
   "id": "5797fec8",
   "metadata": {},
   "outputs": [
    {
     "data": {
      "application/vnd.plotly.v1+json": {
       "config": {
        "plotlyServerURL": "https://plot.ly"
       },
       "data": [
        {
         "hovertemplate": "x=%{x}<br>y=%{y}<extra></extra>",
         "legendgroup": "",
         "line": {
          "color": "#636efa",
          "dash": "solid"
         },
         "marker": {
          "symbol": "circle"
         },
         "mode": "lines",
         "name": "",
         "orientation": "v",
         "showlegend": false,
         "type": "scatter",
         "x": [
          2,
          3,
          4,
          5,
          6,
          7,
          8,
          9,
          10,
          11,
          12
         ],
         "xaxis": "x",
         "y": [
          0.7623318800335575,
          0.6991628816143209,
          0.6816110141663074,
          0.6803924419657255,
          0.6672719683392785,
          0.6671275647988139,
          0.6708190115358259,
          0.6452542958281601,
          0.6424750926931454,
          0.5568199271981522,
          0.6226801462816018
         ],
         "yaxis": "y"
        }
       ],
       "layout": {
        "legend": {
         "tracegroupgap": 0
        },
        "template": {
         "data": {
          "bar": [
           {
            "error_x": {
             "color": "#2a3f5f"
            },
            "error_y": {
             "color": "#2a3f5f"
            },
            "marker": {
             "line": {
              "color": "#E5ECF6",
              "width": 0.5
             },
             "pattern": {
              "fillmode": "overlay",
              "size": 10,
              "solidity": 0.2
             }
            },
            "type": "bar"
           }
          ],
          "barpolar": [
           {
            "marker": {
             "line": {
              "color": "#E5ECF6",
              "width": 0.5
             },
             "pattern": {
              "fillmode": "overlay",
              "size": 10,
              "solidity": 0.2
             }
            },
            "type": "barpolar"
           }
          ],
          "carpet": [
           {
            "aaxis": {
             "endlinecolor": "#2a3f5f",
             "gridcolor": "white",
             "linecolor": "white",
             "minorgridcolor": "white",
             "startlinecolor": "#2a3f5f"
            },
            "baxis": {
             "endlinecolor": "#2a3f5f",
             "gridcolor": "white",
             "linecolor": "white",
             "minorgridcolor": "white",
             "startlinecolor": "#2a3f5f"
            },
            "type": "carpet"
           }
          ],
          "choropleth": [
           {
            "colorbar": {
             "outlinewidth": 0,
             "ticks": ""
            },
            "type": "choropleth"
           }
          ],
          "contour": [
           {
            "colorbar": {
             "outlinewidth": 0,
             "ticks": ""
            },
            "colorscale": [
             [
              0,
              "#0d0887"
             ],
             [
              0.1111111111111111,
              "#46039f"
             ],
             [
              0.2222222222222222,
              "#7201a8"
             ],
             [
              0.3333333333333333,
              "#9c179e"
             ],
             [
              0.4444444444444444,
              "#bd3786"
             ],
             [
              0.5555555555555556,
              "#d8576b"
             ],
             [
              0.6666666666666666,
              "#ed7953"
             ],
             [
              0.7777777777777778,
              "#fb9f3a"
             ],
             [
              0.8888888888888888,
              "#fdca26"
             ],
             [
              1,
              "#f0f921"
             ]
            ],
            "type": "contour"
           }
          ],
          "contourcarpet": [
           {
            "colorbar": {
             "outlinewidth": 0,
             "ticks": ""
            },
            "type": "contourcarpet"
           }
          ],
          "heatmap": [
           {
            "colorbar": {
             "outlinewidth": 0,
             "ticks": ""
            },
            "colorscale": [
             [
              0,
              "#0d0887"
             ],
             [
              0.1111111111111111,
              "#46039f"
             ],
             [
              0.2222222222222222,
              "#7201a8"
             ],
             [
              0.3333333333333333,
              "#9c179e"
             ],
             [
              0.4444444444444444,
              "#bd3786"
             ],
             [
              0.5555555555555556,
              "#d8576b"
             ],
             [
              0.6666666666666666,
              "#ed7953"
             ],
             [
              0.7777777777777778,
              "#fb9f3a"
             ],
             [
              0.8888888888888888,
              "#fdca26"
             ],
             [
              1,
              "#f0f921"
             ]
            ],
            "type": "heatmap"
           }
          ],
          "heatmapgl": [
           {
            "colorbar": {
             "outlinewidth": 0,
             "ticks": ""
            },
            "colorscale": [
             [
              0,
              "#0d0887"
             ],
             [
              0.1111111111111111,
              "#46039f"
             ],
             [
              0.2222222222222222,
              "#7201a8"
             ],
             [
              0.3333333333333333,
              "#9c179e"
             ],
             [
              0.4444444444444444,
              "#bd3786"
             ],
             [
              0.5555555555555556,
              "#d8576b"
             ],
             [
              0.6666666666666666,
              "#ed7953"
             ],
             [
              0.7777777777777778,
              "#fb9f3a"
             ],
             [
              0.8888888888888888,
              "#fdca26"
             ],
             [
              1,
              "#f0f921"
             ]
            ],
            "type": "heatmapgl"
           }
          ],
          "histogram": [
           {
            "marker": {
             "pattern": {
              "fillmode": "overlay",
              "size": 10,
              "solidity": 0.2
             }
            },
            "type": "histogram"
           }
          ],
          "histogram2d": [
           {
            "colorbar": {
             "outlinewidth": 0,
             "ticks": ""
            },
            "colorscale": [
             [
              0,
              "#0d0887"
             ],
             [
              0.1111111111111111,
              "#46039f"
             ],
             [
              0.2222222222222222,
              "#7201a8"
             ],
             [
              0.3333333333333333,
              "#9c179e"
             ],
             [
              0.4444444444444444,
              "#bd3786"
             ],
             [
              0.5555555555555556,
              "#d8576b"
             ],
             [
              0.6666666666666666,
              "#ed7953"
             ],
             [
              0.7777777777777778,
              "#fb9f3a"
             ],
             [
              0.8888888888888888,
              "#fdca26"
             ],
             [
              1,
              "#f0f921"
             ]
            ],
            "type": "histogram2d"
           }
          ],
          "histogram2dcontour": [
           {
            "colorbar": {
             "outlinewidth": 0,
             "ticks": ""
            },
            "colorscale": [
             [
              0,
              "#0d0887"
             ],
             [
              0.1111111111111111,
              "#46039f"
             ],
             [
              0.2222222222222222,
              "#7201a8"
             ],
             [
              0.3333333333333333,
              "#9c179e"
             ],
             [
              0.4444444444444444,
              "#bd3786"
             ],
             [
              0.5555555555555556,
              "#d8576b"
             ],
             [
              0.6666666666666666,
              "#ed7953"
             ],
             [
              0.7777777777777778,
              "#fb9f3a"
             ],
             [
              0.8888888888888888,
              "#fdca26"
             ],
             [
              1,
              "#f0f921"
             ]
            ],
            "type": "histogram2dcontour"
           }
          ],
          "mesh3d": [
           {
            "colorbar": {
             "outlinewidth": 0,
             "ticks": ""
            },
            "type": "mesh3d"
           }
          ],
          "parcoords": [
           {
            "line": {
             "colorbar": {
              "outlinewidth": 0,
              "ticks": ""
             }
            },
            "type": "parcoords"
           }
          ],
          "pie": [
           {
            "automargin": true,
            "type": "pie"
           }
          ],
          "scatter": [
           {
            "fillpattern": {
             "fillmode": "overlay",
             "size": 10,
             "solidity": 0.2
            },
            "type": "scatter"
           }
          ],
          "scatter3d": [
           {
            "line": {
             "colorbar": {
              "outlinewidth": 0,
              "ticks": ""
             }
            },
            "marker": {
             "colorbar": {
              "outlinewidth": 0,
              "ticks": ""
             }
            },
            "type": "scatter3d"
           }
          ],
          "scattercarpet": [
           {
            "marker": {
             "colorbar": {
              "outlinewidth": 0,
              "ticks": ""
             }
            },
            "type": "scattercarpet"
           }
          ],
          "scattergeo": [
           {
            "marker": {
             "colorbar": {
              "outlinewidth": 0,
              "ticks": ""
             }
            },
            "type": "scattergeo"
           }
          ],
          "scattergl": [
           {
            "marker": {
             "colorbar": {
              "outlinewidth": 0,
              "ticks": ""
             }
            },
            "type": "scattergl"
           }
          ],
          "scattermapbox": [
           {
            "marker": {
             "colorbar": {
              "outlinewidth": 0,
              "ticks": ""
             }
            },
            "type": "scattermapbox"
           }
          ],
          "scatterpolar": [
           {
            "marker": {
             "colorbar": {
              "outlinewidth": 0,
              "ticks": ""
             }
            },
            "type": "scatterpolar"
           }
          ],
          "scatterpolargl": [
           {
            "marker": {
             "colorbar": {
              "outlinewidth": 0,
              "ticks": ""
             }
            },
            "type": "scatterpolargl"
           }
          ],
          "scatterternary": [
           {
            "marker": {
             "colorbar": {
              "outlinewidth": 0,
              "ticks": ""
             }
            },
            "type": "scatterternary"
           }
          ],
          "surface": [
           {
            "colorbar": {
             "outlinewidth": 0,
             "ticks": ""
            },
            "colorscale": [
             [
              0,
              "#0d0887"
             ],
             [
              0.1111111111111111,
              "#46039f"
             ],
             [
              0.2222222222222222,
              "#7201a8"
             ],
             [
              0.3333333333333333,
              "#9c179e"
             ],
             [
              0.4444444444444444,
              "#bd3786"
             ],
             [
              0.5555555555555556,
              "#d8576b"
             ],
             [
              0.6666666666666666,
              "#ed7953"
             ],
             [
              0.7777777777777778,
              "#fb9f3a"
             ],
             [
              0.8888888888888888,
              "#fdca26"
             ],
             [
              1,
              "#f0f921"
             ]
            ],
            "type": "surface"
           }
          ],
          "table": [
           {
            "cells": {
             "fill": {
              "color": "#EBF0F8"
             },
             "line": {
              "color": "white"
             }
            },
            "header": {
             "fill": {
              "color": "#C8D4E3"
             },
             "line": {
              "color": "white"
             }
            },
            "type": "table"
           }
          ]
         },
         "layout": {
          "annotationdefaults": {
           "arrowcolor": "#2a3f5f",
           "arrowhead": 0,
           "arrowwidth": 1
          },
          "autotypenumbers": "strict",
          "coloraxis": {
           "colorbar": {
            "outlinewidth": 0,
            "ticks": ""
           }
          },
          "colorscale": {
           "diverging": [
            [
             0,
             "#8e0152"
            ],
            [
             0.1,
             "#c51b7d"
            ],
            [
             0.2,
             "#de77ae"
            ],
            [
             0.3,
             "#f1b6da"
            ],
            [
             0.4,
             "#fde0ef"
            ],
            [
             0.5,
             "#f7f7f7"
            ],
            [
             0.6,
             "#e6f5d0"
            ],
            [
             0.7,
             "#b8e186"
            ],
            [
             0.8,
             "#7fbc41"
            ],
            [
             0.9,
             "#4d9221"
            ],
            [
             1,
             "#276419"
            ]
           ],
           "sequential": [
            [
             0,
             "#0d0887"
            ],
            [
             0.1111111111111111,
             "#46039f"
            ],
            [
             0.2222222222222222,
             "#7201a8"
            ],
            [
             0.3333333333333333,
             "#9c179e"
            ],
            [
             0.4444444444444444,
             "#bd3786"
            ],
            [
             0.5555555555555556,
             "#d8576b"
            ],
            [
             0.6666666666666666,
             "#ed7953"
            ],
            [
             0.7777777777777778,
             "#fb9f3a"
            ],
            [
             0.8888888888888888,
             "#fdca26"
            ],
            [
             1,
             "#f0f921"
            ]
           ],
           "sequentialminus": [
            [
             0,
             "#0d0887"
            ],
            [
             0.1111111111111111,
             "#46039f"
            ],
            [
             0.2222222222222222,
             "#7201a8"
            ],
            [
             0.3333333333333333,
             "#9c179e"
            ],
            [
             0.4444444444444444,
             "#bd3786"
            ],
            [
             0.5555555555555556,
             "#d8576b"
            ],
            [
             0.6666666666666666,
             "#ed7953"
            ],
            [
             0.7777777777777778,
             "#fb9f3a"
            ],
            [
             0.8888888888888888,
             "#fdca26"
            ],
            [
             1,
             "#f0f921"
            ]
           ]
          },
          "colorway": [
           "#636efa",
           "#EF553B",
           "#00cc96",
           "#ab63fa",
           "#FFA15A",
           "#19d3f3",
           "#FF6692",
           "#B6E880",
           "#FF97FF",
           "#FECB52"
          ],
          "font": {
           "color": "#2a3f5f"
          },
          "geo": {
           "bgcolor": "white",
           "lakecolor": "white",
           "landcolor": "#E5ECF6",
           "showlakes": true,
           "showland": true,
           "subunitcolor": "white"
          },
          "hoverlabel": {
           "align": "left"
          },
          "hovermode": "closest",
          "mapbox": {
           "style": "light"
          },
          "paper_bgcolor": "white",
          "plot_bgcolor": "#E5ECF6",
          "polar": {
           "angularaxis": {
            "gridcolor": "white",
            "linecolor": "white",
            "ticks": ""
           },
           "bgcolor": "#E5ECF6",
           "radialaxis": {
            "gridcolor": "white",
            "linecolor": "white",
            "ticks": ""
           }
          },
          "scene": {
           "xaxis": {
            "backgroundcolor": "#E5ECF6",
            "gridcolor": "white",
            "gridwidth": 2,
            "linecolor": "white",
            "showbackground": true,
            "ticks": "",
            "zerolinecolor": "white"
           },
           "yaxis": {
            "backgroundcolor": "#E5ECF6",
            "gridcolor": "white",
            "gridwidth": 2,
            "linecolor": "white",
            "showbackground": true,
            "ticks": "",
            "zerolinecolor": "white"
           },
           "zaxis": {
            "backgroundcolor": "#E5ECF6",
            "gridcolor": "white",
            "gridwidth": 2,
            "linecolor": "white",
            "showbackground": true,
            "ticks": "",
            "zerolinecolor": "white"
           }
          },
          "shapedefaults": {
           "line": {
            "color": "#2a3f5f"
           }
          },
          "ternary": {
           "aaxis": {
            "gridcolor": "white",
            "linecolor": "white",
            "ticks": ""
           },
           "baxis": {
            "gridcolor": "white",
            "linecolor": "white",
            "ticks": ""
           },
           "bgcolor": "#E5ECF6",
           "caxis": {
            "gridcolor": "white",
            "linecolor": "white",
            "ticks": ""
           }
          },
          "title": {
           "x": 0.05
          },
          "xaxis": {
           "automargin": true,
           "gridcolor": "white",
           "linecolor": "white",
           "ticks": "",
           "title": {
            "standoff": 15
           },
           "zerolinecolor": "white",
           "zerolinewidth": 2
          },
          "yaxis": {
           "automargin": true,
           "gridcolor": "white",
           "linecolor": "white",
           "ticks": "",
           "title": {
            "standoff": 15
           },
           "zerolinecolor": "white",
           "zerolinewidth": 2
          }
         }
        },
        "title": {
         "text": "K-Means Model: Silhouette Score vs Number of Clusters"
        },
        "xaxis": {
         "anchor": "y",
         "domain": [
          0,
          1
         ],
         "title": {
          "text": "Number of Clusters(k)"
         }
        },
        "yaxis": {
         "anchor": "x",
         "domain": [
          0,
          1
         ],
         "title": {
          "text": "Silhouette Score"
         }
        }
       }
      },
      "text/html": [
       "<div>                            <div id=\"d61ec5ac-c3f1-4fac-b92d-153e649de7ef\" class=\"plotly-graph-div\" style=\"height:525px; width:100%;\"></div>            <script type=\"text/javascript\">                require([\"plotly\"], function(Plotly) {                    window.PLOTLYENV=window.PLOTLYENV || {};                                    if (document.getElementById(\"d61ec5ac-c3f1-4fac-b92d-153e649de7ef\")) {                    Plotly.newPlot(                        \"d61ec5ac-c3f1-4fac-b92d-153e649de7ef\",                        [{\"hovertemplate\":\"x=%{x}<br>y=%{y}<extra></extra>\",\"legendgroup\":\"\",\"line\":{\"color\":\"#636efa\",\"dash\":\"solid\"},\"marker\":{\"symbol\":\"circle\"},\"mode\":\"lines\",\"name\":\"\",\"orientation\":\"v\",\"showlegend\":false,\"x\":[2,3,4,5,6,7,8,9,10,11,12],\"xaxis\":\"x\",\"y\":[0.7623318800335575,0.6991628816143209,0.6816110141663074,0.6803924419657255,0.6672719683392785,0.6671275647988139,0.6708190115358259,0.6452542958281601,0.6424750926931454,0.5568199271981522,0.6226801462816018],\"yaxis\":\"y\",\"type\":\"scatter\"}],                        {\"template\":{\"data\":{\"histogram2dcontour\":[{\"type\":\"histogram2dcontour\",\"colorbar\":{\"outlinewidth\":0,\"ticks\":\"\"},\"colorscale\":[[0.0,\"#0d0887\"],[0.1111111111111111,\"#46039f\"],[0.2222222222222222,\"#7201a8\"],[0.3333333333333333,\"#9c179e\"],[0.4444444444444444,\"#bd3786\"],[0.5555555555555556,\"#d8576b\"],[0.6666666666666666,\"#ed7953\"],[0.7777777777777778,\"#fb9f3a\"],[0.8888888888888888,\"#fdca26\"],[1.0,\"#f0f921\"]]}],\"choropleth\":[{\"type\":\"choropleth\",\"colorbar\":{\"outlinewidth\":0,\"ticks\":\"\"}}],\"histogram2d\":[{\"type\":\"histogram2d\",\"colorbar\":{\"outlinewidth\":0,\"ticks\":\"\"},\"colorscale\":[[0.0,\"#0d0887\"],[0.1111111111111111,\"#46039f\"],[0.2222222222222222,\"#7201a8\"],[0.3333333333333333,\"#9c179e\"],[0.4444444444444444,\"#bd3786\"],[0.5555555555555556,\"#d8576b\"],[0.6666666666666666,\"#ed7953\"],[0.7777777777777778,\"#fb9f3a\"],[0.8888888888888888,\"#fdca26\"],[1.0,\"#f0f921\"]]}],\"heatmap\":[{\"type\":\"heatmap\",\"colorbar\":{\"outlinewidth\":0,\"ticks\":\"\"},\"colorscale\":[[0.0,\"#0d0887\"],[0.1111111111111111,\"#46039f\"],[0.2222222222222222,\"#7201a8\"],[0.3333333333333333,\"#9c179e\"],[0.4444444444444444,\"#bd3786\"],[0.5555555555555556,\"#d8576b\"],[0.6666666666666666,\"#ed7953\"],[0.7777777777777778,\"#fb9f3a\"],[0.8888888888888888,\"#fdca26\"],[1.0,\"#f0f921\"]]}],\"heatmapgl\":[{\"type\":\"heatmapgl\",\"colorbar\":{\"outlinewidth\":0,\"ticks\":\"\"},\"colorscale\":[[0.0,\"#0d0887\"],[0.1111111111111111,\"#46039f\"],[0.2222222222222222,\"#7201a8\"],[0.3333333333333333,\"#9c179e\"],[0.4444444444444444,\"#bd3786\"],[0.5555555555555556,\"#d8576b\"],[0.6666666666666666,\"#ed7953\"],[0.7777777777777778,\"#fb9f3a\"],[0.8888888888888888,\"#fdca26\"],[1.0,\"#f0f921\"]]}],\"contourcarpet\":[{\"type\":\"contourcarpet\",\"colorbar\":{\"outlinewidth\":0,\"ticks\":\"\"}}],\"contour\":[{\"type\":\"contour\",\"colorbar\":{\"outlinewidth\":0,\"ticks\":\"\"},\"colorscale\":[[0.0,\"#0d0887\"],[0.1111111111111111,\"#46039f\"],[0.2222222222222222,\"#7201a8\"],[0.3333333333333333,\"#9c179e\"],[0.4444444444444444,\"#bd3786\"],[0.5555555555555556,\"#d8576b\"],[0.6666666666666666,\"#ed7953\"],[0.7777777777777778,\"#fb9f3a\"],[0.8888888888888888,\"#fdca26\"],[1.0,\"#f0f921\"]]}],\"surface\":[{\"type\":\"surface\",\"colorbar\":{\"outlinewidth\":0,\"ticks\":\"\"},\"colorscale\":[[0.0,\"#0d0887\"],[0.1111111111111111,\"#46039f\"],[0.2222222222222222,\"#7201a8\"],[0.3333333333333333,\"#9c179e\"],[0.4444444444444444,\"#bd3786\"],[0.5555555555555556,\"#d8576b\"],[0.6666666666666666,\"#ed7953\"],[0.7777777777777778,\"#fb9f3a\"],[0.8888888888888888,\"#fdca26\"],[1.0,\"#f0f921\"]]}],\"mesh3d\":[{\"type\":\"mesh3d\",\"colorbar\":{\"outlinewidth\":0,\"ticks\":\"\"}}],\"scatter\":[{\"fillpattern\":{\"fillmode\":\"overlay\",\"size\":10,\"solidity\":0.2},\"type\":\"scatter\"}],\"parcoords\":[{\"type\":\"parcoords\",\"line\":{\"colorbar\":{\"outlinewidth\":0,\"ticks\":\"\"}}}],\"scatterpolargl\":[{\"type\":\"scatterpolargl\",\"marker\":{\"colorbar\":{\"outlinewidth\":0,\"ticks\":\"\"}}}],\"bar\":[{\"error_x\":{\"color\":\"#2a3f5f\"},\"error_y\":{\"color\":\"#2a3f5f\"},\"marker\":{\"line\":{\"color\":\"#E5ECF6\",\"width\":0.5},\"pattern\":{\"fillmode\":\"overlay\",\"size\":10,\"solidity\":0.2}},\"type\":\"bar\"}],\"scattergeo\":[{\"type\":\"scattergeo\",\"marker\":{\"colorbar\":{\"outlinewidth\":0,\"ticks\":\"\"}}}],\"scatterpolar\":[{\"type\":\"scatterpolar\",\"marker\":{\"colorbar\":{\"outlinewidth\":0,\"ticks\":\"\"}}}],\"histogram\":[{\"marker\":{\"pattern\":{\"fillmode\":\"overlay\",\"size\":10,\"solidity\":0.2}},\"type\":\"histogram\"}],\"scattergl\":[{\"type\":\"scattergl\",\"marker\":{\"colorbar\":{\"outlinewidth\":0,\"ticks\":\"\"}}}],\"scatter3d\":[{\"type\":\"scatter3d\",\"line\":{\"colorbar\":{\"outlinewidth\":0,\"ticks\":\"\"}},\"marker\":{\"colorbar\":{\"outlinewidth\":0,\"ticks\":\"\"}}}],\"scattermapbox\":[{\"type\":\"scattermapbox\",\"marker\":{\"colorbar\":{\"outlinewidth\":0,\"ticks\":\"\"}}}],\"scatterternary\":[{\"type\":\"scatterternary\",\"marker\":{\"colorbar\":{\"outlinewidth\":0,\"ticks\":\"\"}}}],\"scattercarpet\":[{\"type\":\"scattercarpet\",\"marker\":{\"colorbar\":{\"outlinewidth\":0,\"ticks\":\"\"}}}],\"carpet\":[{\"aaxis\":{\"endlinecolor\":\"#2a3f5f\",\"gridcolor\":\"white\",\"linecolor\":\"white\",\"minorgridcolor\":\"white\",\"startlinecolor\":\"#2a3f5f\"},\"baxis\":{\"endlinecolor\":\"#2a3f5f\",\"gridcolor\":\"white\",\"linecolor\":\"white\",\"minorgridcolor\":\"white\",\"startlinecolor\":\"#2a3f5f\"},\"type\":\"carpet\"}],\"table\":[{\"cells\":{\"fill\":{\"color\":\"#EBF0F8\"},\"line\":{\"color\":\"white\"}},\"header\":{\"fill\":{\"color\":\"#C8D4E3\"},\"line\":{\"color\":\"white\"}},\"type\":\"table\"}],\"barpolar\":[{\"marker\":{\"line\":{\"color\":\"#E5ECF6\",\"width\":0.5},\"pattern\":{\"fillmode\":\"overlay\",\"size\":10,\"solidity\":0.2}},\"type\":\"barpolar\"}],\"pie\":[{\"automargin\":true,\"type\":\"pie\"}]},\"layout\":{\"autotypenumbers\":\"strict\",\"colorway\":[\"#636efa\",\"#EF553B\",\"#00cc96\",\"#ab63fa\",\"#FFA15A\",\"#19d3f3\",\"#FF6692\",\"#B6E880\",\"#FF97FF\",\"#FECB52\"],\"font\":{\"color\":\"#2a3f5f\"},\"hovermode\":\"closest\",\"hoverlabel\":{\"align\":\"left\"},\"paper_bgcolor\":\"white\",\"plot_bgcolor\":\"#E5ECF6\",\"polar\":{\"bgcolor\":\"#E5ECF6\",\"angularaxis\":{\"gridcolor\":\"white\",\"linecolor\":\"white\",\"ticks\":\"\"},\"radialaxis\":{\"gridcolor\":\"white\",\"linecolor\":\"white\",\"ticks\":\"\"}},\"ternary\":{\"bgcolor\":\"#E5ECF6\",\"aaxis\":{\"gridcolor\":\"white\",\"linecolor\":\"white\",\"ticks\":\"\"},\"baxis\":{\"gridcolor\":\"white\",\"linecolor\":\"white\",\"ticks\":\"\"},\"caxis\":{\"gridcolor\":\"white\",\"linecolor\":\"white\",\"ticks\":\"\"}},\"coloraxis\":{\"colorbar\":{\"outlinewidth\":0,\"ticks\":\"\"}},\"colorscale\":{\"sequential\":[[0.0,\"#0d0887\"],[0.1111111111111111,\"#46039f\"],[0.2222222222222222,\"#7201a8\"],[0.3333333333333333,\"#9c179e\"],[0.4444444444444444,\"#bd3786\"],[0.5555555555555556,\"#d8576b\"],[0.6666666666666666,\"#ed7953\"],[0.7777777777777778,\"#fb9f3a\"],[0.8888888888888888,\"#fdca26\"],[1.0,\"#f0f921\"]],\"sequentialminus\":[[0.0,\"#0d0887\"],[0.1111111111111111,\"#46039f\"],[0.2222222222222222,\"#7201a8\"],[0.3333333333333333,\"#9c179e\"],[0.4444444444444444,\"#bd3786\"],[0.5555555555555556,\"#d8576b\"],[0.6666666666666666,\"#ed7953\"],[0.7777777777777778,\"#fb9f3a\"],[0.8888888888888888,\"#fdca26\"],[1.0,\"#f0f921\"]],\"diverging\":[[0,\"#8e0152\"],[0.1,\"#c51b7d\"],[0.2,\"#de77ae\"],[0.3,\"#f1b6da\"],[0.4,\"#fde0ef\"],[0.5,\"#f7f7f7\"],[0.6,\"#e6f5d0\"],[0.7,\"#b8e186\"],[0.8,\"#7fbc41\"],[0.9,\"#4d9221\"],[1,\"#276419\"]]},\"xaxis\":{\"gridcolor\":\"white\",\"linecolor\":\"white\",\"ticks\":\"\",\"title\":{\"standoff\":15},\"zerolinecolor\":\"white\",\"automargin\":true,\"zerolinewidth\":2},\"yaxis\":{\"gridcolor\":\"white\",\"linecolor\":\"white\",\"ticks\":\"\",\"title\":{\"standoff\":15},\"zerolinecolor\":\"white\",\"automargin\":true,\"zerolinewidth\":2},\"scene\":{\"xaxis\":{\"backgroundcolor\":\"#E5ECF6\",\"gridcolor\":\"white\",\"linecolor\":\"white\",\"showbackground\":true,\"ticks\":\"\",\"zerolinecolor\":\"white\",\"gridwidth\":2},\"yaxis\":{\"backgroundcolor\":\"#E5ECF6\",\"gridcolor\":\"white\",\"linecolor\":\"white\",\"showbackground\":true,\"ticks\":\"\",\"zerolinecolor\":\"white\",\"gridwidth\":2},\"zaxis\":{\"backgroundcolor\":\"#E5ECF6\",\"gridcolor\":\"white\",\"linecolor\":\"white\",\"showbackground\":true,\"ticks\":\"\",\"zerolinecolor\":\"white\",\"gridwidth\":2}},\"shapedefaults\":{\"line\":{\"color\":\"#2a3f5f\"}},\"annotationdefaults\":{\"arrowcolor\":\"#2a3f5f\",\"arrowhead\":0,\"arrowwidth\":1},\"geo\":{\"bgcolor\":\"white\",\"landcolor\":\"#E5ECF6\",\"subunitcolor\":\"white\",\"showland\":true,\"showlakes\":true,\"lakecolor\":\"white\"},\"title\":{\"x\":0.05},\"mapbox\":{\"style\":\"light\"}}},\"xaxis\":{\"anchor\":\"y\",\"domain\":[0.0,1.0],\"title\":{\"text\":\"Number of Clusters(k)\"}},\"yaxis\":{\"anchor\":\"x\",\"domain\":[0.0,1.0],\"title\":{\"text\":\"Silhouette Score\"}},\"legend\":{\"tracegroupgap\":0},\"title\":{\"text\":\"K-Means Model: Silhouette Score vs Number of Clusters\"}},                        {\"responsive\": true}                    ).then(function(){\n",
       "                            \n",
       "var gd = document.getElementById('d61ec5ac-c3f1-4fac-b92d-153e649de7ef');\n",
       "var x = new MutationObserver(function (mutations, observer) {{\n",
       "        var display = window.getComputedStyle(gd).display;\n",
       "        if (!display || display === 'none') {{\n",
       "            console.log([gd, 'removed!']);\n",
       "            Plotly.purge(gd);\n",
       "            observer.disconnect();\n",
       "        }}\n",
       "}});\n",
       "\n",
       "// Listen for the removal of the full notebook cells\n",
       "var notebookContainer = gd.closest('#notebook-container');\n",
       "if (notebookContainer) {{\n",
       "    x.observe(notebookContainer, {childList: true});\n",
       "}}\n",
       "\n",
       "// Listen for the clearing of the current output cell\n",
       "var outputEl = gd.closest('.output');\n",
       "if (outputEl) {{\n",
       "    x.observe(outputEl, {childList: true});\n",
       "}}\n",
       "\n",
       "                        })                };                });            </script>        </div>"
      ]
     },
     "metadata": {},
     "output_type": "display_data"
    }
   ],
   "source": [
    "# Create a line plot of `silhouette_scores` vs `n_clusters`\n",
    "fig = px.line(   \n",
    "    x = n_clusters,\n",
    "    y = silhouette_scores,\n",
    "    title = \"K-Means Model: Silhouette Score vs Number of Clusters\"\n",
    ")\n",
    "\n",
    "fig.update_layout(xaxis_title = \"Number of Clusters(k)\", yaxis_title = \"Silhouette Score\")\n",
    "\n",
    "fig.show()"
   ]
  },
  {
   "cell_type": "markdown",
   "id": "34a09c7f",
   "metadata": {},
   "source": [
    "# Building final model with 5 clusters"
   ]
  },
  {
   "cell_type": "code",
   "execution_count": 43,
   "id": "af5e3341",
   "metadata": {},
   "outputs": [
    {
     "name": "stderr",
     "output_type": "stream",
     "text": [
      "C:\\Users\\shukl\\anaconda3\\lib\\site-packages\\sklearn\\cluster\\_kmeans.py:870: FutureWarning:\n",
      "\n",
      "The default value of `n_init` will change from 10 to 'auto' in 1.4. Set the value of `n_init` explicitly to suppress the warning\n",
      "\n"
     ]
    },
    {
     "data": {
      "text/html": [
       "<style>#sk-container-id-2 {color: black;background-color: white;}#sk-container-id-2 pre{padding: 0;}#sk-container-id-2 div.sk-toggleable {background-color: white;}#sk-container-id-2 label.sk-toggleable__label {cursor: pointer;display: block;width: 100%;margin-bottom: 0;padding: 0.3em;box-sizing: border-box;text-align: center;}#sk-container-id-2 label.sk-toggleable__label-arrow:before {content: \"▸\";float: left;margin-right: 0.25em;color: #696969;}#sk-container-id-2 label.sk-toggleable__label-arrow:hover:before {color: black;}#sk-container-id-2 div.sk-estimator:hover label.sk-toggleable__label-arrow:before {color: black;}#sk-container-id-2 div.sk-toggleable__content {max-height: 0;max-width: 0;overflow: hidden;text-align: left;background-color: #f0f8ff;}#sk-container-id-2 div.sk-toggleable__content pre {margin: 0.2em;color: black;border-radius: 0.25em;background-color: #f0f8ff;}#sk-container-id-2 input.sk-toggleable__control:checked~div.sk-toggleable__content {max-height: 200px;max-width: 100%;overflow: auto;}#sk-container-id-2 input.sk-toggleable__control:checked~label.sk-toggleable__label-arrow:before {content: \"▾\";}#sk-container-id-2 div.sk-estimator input.sk-toggleable__control:checked~label.sk-toggleable__label {background-color: #d4ebff;}#sk-container-id-2 div.sk-label input.sk-toggleable__control:checked~label.sk-toggleable__label {background-color: #d4ebff;}#sk-container-id-2 input.sk-hidden--visually {border: 0;clip: rect(1px 1px 1px 1px);clip: rect(1px, 1px, 1px, 1px);height: 1px;margin: -1px;overflow: hidden;padding: 0;position: absolute;width: 1px;}#sk-container-id-2 div.sk-estimator {font-family: monospace;background-color: #f0f8ff;border: 1px dotted black;border-radius: 0.25em;box-sizing: border-box;margin-bottom: 0.5em;}#sk-container-id-2 div.sk-estimator:hover {background-color: #d4ebff;}#sk-container-id-2 div.sk-parallel-item::after {content: \"\";width: 100%;border-bottom: 1px solid gray;flex-grow: 1;}#sk-container-id-2 div.sk-label:hover label.sk-toggleable__label {background-color: #d4ebff;}#sk-container-id-2 div.sk-serial::before {content: \"\";position: absolute;border-left: 1px solid gray;box-sizing: border-box;top: 0;bottom: 0;left: 50%;z-index: 0;}#sk-container-id-2 div.sk-serial {display: flex;flex-direction: column;align-items: center;background-color: white;padding-right: 0.2em;padding-left: 0.2em;position: relative;}#sk-container-id-2 div.sk-item {position: relative;z-index: 1;}#sk-container-id-2 div.sk-parallel {display: flex;align-items: stretch;justify-content: center;background-color: white;position: relative;}#sk-container-id-2 div.sk-item::before, #sk-container-id-2 div.sk-parallel-item::before {content: \"\";position: absolute;border-left: 1px solid gray;box-sizing: border-box;top: 0;bottom: 0;left: 50%;z-index: -1;}#sk-container-id-2 div.sk-parallel-item {display: flex;flex-direction: column;z-index: 1;position: relative;background-color: white;}#sk-container-id-2 div.sk-parallel-item:first-child::after {align-self: flex-end;width: 50%;}#sk-container-id-2 div.sk-parallel-item:last-child::after {align-self: flex-start;width: 50%;}#sk-container-id-2 div.sk-parallel-item:only-child::after {width: 0;}#sk-container-id-2 div.sk-dashed-wrapped {border: 1px dashed gray;margin: 0 0.4em 0.5em 0.4em;box-sizing: border-box;padding-bottom: 0.4em;background-color: white;}#sk-container-id-2 div.sk-label label {font-family: monospace;font-weight: bold;display: inline-block;line-height: 1.2em;}#sk-container-id-2 div.sk-label-container {text-align: center;}#sk-container-id-2 div.sk-container {/* jupyter's `normalize.less` sets `[hidden] { display: none; }` but bootstrap.min.css set `[hidden] { display: none !important; }` so we also need the `!important` here to be able to override the default hidden behavior on the sphinx rendered scikit-learn.org. See: https://github.com/scikit-learn/scikit-learn/issues/21755 */display: inline-block !important;position: relative;}#sk-container-id-2 div.sk-text-repr-fallback {display: none;}</style><div id=\"sk-container-id-2\" class=\"sk-top-container\"><div class=\"sk-text-repr-fallback\"><pre>Pipeline(steps=[(&#x27;standardscaler&#x27;, StandardScaler()),\n",
       "                (&#x27;kmeans&#x27;, KMeans(n_clusters=5, random_state=42))])</pre><b>In a Jupyter environment, please rerun this cell to show the HTML representation or trust the notebook. <br />On GitHub, the HTML representation is unable to render, please try loading this page with nbviewer.org.</b></div><div class=\"sk-container\" hidden><div class=\"sk-item sk-dashed-wrapped\"><div class=\"sk-label-container\"><div class=\"sk-label sk-toggleable\"><input class=\"sk-toggleable__control sk-hidden--visually\" id=\"sk-estimator-id-4\" type=\"checkbox\" ><label for=\"sk-estimator-id-4\" class=\"sk-toggleable__label sk-toggleable__label-arrow\">Pipeline</label><div class=\"sk-toggleable__content\"><pre>Pipeline(steps=[(&#x27;standardscaler&#x27;, StandardScaler()),\n",
       "                (&#x27;kmeans&#x27;, KMeans(n_clusters=5, random_state=42))])</pre></div></div></div><div class=\"sk-serial\"><div class=\"sk-item\"><div class=\"sk-estimator sk-toggleable\"><input class=\"sk-toggleable__control sk-hidden--visually\" id=\"sk-estimator-id-5\" type=\"checkbox\" ><label for=\"sk-estimator-id-5\" class=\"sk-toggleable__label sk-toggleable__label-arrow\">StandardScaler</label><div class=\"sk-toggleable__content\"><pre>StandardScaler()</pre></div></div></div><div class=\"sk-item\"><div class=\"sk-estimator sk-toggleable\"><input class=\"sk-toggleable__control sk-hidden--visually\" id=\"sk-estimator-id-6\" type=\"checkbox\" ><label for=\"sk-estimator-id-6\" class=\"sk-toggleable__label sk-toggleable__label-arrow\">KMeans</label><div class=\"sk-toggleable__content\"><pre>KMeans(n_clusters=5, random_state=42)</pre></div></div></div></div></div></div></div>"
      ],
      "text/plain": [
       "Pipeline(steps=[('standardscaler', StandardScaler()),\n",
       "                ('kmeans', KMeans(n_clusters=5, random_state=42))])"
      ]
     },
     "execution_count": 43,
     "metadata": {},
     "output_type": "execute_result"
    }
   ],
   "source": [
    "final_model = make_pipeline(\n",
    "    \n",
    "    StandardScaler(),\n",
    "    KMeans(n_clusters=5, random_state=42)\n",
    ")\n",
    "\n",
    "final_model.fit(X)\n"
   ]
  },
  {
   "cell_type": "code",
   "execution_count": 44,
   "id": "b40c6519",
   "metadata": {},
   "outputs": [],
   "source": [
    "labels = final_model.named_steps[\"kmeans\"].labels_"
   ]
  },
  {
   "cell_type": "code",
   "execution_count": 45,
   "id": "45dbbadd",
   "metadata": {},
   "outputs": [
    {
     "data": {
      "text/html": [
       "<div>\n",
       "<style scoped>\n",
       "    .dataframe tbody tr th:only-of-type {\n",
       "        vertical-align: middle;\n",
       "    }\n",
       "\n",
       "    .dataframe tbody tr th {\n",
       "        vertical-align: top;\n",
       "    }\n",
       "\n",
       "    .dataframe thead th {\n",
       "        text-align: right;\n",
       "    }\n",
       "</style>\n",
       "<table border=\"1\" class=\"dataframe\">\n",
       "  <thead>\n",
       "    <tr style=\"text-align: right;\">\n",
       "      <th></th>\n",
       "      <th>DEBT</th>\n",
       "      <th>NETWORTH</th>\n",
       "      <th>HOUSES</th>\n",
       "      <th>NFIN</th>\n",
       "      <th>ASSET</th>\n",
       "    </tr>\n",
       "  </thead>\n",
       "  <tbody>\n",
       "    <tr>\n",
       "      <th>0</th>\n",
       "      <td>3.905315e+05</td>\n",
       "      <td>2.880010e+05</td>\n",
       "      <td>528497.536946</td>\n",
       "      <td>6.065668e+05</td>\n",
       "      <td>6.785324e+05</td>\n",
       "    </tr>\n",
       "    <tr>\n",
       "      <th>1</th>\n",
       "      <td>2.428742e+04</td>\n",
       "      <td>8.932813e+03</td>\n",
       "      <td>6511.275416</td>\n",
       "      <td>2.302086e+04</td>\n",
       "      <td>3.322023e+04</td>\n",
       "    </tr>\n",
       "    <tr>\n",
       "      <th>2</th>\n",
       "      <td>1.224511e+05</td>\n",
       "      <td>2.323046e+05</td>\n",
       "      <td>199394.568690</td>\n",
       "      <td>2.943257e+05</td>\n",
       "      <td>3.547557e+05</td>\n",
       "    </tr>\n",
       "    <tr>\n",
       "      <th>3</th>\n",
       "      <td>1.224280e+06</td>\n",
       "      <td>7.740625e+05</td>\n",
       "      <td>622500.000000</td>\n",
       "      <td>1.348630e+06</td>\n",
       "      <td>1.998342e+06</td>\n",
       "    </tr>\n",
       "    <tr>\n",
       "      <th>4</th>\n",
       "      <td>1.647766e+05</td>\n",
       "      <td>1.198156e+06</td>\n",
       "      <td>478177.966102</td>\n",
       "      <td>1.024213e+06</td>\n",
       "      <td>1.362932e+06</td>\n",
       "    </tr>\n",
       "  </tbody>\n",
       "</table>\n",
       "</div>"
      ],
      "text/plain": [
       "           DEBT      NETWORTH         HOUSES          NFIN         ASSET\n",
       "0  3.905315e+05  2.880010e+05  528497.536946  6.065668e+05  6.785324e+05\n",
       "1  2.428742e+04  8.932813e+03    6511.275416  2.302086e+04  3.322023e+04\n",
       "2  1.224511e+05  2.323046e+05  199394.568690  2.943257e+05  3.547557e+05\n",
       "3  1.224280e+06  7.740625e+05  622500.000000  1.348630e+06  1.998342e+06\n",
       "4  1.647766e+05  1.198156e+06  478177.966102  1.024213e+06  1.362932e+06"
      ]
     },
     "execution_count": 45,
     "metadata": {},
     "output_type": "execute_result"
    }
   ],
   "source": [
    "xgb = X.groupby(labels).mean()\n",
    "xgb"
   ]
  },
  {
   "cell_type": "code",
   "execution_count": 46,
   "id": "cc8c23a7",
   "metadata": {},
   "outputs": [
    {
     "data": {
      "application/vnd.plotly.v1+json": {
       "config": {
        "plotlyServerURL": "https://plot.ly"
       },
       "data": [
        {
         "alignmentgroup": "True",
         "hovertemplate": "variable=DEBT<br>index=%{x}<br>value=%{y}<extra></extra>",
         "legendgroup": "DEBT",
         "marker": {
          "color": "#636efa",
          "pattern": {
           "shape": ""
          }
         },
         "name": "DEBT",
         "offsetgroup": "DEBT",
         "orientation": "v",
         "showlegend": true,
         "textposition": "auto",
         "type": "bar",
         "x": [
          0,
          1,
          2,
          3,
          4
         ],
         "xaxis": "x",
         "y": [
          390531.4778325123,
          24287.419593345658,
          122451.10223642172,
          1224280,
          164776.61016949153
         ],
         "yaxis": "y"
        },
        {
         "alignmentgroup": "True",
         "hovertemplate": "variable=NETWORTH<br>index=%{x}<br>value=%{y}<extra></extra>",
         "legendgroup": "NETWORTH",
         "marker": {
          "color": "#EF553B",
          "pattern": {
           "shape": ""
          }
         },
         "name": "NETWORTH",
         "offsetgroup": "NETWORTH",
         "orientation": "v",
         "showlegend": true,
         "textposition": "auto",
         "type": "bar",
         "x": [
          0,
          1,
          2,
          3,
          4
         ],
         "xaxis": "x",
         "y": [
          288000.960591133,
          8932.812939001848,
          232304.582428115,
          774062.5,
          1198155.5508474577
         ],
         "yaxis": "y"
        },
        {
         "alignmentgroup": "True",
         "hovertemplate": "variable=HOUSES<br>index=%{x}<br>value=%{y}<extra></extra>",
         "legendgroup": "HOUSES",
         "marker": {
          "color": "#00cc96",
          "pattern": {
           "shape": ""
          }
         },
         "name": "HOUSES",
         "offsetgroup": "HOUSES",
         "orientation": "v",
         "showlegend": true,
         "textposition": "auto",
         "type": "bar",
         "x": [
          0,
          1,
          2,
          3,
          4
         ],
         "xaxis": "x",
         "y": [
          528497.5369458128,
          6511.275415896488,
          199394.56869009585,
          622500,
          478177.9661016949
         ],
         "yaxis": "y"
        },
        {
         "alignmentgroup": "True",
         "hovertemplate": "variable=NFIN<br>index=%{x}<br>value=%{y}<extra></extra>",
         "legendgroup": "NFIN",
         "marker": {
          "color": "#ab63fa",
          "pattern": {
           "shape": ""
          }
         },
         "name": "NFIN",
         "offsetgroup": "NFIN",
         "orientation": "v",
         "showlegend": true,
         "textposition": "auto",
         "type": "bar",
         "x": [
          0,
          1,
          2,
          3,
          4
         ],
         "xaxis": "x",
         "y": [
          606566.7980295566,
          23020.861367837337,
          294325.7485623003,
          1348630,
          1024212.7118644068
         ],
         "yaxis": "y"
        },
        {
         "alignmentgroup": "True",
         "hovertemplate": "variable=ASSET<br>index=%{x}<br>value=%{y}<extra></extra>",
         "legendgroup": "ASSET",
         "marker": {
          "color": "#FFA15A",
          "pattern": {
           "shape": ""
          }
         },
         "name": "ASSET",
         "offsetgroup": "ASSET",
         "orientation": "v",
         "showlegend": true,
         "textposition": "auto",
         "type": "bar",
         "x": [
          0,
          1,
          2,
          3,
          4
         ],
         "xaxis": "x",
         "y": [
          678532.4384236453,
          33220.2325323475,
          354755.68466453673,
          1998342.5,
          1362932.1610169492
         ],
         "yaxis": "y"
        }
       ],
       "layout": {
        "barmode": "group",
        "legend": {
         "title": {
          "text": "variable"
         },
         "tracegroupgap": 0
        },
        "template": {
         "data": {
          "bar": [
           {
            "error_x": {
             "color": "#2a3f5f"
            },
            "error_y": {
             "color": "#2a3f5f"
            },
            "marker": {
             "line": {
              "color": "#E5ECF6",
              "width": 0.5
             },
             "pattern": {
              "fillmode": "overlay",
              "size": 10,
              "solidity": 0.2
             }
            },
            "type": "bar"
           }
          ],
          "barpolar": [
           {
            "marker": {
             "line": {
              "color": "#E5ECF6",
              "width": 0.5
             },
             "pattern": {
              "fillmode": "overlay",
              "size": 10,
              "solidity": 0.2
             }
            },
            "type": "barpolar"
           }
          ],
          "carpet": [
           {
            "aaxis": {
             "endlinecolor": "#2a3f5f",
             "gridcolor": "white",
             "linecolor": "white",
             "minorgridcolor": "white",
             "startlinecolor": "#2a3f5f"
            },
            "baxis": {
             "endlinecolor": "#2a3f5f",
             "gridcolor": "white",
             "linecolor": "white",
             "minorgridcolor": "white",
             "startlinecolor": "#2a3f5f"
            },
            "type": "carpet"
           }
          ],
          "choropleth": [
           {
            "colorbar": {
             "outlinewidth": 0,
             "ticks": ""
            },
            "type": "choropleth"
           }
          ],
          "contour": [
           {
            "colorbar": {
             "outlinewidth": 0,
             "ticks": ""
            },
            "colorscale": [
             [
              0,
              "#0d0887"
             ],
             [
              0.1111111111111111,
              "#46039f"
             ],
             [
              0.2222222222222222,
              "#7201a8"
             ],
             [
              0.3333333333333333,
              "#9c179e"
             ],
             [
              0.4444444444444444,
              "#bd3786"
             ],
             [
              0.5555555555555556,
              "#d8576b"
             ],
             [
              0.6666666666666666,
              "#ed7953"
             ],
             [
              0.7777777777777778,
              "#fb9f3a"
             ],
             [
              0.8888888888888888,
              "#fdca26"
             ],
             [
              1,
              "#f0f921"
             ]
            ],
            "type": "contour"
           }
          ],
          "contourcarpet": [
           {
            "colorbar": {
             "outlinewidth": 0,
             "ticks": ""
            },
            "type": "contourcarpet"
           }
          ],
          "heatmap": [
           {
            "colorbar": {
             "outlinewidth": 0,
             "ticks": ""
            },
            "colorscale": [
             [
              0,
              "#0d0887"
             ],
             [
              0.1111111111111111,
              "#46039f"
             ],
             [
              0.2222222222222222,
              "#7201a8"
             ],
             [
              0.3333333333333333,
              "#9c179e"
             ],
             [
              0.4444444444444444,
              "#bd3786"
             ],
             [
              0.5555555555555556,
              "#d8576b"
             ],
             [
              0.6666666666666666,
              "#ed7953"
             ],
             [
              0.7777777777777778,
              "#fb9f3a"
             ],
             [
              0.8888888888888888,
              "#fdca26"
             ],
             [
              1,
              "#f0f921"
             ]
            ],
            "type": "heatmap"
           }
          ],
          "heatmapgl": [
           {
            "colorbar": {
             "outlinewidth": 0,
             "ticks": ""
            },
            "colorscale": [
             [
              0,
              "#0d0887"
             ],
             [
              0.1111111111111111,
              "#46039f"
             ],
             [
              0.2222222222222222,
              "#7201a8"
             ],
             [
              0.3333333333333333,
              "#9c179e"
             ],
             [
              0.4444444444444444,
              "#bd3786"
             ],
             [
              0.5555555555555556,
              "#d8576b"
             ],
             [
              0.6666666666666666,
              "#ed7953"
             ],
             [
              0.7777777777777778,
              "#fb9f3a"
             ],
             [
              0.8888888888888888,
              "#fdca26"
             ],
             [
              1,
              "#f0f921"
             ]
            ],
            "type": "heatmapgl"
           }
          ],
          "histogram": [
           {
            "marker": {
             "pattern": {
              "fillmode": "overlay",
              "size": 10,
              "solidity": 0.2
             }
            },
            "type": "histogram"
           }
          ],
          "histogram2d": [
           {
            "colorbar": {
             "outlinewidth": 0,
             "ticks": ""
            },
            "colorscale": [
             [
              0,
              "#0d0887"
             ],
             [
              0.1111111111111111,
              "#46039f"
             ],
             [
              0.2222222222222222,
              "#7201a8"
             ],
             [
              0.3333333333333333,
              "#9c179e"
             ],
             [
              0.4444444444444444,
              "#bd3786"
             ],
             [
              0.5555555555555556,
              "#d8576b"
             ],
             [
              0.6666666666666666,
              "#ed7953"
             ],
             [
              0.7777777777777778,
              "#fb9f3a"
             ],
             [
              0.8888888888888888,
              "#fdca26"
             ],
             [
              1,
              "#f0f921"
             ]
            ],
            "type": "histogram2d"
           }
          ],
          "histogram2dcontour": [
           {
            "colorbar": {
             "outlinewidth": 0,
             "ticks": ""
            },
            "colorscale": [
             [
              0,
              "#0d0887"
             ],
             [
              0.1111111111111111,
              "#46039f"
             ],
             [
              0.2222222222222222,
              "#7201a8"
             ],
             [
              0.3333333333333333,
              "#9c179e"
             ],
             [
              0.4444444444444444,
              "#bd3786"
             ],
             [
              0.5555555555555556,
              "#d8576b"
             ],
             [
              0.6666666666666666,
              "#ed7953"
             ],
             [
              0.7777777777777778,
              "#fb9f3a"
             ],
             [
              0.8888888888888888,
              "#fdca26"
             ],
             [
              1,
              "#f0f921"
             ]
            ],
            "type": "histogram2dcontour"
           }
          ],
          "mesh3d": [
           {
            "colorbar": {
             "outlinewidth": 0,
             "ticks": ""
            },
            "type": "mesh3d"
           }
          ],
          "parcoords": [
           {
            "line": {
             "colorbar": {
              "outlinewidth": 0,
              "ticks": ""
             }
            },
            "type": "parcoords"
           }
          ],
          "pie": [
           {
            "automargin": true,
            "type": "pie"
           }
          ],
          "scatter": [
           {
            "fillpattern": {
             "fillmode": "overlay",
             "size": 10,
             "solidity": 0.2
            },
            "type": "scatter"
           }
          ],
          "scatter3d": [
           {
            "line": {
             "colorbar": {
              "outlinewidth": 0,
              "ticks": ""
             }
            },
            "marker": {
             "colorbar": {
              "outlinewidth": 0,
              "ticks": ""
             }
            },
            "type": "scatter3d"
           }
          ],
          "scattercarpet": [
           {
            "marker": {
             "colorbar": {
              "outlinewidth": 0,
              "ticks": ""
             }
            },
            "type": "scattercarpet"
           }
          ],
          "scattergeo": [
           {
            "marker": {
             "colorbar": {
              "outlinewidth": 0,
              "ticks": ""
             }
            },
            "type": "scattergeo"
           }
          ],
          "scattergl": [
           {
            "marker": {
             "colorbar": {
              "outlinewidth": 0,
              "ticks": ""
             }
            },
            "type": "scattergl"
           }
          ],
          "scattermapbox": [
           {
            "marker": {
             "colorbar": {
              "outlinewidth": 0,
              "ticks": ""
             }
            },
            "type": "scattermapbox"
           }
          ],
          "scatterpolar": [
           {
            "marker": {
             "colorbar": {
              "outlinewidth": 0,
              "ticks": ""
             }
            },
            "type": "scatterpolar"
           }
          ],
          "scatterpolargl": [
           {
            "marker": {
             "colorbar": {
              "outlinewidth": 0,
              "ticks": ""
             }
            },
            "type": "scatterpolargl"
           }
          ],
          "scatterternary": [
           {
            "marker": {
             "colorbar": {
              "outlinewidth": 0,
              "ticks": ""
             }
            },
            "type": "scatterternary"
           }
          ],
          "surface": [
           {
            "colorbar": {
             "outlinewidth": 0,
             "ticks": ""
            },
            "colorscale": [
             [
              0,
              "#0d0887"
             ],
             [
              0.1111111111111111,
              "#46039f"
             ],
             [
              0.2222222222222222,
              "#7201a8"
             ],
             [
              0.3333333333333333,
              "#9c179e"
             ],
             [
              0.4444444444444444,
              "#bd3786"
             ],
             [
              0.5555555555555556,
              "#d8576b"
             ],
             [
              0.6666666666666666,
              "#ed7953"
             ],
             [
              0.7777777777777778,
              "#fb9f3a"
             ],
             [
              0.8888888888888888,
              "#fdca26"
             ],
             [
              1,
              "#f0f921"
             ]
            ],
            "type": "surface"
           }
          ],
          "table": [
           {
            "cells": {
             "fill": {
              "color": "#EBF0F8"
             },
             "line": {
              "color": "white"
             }
            },
            "header": {
             "fill": {
              "color": "#C8D4E3"
             },
             "line": {
              "color": "white"
             }
            },
            "type": "table"
           }
          ]
         },
         "layout": {
          "annotationdefaults": {
           "arrowcolor": "#2a3f5f",
           "arrowhead": 0,
           "arrowwidth": 1
          },
          "autotypenumbers": "strict",
          "coloraxis": {
           "colorbar": {
            "outlinewidth": 0,
            "ticks": ""
           }
          },
          "colorscale": {
           "diverging": [
            [
             0,
             "#8e0152"
            ],
            [
             0.1,
             "#c51b7d"
            ],
            [
             0.2,
             "#de77ae"
            ],
            [
             0.3,
             "#f1b6da"
            ],
            [
             0.4,
             "#fde0ef"
            ],
            [
             0.5,
             "#f7f7f7"
            ],
            [
             0.6,
             "#e6f5d0"
            ],
            [
             0.7,
             "#b8e186"
            ],
            [
             0.8,
             "#7fbc41"
            ],
            [
             0.9,
             "#4d9221"
            ],
            [
             1,
             "#276419"
            ]
           ],
           "sequential": [
            [
             0,
             "#0d0887"
            ],
            [
             0.1111111111111111,
             "#46039f"
            ],
            [
             0.2222222222222222,
             "#7201a8"
            ],
            [
             0.3333333333333333,
             "#9c179e"
            ],
            [
             0.4444444444444444,
             "#bd3786"
            ],
            [
             0.5555555555555556,
             "#d8576b"
            ],
            [
             0.6666666666666666,
             "#ed7953"
            ],
            [
             0.7777777777777778,
             "#fb9f3a"
            ],
            [
             0.8888888888888888,
             "#fdca26"
            ],
            [
             1,
             "#f0f921"
            ]
           ],
           "sequentialminus": [
            [
             0,
             "#0d0887"
            ],
            [
             0.1111111111111111,
             "#46039f"
            ],
            [
             0.2222222222222222,
             "#7201a8"
            ],
            [
             0.3333333333333333,
             "#9c179e"
            ],
            [
             0.4444444444444444,
             "#bd3786"
            ],
            [
             0.5555555555555556,
             "#d8576b"
            ],
            [
             0.6666666666666666,
             "#ed7953"
            ],
            [
             0.7777777777777778,
             "#fb9f3a"
            ],
            [
             0.8888888888888888,
             "#fdca26"
            ],
            [
             1,
             "#f0f921"
            ]
           ]
          },
          "colorway": [
           "#636efa",
           "#EF553B",
           "#00cc96",
           "#ab63fa",
           "#FFA15A",
           "#19d3f3",
           "#FF6692",
           "#B6E880",
           "#FF97FF",
           "#FECB52"
          ],
          "font": {
           "color": "#2a3f5f"
          },
          "geo": {
           "bgcolor": "white",
           "lakecolor": "white",
           "landcolor": "#E5ECF6",
           "showlakes": true,
           "showland": true,
           "subunitcolor": "white"
          },
          "hoverlabel": {
           "align": "left"
          },
          "hovermode": "closest",
          "mapbox": {
           "style": "light"
          },
          "paper_bgcolor": "white",
          "plot_bgcolor": "#E5ECF6",
          "polar": {
           "angularaxis": {
            "gridcolor": "white",
            "linecolor": "white",
            "ticks": ""
           },
           "bgcolor": "#E5ECF6",
           "radialaxis": {
            "gridcolor": "white",
            "linecolor": "white",
            "ticks": ""
           }
          },
          "scene": {
           "xaxis": {
            "backgroundcolor": "#E5ECF6",
            "gridcolor": "white",
            "gridwidth": 2,
            "linecolor": "white",
            "showbackground": true,
            "ticks": "",
            "zerolinecolor": "white"
           },
           "yaxis": {
            "backgroundcolor": "#E5ECF6",
            "gridcolor": "white",
            "gridwidth": 2,
            "linecolor": "white",
            "showbackground": true,
            "ticks": "",
            "zerolinecolor": "white"
           },
           "zaxis": {
            "backgroundcolor": "#E5ECF6",
            "gridcolor": "white",
            "gridwidth": 2,
            "linecolor": "white",
            "showbackground": true,
            "ticks": "",
            "zerolinecolor": "white"
           }
          },
          "shapedefaults": {
           "line": {
            "color": "#2a3f5f"
           }
          },
          "ternary": {
           "aaxis": {
            "gridcolor": "white",
            "linecolor": "white",
            "ticks": ""
           },
           "baxis": {
            "gridcolor": "white",
            "linecolor": "white",
            "ticks": ""
           },
           "bgcolor": "#E5ECF6",
           "caxis": {
            "gridcolor": "white",
            "linecolor": "white",
            "ticks": ""
           }
          },
          "title": {
           "x": 0.05
          },
          "xaxis": {
           "automargin": true,
           "gridcolor": "white",
           "linecolor": "white",
           "ticks": "",
           "title": {
            "standoff": 15
           },
           "zerolinecolor": "white",
           "zerolinewidth": 2
          },
          "yaxis": {
           "automargin": true,
           "gridcolor": "white",
           "linecolor": "white",
           "ticks": "",
           "title": {
            "standoff": 15
           },
           "zerolinecolor": "white",
           "zerolinewidth": 2
          }
         }
        },
        "title": {
         "text": "Mean Household Finances by Cluster"
        },
        "xaxis": {
         "anchor": "y",
         "domain": [
          0,
          1
         ],
         "title": {
          "text": "Cluster"
         }
        },
        "yaxis": {
         "anchor": "x",
         "domain": [
          0,
          1
         ],
         "title": {
          "text": "Value [$]"
         }
        }
       }
      },
      "text/html": [
       "<div>                            <div id=\"2583cf42-2d05-44e4-a9e7-2c5638a49d9a\" class=\"plotly-graph-div\" style=\"height:525px; width:100%;\"></div>            <script type=\"text/javascript\">                require([\"plotly\"], function(Plotly) {                    window.PLOTLYENV=window.PLOTLYENV || {};                                    if (document.getElementById(\"2583cf42-2d05-44e4-a9e7-2c5638a49d9a\")) {                    Plotly.newPlot(                        \"2583cf42-2d05-44e4-a9e7-2c5638a49d9a\",                        [{\"alignmentgroup\":\"True\",\"hovertemplate\":\"variable=DEBT<br>index=%{x}<br>value=%{y}<extra></extra>\",\"legendgroup\":\"DEBT\",\"marker\":{\"color\":\"#636efa\",\"pattern\":{\"shape\":\"\"}},\"name\":\"DEBT\",\"offsetgroup\":\"DEBT\",\"orientation\":\"v\",\"showlegend\":true,\"textposition\":\"auto\",\"x\":[0,1,2,3,4],\"xaxis\":\"x\",\"y\":[390531.4778325123,24287.419593345658,122451.10223642172,1224280.0,164776.61016949153],\"yaxis\":\"y\",\"type\":\"bar\"},{\"alignmentgroup\":\"True\",\"hovertemplate\":\"variable=NETWORTH<br>index=%{x}<br>value=%{y}<extra></extra>\",\"legendgroup\":\"NETWORTH\",\"marker\":{\"color\":\"#EF553B\",\"pattern\":{\"shape\":\"\"}},\"name\":\"NETWORTH\",\"offsetgroup\":\"NETWORTH\",\"orientation\":\"v\",\"showlegend\":true,\"textposition\":\"auto\",\"x\":[0,1,2,3,4],\"xaxis\":\"x\",\"y\":[288000.960591133,8932.812939001848,232304.582428115,774062.5,1198155.5508474577],\"yaxis\":\"y\",\"type\":\"bar\"},{\"alignmentgroup\":\"True\",\"hovertemplate\":\"variable=HOUSES<br>index=%{x}<br>value=%{y}<extra></extra>\",\"legendgroup\":\"HOUSES\",\"marker\":{\"color\":\"#00cc96\",\"pattern\":{\"shape\":\"\"}},\"name\":\"HOUSES\",\"offsetgroup\":\"HOUSES\",\"orientation\":\"v\",\"showlegend\":true,\"textposition\":\"auto\",\"x\":[0,1,2,3,4],\"xaxis\":\"x\",\"y\":[528497.5369458128,6511.275415896488,199394.56869009585,622500.0,478177.9661016949],\"yaxis\":\"y\",\"type\":\"bar\"},{\"alignmentgroup\":\"True\",\"hovertemplate\":\"variable=NFIN<br>index=%{x}<br>value=%{y}<extra></extra>\",\"legendgroup\":\"NFIN\",\"marker\":{\"color\":\"#ab63fa\",\"pattern\":{\"shape\":\"\"}},\"name\":\"NFIN\",\"offsetgroup\":\"NFIN\",\"orientation\":\"v\",\"showlegend\":true,\"textposition\":\"auto\",\"x\":[0,1,2,3,4],\"xaxis\":\"x\",\"y\":[606566.7980295566,23020.861367837337,294325.7485623003,1348630.0,1024212.7118644068],\"yaxis\":\"y\",\"type\":\"bar\"},{\"alignmentgroup\":\"True\",\"hovertemplate\":\"variable=ASSET<br>index=%{x}<br>value=%{y}<extra></extra>\",\"legendgroup\":\"ASSET\",\"marker\":{\"color\":\"#FFA15A\",\"pattern\":{\"shape\":\"\"}},\"name\":\"ASSET\",\"offsetgroup\":\"ASSET\",\"orientation\":\"v\",\"showlegend\":true,\"textposition\":\"auto\",\"x\":[0,1,2,3,4],\"xaxis\":\"x\",\"y\":[678532.4384236453,33220.2325323475,354755.68466453673,1998342.5,1362932.1610169492],\"yaxis\":\"y\",\"type\":\"bar\"}],                        {\"template\":{\"data\":{\"histogram2dcontour\":[{\"type\":\"histogram2dcontour\",\"colorbar\":{\"outlinewidth\":0,\"ticks\":\"\"},\"colorscale\":[[0.0,\"#0d0887\"],[0.1111111111111111,\"#46039f\"],[0.2222222222222222,\"#7201a8\"],[0.3333333333333333,\"#9c179e\"],[0.4444444444444444,\"#bd3786\"],[0.5555555555555556,\"#d8576b\"],[0.6666666666666666,\"#ed7953\"],[0.7777777777777778,\"#fb9f3a\"],[0.8888888888888888,\"#fdca26\"],[1.0,\"#f0f921\"]]}],\"choropleth\":[{\"type\":\"choropleth\",\"colorbar\":{\"outlinewidth\":0,\"ticks\":\"\"}}],\"histogram2d\":[{\"type\":\"histogram2d\",\"colorbar\":{\"outlinewidth\":0,\"ticks\":\"\"},\"colorscale\":[[0.0,\"#0d0887\"],[0.1111111111111111,\"#46039f\"],[0.2222222222222222,\"#7201a8\"],[0.3333333333333333,\"#9c179e\"],[0.4444444444444444,\"#bd3786\"],[0.5555555555555556,\"#d8576b\"],[0.6666666666666666,\"#ed7953\"],[0.7777777777777778,\"#fb9f3a\"],[0.8888888888888888,\"#fdca26\"],[1.0,\"#f0f921\"]]}],\"heatmap\":[{\"type\":\"heatmap\",\"colorbar\":{\"outlinewidth\":0,\"ticks\":\"\"},\"colorscale\":[[0.0,\"#0d0887\"],[0.1111111111111111,\"#46039f\"],[0.2222222222222222,\"#7201a8\"],[0.3333333333333333,\"#9c179e\"],[0.4444444444444444,\"#bd3786\"],[0.5555555555555556,\"#d8576b\"],[0.6666666666666666,\"#ed7953\"],[0.7777777777777778,\"#fb9f3a\"],[0.8888888888888888,\"#fdca26\"],[1.0,\"#f0f921\"]]}],\"heatmapgl\":[{\"type\":\"heatmapgl\",\"colorbar\":{\"outlinewidth\":0,\"ticks\":\"\"},\"colorscale\":[[0.0,\"#0d0887\"],[0.1111111111111111,\"#46039f\"],[0.2222222222222222,\"#7201a8\"],[0.3333333333333333,\"#9c179e\"],[0.4444444444444444,\"#bd3786\"],[0.5555555555555556,\"#d8576b\"],[0.6666666666666666,\"#ed7953\"],[0.7777777777777778,\"#fb9f3a\"],[0.8888888888888888,\"#fdca26\"],[1.0,\"#f0f921\"]]}],\"contourcarpet\":[{\"type\":\"contourcarpet\",\"colorbar\":{\"outlinewidth\":0,\"ticks\":\"\"}}],\"contour\":[{\"type\":\"contour\",\"colorbar\":{\"outlinewidth\":0,\"ticks\":\"\"},\"colorscale\":[[0.0,\"#0d0887\"],[0.1111111111111111,\"#46039f\"],[0.2222222222222222,\"#7201a8\"],[0.3333333333333333,\"#9c179e\"],[0.4444444444444444,\"#bd3786\"],[0.5555555555555556,\"#d8576b\"],[0.6666666666666666,\"#ed7953\"],[0.7777777777777778,\"#fb9f3a\"],[0.8888888888888888,\"#fdca26\"],[1.0,\"#f0f921\"]]}],\"surface\":[{\"type\":\"surface\",\"colorbar\":{\"outlinewidth\":0,\"ticks\":\"\"},\"colorscale\":[[0.0,\"#0d0887\"],[0.1111111111111111,\"#46039f\"],[0.2222222222222222,\"#7201a8\"],[0.3333333333333333,\"#9c179e\"],[0.4444444444444444,\"#bd3786\"],[0.5555555555555556,\"#d8576b\"],[0.6666666666666666,\"#ed7953\"],[0.7777777777777778,\"#fb9f3a\"],[0.8888888888888888,\"#fdca26\"],[1.0,\"#f0f921\"]]}],\"mesh3d\":[{\"type\":\"mesh3d\",\"colorbar\":{\"outlinewidth\":0,\"ticks\":\"\"}}],\"scatter\":[{\"fillpattern\":{\"fillmode\":\"overlay\",\"size\":10,\"solidity\":0.2},\"type\":\"scatter\"}],\"parcoords\":[{\"type\":\"parcoords\",\"line\":{\"colorbar\":{\"outlinewidth\":0,\"ticks\":\"\"}}}],\"scatterpolargl\":[{\"type\":\"scatterpolargl\",\"marker\":{\"colorbar\":{\"outlinewidth\":0,\"ticks\":\"\"}}}],\"bar\":[{\"error_x\":{\"color\":\"#2a3f5f\"},\"error_y\":{\"color\":\"#2a3f5f\"},\"marker\":{\"line\":{\"color\":\"#E5ECF6\",\"width\":0.5},\"pattern\":{\"fillmode\":\"overlay\",\"size\":10,\"solidity\":0.2}},\"type\":\"bar\"}],\"scattergeo\":[{\"type\":\"scattergeo\",\"marker\":{\"colorbar\":{\"outlinewidth\":0,\"ticks\":\"\"}}}],\"scatterpolar\":[{\"type\":\"scatterpolar\",\"marker\":{\"colorbar\":{\"outlinewidth\":0,\"ticks\":\"\"}}}],\"histogram\":[{\"marker\":{\"pattern\":{\"fillmode\":\"overlay\",\"size\":10,\"solidity\":0.2}},\"type\":\"histogram\"}],\"scattergl\":[{\"type\":\"scattergl\",\"marker\":{\"colorbar\":{\"outlinewidth\":0,\"ticks\":\"\"}}}],\"scatter3d\":[{\"type\":\"scatter3d\",\"line\":{\"colorbar\":{\"outlinewidth\":0,\"ticks\":\"\"}},\"marker\":{\"colorbar\":{\"outlinewidth\":0,\"ticks\":\"\"}}}],\"scattermapbox\":[{\"type\":\"scattermapbox\",\"marker\":{\"colorbar\":{\"outlinewidth\":0,\"ticks\":\"\"}}}],\"scatterternary\":[{\"type\":\"scatterternary\",\"marker\":{\"colorbar\":{\"outlinewidth\":0,\"ticks\":\"\"}}}],\"scattercarpet\":[{\"type\":\"scattercarpet\",\"marker\":{\"colorbar\":{\"outlinewidth\":0,\"ticks\":\"\"}}}],\"carpet\":[{\"aaxis\":{\"endlinecolor\":\"#2a3f5f\",\"gridcolor\":\"white\",\"linecolor\":\"white\",\"minorgridcolor\":\"white\",\"startlinecolor\":\"#2a3f5f\"},\"baxis\":{\"endlinecolor\":\"#2a3f5f\",\"gridcolor\":\"white\",\"linecolor\":\"white\",\"minorgridcolor\":\"white\",\"startlinecolor\":\"#2a3f5f\"},\"type\":\"carpet\"}],\"table\":[{\"cells\":{\"fill\":{\"color\":\"#EBF0F8\"},\"line\":{\"color\":\"white\"}},\"header\":{\"fill\":{\"color\":\"#C8D4E3\"},\"line\":{\"color\":\"white\"}},\"type\":\"table\"}],\"barpolar\":[{\"marker\":{\"line\":{\"color\":\"#E5ECF6\",\"width\":0.5},\"pattern\":{\"fillmode\":\"overlay\",\"size\":10,\"solidity\":0.2}},\"type\":\"barpolar\"}],\"pie\":[{\"automargin\":true,\"type\":\"pie\"}]},\"layout\":{\"autotypenumbers\":\"strict\",\"colorway\":[\"#636efa\",\"#EF553B\",\"#00cc96\",\"#ab63fa\",\"#FFA15A\",\"#19d3f3\",\"#FF6692\",\"#B6E880\",\"#FF97FF\",\"#FECB52\"],\"font\":{\"color\":\"#2a3f5f\"},\"hovermode\":\"closest\",\"hoverlabel\":{\"align\":\"left\"},\"paper_bgcolor\":\"white\",\"plot_bgcolor\":\"#E5ECF6\",\"polar\":{\"bgcolor\":\"#E5ECF6\",\"angularaxis\":{\"gridcolor\":\"white\",\"linecolor\":\"white\",\"ticks\":\"\"},\"radialaxis\":{\"gridcolor\":\"white\",\"linecolor\":\"white\",\"ticks\":\"\"}},\"ternary\":{\"bgcolor\":\"#E5ECF6\",\"aaxis\":{\"gridcolor\":\"white\",\"linecolor\":\"white\",\"ticks\":\"\"},\"baxis\":{\"gridcolor\":\"white\",\"linecolor\":\"white\",\"ticks\":\"\"},\"caxis\":{\"gridcolor\":\"white\",\"linecolor\":\"white\",\"ticks\":\"\"}},\"coloraxis\":{\"colorbar\":{\"outlinewidth\":0,\"ticks\":\"\"}},\"colorscale\":{\"sequential\":[[0.0,\"#0d0887\"],[0.1111111111111111,\"#46039f\"],[0.2222222222222222,\"#7201a8\"],[0.3333333333333333,\"#9c179e\"],[0.4444444444444444,\"#bd3786\"],[0.5555555555555556,\"#d8576b\"],[0.6666666666666666,\"#ed7953\"],[0.7777777777777778,\"#fb9f3a\"],[0.8888888888888888,\"#fdca26\"],[1.0,\"#f0f921\"]],\"sequentialminus\":[[0.0,\"#0d0887\"],[0.1111111111111111,\"#46039f\"],[0.2222222222222222,\"#7201a8\"],[0.3333333333333333,\"#9c179e\"],[0.4444444444444444,\"#bd3786\"],[0.5555555555555556,\"#d8576b\"],[0.6666666666666666,\"#ed7953\"],[0.7777777777777778,\"#fb9f3a\"],[0.8888888888888888,\"#fdca26\"],[1.0,\"#f0f921\"]],\"diverging\":[[0,\"#8e0152\"],[0.1,\"#c51b7d\"],[0.2,\"#de77ae\"],[0.3,\"#f1b6da\"],[0.4,\"#fde0ef\"],[0.5,\"#f7f7f7\"],[0.6,\"#e6f5d0\"],[0.7,\"#b8e186\"],[0.8,\"#7fbc41\"],[0.9,\"#4d9221\"],[1,\"#276419\"]]},\"xaxis\":{\"gridcolor\":\"white\",\"linecolor\":\"white\",\"ticks\":\"\",\"title\":{\"standoff\":15},\"zerolinecolor\":\"white\",\"automargin\":true,\"zerolinewidth\":2},\"yaxis\":{\"gridcolor\":\"white\",\"linecolor\":\"white\",\"ticks\":\"\",\"title\":{\"standoff\":15},\"zerolinecolor\":\"white\",\"automargin\":true,\"zerolinewidth\":2},\"scene\":{\"xaxis\":{\"backgroundcolor\":\"#E5ECF6\",\"gridcolor\":\"white\",\"linecolor\":\"white\",\"showbackground\":true,\"ticks\":\"\",\"zerolinecolor\":\"white\",\"gridwidth\":2},\"yaxis\":{\"backgroundcolor\":\"#E5ECF6\",\"gridcolor\":\"white\",\"linecolor\":\"white\",\"showbackground\":true,\"ticks\":\"\",\"zerolinecolor\":\"white\",\"gridwidth\":2},\"zaxis\":{\"backgroundcolor\":\"#E5ECF6\",\"gridcolor\":\"white\",\"linecolor\":\"white\",\"showbackground\":true,\"ticks\":\"\",\"zerolinecolor\":\"white\",\"gridwidth\":2}},\"shapedefaults\":{\"line\":{\"color\":\"#2a3f5f\"}},\"annotationdefaults\":{\"arrowcolor\":\"#2a3f5f\",\"arrowhead\":0,\"arrowwidth\":1},\"geo\":{\"bgcolor\":\"white\",\"landcolor\":\"#E5ECF6\",\"subunitcolor\":\"white\",\"showland\":true,\"showlakes\":true,\"lakecolor\":\"white\"},\"title\":{\"x\":0.05},\"mapbox\":{\"style\":\"light\"}}},\"xaxis\":{\"anchor\":\"y\",\"domain\":[0.0,1.0],\"title\":{\"text\":\"Cluster\"}},\"yaxis\":{\"anchor\":\"x\",\"domain\":[0.0,1.0],\"title\":{\"text\":\"Value [$]\"}},\"legend\":{\"title\":{\"text\":\"variable\"},\"tracegroupgap\":0},\"title\":{\"text\":\"Mean Household Finances by Cluster\"},\"barmode\":\"group\"},                        {\"responsive\": true}                    ).then(function(){\n",
       "                            \n",
       "var gd = document.getElementById('2583cf42-2d05-44e4-a9e7-2c5638a49d9a');\n",
       "var x = new MutationObserver(function (mutations, observer) {{\n",
       "        var display = window.getComputedStyle(gd).display;\n",
       "        if (!display || display === 'none') {{\n",
       "            console.log([gd, 'removed!']);\n",
       "            Plotly.purge(gd);\n",
       "            observer.disconnect();\n",
       "        }}\n",
       "}});\n",
       "\n",
       "// Listen for the removal of the full notebook cells\n",
       "var notebookContainer = gd.closest('#notebook-container');\n",
       "if (notebookContainer) {{\n",
       "    x.observe(notebookContainer, {childList: true});\n",
       "}}\n",
       "\n",
       "// Listen for the clearing of the current output cell\n",
       "var outputEl = gd.closest('.output');\n",
       "if (outputEl) {{\n",
       "    x.observe(outputEl, {childList: true});\n",
       "}}\n",
       "\n",
       "                        })                };                });            </script>        </div>"
      ]
     },
     "metadata": {},
     "output_type": "display_data"
    }
   ],
   "source": [
    "# Create side-by-side bar chart of `xgb`\n",
    "fig = px.bar(\n",
    "    xgb,\n",
    "    barmode=\"group\",\n",
    "    title= \"Mean Household Finances by Cluster\"\n",
    ")\n",
    "\n",
    "fig.update_layout(xaxis_title=\"Cluster\", yaxis_title= \"Value [$]\")\n",
    "\n",
    "fig.show()"
   ]
  },
  {
   "cell_type": "code",
   "execution_count": 48,
   "id": "98a0acd8",
   "metadata": {},
   "outputs": [
    {
     "name": "stdout",
     "output_type": "stream",
     "text": [
      "X_pca shape: (3672, 2)\n"
     ]
    },
    {
     "data": {
      "text/html": [
       "<div>\n",
       "<style scoped>\n",
       "    .dataframe tbody tr th:only-of-type {\n",
       "        vertical-align: middle;\n",
       "    }\n",
       "\n",
       "    .dataframe tbody tr th {\n",
       "        vertical-align: top;\n",
       "    }\n",
       "\n",
       "    .dataframe thead th {\n",
       "        text-align: right;\n",
       "    }\n",
       "</style>\n",
       "<table border=\"1\" class=\"dataframe\">\n",
       "  <thead>\n",
       "    <tr style=\"text-align: right;\">\n",
       "      <th></th>\n",
       "      <th>PC1</th>\n",
       "      <th>PC2</th>\n",
       "    </tr>\n",
       "  </thead>\n",
       "  <tbody>\n",
       "    <tr>\n",
       "      <th>0</th>\n",
       "      <td>-251204.231325</td>\n",
       "      <td>25992.793610</td>\n",
       "    </tr>\n",
       "    <tr>\n",
       "      <th>1</th>\n",
       "      <td>-250476.854167</td>\n",
       "      <td>27493.459458</td>\n",
       "    </tr>\n",
       "    <tr>\n",
       "      <th>2</th>\n",
       "      <td>-252087.985364</td>\n",
       "      <td>26975.015056</td>\n",
       "    </tr>\n",
       "    <tr>\n",
       "      <th>3</th>\n",
       "      <td>-250366.202109</td>\n",
       "      <td>27561.475569</td>\n",
       "    </tr>\n",
       "    <tr>\n",
       "      <th>4</th>\n",
       "      <td>-250761.623093</td>\n",
       "      <td>26264.858052</td>\n",
       "    </tr>\n",
       "  </tbody>\n",
       "</table>\n",
       "</div>"
      ],
      "text/plain": [
       "             PC1           PC2\n",
       "0 -251204.231325  25992.793610\n",
       "1 -250476.854167  27493.459458\n",
       "2 -252087.985364  26975.015056\n",
       "3 -250366.202109  27561.475569\n",
       "4 -250761.623093  26264.858052"
      ]
     },
     "execution_count": 48,
     "metadata": {},
     "output_type": "execute_result"
    }
   ],
   "source": [
    "# Instantiate transformer\n",
    "pca = PCA(n_components=2, random_state=42)\n",
    "\n",
    "# Transform `X`\n",
    "X_t = pca.fit_transform(X)\n",
    "\n",
    "# Put `X_t` into DataFrame\n",
    "X_pca = pd.DataFrame(X_t, columns=[\"PC1\", \"PC2\"])\n",
    "\n",
    "print(\"X_pca shape:\", X_pca.shape)\n",
    "X_pca.head()"
   ]
  },
  {
   "cell_type": "code",
   "execution_count": 49,
   "id": "425a91e4",
   "metadata": {},
   "outputs": [
    {
     "data": {
      "application/vnd.plotly.v1+json": {
       "config": {
        "plotlyServerURL": "https://plot.ly"
       },
       "data": [
        {
         "hovertemplate": "color=1<br>PC1=%{x}<br>PC2=%{y}<extra></extra>",
         "legendgroup": "1",
         "marker": {
          "color": "#636efa",
          "symbol": "circle"
         },
         "mode": "markers",
         "name": "1",
         "showlegend": true,
         "type": "scattergl",
         "x": [
          -251204.2313249248,
          -250476.85416708235,
          -252087.98536435855,
          -250366.2021090445,
          -250761.6230927794,
          -72074.610447355,
          -78329.54522415875,
          -77116.32270835726,
          -79694.1326239976,
          -79310.46238880866,
          -255846.42623708988,
          -255082.92703662382,
          -252686.16622727475,
          -254179.96901079544,
          -251800.94976296605,
          -271797.5952941337,
          -271388.182679391,
          -271775.46488252596,
          -271465.63912001794,
          -271653.7476186835,
          -259826.83064391138,
          -252887.9012898241,
          -258699.03880581877,
          -258526.86048028735,
          -254993.43705208573,
          -237719.1293599533,
          -238825.6499403391,
          -238101.546595758,
          -238383.04170818478,
          -237497.8252438762,
          6165.353253341767,
          -20391.140675915907,
          -260920.1830985968,
          -260806.27552831834,
          -260411.65188951997,
          -260759.0699788693,
          -260759.0699788693,
          -286754.6394611801,
          -286754.6394611801,
          -286754.6394611801,
          -286754.6394611801,
          -286754.6394611801,
          -249115.48043252903,
          -249782.50064082313,
          -250747.4594759502,
          -246820.73121825387,
          -245220.66522678253,
          -205199.2185157832,
          -205199.2185157832,
          -205199.2185157832,
          -205360.33163551072,
          -205199.2185157832,
          -284177.4260168567,
          -282753.58138837595,
          -281899.2746112874,
          -283038.35031407204,
          -285031.7327939452,
          -292894.91213744914,
          -291401.10935392836,
          -292341.65184725623,
          -291954.3696441213,
          -288413.5037868869,
          -12090.372543441783,
          -11554.377697526304,
          -10840.004287605901,
          -11061.308403683055,
          -11842.07304842659,
          -142358.85666005107,
          -141994.18965954802,
          -140962.17195402618,
          -140822.40666618772,
          -141060.29559365884,
          -271789.45651353395,
          -271789.45651353395,
          -271789.45651353395,
          -271789.45651353395,
          -271789.45651353395,
          -265581.782976986,
          -265581.782976986,
          -265581.782976986,
          -265581.782976986,
          -265581.782976986,
          -271734.13048451464,
          -271734.13048451464,
          -271734.13048451464,
          -271734.13048451464,
          -271734.13048451464,
          -284734.3717453798,
          -284169.46052735345,
          -283287.66686689615,
          -286972.6393977293,
          -284288.1726300446,
          -207357.53157190655,
          -205746.4003746313,
          -205746.4003746313,
          -205746.4003746313,
          -207357.53157190655,
          -177368.56452443905,
          -177368.56452443905,
          -177368.56452443905,
          -177368.56452443905,
          -178979.6957217143,
          -262751.96850533766,
          -260152.02817808953,
          -265078.80838367646,
          -270143.2929460226,
          -268623.2970176819,
          -262461.30185971427,
          -260689.05754271153,
          -264233.5461767171,
          -256550.57749148487,
          -262511.7629214033,
          -282782.8546874415,
          -283619.4214784467,
          -279809.07542017184,
          -288895.42330242664,
          -288332.3964755141,
          -271335.78307557583,
          -271180.87019432185,
          -271313.6526639681,
          -271534.95678004535,
          -271579.2176032607,
          -265550.3056673761,
          -266355.8712660136,
          -265228.0794279209,
          -267000.3237449237,
          -259428.00711773022,
          -279391.98179109104,
          -279391.98179109104,
          -279391.98179109104,
          -279391.98179109104,
          -279391.98179109104,
          -253624.4051113523,
          -258468.86390898173,
          -264430.0493389,
          -261841.17421745582,
          -264107.823099445,
          -266044.5523309669,
          -268777.9427634328,
          -268645.143760663,
          -269784.32635578356,
          -270239.3515980084,
          -233525.85431712354,
          -233525.85431712354,
          -233515.89563190006,
          -231760.91675917467,
          -233338.85233903836,
          -271623.47842647607,
          -271634.54363228,
          -271634.54363228,
          -271634.54363228,
          -271634.54363228,
          -243980.10963358925,
          -242368.97843631398,
          -242485.73369584949,
          -244333.2231014525,
          -244051.30186501326,
          -241339.8253470319,
          -242182.24322053944,
          -242794.0080839503,
          -242019.05513591447,
          -240536.93975218074,
          -256293.67779256115,
          -264188.2206592097,
          -256454.79091228868,
          -262093.75010275198,
          -262415.976342207,
          -253200.01455796012,
          -251540.23368738152,
          -253531.9707320758,
          -253370.85761234834,
          -253038.90143823254,
          -246105.1852272591,
          -243436.18312290157,
          -241516.65451484546,
          -232544.7808717932,
          -234638.77531100856,
          -269631.7413817818,
          -269637.2739846837,
          -269631.7413817818,
          -269648.3391904875,
          -269642.80658758566,
          -271512.8263684374,
          -271512.8263684374,
          -271512.8263684374,
          -271512.8263684374,
          -271512.8263684374,
          -255391.97708256205,
          -202050.45196887507,
          -242074.23216726686,
          -264733.48444781353,
          -202227.4952617368,
          -271623.47842647607,
          -271623.47842647607,
          -271623.47842647607,
          -271623.47842647607,
          -271623.47842647607,
          -31902.170051997673,
          -70276.8717158976,
          -68380.97159292623,
          -31991.974263890294,
          -66013.0159754643,
          -263305.8637177331,
          -263305.8637177331,
          -263305.8637177331,
          -263305.8637177331,
          -263305.8637177331,
          -271081.2833420871,
          -271081.2833420871,
          -268868.2421813156,
          -271081.2833420871,
          -271081.2833420871,
          -271272.81189651036,
          -271272.81189651036,
          -271272.81189651036,
          -271272.81189651036,
          -271272.81189651036,
          -223607.26538835754,
          -221555.33734731362,
          -216575.99473557778,
          -223104.4661598536,
          -206456.19639237865,
          -204717.47386930752,
          -204561.8933524819,
          -204717.47386930752,
          -204556.36074958002,
          -204556.36074958002,
          -264282.9190188551,
          -264282.9190188551,
          -264282.9190188551,
          -264282.9190188551,
          -264282.9190188551,
          -272479.4306387434,
          -272479.4306387434,
          -272479.4306387434,
          -272479.4306387434,
          -272479.4306387434,
          -246363.3649859216,
          -247697.94477404747,
          -247993.77890554752,
          -247963.43097739297,
          -247985.5613890007,
          -277715.6534329893,
          -273543.4303499225,
          -281747.9602059764,
          -264437.4064683605,
          -274223.6202593534,
          -259035.87130606006,
          -257433.12040094368,
          -257427.5877980417,
          -258759.48267252275,
          -258751.10238036388,
          127652.05160286241,
          127813.16472258995,
          127652.05160286241,
          127813.16472258995,
          127813.16472258995,
          -270738.26196216745,
          -270738.26196216745,
          -270738.26196216745,
          -270738.26196216745,
          -270738.26196216745,
          -257509.80666642767,
          -249798.4923467054,
          -256396.93960508003,
          -249912.39991698385,
          -257965.4369475416,
          -169489.8893341613,
          -125222.96645304681,
          -184560.69963901507,
          -126111.1093425595,
          -168750.5872652035,
          -190019.94984340775,
          -195728.5819023774,
          -199534.3366083572,
          -180505.56307845833,
          -184311.31778443808,
          -244267.46294470425,
          -245588.46520871046,
          -243810.2049074705,
          -245234.69081868223,
          -244368.6775530589,
          -258488.0863621625,
          -258459.6094695929,
          -258326.97324243502,
          -258326.97324243502,
          -258326.97324243502,
          -139428.23039923242,
          -113949.28918082829,
          -129603.17778511056,
          -128947.40421747882,
          -126262.12455192182,
          -265602.8993451445,
          -265761.16477561515,
          -265600.0516558876,
          -265600.0516558876,
          -265764.01246487204,
          -252874.3920948896,
          -252817.43830975035,
          -252902.86898745922,
          -252874.3920948896,
          -252959.82277259845,
          -199164.2006853809,
          -200780.8644855581,
          -197724.26150599564,
          -200780.8644855581,
          -203509.62487895187,
          -255455.5982341453,
          -254034.09696784688,
          -275535.96141755476,
          -274085.94334000704,
          -277952.6582134676,
          -278597.1106923777,
          -278435.9975726502,
          -271940.06202874065,
          -271940.06202874065,
          -271940.06202874065,
          -271940.06202874065,
          -271940.06202874065,
          -264567.41218516754,
          -264595.88907773705,
          -264757.00219746464,
          -264595.88907773705,
          -264567.41218516754,
          -243601.97745296604,
          -243601.97745296604,
          -241990.84625569076,
          -243601.97745296604,
          -243601.97745296604,
          -119070.771543196,
          -132254.79104119237,
          -37245.00440288832,
          -145793.61947110275,
          -154585.66890430296,
          -89801.55932932609,
          -100862.48330553687,
          -74900.31249852412,
          -108515.10984927682,
          -41023.52773613091,
          -273092.8330922502,
          -273092.8330922502,
          -273035.879307111,
          -273092.8330922502,
          -273092.8330922502,
          -256870.13318865356,
          -256697.95486312226,
          -256697.95486312226,
          -256686.88965731833,
          -256870.13318865356,
          -271446.43513361434,
          -271446.43513361434,
          -271446.43513361434,
          -271446.43513361434,
          -271446.43513361434,
          -68104.11634491355,
          -68104.11634491355,
          -70028.49336045455,
          -69743.72443475839,
          -68388.8852706097,
          -248001.09689329113,
          -248001.09689329113,
          -248124.75269925979,
          -247990.03168748724,
          -248001.09689329113,
          -245420.63490218052,
          -267683.82897954155,
          -267631.35063977924,
          -254433.91266499396,
          -267690.029218015,
          -270185.0016719746,
          -270185.0016719746,
          -270185.0016719746,
          -270185.0016719746,
          -270185.0016719746,
          -20651.689098832165,
          24782.210664329017,
          24621.097544601493,
          8832.011811304348,
          -24840.63021174774,
          -226527.95944670614,
          -226493.9499512346,
          -226361.31372407672,
          -226338.36943440902,
          -226442.52876899726,
          -164790.25798498382,
          -162512.10657941448,
          -169061.79187042627,
          -167068.40939055313,
          -165075.02691068,
          -162376.1651152446,
          -160765.03391796933,
          -160765.03391796933,
          -160765.03391796933,
          -160765.03391796933,
          -271512.8263684374,
          -271512.8263684374,
          -271512.8263684374,
          -271512.8263684374,
          -271512.8263684374,
          -185097.57418525574,
          -185382.3431109519,
          -185382.3431109519,
          -186993.4743082271,
          -185382.3431109519,
          -253605.44136703876,
          -252316.53640921853,
          -244260.88042284243,
          -248772.04777521302,
          -253766.55448676622,
          -220271.56840766058,
          -220271.56840766058,
          -218660.43721038537,
          -220271.56840766058,
          -218660.43721038537,
          -221693.67629720477,
          -218499.890795224,
          -220111.0219924992,
          -220111.0219924992,
          -220113.8696817561,
          -123993.21092593769,
          -155464.51686706417,
          -158051.64240908728,
          -135933.4217583175,
          -119244.59690937288,
          -274053.7808316131,
          -273057.0895916765,
          -275278.2872121067,
          -273000.1358065373,
          -273000.1358065373,
          -264675.18028410163,
          -264675.18028410163,
          -264675.18028410163,
          -264675.18028410163,
          -264675.18028410163,
          -158699.50294480514,
          -158715.61425677792,
          -156760.91081826153,
          -156476.14189256533,
          -158087.27308984057,
          -246616.11330975842,
          -252580.25923803746,
          -246726.765367797,
          -246948.06948387416,
          -252015.9337420408,
          -103010.06327218672,
          38400.15211665394,
          -113160.72713777465,
          -22681.015396875366,
          47733.70686247365,
          -233133.22885594337,
          -233597.96749970535,
          -219727.2691826912,
          -231692.94071305633,
          -242632.70268139357,
          -214331.68654890396,
          -214331.68654890396,
          -213904.53316035974,
          -216142.1559941665,
          -215715.00260562223,
          -165485.08887963722,
          -169529.41314597157,
          -169606.86958659856,
          -171509.74693958843,
          -165474.0236738334,
          -262339.1084786294,
          -262500.2215983569,
          -262339.1084786294,
          -262500.2215983569,
          -262339.1084786294,
          -267743.3174705244,
          -267582.2043507969,
          -267743.3174705244,
          -267743.3174705244,
          -267743.3174705244,
          -272652.72478881164,
          -272652.72478881164,
          -272652.72478881164,
          -272652.72478881164,
          -272652.72478881164,
          -237979.98773943522,
          -237979.98773943522,
          -236368.85654215995,
          -237979.98773943522,
          -236368.85654215995,
          -273189.3476913183,
          -273028.2345715907,
          -273189.3476913183,
          -273028.2345715907,
          -273189.3476913183,
          -252455.8821462313,
          -250855.81615475993,
          -252455.8821462313,
          -252455.8821462313,
          -252455.8821462313,
          -270738.26196216745,
          -270738.26196216745,
          -270738.26196216745,
          -270738.26196216745,
          -270738.26196216745,
          -181159.90726782367,
          -181159.90726782367,
          -182771.03846509889,
          -180875.13834212752,
          -182771.03846509889,
          -269429.08915239,
          -269429.08915239,
          -269429.08915239,
          -269429.08915239,
          -269440.1543581939,
          -265197.07620389387,
          -265208.14140969777,
          -265197.07620389387,
          -265197.07620389387,
          -265197.07620389387,
          -258332.47791705962,
          -258493.5910367873,
          -258332.47791705962,
          -258332.47791705962,
          -258332.47791705962,
          -252521.96118535934,
          -253848.15891342046,
          -253944.65479693323,
          -254332.26608710398,
          -253876.63580599008,
          -187604.89272811823,
          -189249.38408632288,
          -192148.19179132677,
          -192509.42927457203,
          -193376.90575279732,
          -240907.82634365864,
          -240941.0219610702,
          -241095.9348423242,
          -241062.73922491263,
          -241073.80443071647,
          -257029.91103723788,
          -256868.7979175104,
          -256868.7979175104,
          -256879.86312331425,
          -256868.7979175104,
          -271291.5222523604,
          -271557.08719165303,
          -271656.6740438877,
          -271789.45651353395,
          -271247.26142914494,
          -234556.72920992185,
          -234556.72920992185,
          -234556.72920992185,
          -234556.72920992185,
          -234556.72920992185,
          14801.762386052747,
          15086.531311748913,
          15086.531311748913,
          14801.762386052747,
          15086.531311748913,
          -271623.47842647607,
          -271612.41322067217,
          -271634.54363228,
          -271612.41322067217,
          -271623.47842647607,
          -273382.6992848304,
          -273382.6992848304,
          -273382.6992848304,
          -273382.6992848304,
          -273388.23188773234,
          -232838.75133757276,
          -232838.75133757276,
          -232838.75133757276,
          -232838.75133757276,
          -232838.75133757276,
          -271576.6954652277,
          -271576.6954652277,
          -271576.6954652277,
          -271576.6954652277,
          -271576.6954652277,
          -271013.7855866835,
          -270858.87270542956,
          -270936.3291460565,
          -270737.15544158703,
          -271069.1116157028,
          -274260.92877316434,
          -274260.92877316434,
          -274260.92877316434,
          -274260.92877316434,
          -274260.92877316434,
          -267293.70678074367,
          120149.60947399146,
          -267132.59366101626,
          -267132.59366101626,
          -267132.59366101626,
          -271843.6760219728,
          -271843.6760219728,
          -271843.6760219728,
          -271843.6760219728,
          -271843.6760219728,
          -269810.7945549759,
          -269810.7945549759,
          -269810.7945549759,
          -269810.7945549759,
          -269810.7945549759,
          -149811.5992012998,
          -152356.59653618696,
          -155897.4623934213,
          -156379.46648146072,
          -165437.22140424285,
          -279903.7784978725,
          -279903.7784978725,
          -279903.7784978725,
          -279903.7784978725,
          -279903.7784978725,
          -42250.666817127196,
          -42411.77993685473,
          -42250.666817127196,
          -42261.73202293104,
          -40650.600825655834,
          -113603.43183977998,
          -116923.17659123219,
          -116923.17659123219,
          -114742.50754256462,
          -117492.71444262452,
          -271844.78254255326,
          -271844.78254255326,
          -271844.78254255326,
          -271844.78254255326,
          -271844.78254255326,
          -266582.9569353127,
          -264115.41604105255,
          -266704.6741991551,
          -265830.5229406504,
          -266715.739404959,
          -235236.07058697892,
          -235236.07058697892,
          -233627.7870789607,
          -233343.01815326448,
          -235238.91827623596,
          -157454.46753601264,
          -159065.59873328783,
          -173565.77950876486,
          -155843.33633873743,
          -155843.33633873743,
          -270890.08387469954,
          -270879.0186688956,
          -270879.0186688956,
          -270890.08387469954,
          -270879.0186688956,
          -265022.70548497804,
          -264861.5923652506,
          -264861.5923652506,
          -265022.70548497804,
          -265022.70548497804,
          -267971.9605112032,
          -270682.93593314814,
          -269687.067410801,
          -270572.2838751097,
          -270616.544698325,
          -199615.0997861462,
          -199615.0997861462,
          -199586.62289357654,
          -199615.0997861462,
          -198003.96858887095,
          -238699.57474869242,
          -224043.1458208183,
          -228432.59590934642,
          -227876.66507686724,
          -243277.13333588614,
          -272814.71045361087,
          -272361.92786175397,
          -272418.88164689316,
          -272188.21881707927,
          -272361.92786175397,
          -253623.79015474024,
          -252297.4278831612,
          -253908.55908043648,
          -252297.4278831612,
          -253620.94246548324,
          -191652.09359280855,
          -191784.87606245486,
          -192001.3152112016,
          -191840.20209147412,
          -192001.3152112016,
          -257582.92310246505,
          -258579.61434240162,
          -258807.4294829586,
          -257124.44513209426,
          -257241.20039162962,
          -89159.17597121981,
          -90931.42028822254,
          -90942.4854940264,
          -90496.6034486027,
          -88896.53745713133,
          -257227.30105348743,
          -257073.85138483555,
          -256771.6707723736,
          -256036.96694407752,
          -257825.3157974494,
          -271689.86966129916,
          -271678.8044554954,
          -271783.92391063203,
          -271767.3261019263,
          -271778.3913077301,
          -257331.04981699924,
          -252633.20231769027,
          -252462.359263302,
          -254292.98318826882,
          -256091.88593783215,
          -261327.4151588688,
          -262751.2597873497,
          -262751.2597873497,
          -259900.72284113104,
          -262751.2597873497,
          -266043.603711782,
          -266043.603711782,
          -266043.603711782,
          -266043.603711782,
          -266043.603711782,
          -271844.78254255326,
          -271844.78254255326,
          -271844.78254255326,
          -271844.78254255326,
          -271844.78254255326,
          -257758.77555424286,
          -257764.30815714475,
          -259977.34931791623,
          -257753.24295134092,
          -261637.13018849478,
          -220018.1543231233,
          -219973.89349990783,
          -202173.99388925347,
          -212112.5462506709,
          -199223.49667246907,
          -267990.73951060936,
          -267990.73951060936,
          -267990.73951060936,
          -267990.73951060936,
          -267990.73951060936,
          -256765.95745996747,
          -256544.6533438903,
          -258315.08627250747,
          -257429.86980819883,
          -256876.6095180061,
          -249828.13277763387,
          -251439.2639749092,
          -249828.13277763387,
          -249828.13277763387,
          -249828.13277763387,
          -271843.6760219728,
          -271843.6760219728,
          -271843.6760219728,
          -271843.6760219728,
          -271843.6760219728,
          -266766.0144712277,
          -261813.66723842983,
          -264259.0777210824,
          -265907.793385857,
          -266615.96655730397,
          -239776.77080790585,
          -264064.8975473728,
          -249890.36891263147,
          -264175.54960541136,
          -244247.1139526642,
          -256216.80992898362,
          -256216.80992898362,
          -256216.80992898362,
          -256216.80992898362,
          -256216.80992898362,
          -171749.06650602078,
          -161358.83825619874,
          -183350.49244792288,
          -177189.5839921748,
          -180488.99378253004,
          -227780.95613762303,
          -230358.7660532634,
          -231969.8972505386,
          -226653.16429953036,
          -213603.00160160108,
          -263434.14201708685,
          -262789.6895381768,
          -262145.2370592666,
          -261017.44522117404,
          -263111.9157776318,
          -229961.94397420692,
          -196772.6413103374,
          -240917.6361156784,
          -219811.81743137306,
          -207728.3334518089,
          -269106.95798415854,
          -269106.95798415854,
          -269106.95798415854,
          -269106.95798415854,
          -269106.95798415854,
          -211176.4708871551,
          -209482.756701428,
          -208035.3060520132,
          -208017.89436524743,
          -208046.37125781705,
          -208196.4191717407,
          -208046.37125781705,
          -254074.17370252832,
          -254085.23890833228,
          -254074.17370252832,
          -254068.64109962643,
          -252474.10771105706,
          -249471.8588153108,
          -260285.1664939342,
          -245504.82367976656,
          -254305.25240713637,
          -254634.9234387789,
          -269929.5323564375,
          -269929.5323564375,
          -269929.5323564375,
          -269929.5323564375,
          -269929.5323564375,
          -270588.15007751435,
          -270588.15007751435,
          -270588.15007751435,
          -270588.15007751435,
          -270588.15007751435,
          -249525.065033093,
          -250791.36346206305,
          -250238.1031718702,
          -250520.93355544007,
          -250935.21113751316,
          -234989.37455362422,
          -234828.26143389673,
          -234989.37455362422,
          -234828.26143389673,
          -233378.243356349,
          -270295.65373001323,
          -271568.15239745687,
          -264652.39877004595,
          -268414.56874335743,
          -271368.97869298735,
          -271512.8263684374,
          -271512.8263684374,
          -271512.8263684374,
          -271512.8263684374,
          -271512.8263684374,
          -263813.1602284552,
          -263813.1602284552,
          -263813.1602284552,
          -263813.1602284552,
          -263813.1602284552,
          -273590.18245475454,
          -273590.18245475454,
          -273590.18245475454,
          -273429.06933502696,
          -273590.18245475454,
          -253296.27938586043,
          -253011.51046016422,
          -253000.44525436033,
          -254907.41058313567,
          -253011.51046016422,
          -220300.71700804099,
          -223354.15362627662,
          -220754.21329902855,
          -219014.65973947776,
          -220755.72571714234,
          -260802.43604061066,
          -255279.43513188374,
          -262079.81797641402,
          -257212.59063531898,
          -259030.53989939135,
          -236706.44081885242,
          -236711.48692502134,
          -247849.93610109497,
          -234971.9517286971,
          -235889.810014411,
          -231058.5139881668,
          -231224.4920752246,
          -228617.49235560224,
          -221978.36887328784,
          -230958.92713593206,
          -162468.7449448399,
          -162307.6318251124,
          -162307.6318251124,
          -162307.6318251124,
          -162468.7449448399,
          -239240.4093550328,
          -241012.65367203555,
          -241012.65367203555,
          -241012.65367203555,
          -239240.4093550328,
          -267469.2823414615,
          -263122.0757980754,
          -267794.3562701735,
          -255708.0246013524,
          -267794.3562701735,
          -258286.89444327806,
          -250070.12533717437,
          -256020.2455612889,
          -256031.31076709277,
          -253925.77500483108,
          -282855.902517311,
          -284129.71753289754,
          -280086.8391846604,
          -290432.8950065614,
          -278401.0142161626,
          -261222.18497085015,
          -261222.18497085015,
          -261332.83702888872,
          -261222.18497085015,
          -261222.18497085015,
          -273609.2433612891,
          -273580.7664687195,
          -273580.7664687195,
          -273609.2433612891,
          -273609.2433612891,
          -290342.31603152596,
          -290339.70180201693,
          -301672.51857133524,
          -292841.2948139594,
          -290951.3959812917,
          -235946.32848963584,
          -256713.0961013483,
          -250092.35310012975,
          -255124.09531568075,
          -255897.19729706694,
          -254415.9221442339,
          -260344.9405105742,
          -260234.28845253563,
          -260640.20227557342,
          -260540.6154233387,
          -260518.63125421942,
          -263504.44913562847,
          -263504.44913562847,
          -263504.44913562847,
          -263504.44913562847,
          -263504.44913562847,
          -265150.6229872939,
          -263383.9112731932,
          -265639.49494937854,
          -266439.5279451142,
          -265472.849226749,
          -278938.96652720444,
          -279270.92270132015,
          -278573.8147356771,
          -279370.5095535549,
          -278584.879941481,
          -215987.70708364146,
          -214215.46276663872,
          -214243.93965920835,
          -214215.46276663872,
          -215826.5939639139,
          -256848.29526202258,
          -256848.29526202258,
          -256848.29526202258,
          -256848.29526202258,
          -256848.29526202258,
          -271843.6760219728,
          -271843.6760219728,
          -271843.6760219728,
          -271843.6760219728,
          -271843.6760219728,
          -217224.6214208237,
          -217623.2979167984,
          -219205.95222150398,
          -218983.832459461,
          -216740.51424714027,
          -220059.14782306482,
          -239999.8694024711,
          -231147.70475938515,
          -243316.58345437128,
          -243319.4311436283,
          -261800.9249045304,
          -261639.81178480294,
          -261611.3348922333,
          -261800.9249045304,
          -261811.9901103343,
          -191239.93351205127,
          -194372.39169470908,
          -221964.0168604452,
          -192652.7129347282,
          -204128.98309025296,
          -263320.38433741254,
          -263320.38433741254,
          -263320.38433741254,
          -263320.38433741254,
          -263320.38433741254,
          -318394.60896620876,
          -321349.0189158386,
          -320302.2132145601,
          -316306.85041406,
          -321654.45582825877,
          -21979.383587650416,
          -164468.60533407028,
          -197692.5533957236,
          -203191.9606802407,
          -194505.77412421268,
          -203236.2215034561,
          -234718.5167283612,
          -230680.28580777958,
          -249024.77180335746,
          -250919.209501445,
          -226178.1753973368,
          -265510.84789560025,
          -265124.76732457266,
          -265297.27120132814,
          -265324.10557256,
          -265243.16510544595,
          -197865.59950963597,
          -199482.26330981313,
          -197871.13211253792,
          -199476.73070691124,
          -199476.73070691124,
          -200417.90592208374,
          -192201.1368159801,
          -202077.3710552772,
          -197517.86976698833,
          -195423.39921053057,
          -257767.75012990925,
          -258251.08948909177,
          -258089.97636936425,
          -253095.46965781105,
          -247456.51046734786,
          -254104.69089159006,
          -254104.69089159006,
          -254104.69089159006,
          -254104.69089159006,
          -254104.69089159006,
          -198238.64703402994,
          -198238.64703402994,
          -196627.51583675476,
          -198238.64703402994,
          -198238.64703402994,
          -205010.00868141506,
          -206621.1398786903,
          -206621.1398786903,
          -206621.1398786903,
          -205010.00868141506,
          -90511.9729763788,
          -90511.9729763788,
          -92112.0389678502,
          -90500.90777057495,
          -92123.10417365406,
          -281105.0672548332,
          -275240.50817878876,
          -281492.3494579682,
          -281536.6102811836,
          -280991.56750753766,
          15437.381080074852,
          -265481.36355180264,
          -265818.18469324877,
          -265873.510722268,
          -265873.510722268,
          -265873.510722268,
          -270295.65373001323,
          -269410.43726570456,
          -270406.3057880517,
          -270627.60990412894,
          -270627.60990412894,
          -256639.25107726463,
          -254743.35095429324,
          -254743.35095429324,
          -256354.4821515685,
          -254743.35095429324,
          -246529.49896943726,
          -244752.3896851042,
          -250842.8278884817,
          -245489.36962387475,
          -246263.9340301447,
          -239937.72491590565,
          -240999.25208658728,
          -239439.37929593734,
          -240908.1260303645,
          -239652.95599020948,
          -271844.78254255326,
          -271844.78254255326,
          -271844.78254255326,
          -271844.78254255326,
          -271844.78254255326,
          -235352.6145497251,
          -235352.6145497251,
          -235352.6145497251,
          -235381.09144229477,
          -235352.6145497251,
          -268052.02380139974,
          -267890.9106816722,
          -268052.02380139974,
          -267890.9106816722,
          -268052.02380139974,
          -180439.56935324677,
          -180439.56935324677,
          -180439.56935324677,
          -180439.56935324677,
          -180439.56935324677,
          -270904.24004922545,
          -270893.1748434215,
          -270893.1748434215,
          -270893.1748434215,
          -270904.24004922545,
          -168146.93030523128,
          -166535.799107956,
          -166535.799107956,
          -168146.93030523128,
          -166535.799107956,
          -151571.11407122115,
          -147765.35936524137,
          -136348.0952473021,
          -149668.23671823123,
          -143959.60465926162,
          -240909.63773204418,
          -240909.63773204418,
          -240909.63773204418,
          -240909.63773204418,
          -240909.63773204418,
          25095.77283759405,
          26868.017154596786,
          26706.904034869276,
          22034.62356277115,
          25740.225316504126,
          -252210.7123767162,
          -253174.02577666444,
          -256906.93149793462,
          -253302.60083108125,
          -251260.38566760972,
          -271433.90671520843,
          -271433.90671520843,
          -271433.90671520843,
          -271433.90671520843,
          -271433.90671520843,
          -209747.11097661417,
          -209383.44069871845,
          -209996.50246330755,
          -208804.55120521298,
          -209222.32757899095,
          -256729.0552891572,
          -262045.78824016533,
          -257212.39464833977,
          -253184.56665515172,
          -256245.71592997474,
          -271843.6760219728,
          -271843.6760219728,
          -271843.6760219728,
          -271843.6760219728,
          -271843.6760219728,
          -116710.3403054805,
          -115061.75179444642,
          -112474.19364311588,
          -110644.99554097392,
          -113242.3019279946,
          -313952.4624189999,
          -314826.357794587,
          -314544.130682,
          -314387.2792586197,
          -315406.96085178305,
          -269762.735087602,
          -269779.82122314366,
          -270097.53895097476,
          -269552.82172855275,
          -269427.93122422934,
          -262455.6351704739,
          -262370.2044927651,
          -262038.24831864936,
          -260071.7326542848,
          -262886.04407125805,
          -198509.23659211374,
          -197182.8743205347,
          -197988.4399191723,
          -207531.57129685496,
          -204953.76138121466,
          -271712.00007290696,
          -271767.3261019263,
          -271402.1743103989,
          -271745.1956903186,
          -271546.0219858491,
          -260077.06868105292,
          -260077.06868105292,
          -260077.06868105292,
          -260077.06868105292,
          -260077.06868105292,
          -267529.3522790489,
          -268857.1769755118,
          -268525.22080139595,
          -267971.9605112032,
          -268193.26462728035,
          115592.33347370844,
          -195593.512897084,
          -195593.512897084,
          -195593.512897084,
          -195593.512897084,
          -195593.512897084,
          -229419.62900905148,
          -230176.4534292382,
          -229419.62900905148,
          -229419.62900905148,
          -231030.76020632667,
          -271424.30472200667,
          -271424.30472200667,
          -271424.30472200667,
          -271424.30472200667,
          -271424.30472200667,
          -17744.45746367923,
          -18089.436474472743,
          -17131.15241962512,
          -17951.343824735963,
          -17728.101166532593,
          -211522.53921823422,
          -211522.53921823422,
          -211522.53921823422,
          -211522.53921823422,
          -211361.42609850664,
          -220265.0503115573,
          -218369.1501885859,
          -218653.91911428206,
          -218369.1501885859,
          -218369.1501885859,
          -146452.8477074628,
          -160049.36498445988,
          -140143.0188711751,
          -161104.9527094443,
          -175054.05485057202,
          -172682.84398112033,
          -167752.15104268785,
          -169363.2822399631,
          -171291.55447503846,
          -171893.4644385347,
          -222506.20040177362,
          -221215.96017281024,
          -221614.30758174908,
          -223878.2859214519,
          -224535.5219139674,
          -261663.5803592925,
          -261502.46723956498,
          -261502.46723956498,
          -261502.46723956498,
          -261663.5803592925,
          -273091.0578621635,
          -273091.0578621635,
          -273088.2101729065,
          -273088.2101729065,
          -273088.2101729065,
          -227633.92538341798,
          -227633.92538341798,
          -227633.92538341798,
          -227633.92538341798,
          -227633.92538341798,
          -262761.4270754288,
          -262761.4270754288,
          -262761.4270754288,
          -262761.4270754288,
          -262761.4270754288,
          -268292.851479515,
          -268298.38408241695,
          -268292.851479515,
          -268292.851479515,
          -268298.38408241695,
          -259311.569129496,
          -259311.569129496,
          -259311.569129496,
          -259150.45600976853,
          -259147.60832051153,
          -211826.7168829677,
          -213276.7349605154,
          -213437.84808024293,
          -213435.000390986,
          -213437.84808024293,
          -264906.8314525002,
          -264861.2684243888,
          -264935.3083450698,
          -264878.35455993057,
          -264963.7852376394,
          -195950.36204473287,
          -195657.37560248977,
          -193667.10098267923,
          -195924.7328414202,
          -197141.90547984448,
          -261775.445261043,
          -261775.445261043,
          -261886.09731908157,
          -261775.445261043,
          -261886.09731908157,
          -271844.78254255326,
          -271844.78254255326,
          -271844.78254255326,
          -271844.78254255326,
          -271844.78254255326,
          -241136.84645894912,
          -239235.4137330758,
          -241136.84645894912,
          -241136.84645894912,
          -239240.94633597776,
          -251173.30185216854,
          -251167.76924926665,
          -251173.30185216854,
          -251173.30185216854,
          -251167.76924926665,
          -215388.6205559626,
          -215673.38948165876,
          -215388.6205559626,
          -215388.6205559626,
          -215662.3242758549,
          -274067.60791910323,
          -274067.60791910323,
          -273459.0215998911,
          -273490.3426459059,
          -273800.0385415055,
          -196115.63265937308,
          -196001.72508909463,
          -200204.25351020493,
          -196172.5864445123,
          -196087.15576680348,
          -245136.61495707085,
          -246243.13553745666,
          -245136.61495707085,
          -245136.61495707085,
          -246243.13553745666,
          -90641.80239279025,
          -91533.34782474946,
          -89911.15142167037,
          -92070.3208077868,
          -90167.44345479694,
          -220270.1059827768,
          -221991.8892380906,
          -222276.65816378675,
          -220665.52696651148,
          -221991.8892380906,
          -143087.22029878202,
          -175605.67837578646,
          -188011.38859480558,
          -169322.26670641304,
          -159655.47952276174,
          -195654.4544737121,
          -194043.32327643695,
          -194043.32327643695,
          -194043.32327643695,
          -192147.42315346553,
          -120321.86360433938,
          -120321.86360433938,
          -118710.73240706415,
          -120321.86360433938,
          -120037.0946786432,
          -219057.23171261034,
          -220679.4281156894,
          -220668.36290988553,
          -220676.58042643243,
          -219353.06584411033,
          -263693.03217609995,
          -263693.03217609995,
          -263854.14529582753,
          -263693.03217609995,
          -263693.03217609995,
          -165939.48804910723,
          -166108.81868538167,
          -166074.20906087974,
          -164336.57436837896,
          -166071.36137162283,
          -222632.12157431073,
          -213071.78375977793,
          -221370.68811267096,
          -222344.42622341035,
          -221293.2316720439,
          -212447.06195797457,
          -214499.8204102021,
          -211073.99546109428,
          -214447.0165192158,
          -209626.97563882195,
          -264851.07964326965,
          -264822.6027507001,
          -264822.6027507001,
          -264851.07964326965,
          -264851.07964326965,
          -236195.20031009294,
          -236195.20031009294,
          -236195.20031009294,
          -236195.20031009294,
          -236195.20031009294,
          -38986.537650818645,
          -37120.90672005469,
          -38433.27736062576,
          -37106.91508904672,
          -37328.21920512387,
          -266947.4262814884,
          -267591.8787603985,
          -268880.7837182186,
          -261469.58021075264,
          -262275.1458093903,
          -273081.4211613717,
          -273092.48636717553,
          -273026.09513235226,
          -273432.581321891,
          -273037.1603381563,
          -248954.98846777552,
          -247890.61360783697,
          -247919.0905004066,
          -248801.21324789966,
          -248886.96947683243,
          -255547.8357379313,
          -255558.90094373515,
          -255720.01406346273,
          -255592.09656114675,
          -255525.70532632354,
          -248237.91498513333,
          -248237.91498513333,
          -261449.19080279017,
          -254682.43977423417,
          -254682.43977423417,
          -250710.41464911975,
          -250710.41464911975,
          -250871.5277688472,
          -250707.5669598628,
          -250868.68007959038,
          -271867.4341897005,
          -271867.4341897005,
          -271867.4341897005,
          -271867.4341897005,
          -271867.4341897005,
          -271457.5003394183,
          -271457.5003394183,
          -271457.5003394183,
          -271457.5003394183,
          -271457.5003394183,
          -23670.453697893114,
          -23209.244750318267,
          -24895.161845934123,
          -22202.311022167243,
          -22246.571845382674,
          -268626.1346092091,
          -268736.7866672477,
          -268958.09078332485,
          -268736.7866672477,
          -268875.91561785585,
          -261912.57666209774,
          -261846.18542727455,
          -261868.3158388823,
          -261724.46816343212,
          -261868.3158388823,
          -204153.7481818185,
          -190452.2288692906,
          -183359.01073486413,
          -203129.67557680223,
          -187139.08976269647,
          -275720.89544426097,
          -275720.89544426097,
          -275720.89544426097,
          -275720.89544426097,
          -275720.89544426097,
          -260063.35091890485,
          -266668.98882773326,
          -267313.4413066433,
          -264896.74451073044,
          -262641.16083454515,
          -269129.5565110986,
          -270107.5190941556,
          -270135.99598672526,
          -268873.264477972,
          -269442.80232936423,
          -221654.93998943802,
          -222365.78370317124,
          -221926.70516720408,
          -230876.44839864864,
          -231479.31059662974,
          -271479.630751026,
          -271490.69595682976,
          -271490.69595682976,
          -271490.69595682976,
          -271490.69595682976,
          -271147.62059164554,
          -271147.62059164554,
          -271147.62059164554,
          -271147.62059164554,
          -271147.62059164554,
          -133088.14168723446,
          -53407.269142433586,
          -53424.35527797536,
          -92290.90719714799,
          -53404.42145317663,
          -205111.29271826093,
          -205122.35792406477,
          -205122.35792406477,
          -205111.29271826093,
          -205111.29271826093,
          -266781.4861348942,
          -266942.5992546217,
          -266781.4861348942,
          -266781.4861348942,
          -266781.4861348942,
          -271734.13048451464,
          -271734.13048451464,
          -271734.13048451464,
          -271734.13048451464,
          -271734.13048451464,
          -110012.91313258048,
          -40131.15809034181,
          -96704.51295800226,
          -82908.22959223363,
          -81061.01631353659,
          -272871.925197274,
          -272871.925197274,
          -272882.9904030778,
          -272871.925197274,
          -272598.2214773817,
          -253213.06864841687,
          -251601.93745114165,
          -251601.93745114165,
          -251601.93745114165,
          -251601.93745114165,
          -187151.13883632512,
          -185540.00763904993,
          -187151.13883632512,
          -187151.13883632512,
          -185540.00763904993,
          -271512.8263684374,
          -271512.8263684374,
          -271512.8263684374,
          -271512.8263684374,
          -271512.8263684374,
          -265888.3882538767,
          -265613.36756387056,
          -265802.95757616777,
          -265774.48068359814,
          -265802.95757616777,
          -290496.91096781066,
          -291249.34496247285,
          -289921.5202660101,
          -290400.1718048328,
          -291315.73619729606,
          -252739.04161683706,
          -261600.2632018508,
          -260529.42514889734,
          -264822.52559640125,
          -261467.62697469283,
          -221277.49877108188,
          -222603.86104266095,
          -221277.49877108188,
          -221277.49877108188,
          -221277.49877108188,
          -272061.61474906525,
          -272061.61474906525,
          -272072.6799548691,
          -272050.5495432614,
          -272061.61474906525,
          -254902.7209806109,
          -255828.66857194778,
          -255564.91502104086,
          -257885.07854366367,
          -257300.81706110318,
          -271490.69595682976,
          -271490.69595682976,
          -271490.69595682976,
          -271490.69595682976,
          -271490.69595682976,
          -271843.6760219728,
          -271843.6760219728,
          -271843.6760219728,
          -271843.6760219728,
          -271843.6760219728,
          -239845.72787758484,
          -241454.01138560308,
          -239760.7050228589,
          -241482.4882781727,
          -239874.20477015447,
          -61680.1176406092,
          -61663.031505067425,
          -61668.72688358137,
          -62794.85573754183,
          -62769.55208545314,
          -271307.7998135598,
          -271307.7998135598,
          -271307.7998135598,
          -271307.7998135598,
          -271307.7998135598,
          -205715.10891245658,
          -207895.77796112414,
          -207895.77796112414,
          -208180.5468868203,
          -208465.3158125165,
          -166075.6398301708,
          -170377.72069886394,
          -174578.48992222574,
          -167928.93150662357,
          -181101.45751841646,
          -286409.9115891934,
          -286407.06389993645,
          -286409.9115891934,
          -286296.4118418979,
          -286409.9115891934,
          -247658.02629005825,
          -243231.9439685154,
          -241018.90280774387,
          -239912.38222735815,
          -244338.4645489011,
          -228025.77860111263,
          -209175.54359299253,
          -215620.06838209342,
          -220775.68821337412,
          -201119.88760661642,
          -271734.13048451464,
          -271734.13048451464,
          -271734.13048451464,
          -271734.13048451464,
          -271734.13048451464,
          -221694.58586495547,
          -231694.6644938657,
          -223477.89538776208,
          -226055.70530340238,
          -213972.22132383825,
          -245846.97549902342,
          -245846.97549902342,
          -246010.93630800783,
          -246008.0886187509,
          -246008.0886187509,
          -250204.28614819355,
          -249788.19796545332,
          -247881.23263667815,
          -251895.4880156049,
          -250072.96689114944,
          -249294.3988742347,
          -249101.96117268063,
          -249265.9219816652,
          -249291.55118497772,
          -249104.8088619376,
          -200919.29772094593,
          -183546.9246088899,
          -193616.26189040008,
          -181665.8396222342,
          -203574.94711387178,
          -272243.4343110247,
          -272214.95741845516,
          -272214.95741845516,
          -272376.07053818274,
          -272376.07053818274,
          -252635.65341337025,
          -252635.65341337025,
          -252635.65341337025,
          -252635.65341337025,
          -252474.54029364273,
          -260581.80645168293,
          -260581.80645168293,
          -260581.80645168293,
          -260581.80645168293,
          -260581.80645168293,
          -241435.58825019683,
          -241446.65345600064,
          -241435.58825019683,
          -241150.81932450066,
          -241407.1113576272,
          -262915.41402513755,
          -262948.60964254907,
          -262837.95758451044,
          -263109.72276227665,
          -263242.505231923,
          41145.22663822142,
          71089.69917815649,
          -274381.5906473878,
          -274381.5906473878,
          -274210.7292919701,
          -274381.5906473878,
          -274378.74295813084,
          -205914.78570009847,
          -207525.91689737368,
          -205914.78570009847,
          -207525.91689737368,
          -205914.78570009847,
          -261222.18497085015,
          -261222.18497085015,
          -261222.18497085015,
          -261222.18497085015,
          -261222.18497085015,
          -256748.07835646303,
          -258014.2018002274,
          -259785.22618409316,
          -255875.37338357756,
          -255436.39188458706,
          -39320.39243511651,
          -38963.69967169528,
          -39005.03406970658,
          -39007.14661685072,
          -38351.693296725345,
          -245881.81462759688,
          -247302.6429011625,
          -242404.193345657,
          -237036.99933295973,
          -246736.50601678021,
          -138040.46617297333,
          -138204.42698195783,
          -138040.46617297333,
          -136590.44809542567,
          -136429.33497569815,
          -261822.57350203532,
          -261994.75182756668,
          -262800.3174262043,
          -258278.0848680298,
          -261661.46038230782,
          -146687.06488271488,
          -145075.93368543967,
          -145075.93368543967,
          -146687.06488271488,
          -146402.29595701874,
          -271928.0628770188,
          -269719.68475028255,
          -270127.3416674464,
          -265038.4238569953,
          -268165.50733814656,
          -245551.87477737234,
          -246434.65844703044,
          -244669.0911077143,
          -246080.88405700217,
          -246564.99123068564,
          -224458.46714252356,
          -221789.6937887288,
          -223668.83171702016,
          -227063.27243710196,
          -226008.072072306,
          -250350.98662952674,
          -263995.75156130834,
          -267158.2203675262,
          -236318.82415660413,
          -247471.34820687893,
          -271553.9962229309,
          -271525.5193303613,
          -271576.7777369866,
          -271599.55925104226,
          -271587.8429427904,
          -257274.68083606593,
          -255824.66275851824,
          -255019.09715988065,
          -257435.79395579346,
          -256791.34147688336,
          -252964.8833543928,
          -252964.8833543928,
          -252964.8833543928,
          -252964.8833543928,
          -252803.77023466528,
          -258035.09122957516,
          -258037.93891883208,
          -258055.02505437384,
          -258055.02505437384,
          -258029.39585106116,
          -283111.47597534413,
          -281678.8520712509,
          -281421.5896683578,
          -284266.66469581047,
          -281227.13468873035,
          -224593.67685718965,
          -224754.78997691718,
          -224754.78997691718,
          -226365.9211741924,
          -224754.78997691718,
          -271384.19013273815,
          -271384.19013273815,
          -271384.19013273815,
          -271384.19013273815,
          -271384.19013273815,
          -228704.6277663926,
          -229606.61542245423,
          -227391.4351959503,
          -226225.3458131981,
          -226519.56986763707,
          -271070.2181362833,
          -271070.2181362833,
          -271070.2181362833,
          -271070.2181362833,
          -271070.2181362833,
          -180475.44532778655,
          -188681.33074253282,
          -185650.6615514503,
          -171514.07079052608,
          -178380.97477132882,
          -263134.6532679919,
          -259429.05151425884,
          -261362.40895098905,
          -260556.84335235148,
          -248956.69873196987,
          -263107.6641729591,
          -263268.7772926866,
          -263268.7772926866,
          -263268.7772926866,
          -263268.7772926866,
          -271686.9432360951,
          -271686.9432360951,
          -271686.9432360951,
          -271686.9432360951,
          -271686.9432360951,
          -271844.78254255326,
          -271844.78254255326,
          -271844.78254255326,
          -271844.78254255326,
          -271844.78254255326,
          -271527.2293582402,
          -271527.2293582402,
          -271527.2293582402,
          -271527.2293582402,
          -271527.2293582402,
          -144411.90507710574,
          -133778.43917508936,
          -135228.45725263702,
          -141189.6426825553,
          -136628.01426849572,
          -244699.898312388,
          -246418.83387844483,
          -244725.52751570067,
          -245389.4398639321,
          -246746.07132771856,
          -280234.0159428894,
          -280234.0159428894,
          -280231.1682536325,
          -280234.0159428894,
          -280231.1682536325,
          -296985.5713154773,
          -296985.5713154773,
          -296985.5713154773,
          -296985.5713154773,
          -296974.50610967353,
          -223130.62358195998,
          -223127.77589270304,
          -223127.77589270304,
          -223127.77589270304,
          -223127.77589270304,
          -241901.5910746832,
          -243610.02161856517,
          -245823.06277933664,
          -234757.8569754793,
          -249142.62452049388,
          -105845.06826337207,
          -102397.24750120314,
          -102703.3624286854,
          -104314.49362596063,
          -105845.06826337207,
          -263862.2770048037,
          -263585.6468597072,
          -263884.40741641144,
          -263563.51644809946,
          -263701.1638850761,
          -269108.4752044883,
          -269279.336559906,
          -269023.04452677944,
          -269023.04452677944,
          -269023.04452677944,
          -190404.76641397,
          -193665.3452761802,
          -193833.8167585538,
          -192323.39216772097,
          -190191.4642975043,
          -222989.4169360843,
          -222989.4169360843,
          -211924.2111322269,
          -217061.39305042088,
          -222989.4169360843,
          -308768.58669401315,
          -308390.90294826817,
          -308627.58670781995,
          -308600.1652048695,
          -308456.3175294194,
          -233834.10372714666,
          -233834.10372714666,
          -233672.99060741914,
          -233834.10372714666,
          -233845.16893295053,
          -271631.6172070759,
          -271631.6172070759,
          -271631.6172070759,
          -271631.6172070759,
          -271631.6172070759,
          -271368.97869298735,
          -271368.97869298735,
          -271368.97869298735,
          -271368.97869298735,
          -271368.97869298735,
          -269946.7668124859,
          -269946.7668124859,
          -270107.87993221334,
          -270107.87993221334,
          -270107.87993221334,
          -262621.42630864563,
          -263588.1050270108,
          -257304.69335763744,
          -262299.2000691906,
          -251343.5079277191,
          -235138.46274085867,
          -263115.85847861797,
          -262954.7453588904,
          -262954.7453588904,
          -262954.7453588904,
          -262954.7453588904,
          -281050.9499527243,
          -281039.88474692043,
          -281050.9499527243,
          -281050.9499527243,
          -281039.88474692043,
          -220564.98786202955,
          -228438.37011831,
          -229354.2643855272,
          -227952.8075913662,
          -226253.15907119017,
          -219069.1550489976,
          -223799.53368101956,
          -233279.03429587648,
          -217349.47628901672,
          -234599.86396455357,
          -77964.58422049506,
          -163646.11117855535,
          -168574.81034565566,
          -143131.91701232234,
          -173337.71443061525,
          -106815.3827822756,
          -135105.15106659956,
          -161704.92144162024,
          -119480.65457760436,
          -206459.95234654564,
          -274110.73461675236,
          -274110.73461675236,
          -274110.73461675236,
          -274110.73461675236,
          -274110.73461675236,
          -245370.97129231514,
          -245370.97129231514,
          -245370.97129231514,
          -245370.97129231514,
          -245370.97129231514,
          -272162.6172187526,
          -272162.6172187526,
          -272162.6172187526,
          -272159.76952949556,
          -272162.6172187526,
          -68975.45516296504,
          -71236.43785005584,
          -75694.85079248759,
          -60401.60272082388,
          -68268.26186982411,
          -139812.80685788192,
          -130064.90702344793,
          -128148.81503099504,
          -128797.27332333465,
          -137104.52170674314,
          -271822.6521309455,
          -271357.9134871836,
          -271767.3261019263,
          -271712.00007290696,
          -271833.7173367494,
          -218652.75906537625,
          -215430.4966708258,
          -215430.4966708258,
          -215430.4966708258,
          -215430.4966708258,
          -271291.5222523604,
          -271291.5222523604,
          -271291.5222523604,
          -271291.5222523604,
          -271291.5222523604,
          -265424.79022025963,
          -265424.79022025963,
          -265424.79022025963,
          -265453.26711282926,
          -265424.79022025963,
          -77254.23989276982,
          -75643.1086954946,
          -75643.1086954946,
          -77254.23989276982,
          -77254.23989276982,
          -197885.147886595,
          -197885.147886595,
          -197885.147886595,
          -197885.147886595,
          -197885.147886595,
          -202687.93140295148,
          -202687.93140295148,
          -202687.93140295148,
          -202687.93140295148,
          -202972.70032864765,
          -271734.13048451464,
          -271734.13048451464,
          -271734.13048451464,
          -271734.13048451464,
          -271734.13048451464,
          -254182.22665449276,
          -253987.37861710004,
          -253726.59637337897,
          -254094.3856409453,
          -253977.19302799145,
          -162806.66043156054,
          -162800.96505304662,
          -162809.50812081754,
          -162798.11736378964,
          -162812.35581007446,
          -271049.7154807955,
          -271049.7154807955,
          -271049.7154807955,
          -271049.7154807955,
          -271049.7154807955,
          -154375.2062005579,
          -146174.35382297396,
          -144575.34596921527,
          -143353.93213288026,
          -140282.2106608365,
          -263430.63992588565,
          -263791.09129360045,
          -263591.7530456131,
          -263591.7530456131,
          -263791.09129360045,
          -271512.8263684374,
          -271512.8263684374,
          -271512.8263684374,
          -271512.8263684374,
          -271512.8263684374,
          -152384.82068410915,
          -153480.27605869103,
          -149850.88855502577,
          -150393.0836394148,
          -152052.86450999344,
          -259087.65628009697,
          -259087.65628009697,
          -258926.5431603694,
          -259087.65628009697,
          -259087.65628009697,
          -222721.4825633628,
          -218543.60665625113,
          -184226.5121542889,
          -227753.22792978672,
          -191416.79615777268,
          -95477.06393211914,
          -122918.7743256854,
          -106542.2697359765,
          -128672.68134369123,
          -122476.16609353106,
          -150751.10159050857,
          -150751.10159050857,
          -150756.63419341051,
          -150751.10159050857,
          -150756.63419341051,
          -274848.53648539406,
          -275003.449366648,
          -275058.77539566736,
          -273697.75508179294,
          -274560.84113449376,
          -271048.0877246754,
          -271048.0877246754,
          -271048.0877246754,
          -271048.0877246754,
          -271048.0877246754,
          -248148.50877650653,
          -248134.92143266983,
          -248181.70439391807,
          -246618.00726033933,
          -248170.6391881143,
          -231876.51453434868,
          -231876.51453434868,
          -231876.51453434868,
          -231876.51453434868,
          -231876.51453434868,
          -256343.566724781,
          -256354.63193058496,
          -256504.6798445086,
          -256343.566724781,
          -256354.63193058496,
          -246418.20799182256,
          -246702.97691751874,
          -246446.6848843922,
          -244778.59990197766,
          -244607.73854656,
          -271734.13048451464,
          -271734.13048451464,
          -271734.13048451464,
          -271734.13048451464,
          -271734.13048451464,
          -271844.78254255326,
          -271844.78254255326,
          -271844.78254255326,
          -271844.78254255326,
          -271844.78254255326,
          -234207.2046130496,
          -234207.2046130496,
          -232596.07341577436,
          -234178.72772047995,
          -232596.07341577436,
          -249295.62213641612,
          -249074.31802033895,
          -249306.6873422199,
          -250685.44921761422,
          -250895.68812788744,
          -271909.17287488293,
          -271909.17287488293,
          -271906.325185626,
          -271909.17287488293,
          -271906.325185626,
          -225227.61742585048,
          -222016.42023710388,
          -223627.5514343791,
          -223650.49572404684,
          -222010.887634202,
          -151371.1031052277,
          -169977.49744342477,
          -161709.31656352527,
          -134805.19638602622,
          -137284.58882042693,
          -264444.9394205178,
          -264444.9394205178,
          -264473.4163130874,
          -264473.4163130874,
          -264473.4163130874,
          -1576.885082321934,
          17504.135914032042,
          36964.001336658366,
          -55768.70211982505,
          -230628.15064481754,
          -230599.67375224797,
          -230599.67375224797,
          -230628.15064481754,
          -230628.15064481754,
          -270793.58799118677,
          -270185.0016719746,
          -270793.58799118677,
          -270847.80749962566,
          -270793.58799118677,
          -243379.98411038908,
          -244993.96299692124,
          -243382.83179964608,
          -244991.1153076642,
          -244993.96299692124,
          -305617.27060953807,
          -305560.3168243989,
          -305902.0395352343,
          -305702.7012872469,
          -305275.5478987027,
          -222523.2052778437,
          -221843.01536841274,
          -222127.7842941089,
          -221668.89850075517,
          -222238.4363521475,
          -224426.34510171044,
          -224426.34510171044,
          -224426.34510171044,
          -224711.11402740658,
          -224426.34510171044,
          -110660.78357678548,
          -110649.71837098163,
          -110821.89669651302,
          -110649.71837098163,
          -110657.93588752853,
          -269510.2774095909,
          -269515.8100124929,
          -269510.2774095909,
          -269504.74480668904,
          -269510.2774095909,
          -261675.50629443364,
          -261405.07638781072,
          -261770.228179338,
          -261432.07176674876,
          -261659.57612129944,
          49286.18525388226,
          52907.12414440733,
          50547.0506725512,
          50925.793343727084,
          49501.94871524627,
          -211742.3070833389,
          -227167.8870113076,
          -227157.5671198393,
          -218760.2649433664,
          -219641.85863090388,
          -214891.5640223932,
          -214758.9277952352,
          -215043.69672093142,
          -214758.9277952352,
          -215043.69672093142,
          -264753.86611044547,
          -264894.62281717354,
          -264844.01551299624,
          -264793.4082088188,
          -264905.6880229774,
          -215481.43101261693,
          -217128.9975674164,
          -227081.5756329985,
          -188353.35531949767,
          -222248.1820411728,
          -265453.89801341004,
          -257076.015787579,
          -252242.6221957533,
          -252242.6221957533,
          -264487.219295045,
          -262308.60606298945,
          -252000.214089685,
          -260711.3877607751,
          -254264.0152824172,
          -263103.1064558233,
          -249026.8067426882,
          -250294.4404428015,
          -250122.26211727015,
          -252346.36848384544,
          -250294.4404428015,
          -271656.6740438877,
          -271712.00007290696,
          -271689.86966129916,
          -271712.00007290696,
          -271612.41322067217,
          -203165.9070886439,
          -202501.9947404124,
          -202944.6029725667,
          -203276.55914668247,
          -202612.646798451,
          -271805.7340747334,
          -271805.7340747334,
          -271805.7340747334,
          -271805.7340747334,
          -271805.7340747334,
          -266900.73689268896,
          -266900.73689268896,
          -266900.73689268896,
          -266900.73689268896,
          -266900.73689268896,
          -271777.28478714975,
          -271766.21958134585,
          -271500.65464205324,
          -271721.9587581304,
          -271611.3067000918,
          -257849.80071155966,
          -257744.03192188096,
          -258313.2406862375,
          -257857.93949215944,
          -257927.5862392225,
          -242605.64574151405,
          -242605.64574151405,
          -242605.64574151405,
          -242634.12263408367,
          -244216.7769387892,
          -213105.67953110536,
          -211494.54833383014,
          -211209.77940813403,
          -211209.77940813403,
          -211494.54833383014,
          -268934.6334161387,
          -269510.0241179393,
          -269576.41535276244,
          -269189.1331496274,
          -267418.7002210102,
          -271844.78254255326,
          -271844.78254255326,
          -271844.78254255326,
          -271844.78254255326,
          -271844.78254255326,
          -255003.1669867464,
          -254992.10178094267,
          -254992.10178094267,
          -254992.10178094267,
          -254992.10178094267,
          36033.51036729288,
          35737.67623579287,
          24969.411084015905,
          -15984.02211664058,
          -261585.81533006637,
          -262069.1546892489,
          -262069.1546892489,
          -259652.45789333605,
          -254174.61182260027,
          -242704.80702185543,
          -244183.3019919727,
          -242543.69390212785,
          -242572.17079469748,
          -242572.17079469748,
          -265678.53395569825,
          -265678.53395569825,
          -265517.4208359707,
          -265678.53395569825,
          -265517.4208359707,
          -192156.25533421375,
          -194684.13516956812,
          -192180.67936960713,
          -187590.13738787468,
          -182622.1043777204,
          -253663.32203061727,
          -252523.76958861962,
          -251169.4071636839,
          -250967.87232888755,
          -252370.79665918063,
          -134893.70400328163,
          -155430.72597524087,
          -158562.1792177325,
          -119590.52437654688,
          -158185.9622204014,
          -272704.05485976045,
          -274211.70240983024,
          -274099.42259567167,
          -272875.08075869613,
          -272876.70851481607,
          -252647.11719630574,
          -254258.24839358096,
          -252647.11719630574,
          -253973.47946788472,
          -254258.24839358096,
          -224990.12626461344,
          -246095.9449489188,
          -230467.97233534922,
          -187934.10872728346,
          -239490.3070400904,
          -257410.24918600477,
          -253060.19495336167,
          -260793.62470028267,
          -258215.81478464234,
          -257732.47542545982,
          -271754.4721322963,
          -271757.31982155325,
          -271754.4721322963,
          -271757.31982155325,
          -271757.31982155325,
          -291119.173974242,
          -291119.173974242,
          -291119.173974242,
          -291119.173974242,
          -291119.173974242,
          -271513.1519196615,
          -271579.5431544847,
          -271601.67356609245,
          -271543.49984781607,
          -271532.43464201223,
          -256263.8343750693,
          -257798.84440286073,
          -261264.54132509604,
          -250680.67733086774,
          -253894.06894465833,
          -124342.09087176085,
          -152002.25769214728,
          -133476.17675128594,
          -153568.57321301752,
          -96935.19017007978,
          -303749.2521624771,
          -291134.34022870037,
          -315347.1732354975,
          -297887.0271029225,
          -294610.0469671205,
          -193874.42530833036,
          -193874.42530833036,
          -193874.42530833036,
          -193589.65638263425,
          -191978.525185359,
          -232917.31421901408,
          -227730.64003346136,
          -233143.3370599332,
          -230851.02807014907,
          -230138.4660486143,
          -242103.29591016748,
          -241939.33510118304,
          -241942.18279043995,
          -241950.72585821088,
          -242094.7528423966,
          22055.22939490464,
          28235.366436121883,
          -256529.34283583701,
          -256529.34283583701,
          -256529.34283583701,
          -256529.34283583701,
          -256529.34283583701,
          -261905.371027235,
          -254285.26388063887,
          -264222.4809709132,
          -254985.04238856828,
          -262679.07627960417,
          -273381.4282207322,
          -276229.1174776938,
          -276229.1174776938,
          -275061.56488233944,
          -277083.4242547823,
          -270151.80605456297,
          -271059.1529304793,
          -271778.3913077301,
          -271745.1956903186,
          -271634.54363228,
          -131560.31505091174,
          -128803.13092083336,
          -123977.28253152184,
          -123977.28253152184,
          -123977.28253152184,
          -260967.65589047517,
          -264137.1697177087,
          -262579.8233886217,
          -263465.0398529303,
          -262798.2798154419,
          -239205.53126733974,
          -216901.00279196745,
          -239316.1833253783,
          -239316.1833253783,
          -239316.1833253783,
          -245963.70947312028,
          -246248.47839881646,
          -246248.47839881646,
          -246533.24732451263,
          -246533.24732451263,
          -275408.98297168885,
          -275389.04914689006,
          -275406.13528243196,
          -275408.98297168885,
          -275389.04914689006,
          -140608.78337953758,
          -140899.24768374773,
          -140890.70461597678,
          -138852.42003015734,
          -139282.42110795854,
          -49992.904510142034,
          13111.014800190045,
          14173.79561292894,
          -21693.178742978605,
          -279102.7409558298,
          -279102.7409558298,
          -279102.7409558298,
          -279102.7409558298,
          -279102.7409558298,
          -275419.98712060443,
          -248420.88495919242,
          -275851.5301469549,
          -275895.7909701703,
          -270551.29656690714,
          -269254.2929492338,
          -269254.2929492338,
          -269254.2929492338,
          -269415.4060689613,
          -269254.2929492338,
          -248519.77437696606,
          -246424.53600600737,
          -247750.89827758638,
          -248235.0054512698,
          -248235.0054512698,
          -75795.20603440054,
          -75784.14082859668,
          -75795.20603440054,
          -75803.42355094745,
          -75803.42355094745,
          -252892.47157477055,
          -252903.53678057448,
          -252892.47157477055,
          -252903.53678057448,
          -252903.53678057448,
          -271842.56950139237,
          -271842.56950139237,
          -271842.56950139237,
          -271842.56950139237,
          -271842.56950139237,
          -218221.17723955974,
          -218060.06411983215,
          -218221.17723955974,
          -218221.17723955974,
          -218221.17723955974,
          -273838.1650224264,
          -273838.1650224264,
          -273838.1650224264,
          -273838.1650224264,
          -273838.1650224264,
          -153459.31944342479,
          -153819.02805559806,
          -184703.3850983386,
          -199583.68125935545,
          -163936.76814169114,
          -32083.987569097513,
          -30574.263128680763,
          -30972.30704297761,
          -31514.449717705196,
          -30644.43887117657,
          -260557.134226966,
          -260073.79486778338,
          -252179.2520011349,
          -262812.71790315135,
          -261040.47358614855,
          118005.99712571639,
          118005.99712571639,
          118005.99712571639,
          119493.47251702296,
          119617.12832299159,
          -189260.0858423855,
          -190200.62833571335,
          -185686.0243677396,
          -190477.2584808098,
          -185785.61121997426,
          -212485.2127629029,
          -212485.2127629029,
          -214257.4570799056,
          -212646.32588263042,
          -212485.2127629029,
          -225527.37790593604,
          -222761.07645497174,
          -229021.05651475088,
          -229934.7498716291,
          -224642.16144162745,
          -235396.45271345577,
          -235396.45271345577,
          -235396.45271345577,
          -233753.99693435399,
          -235367.97582088612,
          -274611.11935163534,
          -274611.11935163534,
          -274611.11935163534,
          -274611.11935163534,
          -274611.11935163534,
          -265149.3014730265,
          -280229.40067934885,
          -267892.2210096635,
          -262194.9820750782,
          -267489.7271636117,
          -272751.17751547997,
          -272751.17751547997,
          -272751.17751547997,
          -272751.17751547997,
          -272751.17751547997,
          -232295.5428827609,
          -232295.5428827609,
          -232096.20463477363,
          -232865.08073415328,
          -232865.08073415328,
          -259190.82694388911,
          -259674.9341175726,
          -259617.9803324334,
          -259190.82694388911,
          -259674.9341175726,
          -244334.64905976068,
          -242723.51786248546,
          -242723.51786248546,
          -241112.38666521022,
          -241112.38666521022,
          -216005.05751216828,
          -214277.7153011118,
          -214761.82247479536,
          -215188.97586333955,
          -214704.8686896561,
          -271844.78254255326,
          -271844.78254255326,
          -271844.78254255326,
          -271844.78254255326,
          -271844.78254255326,
          -260405.9681663708,
          -260567.08128609828,
          -260567.08128609828,
          -260405.9681663708,
          -260567.08128609828,
          22389.86166677129,
          25747.007875428033,
          17890.711754689284,
          15688.735799721675,
          16795.256380107436,
          -190783.26239272256,
          -194404.19086828167,
          -193603.7461198922,
          -188575.753834853,
          -186137.3383799863,
          -271568.15239745687,
          -271800.52171933785,
          -271734.13048451464,
          -271828.18473384745,
          -271800.52171933785,
          -271827.45312754635,
          -271910.4421710754,
          -271910.4421710754,
          -271882.7791565656,
          -271783.192304331,
          -270771.45757957903,
          -270760.3923737752,
          -270760.3923737752,
          -270771.45757957903,
          -270771.45757957903,
          -244211.19730177723,
          -240891.63556062,
          -107113.29739198447,
          -210842.92544743133,
          -246583.5401938906,
          -241681.97397160876,
          -241690.51703937966,
          -241747.4708245189,
          -241736.08006749104,
          -241727.53699972015,
          -268753.1045855092,
          -266531.9069650791,
          -267386.2137421676,
          -266645.8145353575,
          -267414.69063473726,
          -255577.33407706892,
          -255500.88257660813,
          -257856.76647266364,
          -253191.10225285892,
          -261725.94284784974,
          -230100.6714384648,
          -228961.5957356801,
          -229370.02046734493,
          -228961.5957356801,
          -229085.2515416488,
          -275773.4871965799,
          -277596.00832103536,
          -274976.1342046307,
          -275887.39476685843,
          -277880.77724673145,
          -226447.03153306548,
          -226787.12648778097,
          -226499.50987282782,
          -226798.19169358478,
          -227908.54094042952,
          -310282.7983057393,
          -311126.19734891836,
          -308271.37425152306,
          -309347.54690375424,
          -305596.4421362466,
          -272364.61100749305,
          -272367.45869675,
          -272364.61100749305,
          -272367.45869675,
          -272364.61100749305,
          -267469.9586276356,
          -267469.9586276356,
          -267469.9586276356,
          -267469.9586276356,
          -267469.9586276356,
          -132635.12998229993,
          -129315.56824114271,
          -134848.17114307138,
          -130422.08882152845,
          -137061.21230384285,
          -246128.285570212,
          -246670.480654601,
          -246637.2850371894,
          -245895.916248331,
          -246006.5683063695,
          -96280.56388764839,
          -91695.1798347635,
          -126931.18396433325,
          -123994.51557622314,
          -73326.93820036027,
          -285961.5115635191,
          -284261.0367899419,
          -284537.6669350383,
          -282574.55364737246,
          -278665.24512825324,
          -273554.2188143196,
          -273554.2188143196,
          -273554.2188143196,
          -273554.2188143196,
          -273554.2188143196,
          -271353.6883928952,
          -271431.1448335222,
          -271409.01442191453,
          -271364.7535986991,
          -271447.74264222797,
          -271842.56950139237,
          -271842.56950139237,
          -228698.85289989435,
          -228727.32979246398,
          -229012.09871816012,
          -228442.56086676777,
          -228613.83004516838,
          -276304.27806220227,
          -276304.27806220227,
          -276304.27806220227,
          -276304.27806220227,
          -276304.27806220227,
          -34242.79502033383,
          -42841.11718601196,
          -35980.689587620385,
          -40074.815735047625,
          -45656.06831027969,
          -41569.262897716704,
          -41569.262897716704,
          -41558.19769191287,
          -41569.262897716704,
          -41558.19769191287,
          -255572.35745007356,
          -250900.07697797543,
          -248322.26706233498,
          -255411.24433034597,
          -256377.9230487112,
          -195228.17936345848,
          -193617.04816618326,
          -195228.17936345848,
          -193617.04816618326,
          -193617.04816618326,
          -216964.08560142445,
          -218996.80113982665,
          -238099.73520737243,
          -229081.59247722867,
          -232938.9604526869,
          -231613.15202034198,
          -231059.8917301491,
          -231723.80407838058,
          -230617.2834979948,
          -231059.8917301491,
          -237450.23159996403,
          -237450.23159996403,
          -239061.36279723927,
          -239061.36279723927,
          -237450.23159996403,
          -251843.0415754777,
          -248040.77194990823,
          -250779.6949852761,
          -254324.18361928163,
          -256531.4333595487,
          36811.44603280096,
          -252917.80280229723,
          -252917.80280229723,
          -252917.80280229723,
          -252917.80280229723,
          -252917.80280229723,
          -235314.0420334001,
          -235314.0420334001,
          -236925.1732306753,
          -235314.0420334001,
          -236925.1732306753,
          -232121.37741376067,
          -234865.54845311728,
          -231725.13134928187,
          -241340.6913979274,
          -225278.50521572097,
          -84167.75972272782,
          -107002.28795860645,
          -82253.81716393403,
          -106991.22275280257,
          -106991.22275280257,
          -383949.6071013803,
          -389884.5286196358,
          -381409.5753066119,
          -385110.5381140016,
          -393105.6659206188,
          -271844.78254255326,
          -271844.78254255326,
          -271844.78254255326,
          -271844.78254255326,
          -271844.78254255326
         ],
         "xaxis": "x",
         "y": [
          25992.793609797933,
          27493.45945824294,
          26975.01505564592,
          27561.47556872186,
          26264.85805171489,
          15763.439251725918,
          13864.366222250439,
          14595.857726026628,
          13766.346681871457,
          13491.869510365865,
          26291.15034556933,
          26760.4615078762,
          27761.820294875903,
          26843.602803405953,
          28305.949178709954,
          30476.457154882908,
          30728.116763656148,
          30490.060376978756,
          30680.505486320664,
          30564.878098505935,
          35679.386828233175,
          37915.49937044814,
          36042.297910051064,
          36100.9439613587,
          37234.720036024126,
          45399.12621206061,
          44718.96510726806,
          45211.24955084242,
          44991.02954918508,
          45535.15843301912,
          -19856.6009867867,
          -36180.46750180808,
          32318.537975995918,
          32809.97853860698,
          33869.27613221938,
          32370.3824162556,
          32370.3824162556,
          -35609.5575777911,
          -35609.5575777911,
          -35609.5575777911,
          -35609.5575777911,
          -35609.5575777911,
          -5161.839573713275,
          -14472.206423337775,
          -18226.0267534001,
          4677.174095080136,
          5188.816886629192,
          -40280.136486988544,
          -40280.136486988544,
          -40280.136486988544,
          -40331.980927248216,
          -40280.136486988544,
          -22120.174963703124,
          -15977.167931064676,
          -12291.36371148159,
          -17205.769337592355,
          -25805.979183286185,
          -63615.73031915468,
          -62697.512827684724,
          -63275.64976675839,
          -63037.593380080994,
          -60861.07784474481,
          -111906.42188292797,
          -111529.76482716834,
          -111137.83983451236,
          -111273.87205547089,
          -111706.6067144144,
          22232.981182711064,
          23826.762205673094,
          27574.61328208775,
          28698.058997107866,
          26987.519023015615,
          31535.01828521245,
          31535.01828521245,
          31535.01828521245,
          31535.01828521245,
          31535.01828521245,
          34171.04666814626,
          34171.04666814626,
          34171.04666814626,
          34171.04666814626,
          34171.04666814626,
          31569.026340452077,
          31569.026340452077,
          31569.026340452077,
          31569.026340452077,
          31569.026340452077,
          -106868.18842548486,
          -97588.9796441438,
          -101690.9388136711,
          -105256.32767114598,
          -99779.60241829947,
          32527.732607010083,
          33046.17700960707,
          33046.17700960707,
          33046.17700960707,
          32527.732607010083,
          66593.8985392771,
          66593.8985392771,
          66593.8985392771,
          66593.8985392771,
          66075.45413668011,
          -21863.872441628493,
          -21020.758175377465,
          -22680.68399701101,
          -24312.000226689495,
          -23821.26168272439,
          34909.425568708815,
          35479.71441156549,
          34339.136725852135,
          36843.8415285372,
          34925.59723892838,
          -326853.5388848453,
          -326895.8705140875,
          -325286.78409728745,
          -328723.26816379535,
          -327112.9142550036,
          31813.884338177406,
          31909.10689284836,
          31827.487560273254,
          31691.45533931474,
          31664.248895123033,
          33529.74501114899,
          33270.52280985049,
          33633.4338916684,
          33063.1450488117,
          35499.83374101752,
          -4744.886971544534,
          -4744.886971544534,
          -4744.886971544534,
          -4744.886971544534,
          -4744.886971544534,
          37509.9711556963,
          35947.836336857436,
          34029.592047248596,
          34865.90470245168,
          34133.28092776798,
          19839.1873926201,
          18961.232713729187,
          18911.388235942715,
          18499.33309786372,
          18445.4886951308,
          18899.72079508369,
          18899.72079508369,
          18905.842245026823,
          19512.707591246857,
          19014.66802179363,
          31637.042450931345,
          31630.24083988341,
          31630.24083988341,
          31630.24083988341,
          31630.24083988341,
          16594.51475847598,
          17112.95916107297,
          16609.232584396617,
          15071.049014381648,
          16287.364406844057,
          22006.103078445223,
          24783.7112508664,
          22205.731894651646,
          19739.375300911724,
          25449.587822246714,
          17777.658165207533,
          15237.280592482308,
          17725.81372494783,
          15911.258315858384,
          15807.56943533899,
          38667.4342708586,
          39687.67592804743,
          38463.385939420834,
          38515.23037968053,
          38719.278711118284,
          40897.30069304466,
          41594.10894584237,
          43576.23171260416,
          46495.69203736682,
          45397.30322904977,
          32861.33243955794,
          32857.93163403398,
          32861.33243955794,
          32851.13002298606,
          32854.53082851001,
          31705.05856141059,
          31705.05856141059,
          31705.05856141059,
          31705.05856141059,
          31705.05856141059,
          -72515.91121846082,
          -55310.706170058744,
          -68115.37918088108,
          -74954.74010325268,
          -55419.53194682556,
          31637.042450931345,
          31637.042450931345,
          31637.042450931345,
          31637.042450931345,
          31637.042450931345,
          90834.32969562688,
          98951.15614300665,
          100698.20195213132,
          103312.05636223746,
          98049.28653774223,
          35590.83752113283,
          35590.83752113283,
          35590.83752113283,
          35590.83752113283,
          35590.83752113283,
          31970.32139227969,
          31970.32139227969,
          33330.6436018648,
          31970.32139227969,
          31970.32139227969,
          30693.677566626407,
          30693.677566626407,
          30693.677566626407,
          30693.677566626407,
          30693.677566626407,
          57329.533023411735,
          58638.010792737165,
          61698.73576430369,
          57685.78524602758,
          67872.0301476964,
          -19010.51210697413,
          -18962.0684722384,
          -19010.51210697413,
          -18958.66766671444,
          -18958.66766671444,
          33771.031604437936,
          33771.031604437936,
          33771.031604437936,
          33771.031604437936,
          33771.031604437936,
          20575.318374281047,
          20575.318374281047,
          20575.318374281047,
          20575.318374281047,
          20575.318374281047,
          24842.867042013535,
          25558.50844896159,
          24323.105431385975,
          24331.22425046448,
          24317.62102836862,
          -57077.204137440196,
          -58726.83646054669,
          -65877.15089667073,
          -48915.27087992951,
          -61252.05538408131,
          7562.415253572554,
          8065.172836580307,
          8068.573642104271,
          8775.329840511004,
          8791.016660100242,
          217961.93932891425,
          218013.78376917396,
          217961.93932891425,
          218013.78376917396,
          218013.78376917396,
          32181.171334765386,
          32181.171334765386,
          32181.171334765386,
          32181.171334765386,
          32181.171334765386,
          -93688.76338760144,
          -86946.97675614308,
          -92899.34536425199,
          -87438.41731875417,
          -95654.52563804577,
          71377.17693336625,
          97586.4900650654,
          62113.38268609161,
          98094.12070051298,
          71778.9365754036,
          33799.7871336331,
          33639.45480275713,
          33532.566582173145,
          34067.007685093035,
          33960.11946450906,
          37370.445009580166,
          31712.076928504885,
          39547.91948609037,
          39670.98223094895,
          37097.51828408293,
          29770.496053801227,
          29893.356194453994,
          29822.34049406094,
          29822.34049406094,
          29822.34049406094,
          -21888.437438143726,
          -14416.604943291886,
          -18738.2125963674,
          -19388.677063821397,
          -16574.746550364624,
          33402.15459784445,
          33362.596171650024,
          33414.440611909726,
          33414.440611909726,
          33350.31015758475,
          27145.712445822486,
          27391.432727128016,
          27022.852305169716,
          27145.712445822486,
          26777.132023864175,
          26843.241415039953,
          26321.396206919006,
          29253.801180952054,
          26321.396206919006,
          5153.2399216556805,
          37941.61210722282,
          40797.33779178042,
          -28808.99653154777,
          -28342.396569210458,
          -29586.663135443232,
          -29794.040896482024,
          -29742.19645622232,
          29493.360458765696,
          29493.360458765696,
          29493.360458765696,
          29493.360458765696,
          29493.360458765696,
          28158.2831324629,
          28035.422991810126,
          27983.57855155042,
          28035.422991810126,
          28158.2831324629,
          20602.091184162866,
          20602.091184162866,
          21120.535586759863,
          20602.091184162866,
          20602.091184162866,
          115865.99536876184,
          107554.55101742572,
          165106.88580962276,
          102138.24411602084,
          95483.26422084236,
          23968.743673540703,
          7243.036759760089,
          33284.13542087379,
          13409.599401250913,
          54288.98473450211,
          -45256.091694402094,
          -45256.091694402094,
          -45010.37141309656,
          -45256.091694402094,
          -45256.091694402094,
          36553.03696827692,
          36611.68301958456,
          36611.68301958456,
          36618.48463063249,
          36553.03696827692,
          31745.868227698145,
          31745.868227698145,
          31745.868227698145,
          31745.868227698145,
          31745.868227698145,
          -32859.309727579275,
          -32859.309727579275,
          -34729.215677356726,
          -33500.614270829035,
          -34087.91113410696,
          11041.18594939784,
          11041.18594939784,
          9864.428983129867,
          11047.987560445765,
          11041.18594939784,
          38869.09490939421,
          25184.253480967935,
          25205.975522142293,
          33375.96163079404,
          25227.631595379185,
          32521.251887161667,
          32521.251887161667,
          32521.251887161667,
          32521.251887161667,
          32521.251887161667,
          -17931.45191335009,
          -3311.3197601151,
          -3363.1642003748057,
          -8443.91934582525,
          -19279.40736010225,
          48332.68266529823,
          48458.943611474955,
          48387.92791108188,
          48507.38724621069,
          48701.263087256535,
          3993.30184540469,
          13822.113097626192,
          -14435.719252510635,
          -5835.509406816808,
          2764.7004388770115,
          9022.036508418072,
          9540.480911015053,
          9540.480911015053,
          9540.480911015053,
          9540.480911015053,
          31705.05856141059,
          31705.05856141059,
          31705.05856141059,
          31705.05856141059,
          31705.05856141059,
          41383.27291866926,
          40154.67151214158,
          40154.67151214158,
          39636.22710954458,
          40154.67151214158,
          34033.14943787171,
          34447.904959949294,
          37040.12697293422,
          35588.48264566267,
          33981.304997612,
          7814.124700649624,
          7814.124700649624,
          8332.569103246595,
          7814.124700649624,
          8332.569103246595,
          17818.81827517771,
          18732.846939718893,
          18214.402537121914,
          18214.402537121914,
          18202.116523056633,
          -37085.12867607459,
          -48932.50708190274,
          -50380.32198359321,
          -41724.07689414108,
          -35813.69099981559,
          19923.657139050523,
          24223.762061897418,
          14640.67109098146,
          24469.48234320295,
          24469.48234320295,
          35823.769298602245,
          35823.769298602245,
          35823.769298602245,
          35823.769298602245,
          35823.769298602245,
          -15901.456205720648,
          -15906.640649746587,
          -16414.604336664484,
          -15186.002930136794,
          -15704.44733273378,
          47008.68341924315,
          43342.615064411264,
          46940.6673087639,
          46804.635087805385,
          43689.497227855456,
          50932.091263163,
          135259.35405944212,
          46061.12486580378,
          102102.30948963223,
          134280.27098399962,
          9959.582747261538,
          9673.915083248663,
          10873.308311174154,
          10325.82325868044,
          6857.3826575280655,
          3028.989585023887,
          3028.989585023887,
          4871.891694815424,
          1650.5241978575275,
          3493.426307649059,
          38958.44502674316,
          38752.10108856401,
          38704.48981122852,
          38651.045700936564,
          38965.24663779108,
          34559.832205295024,
          34507.98776503534,
          34559.832205295024,
          34507.98776503534,
          34559.832205295024,
          15132.763347364089,
          15184.607787623796,
          15132.763347364089,
          15132.763347364089,
          15132.763347364089,
          23102.693006766214,
          23102.693006766214,
          23102.693006766214,
          23102.693006766214,
          23102.693006766214,
          23603.613983142022,
          23603.613983142022,
          24122.05838573901,
          23603.613983142022,
          24122.05838573901,
          6269.321223383719,
          6321.16566364341,
          6269.321223383719,
          6321.16566364341,
          6269.321223383719,
          37756.35111637626,
          38267.993907925345,
          37756.35111637626,
          37756.35111637626,
          37756.35111637626,
          32181.171334765386,
          32181.171334765386,
          32181.171334765386,
          32181.171334765386,
          32181.171334765386,
          31700.643849164106,
          31700.643849164106,
          31182.19944656712,
          32929.24525569179,
          31182.19944656712,
          -8102.875924041971,
          -8102.875924041971,
          -8102.875924041971,
          -8102.875924041971,
          -8109.677535089893,
          18205.81187376398,
          18199.010262716056,
          18205.81187376398,
          18205.81187376398,
          18205.81187376398,
          31933.770367453577,
          31881.92592719389,
          31933.770367453577,
          31933.770367453577,
          31933.770367453577,
          29974.287701178266,
          31422.036690815694,
          31046.654657809464,
          29333.414299718617,
          31299.176550162923,
          25975.721249712326,
          24699.28002826485,
          7426.839601058049,
          3996.9281531724514,
          7096.271859679269,
          41293.61025922822,
          41273.20542608444,
          41177.98287141348,
          41198.38770455726,
          41191.58609350933,
          36407.63468814679,
          36459.47912840648,
          36459.47912840648,
          36452.677517358556,
          36459.47912840648,
          31841.0907823691,
          31677.852117218892,
          31616.637617787565,
          31535.01828521245,
          31868.297226560797,
          48840.27451172597,
          48840.27451172597,
          48840.27451172597,
          48840.27451172597,
          48840.27451172597,
          92192.91118758258,
          93421.51259411026,
          93421.51259411026,
          92192.91118758258,
          93421.51259411026,
          31637.042450931345,
          31643.844061979264,
          31630.24083988341,
          31643.844061979264,
          31637.042450931345,
          24128.970649016574,
          24128.970649016574,
          24128.970649016574,
          24128.970649016574,
          24125.5698434926,
          37410.971360145326,
          37410.971360145326,
          37410.971360145326,
          37410.971360145326,
          37410.971360145326,
          31634.19246397513,
          31634.19246397513,
          31634.19246397513,
          31634.19246397513,
          31634.19246397513,
          32011.811219672036,
          32107.033774342992,
          32059.422497007512,
          32181.85149587017,
          31977.803164432407,
          19480.25899556503,
          19480.25899556503,
          19480.25899556503,
          19480.25899556503,
          19480.25899556503,
          29148.16350757286,
          267256.39462522784,
          29200.00794783254,
          29200.00794783254,
          29200.00794783254,
          31501.690391077624,
          31501.690391077624,
          31501.690391077624,
          31501.690391077624,
          31501.690391077624,
          9572.987572307853,
          9572.987572307853,
          9572.987572307853,
          9572.987572307853,
          9572.987572307853,
          62210.92657306442,
          60646.556032041524,
          58470.04049670535,
          58220.949336055804,
          17311.89337802781,
          -17596.82483676337,
          -17596.82483676337,
          -17596.82483676337,
          -17596.82483676337,
          -17596.82483676337,
          -44844.407029471244,
          -44896.25146973094,
          -44844.407029471244,
          -44851.208640519166,
          -44332.764237922194,
          13803.381653590308,
          5913.32881182719,
          5913.32881182719,
          8888.976027479546,
          3456.1259987718176,
          31501.010229972828,
          31501.010229972828,
          31501.010229972828,
          31501.010229972828,
          31501.010229972828,
          32628.256439174227,
          34145.01570286163,
          32553.438717647045,
          33090.76599043317,
          32546.637106599122,
          21318.34249206697,
          21318.34249206697,
          21824.500880598673,
          23053.102287126367,
          21306.05647800169,
          68310.56281435877,
          67792.11841176178,
          63126.1187883889,
          68829.00721695574,
          68829.00721695574,
          31771.78124651952,
          31778.58285756745,
          31778.58285756745,
          31771.78124651952,
          31778.58285756745,
          33712.48477611979,
          33764.32921637949,
          33764.32921637949,
          33712.48477611979,
          33712.48477611979,
          33881.57409674677,
          32215.17939000501,
          32827.32438431831,
          32283.195500484264,
          32255.98905629256,
          30671.550257202944,
          30671.550257202944,
          30794.410397855718,
          30671.550257202944,
          31189.99465979993,
          34259.86969740038,
          38927.53403557378,
          37550.70742982939,
          37703.672302484774,
          32767.415703841285,
          25310.415702659142,
          27263.891939038193,
          27018.17165773263,
          28013.33879702008,
          27263.891939038193,
          25318.470873442635,
          24608.31386951195,
          24089.869466914955,
          24608.31386951195,
          25330.756887507927,
          29361.871067095482,
          29280.25173452036,
          29194.399239021044,
          29246.24367928074,
          29194.399239021044,
          28542.461346725246,
          24242.356423878347,
          23259.475298656205,
          30520.509611234826,
          30016.783034558473,
          273.377540963496,
          -296.9113018931938,
          -303.71291294112086,
          976.7329338462679,
          1488.3757253953218,
          28099.270451954642,
          28720.37276626641,
          30065.03270239895,
          33234.82433124038,
          25519.207498246513,
          31596.23278464378,
          31603.03439569171,
          31538.41909073641,
          31548.6215073083,
          31541.819896260375,
          32189.35634658987,
          35029.861316499075,
          35182.06520767712,
          34009.61965931022,
          35664.18480338987,
          -22.221469478435644,
          -6165.228502116883,
          -6165.228502116883,
          6133.0715772253,
          -6165.228502116883,
          33368.090240426754,
          33368.090240426754,
          33368.090240426754,
          33368.090240426754,
          33368.090240426754,
          31501.010229972828,
          31501.010229972828,
          31501.010229972828,
          31501.010229972828,
          31501.010229972828,
          40159.46109398207,
          40156.060288458124,
          38795.73807887301,
          40162.86189950605,
          37775.49642168417,
          48304.649503685745,
          48331.85594787744,
          54082.355653779756,
          50851.8286874589,
          54999.38390823476,
          15848.758376659604,
          15848.758376659604,
          15848.758376659604,
          15848.758376659604,
          15848.758376659604,
          31994.537080734455,
          32130.569301692973,
          31042.311534024884,
          31586.44041785892,
          31926.52097025521,
          -12074.863388857244,
          -12593.307791454223,
          -12074.863388857244,
          -12074.863388857244,
          -12074.863388857244,
          31501.690391077624,
          31501.690391077624,
          31501.690391077624,
          31501.690391077624,
          31501.690391077624,
          25676.437357973617,
          28673.379381985076,
          27170.223340393524,
          26156.78329425262,
          25721.480187185374,
          49183.58146202678,
          34254.04521183013,
          42966.9089642228,
          34186.029101350876,
          46435.73059866484,
          36529.92093516357,
          36529.92093516357,
          36529.92093516357,
          36529.92093516357,
          36529.92093516357,
          13419.674950814031,
          19806.387724816163,
          9060.513450584242,
          13016.60346506896,
          12399.769990919396,
          12925.905367733625,
          12096.39432357844,
          11577.949920981451,
          13288.816449551512,
          17488.216110587087,
          25127.94009013104,
          25335.31785116983,
          25542.695612208634,
          25905.606694026523,
          25231.628970650436,
          49742.644471715495,
          60422.599165213374,
          46217.22253405599,
          53008.844208076494,
          56897.17722755386,
          33078.55285130145,
          33078.55285130145,
          33078.55285130145,
          33078.55285130145,
          33078.55285130145,
          40913.149082276395,
          41787.88789276641,
          -14631.41666426511,
          -14515.358134660264,
          -14638.218275313027,
          -14683.261104524805,
          -14638.218275313027,
          37022.79368218941,
          37015.99207114149,
          37022.79368218941,
          37026.19448771337,
          37534.436473738475,
          31537.48740780316,
          28626.3661734075,
          22922.432781400214,
          29982.1542000122,
          34992.41612678981,
          29939.033224502982,
          29939.033224502982,
          29939.033224502982,
          29939.033224502982,
          29939.033224502982,
          32010.05320409198,
          32010.05320409198,
          32010.05320409198,
          32010.05320409198,
          32010.05320409198,
          38032.427714394784,
          37206.864329472075,
          37546.94488186836,
          37420.28272008147,
          37118.44338584904,
          42442.60738511937,
          42494.45182537905,
          42442.60738511937,
          42494.45182537905,
          42961.05178771634,
          32453.23577668241,
          31671.05050617096,
          35922.05741112445,
          33609.50965482975,
          31793.47950503362,
          31705.05856141059,
          31705.05856141059,
          31705.05856141059,
          31705.05856141059,
          31705.05856141059,
          32992.78857944701,
          32992.78857944701,
          32992.78857944701,
          32992.78857944701,
          32992.78857944701,
          -24203.590908992504,
          -24203.590908992504,
          -24203.590908992504,
          -24151.74646873282,
          -24203.590908992504,
          -19213.28988102768,
          -17984.688474499984,
          -17977.886863452055,
          -19731.73428362467,
          -17984.688474499984,
          48827.383299780166,
          47904.804674370345,
          48747.91894062138,
          49229.852807792486,
          48642.07508668566,
          6681.819588970452,
          9549.943742244504,
          5264.497640261283,
          8783.086260989348,
          7244.197596997732,
          41942.67491922203,
          41944.29208624398,
          38358.44045877486,
          42499.19406850283,
          42208.69873156844,
          -29449.75714700315,
          -29551.78131272203,
          -28421.191915811745,
          -24340.225287056368,
          -29388.542647571816,
          41060.522878263306,
          41112.367318523,
          41112.367318523,
          41112.367318523,
          41060.522878263306,
          32756.65233238048,
          32186.3634895238,
          32186.3634895238,
          32186.3634895238,
          32756.65233238048,
          -13014.276187733933,
          -11626.762314787347,
          -13130.2510823186,
          -9229.632048775915,
          -13130.2510823186,
          38136.019585022594,
          40780.086038267225,
          38868.64335970629,
          38861.841748658364,
          39542.62108308238,
          -16250.774817666703,
          -22933.695973831916,
          -16339.723560673654,
          -58520.26804549057,
          -11932.08628643026,
          38030.556835981384,
          38030.556835981384,
          37962.54072550212,
          38030.556835981384,
          38030.556835981384,
          23884.36167060593,
          24007.221811258703,
          24007.221811258703,
          23884.36167060593,
          23884.36167060593,
          -204856.20396597468,
          -198166.7097363458,
          -240587.26371258483,
          -221824.70920235835,
          -207443.06853073073,
          52513.676950161775,
          21809.786170963274,
          26461.119897552166,
          22314.62735146441,
          23364.864907791398,
          22749.930458531646,
          17195.989142937917,
          17264.005253417177,
          17109.316549135565,
          17170.5310485669,
          17031.499237694563,
          32397.048885792723,
          32397.048885792723,
          32397.048885792723,
          32397.048885792723,
          32397.048885792723,
          33681.045169003875,
          34247.93320633658,
          33522.11104270081,
          33266.28964692628,
          33577.35628848447,
          -7416.388861406472,
          -7620.437192844237,
          -7191.935696824929,
          -7681.651692275567,
          -7198.737307872852,
          28343.582347728418,
          28913.871190585098,
          28791.011049932335,
          28913.871190585098,
          28395.426787988134,
          36261.37012443643,
          36261.37012443643,
          36261.37012443643,
          36261.37012443643,
          36261.37012443643,
          31501.690391077624,
          31501.690391077624,
          31501.690391077624,
          31501.690391077624,
          31501.690391077624,
          -35383.17929773648,
          -37103.221266875225,
          -37498.80552881945,
          -36540.49643172785,
          -33294.55690663939,
          31845.70530198189,
          21840.858494943193,
          27282.147333283658,
          19812.6611946308,
          19800.375180565527,
          18445.293886659027,
          18497.138326918735,
          18619.998467571506,
          18445.293886659027,
          18438.492275611105,
          31860.277934384958,
          18345.6624625804,
          20839.87892982217,
          25724.072512794453,
          27712.722713609088,
          20094.60421024375,
          20094.60421024375,
          20094.60421024375,
          20094.60421024375,
          20094.60421024375,
          -277227.1150533819,
          -279043.14520317805,
          -278871.58296402526,
          -274780.4715365132,
          -278758.9995021199,
          -51536.015234032275,
          93633.9643491148,
          73258.90609765345,
          69878.50540683445,
          75217.77007945604,
          69851.29896264273,
          44662.402282439114,
          48749.07681482534,
          39313.38760245821,
          39092.69212301533,
          52790.56576615396,
          2478.2553255171956,
          3500.6948769337773,
          3399.7063804129616,
          2640.673892364398,
          3633.1406476532234,
          -79181.39294993642,
          -79703.23815805737,
          -79184.79375546036,
          -79699.8373525334,
          -79699.8373525334,
          48751.110580829634,
          51395.17703407426,
          48217.112846154734,
          49684.31050550421,
          50358.28822888029,
          36095.6643132654,
          35940.1309924863,
          35991.97543274601,
          37599.153080796656,
          39413.70848988611,
          37922.58648518781,
          37922.58648518781,
          37922.58648518781,
          37922.58648518781,
          37922.58648518781,
          35086.48365315749,
          35086.48365315749,
          35604.92805575448,
          35086.48365315749,
          35086.48365315749,
          60785.986809918846,
          60267.54240732186,
          60267.54240732186,
          60267.54240732186,
          60785.986809918846,
          -101750.0274551399,
          -101750.0274551399,
          -102261.67024668897,
          -101743.22584409197,
          -102268.4718577369,
          -10907.652124641576,
          -7302.798269241013,
          -11145.708511318971,
          -11172.91495551067,
          -10827.35000009704,
          63070.490267143636,
          33896.95918868779,
          33642.73113179083,
          33608.7230765512,
          33608.7230765512,
          33608.7230765512,
          32453.23577668241,
          32997.364660516454,
          32385.21966620315,
          32249.18744524464,
          32249.18744524464,
          19908.30282758995,
          21655.34863671463,
          21655.34863671463,
          21136.90423411764,
          21655.34863671463,
          22764.47376434328,
          23384.94233265916,
          21528.81627580482,
          23403.8252028483,
          22927.712429493502,
          20975.71121451408,
          22828.467526515546,
          23125.763675937535,
          23221.619976604405,
          22204.31262104177,
          31501.010229972828,
          31501.010229972828,
          31501.010229972828,
          31501.010229972828,
          31501.010229972828,
          38126.91765237814,
          38126.91765237814,
          38126.91765237814,
          38004.057511725376,
          38126.91765237814,
          -6958.894070263903,
          -6907.049630004192,
          -6958.894070263903,
          -6907.049630004192,
          -6958.894070263903,
          35096.79334120359,
          35096.79334120359,
          35096.79334120359,
          35096.79334120359,
          35096.79334120359,
          32079.147169046497,
          32085.94878009443,
          32085.94878009443,
          32085.94878009443,
          32079.147169046497,
          -8235.868767504131,
          -7717.424364907139,
          -7717.424364907139,
          -8235.868767504131,
          -7717.424364907139,
          36994.99560033532,
          37101.88382091929,
          37422.54848267121,
          37048.439710627295,
          37208.77204150326,
          41811.579184039605,
          41811.579184039605,
          41811.579184039605,
          41811.579184039605,
          41811.579184039605,
          43383.12926382682,
          43953.418106683464,
          43901.57366642381,
          42398.08489889253,
          43590.50702486558,
          -21750.847743234644,
          -18128.748216229753,
          -30958.89116534067,
          -27689.806444435293,
          -12738.22981676421,
          31226.790079105253,
          31226.790079105253,
          31226.790079105253,
          31226.790079105253,
          31226.790079105253,
          49243.25082012298,
          49408.62679160679,
          48810.539943839685,
          49859.281470590555,
          49460.47123186648,
          32386.029494200557,
          30675.162965630498,
          32230.49617342147,
          33526.60717991394,
          32541.56281497967,
          31501.690391077624,
          31501.690391077624,
          31501.690391077624,
          31501.690391077624,
          31501.690391077624,
          38270.25344670326,
          37663.78532329196,
          39178.612771104046,
          39994.62189526626,
          37794.478043797266,
          -183032.46558964782,
          -184434.43670197466,
          -185503.271624799,
          -184306.10982538722,
          -186898.44112607793,
          32296.175792555205,
          32222.459708163547,
          32079.841447052157,
          32383.06395725261,
          32512.51013805825,
          35165.25736005047,
          35533.83778200878,
          35737.88611344654,
          37262.7404135522,
          32898.930798127105,
          26349.113329846023,
          25638.95632591532,
          25379.73412461682,
          23445.8246753029,
          24275.33571945809,
          31582.629562547936,
          31548.6215073083,
          31773.07467188985,
          31562.22472940415,
          31684.653728266814,
          34377.63241497882,
          34377.63241497882,
          34377.63241497882,
          34377.63241497882,
          34377.63241497882,
          34153.6385386638,
          33337.445212912724,
          33541.4935443505,
          33881.57409674677,
          33745.54187578827,
          269652.6194620391,
          12049.042444578208,
          12049.042444578208,
          12049.042444578208,
          12049.042444578208,
          12049.042444578208,
          22379.653379361338,
          25547.013196347412,
          22379.653379361338,
          22379.653379361338,
          21861.208976764345,
          31759.471449793993,
          31759.471449793993,
          31759.471449793993,
          31759.471449793993,
          31759.471449793993,
          -118788.10660099707,
          -118633.62265163953,
          -118516.47330087016,
          -118973.00133938418,
          -117735.02987368488,
          62303.98361797114,
          62303.98361797114,
          62303.98361797114,
          62303.98361797114,
          62355.82805823085,
          11526.656657313772,
          13273.702466438432,
          12045.101059910743,
          13273.702466438432,
          13273.702466438432,
          57889.55189565894,
          51939.20412498406,
          64138.10703694669,
          51437.848828153314,
          50863.46464901627,
          51133.3904954459,
          53692.31821242056,
          53173.87380982358,
          53042.15300676614,
          52200.275199778014,
          48615.668922995974,
          48936.866605203126,
          48692.008607477794,
          47772.269153053196,
          46896.38329082545,
          23731.645848706186,
          23783.490288965895,
          23783.490288965895,
          23783.490288965895,
          23731.645848706186,
          -1653.142326219538,
          -1653.142326219538,
          -1640.8563121542618,
          -1640.8563121542618,
          -1640.8563121542618,
          -17521.38795270188,
          -17521.38795270188,
          -17521.38795270188,
          -17521.38795270188,
          -17521.38795270188,
          -4980.957244178367,
          -4980.957244178367,
          -4980.957244178367,
          -4980.957244178367,
          -4980.957244178367,
          33684.32737635693,
          33680.92657083298,
          33684.32737635693,
          33684.32737635693,
          33680.92657083298,
          36042.41614370247,
          36042.41614370247,
          36042.41614370247,
          36094.26058396217,
          36106.546598027446,
          45120.21406611465,
          44653.61410377736,
          44601.76966351767,
          44614.05567758295,
          44601.76966351767,
          32483.228655583596,
          32679.804880628028,
          32360.368514930833,
          32606.088796236367,
          32237.50837427806,
          -54610.8468816843,
          -53387.72987817393,
          -53689.79021922909,
          -54500.27275509679,
          -55248.44997036859,
          37690.4762835851,
          37690.4762835851,
          37622.46017310586,
          37690.4762835851,
          37622.46017310586,
          31501.010229972828,
          31501.010229972828,
          31501.010229972828,
          31501.010229972828,
          31501.010229972828,
          28877.8081793337,
          30628.25479398234,
          28877.8081793337,
          28877.8081793337,
          30624.85398845838,
          -51672.6652290136,
          -51669.26442348963,
          -51672.6652290136,
          -51672.6652290136,
          -51669.26442348963,
          25622.00305723258,
          24393.401650704887,
          25622.00305723258,
          25622.00305723258,
          24400.203261752813,
          21706.20703299093,
          21706.20703299093,
          22080.29564062683,
          23377.99101210905,
          23061.198728232383,
          36069.09465852682,
          36560.5352211379,
          24861.818019138966,
          35823.374377221284,
          36191.9547991796,
          41956.60938981623,
          41276.44828502367,
          41956.60938981623,
          41956.60938981623,
          41276.44828502367,
          -69858.89586094522,
          -67875.09462127506,
          -67349.84860763013,
          -68509.03398379704,
          -68455.58987350507,
          9340.475030331398,
          8754.01451725515,
          7525.413110727451,
          8043.857513324453,
          8754.01451725515,
          -7578.205878140862,
          -19182.496947656186,
          -23174.518847652966,
          -17160.563777527936,
          -14049.897361946043,
          -5331.808205014978,
          -4813.363802417989,
          -4813.363802417989,
          -4813.363802417989,
          -3066.317993293329,
          -35630.9407472971,
          -35630.9407472971,
          -35112.496344700136,
          -35630.9407472971,
          -34402.33934076942,
          -398.59821994143994,
          -923.8442335863472,
          -917.0426225384226,
          -911.5582195210679,
          -1634.001237517074,
          28601.37240427377,
          28601.37240427377,
          28549.527964014083,
          28601.37240427377,
          28601.37240427377,
          2551.6226893245216,
          2505.2626520821673,
          1368.0641120086027,
          3075.5514949388553,
          1380.3501260738822,
          38056.513682165416,
          43933.1056275731,
          38831.89734162893,
          38233.35556941147,
          38879.508618964406,
          16498.803361644314,
          15215.933289647532,
          16849.84190410432,
          15279.997776035065,
          17770.90938253047,
          17053.09101354092,
          17175.95115419369,
          17175.95115419369,
          17053.09101354092,
          17053.09101354092,
          43554.97325463764,
          43554.97325463764,
          43554.97325463764,
          43554.97325463764,
          43554.97325463764,
          90592.60192165534,
          91267.4833783546,
          90932.6824740516,
          90222.52547012089,
          90086.49324916236,
          10467.246277697082,
          10259.86851665828,
          9845.112994580695,
          12229.95724652683,
          11970.73504522834,
          -61297.23151496287,
          -61304.03312601078,
          -61263.22345972324,
          -62566.64258777811,
          -61270.02507077117,
          38106.52267486259,
          36266.05237692641,
          36143.192236273644,
          38769.96743438753,
          38359.04456721604,
          40102.812483414666,
          40096.01087236674,
          40044.16643210705,
          40075.60603922298,
          40116.415705510524,
          36615.56284085423,
          36615.56284085423,
          32364.318739558963,
          34541.78523046629,
          34541.78523046629,
          -17528.853404081074,
          -17528.853404081074,
          -17580.697844340782,
          -17516.567390015796,
          -17568.41183027551,
          31276.37494291586,
          31276.37494291586,
          31276.37494291586,
          31276.37494291586,
          31276.37494291586,
          31739.066616650227,
          31739.066616650227,
          31739.066616650227,
          31739.066616650227,
          31739.066616650227,
          -55409.169898131724,
          -55267.2397994485,
          -56020.41115912184,
          -54648.29319408726,
          -54675.49963827896,
          23281.018580664608,
          23213.002470185358,
          23076.97024922684,
          23213.002470185358,
          23022.126219053323,
          34622.28027773676,
          34663.089944024316,
          34649.48672192846,
          34737.907665551495,
          34649.48672192846,
          61229.73253681541,
          68330.10258029195,
          70510.65331885564,
          63986.96036634508,
          70283.42553604225,
          14368.606649064437,
          14368.606649064437,
          14368.606649064437,
          14368.606649064437,
          14368.606649064437,
          32791.46935781828,
          30665.84730717063,
          30458.469546131837,
          31236.136150027327,
          31961.958313663094,
          -7193.252624162569,
          -12055.813810013635,
          -12178.673950666402,
          -6087.511358287648,
          -8544.714171343028,
          13102.941243321908,
          12854.753815995553,
          12983.080692582946,
          10077.223589916131,
          10084.16795280992,
          31725.463394554365,
          31718.661783506443,
          31718.661783506443,
          31718.661783506443,
          31718.661783506443,
          20835.575509243397,
          20835.575509243397,
          20835.575509243397,
          20835.575509243397,
          20835.575509243397,
          109011.06864066259,
          158031.81224198788,
          157958.09615759624,
          134198.9011621192,
          158044.09825605317,
          33453.17342276751,
          33446.37181171958,
          33446.37181171958,
          33453.17342276751,
          33453.17342276751,
          -2717.195845169305,
          -2769.0402854290146,
          -2717.195845169305,
          -2717.195845169305,
          -2717.195845169305,
          31569.026340452077,
          31569.026340452077,
          31569.026340452077,
          31569.026340452077,
          31569.026340452077,
          42373.34598075067,
          65236.52754032681,
          40507.78716184422,
          42290.798198900135,
          41193.8012640013,
          18226.94133799248,
          18226.94133799248,
          18220.139726944555,
          18226.94133799248,
          19448.741133472242,
          18963.421431978564,
          19481.865834575525,
          19481.865834575525,
          19481.865834575525,
          19481.865834575525,
          76482.48870108053,
          77000.93310367751,
          76482.48870108053,
          76482.48870108053,
          77000.93310367751,
          31705.05856141059,
          31705.05856141059,
          31705.05856141059,
          31705.05856141059,
          31705.05856141059,
          29129.651926813895,
          29672.936929684678,
          29498.232348772224,
          29621.092489424984,
          29498.232348772224,
          -52164.518497631456,
          -52627.0280488904,
          -51810.83472313933,
          -52115.590012265406,
          -52667.83771517796,
          36154.504983175946,
          33303.06076889254,
          33420.25156940488,
          32266.17196369855,
          33232.04506849945,
          22889.397819175192,
          23599.554823105893,
          22889.397819175192,
          22889.397819175192,
          22889.397819175192,
          30156.134722945233,
          30156.134722945233,
          30149.33311189731,
          30162.93633399317,
          30156.134722945233,
          37526.42832960761,
          37098.830566911485,
          37780.03815687312,
          36495.43740213839,
          36618.62738247836,
          31718.661783506443,
          31718.661783506443,
          31718.661783506443,
          31718.661783506443,
          31718.661783506443,
          31501.690391077624,
          31501.690391077624,
          31501.690391077624,
          31501.690391077624,
          31501.690391077624,
          -33183.346758578504,
          -33689.50514711022,
          -33225.90477468674,
          -33812.36528776301,
          -33306.206899231256,
          89592.04918808094,
          89665.76527247265,
          89641.19324434205,
          88917.37248630574,
          88985.60416768007,
          29723.96852171,
          29723.96852171,
          29723.96852171,
          29723.96852171,
          29723.96852171,
          559.0389421772445,
          -2416.6082734751267,
          -2416.6082734751267,
          -3645.2096800028166,
          -4873.811086530505,
          40643.17473294007,
          40736.86779389481,
          40624.398999738434,
          43582.76962282631,
          903.1783824118019,
          -36251.0409425864,
          -36238.75492852112,
          -36251.0409425864,
          -36170.73881804186,
          -36251.0409425864,
          22845.49678641709,
          25566.141205587322,
          26926.463415172442,
          27606.624519965,
          24885.980100794768,
          25118.579083449593,
          31184.37859383433,
          29110.600983446395,
          27451.57889513603,
          33776.60060681925,
          31569.026340452077,
          31569.026340452077,
          31569.026340452077,
          31569.026340452077,
          31569.026340452077,
          51938.217334970184,
          48717.06042782095,
          51361.12688106558,
          50531.615836910416,
          54419.9488563878,
          17582.61311403585,
          17582.61311403585,
          17518.482659710862,
          17530.768673776136,
          17530.768673776136,
          34820.78316342175,
          36656.88366216537,
          38410.73108233797,
          27565.233253860464,
          35428.282255637685,
          11246.082756918824,
          11433.073351896577,
          11368.942897571593,
          11258.3687709841,
          11420.787337831294,
          72927.10189701177,
          83605.63124225494,
          77416.16518864267,
          84761.9051204023,
          71294.71524550965,
          -6212.227946091356,
          -6089.367805438587,
          -6089.367805438587,
          -6141.212245698295,
          -6141.212245698295,
          37709.4398401623,
          37709.4398401623,
          37709.4398401623,
          37709.4398401623,
          37761.28428042199,
          32919.44094762218,
          32919.44094762218,
          32919.44094762218,
          32919.44094762218,
          32919.44094762218,
          23110.316973380002,
          23103.51536233208,
          23110.316973380002,
          24338.918379907693,
          23233.177114032773,
          34172.65441683934,
          34152.24958369556,
          34220.26569417482,
          34100.405143435855,
          34018.78581086075,
          22126.539407626442,
          22666.61620734466,
          18468.423076330495,
          18468.423076330495,
          19205.583920247107,
          18468.423076330495,
          18480.70909039577,
          22850.59505806544,
          22332.150655468446,
          22850.59505806544,
          22332.150655468446,
          22850.59505806544,
          38030.556835981384,
          38030.556835981384,
          38030.556835981384,
          38030.556835981384,
          38030.556835981384,
          32337.240946032747,
          32020.773536477373,
          31251.058481620064,
          32242.869123436787,
          32850.28458063256,
          -47242.9426583824,
          -45970.1307800432,
          -47049.096743516515,
          -45891.48111120194,
          -44435.02573456874,
          41702.95023897362,
          41537.428629391456,
          43227.1293433404,
          44921.824201690906,
          41366.34186802424,
          66457.0730942511,
          66392.94263992614,
          66457.0730942511,
          66923.6730565884,
          66975.5174968481,
          34735.77035921791,
          34677.12430791028,
          34417.90210661179,
          35876.348044931285,
          34787.6147994776,
          77429.83058401191,
          77948.27498660893,
          77948.27498660893,
          77429.83058401191,
          78658.43199053961,
          -28330.720518480855,
          -27165.302232493705,
          -27637.571534971412,
          -26909.586131623488,
          -26892.57811120225,
          28738.55182367848,
          24929.88746344266,
          32547.216183914315,
          32888.792765886734,
          30800.170374789657,
          36549.732107530544,
          37340.77836130349,
          36751.97297232193,
          35656.43811582034,
          36021.91764576194,
          2330.34524880813,
          -6009.249994251672,
          -7895.445819957884,
          11013.865250675488,
          4089.878912727464,
          31363.684583643982,
          31486.544724296753,
          31265.39647112177,
          31167.108358599555,
          31258.594860073845,
          36351.55708496287,
          36818.157047300156,
          37077.379248598656,
          36299.71264470316,
          36507.09040574196,
          37020.91659787669,
          37020.91659787669,
          37020.91659787669,
          37020.91659787669,
          37072.76103813638,
          35877.772670642276,
          35865.486656577,
          35791.770572185334,
          35791.770572185334,
          35902.34469877282,
          -164498.42787312865,
          -161510.69939833504,
          -165195.8439385437,
          -170792.36377419176,
          -164970.95963217205,
          47290.51218801318,
          47238.66774775346,
          47238.66774775346,
          46720.2233451565,
          47238.66774775346,
          31722.0134896154,
          31722.0134896154,
          31722.0134896154,
          31722.0134896154,
          31722.0134896154,
          -16553.141339237016,
          -21427.168440850306,
          -10478.150417077853,
          -4915.004890673515,
          -13102.903313184508,
          31977.123003327615,
          31977.123003327615,
          31977.123003327615,
          31977.123003327615,
          31977.123003327615,
          40151.32762630464,
          39187.40647140335,
          39603.761663513236,
          41917.237935198966,
          40825.30534968073,
          33579.37273988661,
          34771.79486585968,
          34149.66158274329,
          34408.88378404179,
          38141.68348274008,
          28725.242545718553,
          28673.39810545884,
          28673.39810545884,
          28673.39810545884,
          28673.39810545884,
          30544.47326536216,
          30544.47326536216,
          30544.47326536216,
          30544.47326536216,
          30544.47326536216,
          31501.010229972828,
          31501.010229972828,
          31501.010229972828,
          31501.010229972828,
          31501.010229972828,
          30906.036505377484,
          30906.036505377484,
          30906.036505377484,
          30906.036505377484,
          30906.036505377484,
          -74005.9952883737,
          -70584.26223123359,
          -71050.8621935709,
          -72969.10648317973,
          -71533.63382612771,
          11468.342461924893,
          10894.167962913942,
          11357.768335337403,
          10949.67167246187,
          10587.664323967183,
          -33476.76490487284,
          -33476.76490487284,
          -33464.47889080757,
          -33476.76490487284,
          -33464.47889080757,
          -78930.92923819783,
          -78930.92923819783,
          -78930.92923819783,
          -78930.92923819783,
          -78924.1276271499,
          60317.54366729852,
          60329.8296813638,
          60329.8296813638,
          60329.8296813638,
          60329.8296813638,
          -8905.899662007056,
          -10427.938573787747,
          -11788.260783372863,
          -4986.649735447282,
          -13828.74409775054,
          -43038.421622196714,
          -41928.95060063919,
          -42027.45503713257,
          -42545.89943972958,
          -43038.421622196714,
          30356.649886085073,
          30526.690162283216,
          30343.046663989226,
          30540.293384379063,
          30408.494326344764,
          -16930.061597592845,
          -17667.222441509457,
          -16561.48117563454,
          -16561.48117563454,
          -16561.48117563454,
          -64335.44731682925,
          -64578.27684108542,
          -64293.783633257284,
          -61657.259527837785,
          -62108.194330469996,
          -16659.408411739587,
          -16659.408411739587,
          -9857.79736381401,
          -11961.98537076986,
          -16659.408411739587,
          -133615.4991356347,
          -132477.2825934457,
          -133539.3642060769,
          -132479.48586771675,
          -132391.06492409375,
          44578.318690095664,
          44578.318690095664,
          44630.16313035539,
          44578.318690095664,
          44571.517079047735,
          30578.48132060179,
          30578.48132060179,
          30578.48132060179,
          30578.48132060179,
          30578.48132060179,
          31793.47950503362,
          31793.47950503362,
          31793.47950503362,
          31793.47950503362,
          31793.47950503362,
          -47122.760227663246,
          -47122.760227663246,
          -47174.60466792293,
          -47174.60466792293,
          -47174.60466792293,
          30651.65227510412,
          30340.58563354592,
          32362.518803674167,
          30755.341155623515,
          34280.763093283014,
          43682.17074657,
          32491.061235436122,
          32542.905675695827,
          32542.905675695827,
          32542.905675695827,
          32542.905675695827,
          -58978.03084739053,
          -58971.22923634261,
          -58978.03084739053,
          -58978.03084739053,
          -58971.22923634261,
          50515.478261091645,
          45612.61833267282,
          45637.41674766942,
          46361.908001051146,
          47554.15385515386,
          12201.191342777309,
          17502.42297707949,
          8767.193931456102,
          19579.601392991382,
          9480.75174091077,
          36969.60484044001,
          -1972.921121504132,
          -27682.3471670122,
          17932.949461810014,
          -24077.968964816635,
          124475.14792904328,
          84906.89100060113,
          84128.89384096995,
          117161.89408956864,
          59874.72987735699,
          19677.936857744982,
          19677.936857744982,
          19677.936857744982,
          19677.936857744982,
          19677.936857744982,
          37440.16190455961,
          37440.16190455961,
          37440.16190455961,
          37440.16190455961,
          37440.16190455961,
          30125.65681576661,
          30125.65681576661,
          30125.65681576661,
          30137.94282983188,
          30125.65681576661,
          -93393.98044189905,
          -101900.2534720931,
          -115173.59964668288,
          -92011.41772165244,
          -93638.52005188921,
          57745.901053731126,
          58285.33787883611,
          58944.04766531582,
          59017.34342388837,
          56684.19797410356,
          31514.613452068672,
          31800.28111608155,
          31548.6215073083,
          31582.629562547936,
          31507.811841020753,
          27663.45980642635,
          28700.348611620317,
          28700.348611620317,
          28700.348611620317,
          28700.348611620317,
          31841.0907823691,
          31841.0907823691,
          31841.0907823691,
          31841.0907823691,
          31841.0907823691,
          16740.12263160793,
          16740.12263160793,
          16740.12263160793,
          16617.262490955167,
          16740.12263160793,
          34755.80447730636,
          35274.24887990333,
          35274.24887990333,
          34755.80447730636,
          34755.80447730636,
          52506.00688531216,
          52506.00688531216,
          52506.00688531216,
          52506.00688531216,
          52506.00688531216,
          31219.161564078542,
          31219.161564078542,
          31219.161564078542,
          31219.161564078542,
          29990.56015755086,
          31569.026340452077,
          31569.026340452077,
          31569.026340452077,
          31569.026340452077,
          31569.026340452077,
          35144.25484411522,
          36628.16216201514,
          37110.01709455952,
          36809.7519889957,
          36028.847856815155,
          28863.880219528623,
          28888.452247659174,
          28851.594205463334,
          28900.738261724448,
          28839.308191398064,
          31779.013999357554,
          31779.013999357554,
          31779.013999357554,
          31779.013999357554,
          31779.013999357554,
          14318.691452837034,
          14903.076893961645,
          12866.666267695211,
          22568.28002798435,
          14768.099368583624,
          27273.421547619724,
          26361.55612279064,
          27221.577107360015,
          27221.577107360015,
          26361.55612279064,
          31705.05856141059,
          31705.05856141059,
          31705.05856141059,
          31705.05856141059,
          31705.05856141059,
          104931.2031033774,
          104257.84360963278,
          106488.77203335236,
          106155.493092004,
          105135.25143481516,
          35897.79936324411,
          35897.79936324411,
          35949.64380350382,
          35897.79936324411,
          35897.79936324411,
          30273.308524305256,
          31614.462360009493,
          42657.328135325275,
          34335.73633550784,
          43757.71195297134,
          54800.38228457823,
          37932.38688572277,
          47998.77123665264,
          34395.54914080147,
          38204.451327639814,
          95399.84151251038,
          95399.84151251038,
          95396.44070698641,
          95399.84151251038,
          95396.44070698641,
          13956.629710077925,
          13861.407155406969,
          13827.399100167338,
          14663.99725906219,
          14133.471597323989,
          31990.726225423467,
          31990.726225423467,
          31990.726225423467,
          31990.726225423467,
          31990.726225423467,
          30077.452404100466,
          30054.19758400048,
          30057.047570956685,
          30493.65707008351,
          30063.849182004615,
          46631.02601546044,
          46631.02601546044,
          46631.02601546044,
          46631.02601546044,
          46631.02601546044,
          35163.57282095371,
          35156.77120990578,
          35111.72838069402,
          35163.57282095371,
          35156.77120990578,
          22723.11036529329,
          21494.508958765597,
          22600.25022464052,
          23364.414908543047,
          24101.575752459656,
          31569.026340452077,
          31569.026340452077,
          31569.026340452077,
          31569.026340452077,
          31569.026340452077,
          31501.010229972828,
          31501.010229972828,
          31501.010229972828,
          31501.010229972828,
          31501.010229972828,
          -27753.904127260506,
          -27753.904127260506,
          -27235.459724663506,
          -27631.043986607736,
          -27235.459724663506,
          39227.02106568285,
          39363.053286641356,
          39220.21945463492,
          38844.608884044355,
          38715.37827413378,
          31219.112067576243,
          31219.112067576243,
          31231.398081641528,
          31219.112067576243,
          31231.398081641528,
          33512.19519670798,
          34542.282390854016,
          34023.837988257044,
          33904.378653128224,
          34545.68319637799,
          13672.292738145326,
          12156.006610355747,
          10287.95713992671,
          17345.58118704029,
          16528.535962525617,
          30676.43189502207,
          30676.43189502207,
          30553.571754369303,
          30553.571754369303,
          30553.571754369303,
          52977.6145418287,
          57441.03541425966,
          54202.03006844755,
          52304.090352219675,
          9854.478348134662,
          9977.33848878743,
          9977.33848878743,
          9854.478348134662,
          9854.478348134662,
          32147.163279525757,
          32521.251887161667,
          32147.163279525757,
          32113.83538539092,
          32147.163279525757,
          17300.54131676942,
          16769.81090010715,
          17288.25530270414,
          16782.096914172424,
          16769.81090010715,
          -114210.4364231062,
          -113964.71614180066,
          -115439.03782963392,
          -114579.01684506451,
          -112736.11473527297,
          10786.888016859624,
          13312.106940394247,
          12083.50553386657,
          14472.692236442681,
          12015.489423387313,
          -117955.79575270216,
          -117955.79575270216,
          -117955.79575270216,
          -119184.39715922985,
          -117955.79575270216,
          -98406.64057142104,
          -98399.83896037312,
          -98458.48501168074,
          -98399.83896037312,
          -98394.35455735576,
          22090.968099056638,
          22087.567293532673,
          22090.968099056638,
          22094.368904580595,
          22090.968099056638,
          27498.451171232904,
          27711.8695618423,
          27487.41639726076,
          27648.086614287276,
          27555.432507740017,
          88939.20462564116,
          91696.1353999739,
          87946.46929820908,
          89580.5091688909,
          83437.50213625246,
          59454.878859385826,
          51898.336858449686,
          51253.4679244484,
          56662.083582662526,
          55082.01684920566,
          51607.294493680274,
          51536.27879328721,
          50307.67738675953,
          51536.27879328721,
          50307.67738675953,
          28304.85416787762,
          27902.26569067968,
          28038.729053428302,
          28175.192416176917,
          27895.464079631758,
          55137.19824982795,
          56389.551193721505,
          51404.39855112966,
          75210.0372188692,
          52959.73175892062,
          2611.1094780888816,
          5307.0203715931975,
          6862.353579384164,
          6862.353579384164,
          2922.176119647071,
          29570.457368953663,
          32876.215531509086,
          30069.81414643745,
          32155.877770890656,
          29318.036778703106,
          43073.02354102002,
          42341.01799596777,
          42399.66404727539,
          41032.540226642355,
          42341.01799596777,
          31616.637617787565,
          31582.629562547936,
          31596.23278464378,
          31582.629562547936,
          31643.844061979264,
          41028.98184878065,
          41437.07851165619,
          41165.01406973916,
          40960.9657383014,
          41369.06240117693,
          29417.89602455336,
          29417.89602455336,
          29417.89602455336,
          29417.89602455336,
          29417.89602455336,
          33124.35954824302,
          33124.35954824302,
          33124.35954824302,
          33124.35954824302,
          33124.35954824302,
          31542.500057365167,
          31549.301668413093,
          31712.540333563305,
          31576.50811260479,
          31644.52422308405,
          14712.753157995241,
          14145.63259027677,
          13163.613748634843,
          13654.192027665691,
          13189.957909246328,
          16124.636747012482,
          16124.636747012482,
          16124.636747012482,
          16001.776606359716,
          15606.192344415487,
          12135.106649216481,
          12653.55105181346,
          13882.15245834114,
          13882.15245834114,
          12653.55105181346,
          33289.83393557725,
          32936.15016108512,
          32895.340494797565,
          33133.39688147497,
          34221.654649143056,
          31501.010229972828,
          31501.010229972828,
          31501.010229972828,
          31501.010229972828,
          31501.010229972828,
          37134.360585105744,
          37141.16219615367,
          37141.16219615367,
          37141.16219615367,
          37141.16219615367,
          30764.720325274495,
          29529.317307698846,
          23963.789438453663,
          -1209.6532110236906,
          35353.195001624495,
          35197.6616808454,
          35197.6616808454,
          35975.32828474087,
          37738.03925357061,
          34101.42223586861,
          33511.96213287857,
          34153.26667612832,
          34030.406535475544,
          34030.406535475544,
          32608.07838535817,
          32608.07838535817,
          32659.92282561786,
          32608.07838535817,
          32659.92282561786,
          31481.863359554154,
          32822.58798435409,
          32019.747594427758,
          32733.398935959634,
          34663.545475529136,
          19845.57181685215,
          17756.31567975917,
          24172.680579684944,
          24960.302687893265,
          25381.079757274678,
          72948.63902574229,
          60324.84892079243,
          58399.99299422948,
          82355.26710502336,
          58631.24776985894,
          26811.27333933866,
          20511.398110807822,
          20791.12644735299,
          25336.520509715327,
          25124.808283649414,
          -16549.61490378683,
          -17068.059306383802,
          -16549.61490378683,
          -15839.457899856114,
          -17068.059306383802,
          24941.33883890371,
          18149.71716488319,
          23178.627870073946,
          36865.56009863435,
          20275.339215530832,
          36351.185059998454,
          37750.984947010314,
          35262.4518145448,
          36091.96285869998,
          36247.496179479065,
          31071.8858039286,
          31059.599789863325,
          31071.8858039286,
          31059.599789863325,
          31059.599789863325,
          -55749.831330421264,
          -55749.831330421264,
          -55749.831330421264,
          -55749.831330421264,
          -55749.831330421264,
          31662.716116197407,
          31621.906449909857,
          31608.303227814,
          31654.59729711891,
          31661.398908166837,
          37869.50558566521,
          37492.230300274154,
          36305.70605202581,
          40074.464024455985,
          38807.08142510988,
          49615.12930618921,
          32623.38770044053,
          42957.52507538633,
          30643.69312374738,
          48027.29540846872,
          -214507.81132404285,
          -177742.53393764922,
          -275363.9335382823,
          -207694.95016255387,
          -179872.8779946528,
          -8185.595489016919,
          -8185.595489016919,
          -8185.595489016919,
          -6956.994082489242,
          -6438.549679892271,
          21511.488377869147,
          24285.93034204383,
          21477.91146441963,
          22367.876026528815,
          23277.769943996194,
          30184.54348243932,
          30248.673936764284,
          30236.38792269901,
          30199.529880503174,
          30221.401524635152,
          43006.212666416955,
          42262.08614207413,
          35356.677600085466,
          35356.677600085466,
          35356.677600085466,
          35356.677600085466,
          35356.677600085466,
          35062.3904413642,
          37670.023143091355,
          34345.938336900064,
          37428.63732681294,
          34917.13091307995,
          24867.242795828093,
          12581.228730551213,
          12581.228730551213,
          17618.494497314732,
          8895.424510968145,
          32541.656720305433,
          31983.924614375537,
          31541.819896260375,
          31562.22472940415,
          31630.24083988341,
          5400.716995210416,
          9139.965325085466,
          5491.633295725591,
          5491.633295725591,
          5491.633295725591,
          21002.466873263034,
          19007.026388097147,
          19953.767531789377,
          19409.63864795533,
          19830.02132489614,
          -15806.467229461623,
          -1042.6598375620085,
          -15874.483339940882,
          -15874.483339940882,
          -15874.483339940882,
          20533.2460788241,
          19304.64467229642,
          19304.64467229642,
          18076.04326576873,
          18076.04326576873,
          16119.600781350951,
          16205.602879807891,
          16131.886795416229,
          16119.600781350951,
          16205.602879807891,
          60329.82995160832,
          59076.656516950075,
          59113.51455914589,
          61474.861071534426,
          59619.67294767761,
          -4548.158071220686,
          -10676.492829531033,
          -3057.535651593531,
          -3896.131859895229,
          -4725.128851085922,
          -4725.128851085922,
          -4725.128851085922,
          -4725.128851085922,
          -4725.128851085922,
          7884.546005954806,
          24480.476962893234,
          7619.283175085707,
          7592.076730894004,
          10877.254867042058,
          4017.4057664246616,
          4017.4057664246616,
          4017.4057664246616,
          3965.5613261649737,
          4017.4057664246616,
          25118.764194721032,
          27725.830988415102,
          28435.98799234581,
          26347.365601248734,
          26347.365601248734,
          -185563.65888052745,
          -185556.85726947954,
          -185563.65888052745,
          -185558.17447751007,
          -185558.17447751007,
          27486.878854017392,
          27480.077242969466,
          27486.878854017392,
          27480.077242969466,
          27480.077242969466,
          31502.37055218241,
          31502.37055218241,
          31502.37055218241,
          31502.37055218241,
          31502.37055218241,
          18414.92568586461,
          18466.770126124306,
          18414.92568586461,
          18414.92568586461,
          18414.92568586461,
          22900.800384278988,
          22900.800384278988,
          22900.800384278988,
          22900.800384278988,
          22900.800384278988,
          65793.70967086066,
          61456.597208133804,
          47799.99354227164,
          41888.10736632264,
          56459.442584100005,
          -51275.08181357364,
          -49765.41223002158,
          -50917.35517578172,
          -48817.879000518275,
          -48537.919023115894,
          35230.480499070094,
          35386.01381984918,
          37926.39139257441,
          34504.6583354343,
          35074.94717829098,
          151508.8453281064,
          151508.8453281064,
          151508.8453281064,
          150850.53276443534,
          152027.28973070334,
          13469.370783482193,
          12891.233844408518,
          15666.291151962152,
          12721.193568210376,
          15605.076652530825,
          25032.265716846563,
          25032.265716846563,
          24461.97687398988,
          24980.421276586876,
          25032.265716846563,
          -6207.880238906251,
          -4507.47747692486,
          -9408.948849332352,
          -10075.937873819168,
          -5663.75135507221,
          16914.93192209772,
          16914.93192209772,
          16914.93192209772,
          17568.522479412746,
          17037.79206275049,
          15472.192205988813,
          15472.192205988813,
          15472.192205988813,
          15472.192205988813,
          15472.192205988813,
          6287.196037909824,
          -43338.00907697927,
          8037.279835013361,
          7653.2319236308,
          6825.729092524185,
          21040.414776280642,
          21040.414776280642,
          21040.414776280642,
          21040.414776280642,
          21040.414776280642,
          28421.326958384227,
          28421.326958384227,
          29281.34794295361,
          25964.12414532885,
          25964.12414532885,
          31885.746350944944,
          29797.12395984788,
          30042.84424115342,
          31885.746350944944,
          29797.12395984788,
          -35247.774183480185,
          -34729.329780883214,
          -34729.329780883214,
          -34210.88537828621,
          -34210.88537828621,
          46449.76580462956,
          53258.91798079154,
          51170.29558969448,
          49327.39347990296,
          51416.015871000025,
          31501.010229972828,
          31501.010229972828,
          31501.010229972828,
          31501.010229972828,
          31501.010229972828,
          1845.4793424978484,
          1793.63490223815,
          1793.63490223815,
          1845.4793424978484,
          1793.63490223815,
          -56356.173241432174,
          -53820.694283510566,
          -58649.83812753775,
          -60003.358726074934,
          -59323.19762128238,
          3790.2982457638072,
          511.0111082865715,
          1584.6974236666117,
          5147.219649824966,
          5120.624556210802,
          31671.05050617096,
          31528.216674164527,
          31569.026340452077,
          31511.21264654471,
          31528.216674164527,
          31248.272766724305,
          31197.26068386486,
          31197.26068386486,
          31214.26471148468,
          31275.47921091601,
          32160.766501621605,
          32167.568112669524,
          32167.568112669524,
          32160.766501621605,
          32160.766501621605,
          42824.23150818563,
          44864.71482256329,
          127096.19239198357,
          62863.29961832902,
          40894.0959335294,
          35318.30422250922,
          35281.44618031339,
          35035.72589900785,
          35084.86995526896,
          35121.7279974648,
          13378.38348329849,
          22961.474454214454,
          19275.670234631387,
          22470.033891603376,
          19152.810093978616,
          28815.51696068699,
          17273.368692780823,
          27414.385084814316,
          18682.619387731993,
          18704.176477237434,
          28851.929276360068,
          33766.33490247082,
          31360.976529675136,
          33766.33490247082,
          32589.577936202826,
          14546.99098099551,
          6683.941979218288,
          17987.074919273036,
          14055.550418384433,
          5455.340572690609,
          31585.304681098398,
          30322.69521933109,
          31563.58263992404,
          30315.893608283164,
          30115.8077169081,
          -162254.846161433,
          -163805.7577032743,
          -162050.94205290958,
          -162722.98433862365,
          -160417.23819337686,
          27989.19791067964,
          27976.91189661436,
          27989.19791067964,
          27976.91189661436,
          27989.19791067964,
          34000.50639596807,
          34000.50639596807,
          34000.50639596807,
          34000.50639596807,
          34000.50639596807,
          26586.147197012368,
          28626.630511390053,
          25225.824987427248,
          27946.469406597487,
          23865.50277784214,
          23606.574728872427,
          23273.295787524068,
          23293.70062066785,
          23749.408560878863,
          23681.392450399602,
          97578.42629395089,
          100868.88407819222,
          78737.96369119704,
          81014.98142929748,
          112159.55841774867,
          -29854.242374884398,
          -23541.195066047836,
          -23711.235342245982,
          -16183.18984897756,
          969.618565074593,
          20441.44186227308,
          20441.44186227308,
          20441.44186227308,
          20441.44186227308,
          20441.44186227308,
          29485.04985145239,
          29437.438574116906,
          29451.041796212765,
          29478.248240404464,
          29427.236157545027,
          31502.37055218241,
          31502.37055218241,
          23026.662778831622,
          22903.802638178848,
          21675.201231651165,
          24132.40404470653,
          22984.10476272339,
          6529.746098948157,
          6529.746098948157,
          6529.746098948157,
          6529.746098948157,
          6529.746098948157,
          151309.85986980205,
          146501.21606298597,
          150718.21491269983,
          148201.61882496736,
          144299.01604641273,
          79893.06340448745,
          79893.06340448745,
          79899.86501553537,
          79893.06340448745,
          79899.86501553537,
          36737.29869620238,
          38240.787463733635,
          39070.298507888794,
          36789.14313646207,
          36478.07649490388,
          8021.530371636851,
          8539.974774233826,
          8021.530371636851,
          8539.974774233826,
          8539.974774233826,
          57685.03788867365,
          56907.452105150696,
          44693.28062603101,
          50236.59363009035,
          48337.422184764466,
          -6982.728933433948,
          -6642.648381037669,
          -7050.745043913204,
          -6370.583939120646,
          -6642.648381037669,
          42591.48728262409,
          42591.48728262409,
          42073.0428800271,
          42073.0428800271,
          42591.48728262409,
          38066.989719417244,
          39290.51850954612,
          38409.16302513125,
          37268.585339417885,
          36558.31650786001,
          73412.98895903361,
          -409.63158495830027,
          -409.63158495830027,
          -409.63158495830027,
          -409.63158495830027,
          -409.63158495830027,
          40995.2351208398,
          40995.2351208398,
          40476.7907182428,
          40995.2351208398,
          40476.7907182428,
          47754.62382722896,
          46067.82428734342,
          46582.51100480176,
          44966.201579023254,
          50073.25943534223,
          37473.107031763604,
          36831.77770825974,
          37533.35275310352,
          36838.57931930769,
          36838.57931930769,
          -486877.15565422864,
          -484235.5168803269,
          -486316.7177842568,
          -479236.044314273,
          -495676.454173821,
          31501.010229972828,
          31501.010229972828,
          31501.010229972828,
          31501.010229972828,
          31501.010229972828
         ],
         "yaxis": "y"
        },
        {
         "hovertemplate": "color=2<br>PC1=%{x}<br>PC2=%{y}<extra></extra>",
         "legendgroup": "2",
         "marker": {
          "color": "#EF553B",
          "symbol": "circle"
         },
         "mode": "markers",
         "name": "2",
         "showlegend": true,
         "type": "scattergl",
         "x": [
          593198.9979980619,
          591303.0978750907,
          591303.0978750907,
          592914.2290723658,
          591303.0978750907,
          132308.69941731566,
          64810.9440137858,
          54852.25879031417,
          275774.109926012,
          275774.109926012,
          275774.109926012,
          277385.24112328724,
          274162.97872873675,
          374685.11984451464,
          350518.1518853863,
          337467.9891874571,
          348907.02068811114,
          361796.07026631286,
          110034.14000675248,
          139039.01411361503,
          132785.28263476296,
          145755.36034020068,
          167743.78365319865,
          467470.47276641015,
          479451.34282446286,
          469579.06509274174,
          476600.80587824417,
          469213.2683757456,
          646751.4065418845,
          646754.2542311415,
          646751.4065418845,
          646751.4065418845,
          646751.4065418845,
          170206.79077726667,
          170974.89906214538,
          161737.4753694124,
          169637.25292587435,
          174717.95812963726,
          316405.2030662287,
          316405.2030662287,
          316244.08994650125,
          316405.2030662287,
          316244.08994650125,
          39113.57553654487,
          42038.356001261775,
          10864.745614309695,
          45561.3342202356,
          30033.595752902052,
          366850.5348399044,
          370154.2917670404,
          372404.51052579435,
          370433.5741533937,
          370455.05837241205,
          135648.9805718812,
          134985.06822364978,
          135917.4719363779,
          135206.37233972692,
          135920.7457496473,
          275920.9695135844,
          268773.23939117393,
          276014.4558472797,
          284895.0973829351,
          270399.6777798819,
          29912.976750177455,
          29912.976750177455,
          30074.089869904983,
          31524.107947452674,
          30074.089869904983,
          708886.5382649327,
          660066.8502583139,
          538095.0866823944,
          754342.4037071787,
          469656.7887855365,
          93168.65097683718,
          96163.09823083068,
          94836.73595925161,
          94665.8746038339,
          94608.92081869466,
          76945.83423608524,
          65670.76354441566,
          52309.4398128352,
          64559.4067394168,
          66640.28995203777,
          177122.64784147037,
          175130.91079677604,
          176901.34372539324,
          178512.47492266845,
          178401.82286462985,
          -5559.490209400897,
          -1129.0562557545543,
          237950.04360812632,
          100893.23813350042,
          188907.42625821286,
          639536.2908429168,
          628543.1413876866,
          626647.2412647152,
          631765.403782237,
          623424.9788701647,
          91263.64101883738,
          191384.66018759654,
          174538.96830817583,
          200090.70703209378,
          83835.05720924544,
          188700.1556875293,
          185095.64201038095,
          185140.54411632725,
          187076.97281106116,
          184184.3814481532,
          85939.98267377607,
          82324.24003502417,
          74967.47057346122,
          88391.46358753135,
          91184.56113776872,
          240475.504767075,
          239368.9841866893,
          165407.4266029033,
          239368.9841866893,
          256275.22612922563,
          240815.60915195374,
          240812.76146269674,
          240812.76146269674,
          240815.60915195374,
          240815.60915195374,
          70041.42161291814,
          71652.55281019337,
          70041.42161291814,
          71937.32173588956,
          70041.42161291814,
          658681.0918474257,
          247659.58360161007,
          354220.71536904376,
          563537.2241979312,
          308551.6588972865,
          72264.95139948945,
          72264.95139948945,
          70656.66789147117,
          70938.5891279104,
          70952.5020229712,
          370349.5815975412,
          567919.0763623115,
          750861.3130801893,
          207729.89035791537,
          206118.75916064015,
          207729.89035791537,
          206403.52808633633,
          206403.52808633633,
          204621.1780135393,
          197855.79621701827,
          222910.97916128035,
          195053.18971314322,
          178944.52728165913,
          295698.3743234549,
          312776.3650145723,
          302629.0861609953,
          320187.56852203823,
          303270.69095064845,
          124628.30895465238,
          124656.78584722201,
          124628.30895465238,
          124633.84155755435,
          124644.90676335819,
          459155.54029863287,
          460766.67149590806,
          460766.67149590806,
          459155.54029863287,
          459155.54029863287,
          400993.3252763419,
          405871.2696474575,
          405355.55123536923,
          378081.8106328915,
          374305.0542738271,
          466699.2697902874,
          463866.5771044999,
          463539.00978047226,
          466747.91946359084,
          472501.8264815966,
          341328.1556102987,
          340542.5259982249,
          340675.3084678711,
          340686.37367367506,
          340708.5040852827,
          10867.465674351219,
          8577.306118226323,
          33204.059649056275,
          46785.71525446367,
          117368.18241594672,
          104438.6443504096,
          172845.52062846415,
          194975.7500136021,
          129474.81623445085,
          81945.46915093681,
          82106.58227066435,
          84872.88372162868,
          85930.75462871105,
          81504.6723071681,
          545211.4000228847,
          522826.25901966344,
          514608.488746237,
          549635.0666068654,
          522145.11704149534,
          475860.76098206156,
          476575.13439198193,
          477117.32947637094,
          476686.2625672629,
          474057.1324360328,
          235093.40861172942,
          268919.48560949974,
          315811.0815952178,
          272632.765508242,
          207704.1782580506,
          133415.7769654478,
          89649.59784668042,
          207627.9937320533,
          158153.18255431633,
          318113.94909455004,
          319725.0802918253,
          319725.0802918253,
          319725.0802918253,
          319725.0802918253,
          353235.0576486409,
          322961.1689887527,
          354116.91066044435,
          359807.9101439968,
          150868.70798982886,
          154989.64480573492,
          170089.14260135393,
          155007.37229529166,
          174955.38661993298,
          135828.96567229886,
          128271.48389213931,
          137155.53757076722,
          131720.70776953298,
          146314.05571216476,
          20423.713578211882,
          20395.23668564227,
          20395.23668564227,
          20366.759793072662,
          22167.481002645007,
          53577.00253000849,
          53605.47942257812,
          53605.47942257812,
          53823.546327444856,
          53766.59254230563,
          243219.38418189136,
          818576.3753549873,
          660829.4554829586,
          530356.1591537468,
          112891.73569693527,
          112730.62257720773,
          112891.73569693527,
          112891.73569693527,
          112730.62257720773,
          597085.216999042,
          598696.3481963171,
          597085.216999042,
          598696.3481963171,
          597085.216999042,
          461629.99323599675,
          461579.5321743078,
          465894.9624378121,
          465894.9624378121,
          464788.44185742637,
          217104.48537107615,
          213471.6778116532,
          223430.3630351248,
          217104.48537107615,
          231489.25291609074,
          307141.9017641508,
          304391.69486409094,
          306197.7907751696,
          306672.6939589172,
          301926.2568897272,
          623172.8780823069,
          618178.3713707535,
          616889.4664129333,
          622850.6518428518,
          615761.6745748407,
          614928.2101863682,
          614928.2101863682,
          614361.5200242327,
          614767.0970666407,
          614781.3355129254,
          412355.95247909316,
          404439.4653620048,
          408323.8287164011,
          404831.61253247014,
          822086.1157341824,
          300900.50085127755,
          331778.0453703642,
          305525.84995787387,
          307929.28712293884,
          302131.88535503444,
          170242.33807248954,
          159077.91943885863,
          161992.63139365715,
          152409.24284442366,
          153561.48824834503,
          320969.4762571076,
          317145.303899061,
          315152.1044294828,
          320969.4762571076,
          310823.32145454653,
          836798.4617795483,
          865844.5578259622,
          771356.0263467354,
          719656.1115765533,
          877172.552683012,
          471596.56201803096,
          471311.79309233476,
          472922.92428961,
          473492.4621410023,
          472450.86879511946,
          92506.8730191123,
          52830.53495865529,
          97428.13813510849,
          46088.09316037147,
          48668.97162156403,
          113543.97469952558,
          113543.97469952558,
          115183.5827893704,
          115183.5827893704,
          115183.5827893704,
          168512.82568037394,
          92508.60150599225,
          164965.33280999758,
          561520.6466520807,
          113162.35367874493,
          588983.5410253814,
          565391.1700704632,
          598984.1207551536,
          673213.0592089895,
          549259.4521895335,
          584097.6078355749,
          590542.1326246756,
          588931.0014274005,
          588931.0014274005,
          584097.6078355749,
          606914.968133065,
          614882.2735671902,
          614631.4223917832,
          632208.1241317135,
          620414.8764691188,
          311163.6505435649,
          324788.4561355322,
          321932.370017646,
          317794.6577809202,
          319082.0271097385,
          152834.94851635498,
          152803.62393452838,
          152775.1470419588,
          154443.2320243732,
          152547.3319014019,
          269871.5285558814,
          269871.5285558814,
          269982.1806139201,
          268260.39735860634,
          269650.22443980444,
          137434.0034000066,
          137434.0034000066,
          137434.0034000066,
          137434.0034000066,
          137434.0034000066,
          505926.93605967343,
          299863.8773344379,
          373812.8768508667,
          233575.45722359046,
          455261.00281077105,
          225234.51188619895,
          435881.06257961143,
          335358.9857856244,
          552101.4466579292,
          451666.62057709676,
          334086.3356166152,
          159229.85953380298,
          231543.47684239346,
          11781.61459730792,
          11838.568382447156,
          13260.109567425237,
          11648.97837015002,
          12123.33730814332,
          223831.33959484356,
          223831.33959484356,
          223831.33959484356,
          223831.33959484356,
          223670.226475116,
          60268.064079972624,
          64779.23143234324,
          70095.96438335147,
          66384.83002671653,
          69773.73814389642,
          512370.7658493475,
          513697.12812092656,
          512940.30370073975,
          512370.7658493475,
          512085.99692365126,
          159912.6314653848,
          175497.48700855294,
          169051.4354299797,
          159188.05200356134,
          165159.4434853827,
          414126.1628453355,
          418584.9832995725,
          416022.06296830694,
          414028.6804884337,
          417258.62102799333,
          743730.0796365028,
          709896.3244937233,
          678640.379266584,
          706674.062099173,
          785619.4907656586,
          96667.88950220153,
          96506.77638247403,
          96506.77638247403,
          96506.77638247403,
          96667.88950220153,
          171124.04359687798,
          171788.43206235184,
          175495.27600664407,
          174278.10336821972,
          173321.63070175768,
          149819.04642280337,
          148777.45307692053,
          141516.07882449,
          157789.27173147062,
          161381.73372942608,
          190402.69019395014,
          173323.94638226542,
          173458.1133285666,
          185393.0752391339,
          218833.5138935117,
          52789.07119495334,
          53073.840120649504,
          52789.07119495334,
          53073.840120649504,
          51462.7089233743,
          424992.128448046,
          426957.34623104474,
          425287.96257954603,
          428072.0055920301,
          382213.83840783796,
          382213.83840783796,
          383824.9696051131,
          384931.4901854988,
          384931.4901854988,
          286995.48725212185,
          271082.74571285606,
          272693.87691013125,
          291544.1119182514,
          273821.6687482239,
          179273.9703065401,
          218470.79182550404,
          117815.70221686846,
          302132.21838306676,
          204532.40489317494,
          129860.10227383558,
          129860.10227383558,
          129871.16747963947,
          129871.16747963947,
          129860.10227383558,
          238584.08987950007,
          214835.52824054845,
          225792.52265820003,
          227508.8143573862,
          246101.98951787877,
          339078.2142375488,
          339078.2142375488,
          339078.2142375488,
          339078.2142375488,
          339078.2142375488,
          517775.0864456396,
          522863.40007299563,
          523430.6099847025,
          523121.02750165947,
          523015.20734470396,
          962701.3771699549,
          917495.036808787,
          919305.6740173366,
          1017917.2217934702,
          991694.3685262272,
          226385.35900286766,
          226672.8128422088,
          226654.01661659114,
          226366.40000163796,
          226552.0047254971,
          52761.79977098117,
          20686.39980133273,
          21019.04175450589,
          20992.19261805623,
          20132.35323806579,
          20344.67709049733,
          289364.8747546352,
          286150.2905050938,
          294561.3126575298,
          280240.7403058382,
          286455.56287399604,
          224177.70483518354,
          210853.65588650826,
          216827.05563220565,
          208025.35205080875,
          216434.9084617403,
          605213.6465920173,
          605659.528637441,
          605498.4155177135,
          606985.89090902,
          605498.4155177135,
          81905.46477999755,
          392604.7304361752,
          398517.939185523,
          408981.2350258841,
          397411.4186051373,
          407370.10382860893,
          147785.03907622772,
          370114.3697094563,
          370114.3697094563,
          370114.3697094563,
          370114.3697094563,
          370114.3697094563,
          245973.56636719365,
          245468.95575030416,
          245497.43264287384,
          245486.36743707,
          245962.5011613898,
          141661.6375095853,
          141661.6375095853,
          141661.6375095853,
          141661.6375095853,
          141661.6375095853,
          309703.2970938039,
          306040.33184851473,
          310788.1239940297,
          312586.0748406034,
          313209.22162151267,
          129984.26520723655,
          194202.4782458038,
          38935.0107373541,
          207659.9297304066,
          197345.88653000517,
          50703.903734337844,
          99173.47948396004,
          106722.3754197875,
          359509.51065605605,
          359509.51065605605,
          361120.6418533313,
          361120.6418533313,
          359509.51065605605,
          201702.8215796423,
          206375.10205174042,
          201702.8215796423,
          226836.4682571357,
          206213.98893201293,
          156581.6292501182,
          154970.498052843,
          156581.6292501182,
          154970.498052843,
          156581.6292501182,
          259039.08704939665,
          268375.358866166,
          263572.56591673836,
          246046.413427024,
          254285.10848253782,
          181439.73454175433,
          181439.73454175433,
          181439.73454175433,
          181439.73454175433,
          181439.73454175433,
          86295.38709937115,
          86456.50021909867,
          86456.50021909867,
          86295.38709937115,
          86456.50021909867,
          79285.08903414215,
          288893.652746914,
          292815.12445156754,
          288893.652746914,
          287282.52154963877,
          288926.0248590179,
          493551.08354073996,
          462563.37379517965,
          439819.42853466095,
          438363.21021863975,
          449364.49845446984,
          112964.06540592891,
          93843.86232081661,
          121502.56210414914,
          99272.27272478692,
          116529.64987473054,
          142420.62370525094,
          147776.76157978523,
          167754.48333756844,
          153740.48961053093,
          134137.1525783179,
          163261.02956484005,
          139485.96778287116,
          155205.37357846397,
          159603.9503306698,
          153320.5386612964,
          333008.96397234336,
          333174.9420594013,
          333900.8567923679,
          333922.9872039756,
          333967.24802719103,
          550348.9372283499,
          552041.9137163402,
          550127.633112273,
          546249.8530330086,
          550503.850109604,
          83036.17758635404,
          85428.23656220181,
          77255.36839472184,
          87078.9098578505,
          86833.68303052781,
          318313.8701310503,
          271242.48464144114,
          312346.1396034955,
          259516.0496350914,
          315231.0673495803,
          405282.79930125107,
          318974.1940311637,
          678593.382656528,
          869380.5666490409,
          1028297.6610378767,
          924931.2080666034,
          708633.7070143545,
          675396.195096482,
          356718.26794539,
          402266.80869986943
         ],
         "xaxis": "x",
         "y": [
          165530.1585286819,
          163783.1127195572,
          163783.1127195572,
          164301.5571221542,
          163783.1127195572,
          57681.76495956492,
          16191.937567218883,
          10070.48762408586,
          177816.81774219222,
          177816.81774219222,
          177816.81774219222,
          178335.26214478916,
          177298.37333959521,
          72338.31218926403,
          64561.64615030932,
          60362.24648927376,
          64043.201747712264,
          68190.75696848816,
          105003.79687956149,
          112490.73994410083,
          100408.38768742341,
          115559.35045807532,
          117021.78665840166,
          -14355.905456036122,
          10317.252788393193,
          -25842.91841757204,
          -1981.0472909489845,
          9887.906395183452,
          -23146.824517676407,
          -23134.538503611155,
          -23146.824517676407,
          -23146.824517676407,
          -23146.824517676407,
          -140342.11670135503,
          -138957.98197404825,
          -144204.41567307542,
          -142799.31951441042,
          -138890.4723740835,
          -174181.23263347714,
          -174181.23263347714,
          -174233.07707373684,
          -174181.23263347714,
          -174233.07707373684,
          -150367.61543168747,
          -151785.35923316854,
          -171945.96812521588,
          -144773.47055355608,
          -156791.7853952501,
          -256947.55264715696,
          -254354.42361563942,
          -250435.45370095925,
          -254956.45597192066,
          -251852.16030628947,
          -130973.0451438332,
          -131381.1418067087,
          -131861.5659979646,
          -131245.10958575018,
          -130853.18459309422,
          -112450.88790061844,
          -122852.12921977608,
          -112079.71525664716,
          -106515.56627765395,
          -115425.67675043644,
          -72420.22336622681,
          -72420.22336622681,
          -72368.3789259671,
          -71901.77896362981,
          -72368.3789259671,
          634341.400629713,
          604332.6926862653,
          529358.5341049817,
          662282.4188145912,
          487290.56977356185,
          25798.265368077748,
          25852.273048049574,
          26562.430051980267,
          25825.26920806366,
          25579.54892675812,
          -49750.284312655574,
          -53367.10911676921,
          -57663.396047276256,
          -53740.98900462179,
          -53043.75646114574,
          -88682.31776083677,
          -89906.60774946338,
          -88818.34998179527,
          -88299.9055791983,
          -88367.92168967755,
          -113101.25273833252,
          -107124.2557454677,
          37209.150027706404,
          -49339.2911133282,
          5223.027958206741,
          89922.83096690611,
          87522.32155525492,
          85775.27574613024,
          88559.2103604489,
          84738.38694093627,
          35120.689497447944,
          71088.05825660231,
          81898.24805499571,
          80724.79957380285,
          19680.534327641886,
          -5183.449431839022,
          -14302.103680129845,
          -20540.967013435147,
          -12186.477449046879,
          -18233.628181018445,
          -153979.5004957247,
          -165894.77843009276,
          -184534.55281289993,
          -132349.64861398574,
          -152230.72083042143,
          179166.87094154124,
          178486.70983674875,
          154848.73676903444,
          178486.70983674875,
          184089.00107550435,
          -203578.91800152016,
          -203591.2040155854,
          -203591.2040155854,
          -203578.91800152016,
          -203578.91800152016,
          -182441.29297802315,
          -181922.84857542624,
          -182441.29297802315,
          -180694.2471688985,
          -182441.29297802315,
          59343.816129351784,
          47799.8883062824,
          50792.75848263375,
          56671.61061475237,
          49510.09983562606,
          -198807.5937229872,
          -198807.5937229872,
          -199313.75211151893,
          -198097.43671905654,
          -198078.34909394334,
          -134653.570816592,
          -73676.68447693686,
          -11072.090397175793,
          -200869.35139683768,
          -201387.79579943462,
          -200869.35139683768,
          -200159.19439290694,
          -200159.19439290694,
          -127059.7146482818,
          -162767.94641514568,
          -57740.703933240795,
          -169286.56401837463,
          -245499.27233336747,
          51185.9464250529,
          56681.45709258096,
          53427.543370285195,
          59066.3013445271,
          53622.6351172587,
          -155724.77297226543,
          -155601.9128316127,
          -155724.77297226543,
          -155721.37216674146,
          -155714.57055569356,
          267838.35691338114,
          268356.80131597817,
          268356.80131597817,
          267838.35691338114,
          267838.35691338114,
          -37548.88808681246,
          -34031.408689865886,
          -36141.606427647865,
          -50473.32796812298,
          -53470.88565637025,
          226785.63188677008,
          225044.4194585011,
          225314.9619374635,
          227287.4291413619,
          230824.2668862832,
          -203186.0867807723,
          -203669.00116517502,
          -203587.3818325999,
          -203580.58022155202,
          -203566.97699945615,
          -50321.39286191183,
          -50612.89335888122,
          -49986.136035564625,
          -48806.94641881944,
          -18340.319783020313,
          -27080.284032992677,
          15331.622724317349,
          21033.045203460464,
          -12162.829041937259,
          -119016.71584742298,
          -118964.87140716327,
          -117264.46864518189,
          -117086.10479498119,
          -119806.74921415142,
          -12410.117611102025,
          -114777.45537513231,
          -143799.45240917164,
          7318.5205937339715,
          -111926.83153984483,
          61245.67162680254,
          61637.59661945851,
          61970.87556080687,
          61281.201644996814,
          60137.009025990665,
          -4375.571403298445,
          -12819.129651941515,
          21598.49316681048,
          7704.1831772112555,
          -13189.12624744721,
          66384.02510524691,
          65154.81056853115,
          68468.34540663441,
          67078.79853904269,
          -153206.1455217961,
          -152687.70111919913,
          -152687.70111919913,
          -152687.70111919913,
          -152687.70111919913,
          -207322.40901736857,
          -249450.8866476853,
          -230449.1983368859,
          -200001.00634880894,
          -133263.56357261012,
          -112267.9814409796,
          -125600.58223373939,
          -139208.36828477847,
          -136768.6959738646,
          61265.9106866306,
          51373.4701105553,
          56697.46185869888,
          60032.53002694659,
          62310.65942023969,
          -67999.5431808351,
          -68122.40332148786,
          -68122.40332148786,
          -68245.26346214063,
          -67552.11447863119,
          43959.86258014178,
          44082.722720794554,
          44082.722720794554,
          44380.28744235978,
          44134.56716105427,
          257310.77245188542,
          674182.2010505477,
          391741.74133048323,
          349717.969827812,
          10554.946092034143,
          10503.101651774432,
          10554.946092034143,
          10554.946092034143,
          10503.101651774432,
          -48412.0274136011,
          -47893.583011004106,
          -48412.0274136011,
          -47893.583011004106,
          -48412.0274136011,
          -59364.674049885245,
          -59348.50237966569,
          -56695.87407097472,
          -56695.87407097472,
          -57376.03517576727,
          88751.1290234399,
          85359.18416188179,
          91480.63410501482,
          88751.1290234399,
          97593.22338574319,
          -102995.86593334419,
          -108428.71596205191,
          -94203.94348631665,
          -98587.61869576512,
          -112632.96458423197,
          -87913.38549477162,
          -89520.56314282234,
          -89935.3186648999,
          -88017.07437529106,
          -90298.22974671776,
          -68221.76392484359,
          -68221.76392484359,
          -70666.68072383368,
          -68273.60836510328,
          -68212.17829477691,
          243164.34935728516,
          238251.01773255915,
          240213.9721254401,
          238539.25384469578,
          372693.4939766621,
          376449.50385261653,
          391512.7410719898,
          378112.9018556969,
          378646.4714433444,
          376592.95591425436,
          -258106.291307223,
          -261655.10000085735,
          -261945.1007147133,
          -263877.1958462691,
          -265747.9381462482,
          8554.564172327819,
          6675.797560145722,
          3925.157241837321,
          8554.564172327819,
          2208.1073318507824,
          75253.88692952991,
          75099.62577917,
          74314.94332395263,
          72768.26346554964,
          78185.96964465428,
          -168859.92983443226,
          -170088.53124095997,
          -169570.08683836297,
          -167112.88402530755,
          -165174.12561484924,
          -67418.45877740027,
          -95294.16890627038,
          -63124.746719229566,
          -94908.34281270776,
          -100205.56367815031,
          -170466.32804349661,
          -170466.32804349661,
          -169825.02350024687,
          -169825.02350024687,
          -169825.02350024687,
          -48208.76529766657,
          49731.016032114385,
          1736.3394876327277,
          9685.354611380166,
          -26010.393455981375,
          3010.1736997902144,
          -15956.593014191945,
          1343.7991574565447,
          -14421.205158279465,
          -21407.60996226259,
          279353.6422414137,
          281427.41985180165,
          280908.9754492046,
          280908.9754492046,
          279353.6422414137,
          167913.11362630862,
          175014.2337332765,
          172373.16300710136,
          185159.24082163034,
          178415.03925723923,
          -193425.32039695707,
          -188846.02324808235,
          -190642.24374724017,
          -190073.2817938939,
          -193524.70441245224,
          -195376.54297152112,
          -195511.68912623922,
          -195634.54926689196,
          -194870.38458298944,
          -196617.43039211415,
          -336849.439637614,
          -336849.439637614,
          -336781.4235271347,
          -337367.884040211,
          -336985.47185857245,
          -65288.60717664852,
          -65288.60717664852,
          -65288.60717664852,
          -65288.60717664852,
          -65288.60717664852,
          226873.36350749288,
          157817.7578637481,
          191781.08450785538,
          139946.11758600132,
          210147.77008280528,
          163192.971300228,
          231583.747481527,
          203975.7776445503,
          271054.2022325677,
          242058.06676649326,
          115254.81927375005,
          55577.0195736926,
          84531.58032059838,
          -56173.12525876344,
          -55927.40497745789,
          -55583.66515577338,
          -56102.10955837036,
          -54698.8035709302,
          -167749.0101945566,
          -167749.0101945566,
          -167749.0101945566,
          -167749.0101945566,
          -167800.8546348163,
          -34677.3394349002,
          -33225.69510762866,
          -31514.828579058598,
          -32710.651510555632,
          -31618.517459578,
          -190790.61455057492,
          -191500.77155450563,
          -188333.41173751955,
          -190790.61455057492,
          -192019.21595710257,
          -9729.73293449147,
          -5199.218678368597,
          -7557.070613891832,
          -9797.606293124842,
          -8203.413637538606,
          -144951.92982493577,
          -132147.4713570619,
          -143204.8840158111,
          -151805.09386150495,
          -131437.31435313122,
          103201.66725243813,
          92314.33479790135,
          82256.51338751985,
          91277.44599270745,
          116681.22171995974,
          -30218.752494443146,
          -30270.59693470283,
          -30270.59693470283,
          -30270.59693470283,
          -30218.752494443146,
          135732.59566336125,
          135716.28124129583,
          137994.8209423509,
          137246.64372707906,
          136611.52545149828,
          -71767.95607353521,
          -69829.19766307682,
          -76713.6920190561,
          -69544.31448250858,
          -66910.24384882863,
          -237509.15064878177,
          -225037.601809396,
          -224417.81670311478,
          -233433.11961548342,
          -230634.35421509144,
          -37685.5914343694,
          -36456.99002784171,
          -37685.5914343694,
          -36456.99002784171,
          -36975.434430438705,
          40759.57869178116,
          41495.674647911816,
          41994.98170935679,
          43234.396883033885,
          103101.36467477014,
          103101.36467477014,
          103619.80907736713,
          104299.9701821597,
          104299.9701821597,
          -106466.73429330265,
          -112724.24640502114,
          -112205.80200242414,
          -106140.0024920394,
          -111842.89092060628,
          64288.95809712843,
          106840.22528757172,
          66271.7542335361,
          62645.99388249542,
          60544.06166219082,
          146963.98663878342,
          146963.98663878342,
          146970.78824983133,
          146970.78824983133,
          146963.98663878342,
          -214047.36277012536,
          -194288.51252215082,
          -211341.7539543321,
          -184639.25481198626,
          -181612.28563779438,
          -188675.33654668173,
          -188675.33654668173,
          -188675.33654668173,
          -188675.33654668173,
          -188675.33654668173,
          59332.611707998796,
          62233.18025171051,
          62446.41219904457,
          61929.51354206256,
          62174.604777765584,
          486346.3503602317,
          492689.7994964953,
          480408.0678289405,
          517582.33350460173,
          493005.64221180853,
          -120118.85715835895,
          -118899.14096037259,
          -118895.44019585724,
          -120136.32761645019,
          -120063.6119125753,
          56491.18379003576,
          -62280.667546411874,
          -61127.99516430626,
          -61039.143078893125,
          -64728.34810400015,
          -63754.9892342451,
          4597.18162786322,
          22891.18352584897,
          25904.85848360401,
          -3716.5944729900066,
          21869.44583908401,
          -175437.03675336964,
          -184088.48125140695,
          -179897.64236071575,
          -185355.10286927572,
          -180185.8784728523,
          -112560.11876079241,
          -111279.67291400497,
          -111331.51735426467,
          -111989.8299179357,
          -111331.51735426467,
          58489.60891957377,
          159128.04150680586,
          163234.69261679836,
          169194.42585773574,
          162554.53151200578,
          168675.98145513883,
          -24551.81172339615,
          23865.722212215365,
          23865.722212215365,
          23865.722212215365,
          23865.722212215365,
          23865.722212215365,
          -148421.19127632494,
          -148259.4745741294,
          -148136.6144334766,
          -148143.41604452458,
          -148427.99288737288,
          -128404.36224349035,
          -128404.36224349035,
          -128404.36224349035,
          -128404.36224349035,
          -128404.36224349035,
          -126070.47109345986,
          -151289.61121474055,
          -120109.29324135727,
          -111860.99503767467,
          -112815.97544069945,
          -135721.47258146937,
          -136616.88155596936,
          -153353.12902551773,
          -143806.65739410513,
          -153313.22909479652,
          46450.060760528206,
          43780.41580829738,
          45935.89045833814,
          -181813.7281717269,
          -181813.7281717269,
          -181295.28376912983,
          -181295.28376912983,
          -181813.7281717269,
          103520.32346750332,
          105023.81223503457,
          103520.32346750332,
          111608.05614801626,
          104971.96779477487,
          -78028.12451835208,
          -78546.56892094907,
          -78028.12451835208,
          -78546.56892094907,
          -78028.12451835208,
          -299474.4047612902,
          -291944.4935318526,
          -297109.16868377244,
          -303304.733636478,
          -298872.67008397117,
          -310361.9533772975,
          -310361.9533772975,
          -310361.9533772975,
          -310361.9533772975,
          -310361.9533772975,
          -107117.92775607575,
          -107066.08331581605,
          -107066.08331581605,
          -107117.92775607575,
          -107066.08331581605,
          -1630.618472443743,
          -29733.109812745275,
          -26850.74869137948,
          -29733.109812745275,
          -30251.554215342283,
          -31348.434818812562,
          117095.39986853485,
          107013.70144356262,
          99639.8524193901,
          99216.63057146403,
          102675.7011134448,
          -42748.39158345629,
          -126775.3876569585,
          -14266.739814733835,
          -127491.18056301022,
          -35971.49488288156,
          72539.64163305255,
          72256.50306225433,
          78918.13388042113,
          74419.95359189264,
          68964.5384948455,
          -104421.96342914595,
          -113209.4842255377,
          -107014.18544213088,
          -106732.49647007935,
          -108754.42964020763,
          60028.00714790463,
          60130.031313623476,
          60104.34683238643,
          60117.95005448228,
          60145.156498674005,
          295803.9068215558,
          296844.5533118885,
          295667.87460059737,
          294416.80642331665,
          295899.1293762268,
          21061.37370246651,
          31381.625517299097,
          -3879.234850045564,
          32029.731671596757,
          30930.79201676977,
          -154692.74144093256,
          -183626.79483880795,
          -160257.4182193097,
          -191561.80852125052,
          -158168.0302022262,
          299906.6368549554,
          246854.0706811359,
          467906.4297387174,
          417792.73674542457,
          427999.7483831114,
          470914.26802309556,
          263258.69045862736,
          250641.6818003174,
          54755.28362006065,
          75423.78168646524
         ],
         "yaxis": "y"
        },
        {
         "hovertemplate": "color=0<br>PC1=%{x}<br>PC2=%{y}<extra></extra>",
         "legendgroup": "0",
         "marker": {
          "color": "#00cc96",
          "symbol": "circle"
         },
         "mode": "markers",
         "name": "0",
         "showlegend": true,
         "type": "scattergl",
         "x": [
          815625.8439389564,
          819459.2061436919,
          814092.3423728861,
          815005.0547525623,
          812455.2564210744,
          971792.3367105589,
          973735.4240819497,
          972396.0580624407,
          973403.467907834,
          973564.5810275616,
          538263.3490367228,
          648277.5291869408,
          489724.7364936105,
          570259.5577143554,
          624245.5362444631,
          619199.0518589558,
          624894.4303728789,
          593569.8485463009,
          623373.1033874963,
          602967.2230942743,
          570747.9393633871,
          572684.3680581211,
          570121.4477268554,
          573253.9059095134,
          573538.6748352095,
          898607.0044665138,
          903918.3032523651,
          900204.782952357,
          898434.3500237399,
          900930.6976853239,
          1501373.2436597154,
          1471690.9723160926,
          1476400.7101019493,
          1478296.610224921,
          1467775.9235067135,
          1246635.8180522209,
          1254983.9211093027,
          1244811.2268370849,
          1254691.4740385972,
          1251753.9805697429,
          743990.5447495991,
          737546.0199604981,
          737546.0199604981,
          744019.0216421689,
          737546.0199604981,
          300091.4757396033,
          212392.51645482058,
          286717.3039199428,
          207170.55887554472,
          234138.4228884704,
          1563654.7419795322,
          1563654.7419795322,
          1563654.7419795322,
          1565265.8731768078,
          1563654.7419795322,
          1486577.3603745708,
          1478038.365029012,
          1474010.5370358238,
          1475299.441993644,
          1486577.3603745708,
          1130736.8906113442,
          1132901.2820988125,
          1134609.7126426944,
          1133171.235888193,
          1133281.8879462313,
          1231160.3110902312,
          678940.0246126581,
          679385.9066580818,
          679101.1377323855,
          677613.662341079,
          676039.9884575626,
          974867.6716958897,
          764061.5941360074,
          907617.510617277,
          756449.6633096982,
          967472.921964639,
          606670.5859372289,
          606717.7731856485,
          608250.624436989,
          604932.5251207157,
          604994.5275054508,
          620109.6370837286,
          624094.9225615025,
          622999.4671869206,
          622999.4671869206,
          622988.4019811167,
          289081.6598252434,
          816179.0934829197,
          816179.0934829197,
          816179.0934829197,
          816179.0934829197,
          816179.0934829197,
          679965.5502412629,
          685502.074523097,
          691487.7749072277,
          693939.5034952622,
          680519.0516846308,
          941912.4192879202,
          924201.0413236967,
          946262.4735205633,
          927423.303718247,
          947873.6047178385,
          1541998.54515768,
          1541679.6039609003,
          1541708.0808534694,
          1540353.2416893216,
          1541651.1270683308,
          386827.7130678149,
          380383.188278714,
          380383.188278714,
          363627.4238270517,
          377160.9258841635,
          773438.95870542,
          770585.9094408858,
          773706.3159443504,
          773182.6666722937,
          776007.2390442583,
          214618.40675455227,
          177661.21380073746,
          186400.68754930687,
          169765.69012592034,
          196785.40409778873,
          763781.8657054614,
          765392.9969027364,
          765395.8445919931,
          765392.9969027364,
          765395.8445919931,
          1048903.9314904956,
          1083216.6840117944,
          1096432.7589999395,
          1021880.4621417011,
          1052226.3468372927,
          612390.7506746125,
          626246.4789711792,
          613035.2031535225,
          629468.7413657298,
          601596.1716528684,
          880387.536186992,
          881209.2878416815,
          876783.2055201387,
          871535.3715439062,
          880102.7672612957,
          611088.2445127019,
          611088.2445127019,
          611088.2445127019,
          609477.1133154267,
          612699.3757099771,
          710101.7549846914,
          708490.623787416,
          708490.623787416,
          710101.7549846914,
          708490.623787416,
          572549.0203420615,
          572387.9072223341,
          572710.1334617891,
          574027.5153121789,
          572577.497234631,
          698113.98281661,
          701980.6976900706,
          708908.5618383541,
          695213.9466615146,
          704397.3944859834,
          318646.5445697618,
          302610.9150390283,
          323811.7480932149,
          314151.6181765317,
          323688.40307325247,
          1210988.8456650344,
          875406.7639852439,
          1170370.7835168373,
          1213940.2253441385,
          1215088.392518231,
          1218354.3898981977,
          1199047.3417157682,
          1158169.1543741585,
          1158330.2674938866,
          1156719.136296611,
          1155584.138823656,
          1158045.49856819,
          618712.512777629,
          620636.8897931697,
          620636.8897931697,
          612386.6351135802,
          620352.1208674737,
          1206242.2401255947,
          1208138.140248566,
          1209749.2714458415,
          1206242.2401255947,
          1208166.6171411362,
          818587.5845791687,
          840289.1145639335,
          920755.8702158018,
          1198245.0092847282,
          780885.0305133298,
          774440.5057242288,
          764451.4923011225,
          762034.7955052098,
          776051.6369215042,
          505033.2792959444,
          505033.2792959444,
          505033.2792959444,
          505318.04822164046,
          505318.04822164046
         ],
         "xaxis": "x",
         "y": [
          -411209.59057241003,
          -408589.89246448345,
          -412181.6088382095,
          -411022.2585862399,
          -412852.969812607,
          -196907.96579582512,
          -196185.4730617904,
          -196584.05691364847,
          -196389.52139322818,
          -196337.6769529685,
          -430863.9662227033,
          -428436.5858791117,
          -432511.1356215611,
          -430627.79440108314,
          -427786.60320622,
          -255294.69182204164,
          -230722.66369148786,
          -365868.81840953353,
          -243718.8347606955,
          -325324.9719941199,
          -361408.9155729563,
          -353054.426008568,
          -364111.83866731724,
          -350597.22319551255,
          -349368.62178898486,
          -505850.1457101183,
          -502585.37240711396,
          -504396.1229088169,
          -505484.3806764849,
          -504421.80739005393,
          -397434.9406608118,
          -405849.4051425881,
          -405470.828901065,
          -403723.7830919404,
          -407109.2250408988,
          -250118.6800116609,
          -226966.96588896858,
          -239336.15471391528,
          -247526.45799867593,
          -247334.74539734225,
          -44556.32945831559,
          -46630.10706870359,
          -46630.10706870359,
          -44433.46931766283,
          -46630.10706870359,
          -587750.6580554165,
          -582565.6517650115,
          -598916.4923374407,
          -601660.8992694004,
          -555976.0987510687,
          -200258.256627808,
          -200258.256627808,
          -200258.256627808,
          -199739.812225211,
          -200258.256627808,
          -643345.8054436275,
          -646093.5607773917,
          -647389.671783884,
          -646974.9162618064,
          -643345.8054436275,
          -578798.7232947163,
          -577940.1983397229,
          -576418.1594279422,
          -577302.3688641726,
          -577234.3527536935,
          -228936.9324195829,
          -373123.9032876846,
          -371843.4574408972,
          -373072.058847425,
          -372413.7462837539,
          -374057.1032123591,
          -122854.72468451006,
          -132325.77655419012,
          -130771.00380825775,
          -131792.85729957285,
          -124503.40268228862,
          -285018.26598881424,
          -286042.8190639041,
          -287207.7157778536,
          -287721.8487625495,
          -288155.6299066621,
          -340691.69576272473,
          -338761.084710283,
          -339434.4442040276,
          -339434.4442040276,
          -339441.2458150755,
          -405854.7991943217,
          -184698.30914018943,
          -184698.30914018943,
          -184698.30914018943,
          -184698.30914018943,
          -184698.30914018943,
          -84483.93686566489,
          -81422.90657260564,
          -80912.52765126165,
          -80976.55103097876,
          -85112.40099997909,
          -34723.1899481829,
          -40419.27676570183,
          -33323.390061171034,
          -39382.38796050792,
          -32804.94565857404,
          -647634.0674070851,
          -649010.100982396,
          -648887.2408417432,
          -648299.9439784653,
          -649132.9611230488,
          -325992.3335678919,
          -328066.11117827985,
          -328066.11117827985,
          -333457.9329652885,
          -329102.9999834738,
          -177882.11720638,
          -183799.60618665093,
          -176769.57432945716,
          -178987.85847225494,
          -173193.22963263682,
          -855745.8059736905,
          -833001.12559903,
          -812877.9216214038,
          -816631.2376675361,
          -843838.5323982682,
          -351613.7558097848,
          -351095.3114071878,
          -351083.0253931226,
          -351095.3114071878,
          -351083.0253931226,
          -349312.04909282405,
          -347212.6767619196,
          -349666.46052191977,
          -351301.3338630801,
          -349360.69419301924,
          -357868.4453016666,
          -353409.8234393326,
          -357661.06754062785,
          -352372.9346341386,
          -361342.02279906644,
          -342468.5304778071,
          -343016.9707795422,
          -345737.6151987124,
          -347909.81931614754,
          -343697.1318843347,
          -378194.3457975879,
          -378194.3457975879,
          -378194.3457975879,
          -378712.7902001848,
          -377675.901394991,
          -45266.406797419426,
          -45784.851200016405,
          -45784.851200016405,
          -45266.406797419426,
          -45784.851200016405,
          -332520.066452005,
          -332571.9108922647,
          -332468.22201174527,
          -331930.6063490149,
          -332397.20631135226,
          -247612.3970121619,
          -246368.13044592916,
          -244138.81951476212,
          -248545.59693683652,
          -245590.4638420337,
          -442276.9004120645,
          -447778.0804197329,
          -440670.15390580386,
          -442781.336384154,
          -440956.6838533969,
          -27379.010694260578,
          -55165.455526302314,
          -246101.3396884958,
          -124446.15131289416,
          -130428.27799353888,
          -154114.2943205662,
          -122280.33991067063,
          -210880.33653224393,
          -210828.4920919842,
          -211346.9364945812,
          -212149.95774002647,
          -212057.09349851188,
          -435374.7671123781,
          -433504.8611626005,
          -433504.8611626005,
          -438104.27219395293,
          -434733.46256912826,
          -377229.4640257729,
          -375482.4182166483,
          -374963.9738140513,
          -377229.4640257729,
          -375359.5580759955,
          -440570.126405995,
          -436997.70898922026,
          -398597.76219276054,
          -320674.4502061618,
          -271981.21410374774,
          -274054.9917141356,
          -277269.347010237,
          -278047.0136141324,
          -273536.54731153866,
          -359621.88618086826,
          -359621.88618086826,
          -359621.88618086826,
          -358393.28477434046,
          -358393.28477434046
         ],
         "yaxis": "y"
        },
        {
         "hovertemplate": "color=4<br>PC1=%{x}<br>PC2=%{y}<extra></extra>",
         "legendgroup": "4",
         "marker": {
          "color": "#ab63fa",
          "symbol": "circle"
         },
         "mode": "markers",
         "name": "4",
         "showlegend": true,
         "type": "scattergl",
         "x": [
          1964892.5977254293,
          1980630.084001385,
          1960654.9048444289,
          1965324.3376272717,
          1938740.6728722292,
          1280239.3823969073,
          1296186.4422358924,
          1287939.2085965078,
          1271126.7767746302,
          1283098.136859673,
          1108912.3880423033,
          1108912.3880423033,
          1108912.3880423033,
          1108912.3880423033,
          1110523.5192395782,
          1432558.98424648,
          1388851.4213212435,
          1316927.5835961709,
          2194210.853311587,
          2032199.5363395966,
          1736857.1460572346,
          2044128.2390414171,
          1790154.6297587487,
          1332443.5036525445,
          1307263.4840930528,
          1312747.4373216783,
          1334386.5910239352,
          1320714.3855004557,
          1439960.1600670274,
          2060507.071018345,
          1383520.0658776346,
          2319186.4723574314,
          1761261.877887829,
          1751384.8517939043,
          2164063.053018179,
          2141932.6414104635,
          2087713.132971563,
          1962676.307387974,
          2093148.070506294,
          2384447.7311362387,
          2385239.5515252864,
          2384726.9674590332,
          2384442.1985333366,
          2385809.089376678,
          2576649.732074422,
          2576649.732074422,
          2576649.732074422,
          2575038.6008771462,
          2576649.732074422,
          2806326.8151336154,
          2781403.0227543004,
          2765801.2235897975,
          2782444.616100183,
          2789548.482952569,
          1359876.5535765933,
          1218904.727076679,
          1181385.6677747436,
          1247000.0292573445,
          1275152.7588114897,
          1259596.0638287182,
          1809184.9343984092,
          2703362.7488861554,
          2703362.7488861554,
          1762462.1296774277,
          1862513.377028219,
          2602086.3472353914,
          2602857.985216458,
          2602943.233049619,
          2601866.505544198,
          2601058.7455205168,
          2407908.86720064,
          1657829.530971417,
          2046856.9222557389,
          2406588.200307575,
          1733695.0817062003,
          1587583.5570948897,
          1496524.1643650995,
          1547901.8241561279,
          1492692.2715560426,
          1510845.8066187978,
          2315804.636136133,
          2315804.636136133,
          2315804.636136133,
          2314193.5049388576,
          2315804.636136133,
          1870081.025229118,
          2056410.3844066605,
          1423033.1810186866,
          1553445.0037860868,
          3118145.8434110293,
          1380855.9891817172,
          1380855.9891817172,
          1380855.9891817172,
          1380855.9891817172,
          1382467.1203789928,
          1618383.204293055,
          1589239.291515144,
          1603290.4512311576,
          1615250.7461103972,
          1593038.7699060957,
          1563153.8186854804,
          1467848.300353903,
          1426473.233964591,
          1709291.0041194947,
          1709291.0041194947,
          1711063.2484364975,
          1756430.5922323125,
          1711063.2484364975,
          2067783.800318856,
          1651377.7237479629,
          1649324.5397936937,
          1647549.2242186873,
          1633141.4472976045,
          1647903.5428544697,
          2053998.4640759982,
          1152100.7068824095,
          1254928.3345823272,
          1956182.750485845
         ],
         "xaxis": "x",
         "y": [
          765753.052291739,
          774058.1521071959,
          767641.7275290585,
          769132.9302825244,
          760578.5976396742,
          147238.71152951798,
          216040.39029506862,
          180417.75111681354,
          107923.46652063205,
          159531.5272058429,
          299467.6441351349,
          299467.6441351349,
          299467.6441351349,
          299467.6441351349,
          299986.0885377318,
          944964.1152153622,
          918097.7515760562,
          873887.2797645399,
          908273.4759234926,
          767184.3919023278,
          632084.9692415444,
          786785.36253037,
          597534.4649905025,
          377934.7111517925,
          362928.83521711413,
          365827.84348648496,
          378657.2038858273,
          370725.0034409914,
          188931.4866813524,
          345928.0756507259,
          212748.3415749885,
          576098.262416698,
          314128.58225209237,
          310888.68522659986,
          544998.5122834669,
          531395.2901876158,
          498067.39605278044,
          421209.1912112213,
          488765.4680127887,
          136563.55320711795,
          140000.23633987154,
          137788.75380812166,
          136560.15240159398,
          142457.43915292685,
          987637.5466172164,
          987637.5466172164,
          987637.5466172164,
          987119.1022146194,
          987637.5466172164,
          674640.3015338371,
          670030.9953118684,
          659325.6775363763,
          668092.2369014099,
          660145.4906582425,
          652308.7222489926,
          176993.5892247764,
          154497.4748115314,
          184825.4763558398,
          194108.3423622955,
          200118.35302849408,
          -150387.18882552622,
          137349.45461580023,
          137349.45461580023,
          -165422.0765008389,
          -133226.6790995661,
          169891.53409808595,
          171419.4063907223,
          170465.4378742353,
          171281.85220680913,
          170785.3346003106,
          502023.97393663623,
          334241.0769283464,
          449534.2345226229,
          502758.7029686976,
          359222.2645536686,
          591840.8092384707,
          561980.0113189166,
          584101.590609485,
          570247.9273699194,
          572177.3693497544,
          65407.05668386027,
          65407.05668386027,
          65407.05668386027,
          64888.61228126329,
          65407.05668386027,
          220516.70774051818,
          297529.9463318926,
          60744.07733495955,
          115215.80061192598,
          639184.8076433056,
          566250.6285687815,
          566250.6285687815,
          566250.6285687815,
          566250.6285687815,
          566769.0729713787,
          56721.904593114115,
          -75448.60290927925,
          -8393.969952853357,
          43207.289121309586,
          -52623.62058785012,
          -19941.577850685684,
          -37545.609127542295,
          37962.55651858951,
          110776.01853412366,
          110776.01853412366,
          111346.30737698036,
          139232.91267347513,
          111346.30737698036,
          -36318.511580276194,
          4010.591460791822,
          -4847.62468027282,
          -13150.269804401398,
          -74626.70016802824,
          -10978.345698845918,
          1313346.6829958668,
          544014.9287892706,
          575966.7691489498,
          1019677.5849495938
         ],
         "yaxis": "y"
        },
        {
         "hovertemplate": "color=3<br>PC1=%{x}<br>PC2=%{y}<extra></extra>",
         "legendgroup": "3",
         "marker": {
          "color": "#FFA15A",
          "symbol": "circle"
         },
         "mode": "markers",
         "name": "3",
         "showlegend": true,
         "type": "scattergl",
         "x": [
          2927743.3145798575,
          2962874.11953111,
          2932041.021914367,
          2933543.386890048,
          2951970.7742877724,
          3038662.4715149496,
          3036953.8579607727,
          3038092.933663557,
          3035627.495689193,
          3035627.495689193,
          2694727.1854973305,
          2781602.402193607,
          2757230.142657796,
          2986833.1630878365,
          2683709.9888717644,
          1052335.4235071961,
          1051140.161833773,
          1052193.0390443478,
          1052164.5621517783,
          1052335.4235071961
         ],
         "xaxis": "x",
         "y": [
          -930811.3639227941,
          -851288.7022220467,
          -918058.74989518,
          -928944.964073445,
          -866166.9383003084,
          -73917.03095802657,
          -81288.63939719275,
          -76374.23377108191,
          -80578.482393262,
          -80578.482393262,
          -596468.9443232851,
          -539907.4158171285,
          -554416.7741453084,
          -413283.3449008526,
          -598554.9184284443,
          -965016.3243016162,
          -968243.3611387144,
          -965630.6250048801,
          -965753.4851455329,
          -965016.3243016162
         ],
         "yaxis": "y"
        }
       ],
       "layout": {
        "legend": {
         "title": {
          "text": "color"
         },
         "tracegroupgap": 0
        },
        "template": {
         "data": {
          "bar": [
           {
            "error_x": {
             "color": "#2a3f5f"
            },
            "error_y": {
             "color": "#2a3f5f"
            },
            "marker": {
             "line": {
              "color": "#E5ECF6",
              "width": 0.5
             },
             "pattern": {
              "fillmode": "overlay",
              "size": 10,
              "solidity": 0.2
             }
            },
            "type": "bar"
           }
          ],
          "barpolar": [
           {
            "marker": {
             "line": {
              "color": "#E5ECF6",
              "width": 0.5
             },
             "pattern": {
              "fillmode": "overlay",
              "size": 10,
              "solidity": 0.2
             }
            },
            "type": "barpolar"
           }
          ],
          "carpet": [
           {
            "aaxis": {
             "endlinecolor": "#2a3f5f",
             "gridcolor": "white",
             "linecolor": "white",
             "minorgridcolor": "white",
             "startlinecolor": "#2a3f5f"
            },
            "baxis": {
             "endlinecolor": "#2a3f5f",
             "gridcolor": "white",
             "linecolor": "white",
             "minorgridcolor": "white",
             "startlinecolor": "#2a3f5f"
            },
            "type": "carpet"
           }
          ],
          "choropleth": [
           {
            "colorbar": {
             "outlinewidth": 0,
             "ticks": ""
            },
            "type": "choropleth"
           }
          ],
          "contour": [
           {
            "colorbar": {
             "outlinewidth": 0,
             "ticks": ""
            },
            "colorscale": [
             [
              0,
              "#0d0887"
             ],
             [
              0.1111111111111111,
              "#46039f"
             ],
             [
              0.2222222222222222,
              "#7201a8"
             ],
             [
              0.3333333333333333,
              "#9c179e"
             ],
             [
              0.4444444444444444,
              "#bd3786"
             ],
             [
              0.5555555555555556,
              "#d8576b"
             ],
             [
              0.6666666666666666,
              "#ed7953"
             ],
             [
              0.7777777777777778,
              "#fb9f3a"
             ],
             [
              0.8888888888888888,
              "#fdca26"
             ],
             [
              1,
              "#f0f921"
             ]
            ],
            "type": "contour"
           }
          ],
          "contourcarpet": [
           {
            "colorbar": {
             "outlinewidth": 0,
             "ticks": ""
            },
            "type": "contourcarpet"
           }
          ],
          "heatmap": [
           {
            "colorbar": {
             "outlinewidth": 0,
             "ticks": ""
            },
            "colorscale": [
             [
              0,
              "#0d0887"
             ],
             [
              0.1111111111111111,
              "#46039f"
             ],
             [
              0.2222222222222222,
              "#7201a8"
             ],
             [
              0.3333333333333333,
              "#9c179e"
             ],
             [
              0.4444444444444444,
              "#bd3786"
             ],
             [
              0.5555555555555556,
              "#d8576b"
             ],
             [
              0.6666666666666666,
              "#ed7953"
             ],
             [
              0.7777777777777778,
              "#fb9f3a"
             ],
             [
              0.8888888888888888,
              "#fdca26"
             ],
             [
              1,
              "#f0f921"
             ]
            ],
            "type": "heatmap"
           }
          ],
          "heatmapgl": [
           {
            "colorbar": {
             "outlinewidth": 0,
             "ticks": ""
            },
            "colorscale": [
             [
              0,
              "#0d0887"
             ],
             [
              0.1111111111111111,
              "#46039f"
             ],
             [
              0.2222222222222222,
              "#7201a8"
             ],
             [
              0.3333333333333333,
              "#9c179e"
             ],
             [
              0.4444444444444444,
              "#bd3786"
             ],
             [
              0.5555555555555556,
              "#d8576b"
             ],
             [
              0.6666666666666666,
              "#ed7953"
             ],
             [
              0.7777777777777778,
              "#fb9f3a"
             ],
             [
              0.8888888888888888,
              "#fdca26"
             ],
             [
              1,
              "#f0f921"
             ]
            ],
            "type": "heatmapgl"
           }
          ],
          "histogram": [
           {
            "marker": {
             "pattern": {
              "fillmode": "overlay",
              "size": 10,
              "solidity": 0.2
             }
            },
            "type": "histogram"
           }
          ],
          "histogram2d": [
           {
            "colorbar": {
             "outlinewidth": 0,
             "ticks": ""
            },
            "colorscale": [
             [
              0,
              "#0d0887"
             ],
             [
              0.1111111111111111,
              "#46039f"
             ],
             [
              0.2222222222222222,
              "#7201a8"
             ],
             [
              0.3333333333333333,
              "#9c179e"
             ],
             [
              0.4444444444444444,
              "#bd3786"
             ],
             [
              0.5555555555555556,
              "#d8576b"
             ],
             [
              0.6666666666666666,
              "#ed7953"
             ],
             [
              0.7777777777777778,
              "#fb9f3a"
             ],
             [
              0.8888888888888888,
              "#fdca26"
             ],
             [
              1,
              "#f0f921"
             ]
            ],
            "type": "histogram2d"
           }
          ],
          "histogram2dcontour": [
           {
            "colorbar": {
             "outlinewidth": 0,
             "ticks": ""
            },
            "colorscale": [
             [
              0,
              "#0d0887"
             ],
             [
              0.1111111111111111,
              "#46039f"
             ],
             [
              0.2222222222222222,
              "#7201a8"
             ],
             [
              0.3333333333333333,
              "#9c179e"
             ],
             [
              0.4444444444444444,
              "#bd3786"
             ],
             [
              0.5555555555555556,
              "#d8576b"
             ],
             [
              0.6666666666666666,
              "#ed7953"
             ],
             [
              0.7777777777777778,
              "#fb9f3a"
             ],
             [
              0.8888888888888888,
              "#fdca26"
             ],
             [
              1,
              "#f0f921"
             ]
            ],
            "type": "histogram2dcontour"
           }
          ],
          "mesh3d": [
           {
            "colorbar": {
             "outlinewidth": 0,
             "ticks": ""
            },
            "type": "mesh3d"
           }
          ],
          "parcoords": [
           {
            "line": {
             "colorbar": {
              "outlinewidth": 0,
              "ticks": ""
             }
            },
            "type": "parcoords"
           }
          ],
          "pie": [
           {
            "automargin": true,
            "type": "pie"
           }
          ],
          "scatter": [
           {
            "fillpattern": {
             "fillmode": "overlay",
             "size": 10,
             "solidity": 0.2
            },
            "type": "scatter"
           }
          ],
          "scatter3d": [
           {
            "line": {
             "colorbar": {
              "outlinewidth": 0,
              "ticks": ""
             }
            },
            "marker": {
             "colorbar": {
              "outlinewidth": 0,
              "ticks": ""
             }
            },
            "type": "scatter3d"
           }
          ],
          "scattercarpet": [
           {
            "marker": {
             "colorbar": {
              "outlinewidth": 0,
              "ticks": ""
             }
            },
            "type": "scattercarpet"
           }
          ],
          "scattergeo": [
           {
            "marker": {
             "colorbar": {
              "outlinewidth": 0,
              "ticks": ""
             }
            },
            "type": "scattergeo"
           }
          ],
          "scattergl": [
           {
            "marker": {
             "colorbar": {
              "outlinewidth": 0,
              "ticks": ""
             }
            },
            "type": "scattergl"
           }
          ],
          "scattermapbox": [
           {
            "marker": {
             "colorbar": {
              "outlinewidth": 0,
              "ticks": ""
             }
            },
            "type": "scattermapbox"
           }
          ],
          "scatterpolar": [
           {
            "marker": {
             "colorbar": {
              "outlinewidth": 0,
              "ticks": ""
             }
            },
            "type": "scatterpolar"
           }
          ],
          "scatterpolargl": [
           {
            "marker": {
             "colorbar": {
              "outlinewidth": 0,
              "ticks": ""
             }
            },
            "type": "scatterpolargl"
           }
          ],
          "scatterternary": [
           {
            "marker": {
             "colorbar": {
              "outlinewidth": 0,
              "ticks": ""
             }
            },
            "type": "scatterternary"
           }
          ],
          "surface": [
           {
            "colorbar": {
             "outlinewidth": 0,
             "ticks": ""
            },
            "colorscale": [
             [
              0,
              "#0d0887"
             ],
             [
              0.1111111111111111,
              "#46039f"
             ],
             [
              0.2222222222222222,
              "#7201a8"
             ],
             [
              0.3333333333333333,
              "#9c179e"
             ],
             [
              0.4444444444444444,
              "#bd3786"
             ],
             [
              0.5555555555555556,
              "#d8576b"
             ],
             [
              0.6666666666666666,
              "#ed7953"
             ],
             [
              0.7777777777777778,
              "#fb9f3a"
             ],
             [
              0.8888888888888888,
              "#fdca26"
             ],
             [
              1,
              "#f0f921"
             ]
            ],
            "type": "surface"
           }
          ],
          "table": [
           {
            "cells": {
             "fill": {
              "color": "#EBF0F8"
             },
             "line": {
              "color": "white"
             }
            },
            "header": {
             "fill": {
              "color": "#C8D4E3"
             },
             "line": {
              "color": "white"
             }
            },
            "type": "table"
           }
          ]
         },
         "layout": {
          "annotationdefaults": {
           "arrowcolor": "#2a3f5f",
           "arrowhead": 0,
           "arrowwidth": 1
          },
          "autotypenumbers": "strict",
          "coloraxis": {
           "colorbar": {
            "outlinewidth": 0,
            "ticks": ""
           }
          },
          "colorscale": {
           "diverging": [
            [
             0,
             "#8e0152"
            ],
            [
             0.1,
             "#c51b7d"
            ],
            [
             0.2,
             "#de77ae"
            ],
            [
             0.3,
             "#f1b6da"
            ],
            [
             0.4,
             "#fde0ef"
            ],
            [
             0.5,
             "#f7f7f7"
            ],
            [
             0.6,
             "#e6f5d0"
            ],
            [
             0.7,
             "#b8e186"
            ],
            [
             0.8,
             "#7fbc41"
            ],
            [
             0.9,
             "#4d9221"
            ],
            [
             1,
             "#276419"
            ]
           ],
           "sequential": [
            [
             0,
             "#0d0887"
            ],
            [
             0.1111111111111111,
             "#46039f"
            ],
            [
             0.2222222222222222,
             "#7201a8"
            ],
            [
             0.3333333333333333,
             "#9c179e"
            ],
            [
             0.4444444444444444,
             "#bd3786"
            ],
            [
             0.5555555555555556,
             "#d8576b"
            ],
            [
             0.6666666666666666,
             "#ed7953"
            ],
            [
             0.7777777777777778,
             "#fb9f3a"
            ],
            [
             0.8888888888888888,
             "#fdca26"
            ],
            [
             1,
             "#f0f921"
            ]
           ],
           "sequentialminus": [
            [
             0,
             "#0d0887"
            ],
            [
             0.1111111111111111,
             "#46039f"
            ],
            [
             0.2222222222222222,
             "#7201a8"
            ],
            [
             0.3333333333333333,
             "#9c179e"
            ],
            [
             0.4444444444444444,
             "#bd3786"
            ],
            [
             0.5555555555555556,
             "#d8576b"
            ],
            [
             0.6666666666666666,
             "#ed7953"
            ],
            [
             0.7777777777777778,
             "#fb9f3a"
            ],
            [
             0.8888888888888888,
             "#fdca26"
            ],
            [
             1,
             "#f0f921"
            ]
           ]
          },
          "colorway": [
           "#636efa",
           "#EF553B",
           "#00cc96",
           "#ab63fa",
           "#FFA15A",
           "#19d3f3",
           "#FF6692",
           "#B6E880",
           "#FF97FF",
           "#FECB52"
          ],
          "font": {
           "color": "#2a3f5f"
          },
          "geo": {
           "bgcolor": "white",
           "lakecolor": "white",
           "landcolor": "#E5ECF6",
           "showlakes": true,
           "showland": true,
           "subunitcolor": "white"
          },
          "hoverlabel": {
           "align": "left"
          },
          "hovermode": "closest",
          "mapbox": {
           "style": "light"
          },
          "paper_bgcolor": "white",
          "plot_bgcolor": "#E5ECF6",
          "polar": {
           "angularaxis": {
            "gridcolor": "white",
            "linecolor": "white",
            "ticks": ""
           },
           "bgcolor": "#E5ECF6",
           "radialaxis": {
            "gridcolor": "white",
            "linecolor": "white",
            "ticks": ""
           }
          },
          "scene": {
           "xaxis": {
            "backgroundcolor": "#E5ECF6",
            "gridcolor": "white",
            "gridwidth": 2,
            "linecolor": "white",
            "showbackground": true,
            "ticks": "",
            "zerolinecolor": "white"
           },
           "yaxis": {
            "backgroundcolor": "#E5ECF6",
            "gridcolor": "white",
            "gridwidth": 2,
            "linecolor": "white",
            "showbackground": true,
            "ticks": "",
            "zerolinecolor": "white"
           },
           "zaxis": {
            "backgroundcolor": "#E5ECF6",
            "gridcolor": "white",
            "gridwidth": 2,
            "linecolor": "white",
            "showbackground": true,
            "ticks": "",
            "zerolinecolor": "white"
           }
          },
          "shapedefaults": {
           "line": {
            "color": "#2a3f5f"
           }
          },
          "ternary": {
           "aaxis": {
            "gridcolor": "white",
            "linecolor": "white",
            "ticks": ""
           },
           "baxis": {
            "gridcolor": "white",
            "linecolor": "white",
            "ticks": ""
           },
           "bgcolor": "#E5ECF6",
           "caxis": {
            "gridcolor": "white",
            "linecolor": "white",
            "ticks": ""
           }
          },
          "title": {
           "x": 0.05
          },
          "xaxis": {
           "automargin": true,
           "gridcolor": "white",
           "linecolor": "white",
           "ticks": "",
           "title": {
            "standoff": 15
           },
           "zerolinecolor": "white",
           "zerolinewidth": 2
          },
          "yaxis": {
           "automargin": true,
           "gridcolor": "white",
           "linecolor": "white",
           "ticks": "",
           "title": {
            "standoff": 15
           },
           "zerolinecolor": "white",
           "zerolinewidth": 2
          }
         }
        },
        "title": {
         "text": "PCA Representation of Clusters"
        },
        "xaxis": {
         "anchor": "y",
         "domain": [
          0,
          1
         ],
         "title": {
          "text": "PC1"
         }
        },
        "yaxis": {
         "anchor": "x",
         "domain": [
          0,
          1
         ],
         "title": {
          "text": "PC2"
         }
        }
       }
      },
      "text/html": [
       "<div>                            <div id=\"e37afda4-8928-4c63-bfaa-5df10c2977c3\" class=\"plotly-graph-div\" style=\"height:525px; width:100%;\"></div>            <script type=\"text/javascript\">                require([\"plotly\"], function(Plotly) {                    window.PLOTLYENV=window.PLOTLYENV || {};                                    if (document.getElementById(\"e37afda4-8928-4c63-bfaa-5df10c2977c3\")) {                    Plotly.newPlot(                        \"e37afda4-8928-4c63-bfaa-5df10c2977c3\",                        [{\"hovertemplate\":\"color=1<br>PC1=%{x}<br>PC2=%{y}<extra></extra>\",\"legendgroup\":\"1\",\"marker\":{\"color\":\"#636efa\",\"symbol\":\"circle\"},\"mode\":\"markers\",\"name\":\"1\",\"showlegend\":true,\"x\":[-251204.2313249248,-250476.85416708235,-252087.98536435855,-250366.2021090445,-250761.6230927794,-72074.610447355,-78329.54522415875,-77116.32270835726,-79694.1326239976,-79310.46238880866,-255846.42623708988,-255082.92703662382,-252686.16622727475,-254179.96901079544,-251800.94976296605,-271797.5952941337,-271388.182679391,-271775.46488252596,-271465.63912001794,-271653.7476186835,-259826.83064391138,-252887.9012898241,-258699.03880581877,-258526.86048028735,-254993.43705208573,-237719.1293599533,-238825.6499403391,-238101.546595758,-238383.04170818478,-237497.8252438762,6165.353253341767,-20391.140675915907,-260920.1830985968,-260806.27552831834,-260411.65188951997,-260759.0699788693,-260759.0699788693,-286754.6394611801,-286754.6394611801,-286754.6394611801,-286754.6394611801,-286754.6394611801,-249115.48043252903,-249782.50064082313,-250747.4594759502,-246820.73121825387,-245220.66522678253,-205199.2185157832,-205199.2185157832,-205199.2185157832,-205360.33163551072,-205199.2185157832,-284177.4260168567,-282753.58138837595,-281899.2746112874,-283038.35031407204,-285031.7327939452,-292894.91213744914,-291401.10935392836,-292341.65184725623,-291954.3696441213,-288413.5037868869,-12090.372543441783,-11554.377697526304,-10840.004287605901,-11061.308403683055,-11842.07304842659,-142358.85666005107,-141994.18965954802,-140962.17195402618,-140822.40666618772,-141060.29559365884,-271789.45651353395,-271789.45651353395,-271789.45651353395,-271789.45651353395,-271789.45651353395,-265581.782976986,-265581.782976986,-265581.782976986,-265581.782976986,-265581.782976986,-271734.13048451464,-271734.13048451464,-271734.13048451464,-271734.13048451464,-271734.13048451464,-284734.3717453798,-284169.46052735345,-283287.66686689615,-286972.6393977293,-284288.1726300446,-207357.53157190655,-205746.4003746313,-205746.4003746313,-205746.4003746313,-207357.53157190655,-177368.56452443905,-177368.56452443905,-177368.56452443905,-177368.56452443905,-178979.6957217143,-262751.96850533766,-260152.02817808953,-265078.80838367646,-270143.2929460226,-268623.2970176819,-262461.30185971427,-260689.05754271153,-264233.5461767171,-256550.57749148487,-262511.7629214033,-282782.8546874415,-283619.4214784467,-279809.07542017184,-288895.42330242664,-288332.3964755141,-271335.78307557583,-271180.87019432185,-271313.6526639681,-271534.95678004535,-271579.2176032607,-265550.3056673761,-266355.8712660136,-265228.0794279209,-267000.3237449237,-259428.00711773022,-279391.98179109104,-279391.98179109104,-279391.98179109104,-279391.98179109104,-279391.98179109104,-253624.4051113523,-258468.86390898173,-264430.0493389,-261841.17421745582,-264107.823099445,-266044.5523309669,-268777.9427634328,-268645.143760663,-269784.32635578356,-270239.3515980084,-233525.85431712354,-233525.85431712354,-233515.89563190006,-231760.91675917467,-233338.85233903836,-271623.47842647607,-271634.54363228,-271634.54363228,-271634.54363228,-271634.54363228,-243980.10963358925,-242368.97843631398,-242485.73369584949,-244333.2231014525,-244051.30186501326,-241339.8253470319,-242182.24322053944,-242794.0080839503,-242019.05513591447,-240536.93975218074,-256293.67779256115,-264188.2206592097,-256454.79091228868,-262093.75010275198,-262415.976342207,-253200.01455796012,-251540.23368738152,-253531.9707320758,-253370.85761234834,-253038.90143823254,-246105.1852272591,-243436.18312290157,-241516.65451484546,-232544.7808717932,-234638.77531100856,-269631.7413817818,-269637.2739846837,-269631.7413817818,-269648.3391904875,-269642.80658758566,-271512.8263684374,-271512.8263684374,-271512.8263684374,-271512.8263684374,-271512.8263684374,-255391.97708256205,-202050.45196887507,-242074.23216726686,-264733.48444781353,-202227.4952617368,-271623.47842647607,-271623.47842647607,-271623.47842647607,-271623.47842647607,-271623.47842647607,-31902.170051997673,-70276.8717158976,-68380.97159292623,-31991.974263890294,-66013.0159754643,-263305.8637177331,-263305.8637177331,-263305.8637177331,-263305.8637177331,-263305.8637177331,-271081.2833420871,-271081.2833420871,-268868.2421813156,-271081.2833420871,-271081.2833420871,-271272.81189651036,-271272.81189651036,-271272.81189651036,-271272.81189651036,-271272.81189651036,-223607.26538835754,-221555.33734731362,-216575.99473557778,-223104.4661598536,-206456.19639237865,-204717.47386930752,-204561.8933524819,-204717.47386930752,-204556.36074958002,-204556.36074958002,-264282.9190188551,-264282.9190188551,-264282.9190188551,-264282.9190188551,-264282.9190188551,-272479.4306387434,-272479.4306387434,-272479.4306387434,-272479.4306387434,-272479.4306387434,-246363.3649859216,-247697.94477404747,-247993.77890554752,-247963.43097739297,-247985.5613890007,-277715.6534329893,-273543.4303499225,-281747.9602059764,-264437.4064683605,-274223.6202593534,-259035.87130606006,-257433.12040094368,-257427.5877980417,-258759.48267252275,-258751.10238036388,127652.05160286241,127813.16472258995,127652.05160286241,127813.16472258995,127813.16472258995,-270738.26196216745,-270738.26196216745,-270738.26196216745,-270738.26196216745,-270738.26196216745,-257509.80666642767,-249798.4923467054,-256396.93960508003,-249912.39991698385,-257965.4369475416,-169489.8893341613,-125222.96645304681,-184560.69963901507,-126111.1093425595,-168750.5872652035,-190019.94984340775,-195728.5819023774,-199534.3366083572,-180505.56307845833,-184311.31778443808,-244267.46294470425,-245588.46520871046,-243810.2049074705,-245234.69081868223,-244368.6775530589,-258488.0863621625,-258459.6094695929,-258326.97324243502,-258326.97324243502,-258326.97324243502,-139428.23039923242,-113949.28918082829,-129603.17778511056,-128947.40421747882,-126262.12455192182,-265602.8993451445,-265761.16477561515,-265600.0516558876,-265600.0516558876,-265764.01246487204,-252874.3920948896,-252817.43830975035,-252902.86898745922,-252874.3920948896,-252959.82277259845,-199164.2006853809,-200780.8644855581,-197724.26150599564,-200780.8644855581,-203509.62487895187,-255455.5982341453,-254034.09696784688,-275535.96141755476,-274085.94334000704,-277952.6582134676,-278597.1106923777,-278435.9975726502,-271940.06202874065,-271940.06202874065,-271940.06202874065,-271940.06202874065,-271940.06202874065,-264567.41218516754,-264595.88907773705,-264757.00219746464,-264595.88907773705,-264567.41218516754,-243601.97745296604,-243601.97745296604,-241990.84625569076,-243601.97745296604,-243601.97745296604,-119070.771543196,-132254.79104119237,-37245.00440288832,-145793.61947110275,-154585.66890430296,-89801.55932932609,-100862.48330553687,-74900.31249852412,-108515.10984927682,-41023.52773613091,-273092.8330922502,-273092.8330922502,-273035.879307111,-273092.8330922502,-273092.8330922502,-256870.13318865356,-256697.95486312226,-256697.95486312226,-256686.88965731833,-256870.13318865356,-271446.43513361434,-271446.43513361434,-271446.43513361434,-271446.43513361434,-271446.43513361434,-68104.11634491355,-68104.11634491355,-70028.49336045455,-69743.72443475839,-68388.8852706097,-248001.09689329113,-248001.09689329113,-248124.75269925979,-247990.03168748724,-248001.09689329113,-245420.63490218052,-267683.82897954155,-267631.35063977924,-254433.91266499396,-267690.029218015,-270185.0016719746,-270185.0016719746,-270185.0016719746,-270185.0016719746,-270185.0016719746,-20651.689098832165,24782.210664329017,24621.097544601493,8832.011811304348,-24840.63021174774,-226527.95944670614,-226493.9499512346,-226361.31372407672,-226338.36943440902,-226442.52876899726,-164790.25798498382,-162512.10657941448,-169061.79187042627,-167068.40939055313,-165075.02691068,-162376.1651152446,-160765.03391796933,-160765.03391796933,-160765.03391796933,-160765.03391796933,-271512.8263684374,-271512.8263684374,-271512.8263684374,-271512.8263684374,-271512.8263684374,-185097.57418525574,-185382.3431109519,-185382.3431109519,-186993.4743082271,-185382.3431109519,-253605.44136703876,-252316.53640921853,-244260.88042284243,-248772.04777521302,-253766.55448676622,-220271.56840766058,-220271.56840766058,-218660.43721038537,-220271.56840766058,-218660.43721038537,-221693.67629720477,-218499.890795224,-220111.0219924992,-220111.0219924992,-220113.8696817561,-123993.21092593769,-155464.51686706417,-158051.64240908728,-135933.4217583175,-119244.59690937288,-274053.7808316131,-273057.0895916765,-275278.2872121067,-273000.1358065373,-273000.1358065373,-264675.18028410163,-264675.18028410163,-264675.18028410163,-264675.18028410163,-264675.18028410163,-158699.50294480514,-158715.61425677792,-156760.91081826153,-156476.14189256533,-158087.27308984057,-246616.11330975842,-252580.25923803746,-246726.765367797,-246948.06948387416,-252015.9337420408,-103010.06327218672,38400.15211665394,-113160.72713777465,-22681.015396875366,47733.70686247365,-233133.22885594337,-233597.96749970535,-219727.2691826912,-231692.94071305633,-242632.70268139357,-214331.68654890396,-214331.68654890396,-213904.53316035974,-216142.1559941665,-215715.00260562223,-165485.08887963722,-169529.41314597157,-169606.86958659856,-171509.74693958843,-165474.0236738334,-262339.1084786294,-262500.2215983569,-262339.1084786294,-262500.2215983569,-262339.1084786294,-267743.3174705244,-267582.2043507969,-267743.3174705244,-267743.3174705244,-267743.3174705244,-272652.72478881164,-272652.72478881164,-272652.72478881164,-272652.72478881164,-272652.72478881164,-237979.98773943522,-237979.98773943522,-236368.85654215995,-237979.98773943522,-236368.85654215995,-273189.3476913183,-273028.2345715907,-273189.3476913183,-273028.2345715907,-273189.3476913183,-252455.8821462313,-250855.81615475993,-252455.8821462313,-252455.8821462313,-252455.8821462313,-270738.26196216745,-270738.26196216745,-270738.26196216745,-270738.26196216745,-270738.26196216745,-181159.90726782367,-181159.90726782367,-182771.03846509889,-180875.13834212752,-182771.03846509889,-269429.08915239,-269429.08915239,-269429.08915239,-269429.08915239,-269440.1543581939,-265197.07620389387,-265208.14140969777,-265197.07620389387,-265197.07620389387,-265197.07620389387,-258332.47791705962,-258493.5910367873,-258332.47791705962,-258332.47791705962,-258332.47791705962,-252521.96118535934,-253848.15891342046,-253944.65479693323,-254332.26608710398,-253876.63580599008,-187604.89272811823,-189249.38408632288,-192148.19179132677,-192509.42927457203,-193376.90575279732,-240907.82634365864,-240941.0219610702,-241095.9348423242,-241062.73922491263,-241073.80443071647,-257029.91103723788,-256868.7979175104,-256868.7979175104,-256879.86312331425,-256868.7979175104,-271291.5222523604,-271557.08719165303,-271656.6740438877,-271789.45651353395,-271247.26142914494,-234556.72920992185,-234556.72920992185,-234556.72920992185,-234556.72920992185,-234556.72920992185,14801.762386052747,15086.531311748913,15086.531311748913,14801.762386052747,15086.531311748913,-271623.47842647607,-271612.41322067217,-271634.54363228,-271612.41322067217,-271623.47842647607,-273382.6992848304,-273382.6992848304,-273382.6992848304,-273382.6992848304,-273388.23188773234,-232838.75133757276,-232838.75133757276,-232838.75133757276,-232838.75133757276,-232838.75133757276,-271576.6954652277,-271576.6954652277,-271576.6954652277,-271576.6954652277,-271576.6954652277,-271013.7855866835,-270858.87270542956,-270936.3291460565,-270737.15544158703,-271069.1116157028,-274260.92877316434,-274260.92877316434,-274260.92877316434,-274260.92877316434,-274260.92877316434,-267293.70678074367,120149.60947399146,-267132.59366101626,-267132.59366101626,-267132.59366101626,-271843.6760219728,-271843.6760219728,-271843.6760219728,-271843.6760219728,-271843.6760219728,-269810.7945549759,-269810.7945549759,-269810.7945549759,-269810.7945549759,-269810.7945549759,-149811.5992012998,-152356.59653618696,-155897.4623934213,-156379.46648146072,-165437.22140424285,-279903.7784978725,-279903.7784978725,-279903.7784978725,-279903.7784978725,-279903.7784978725,-42250.666817127196,-42411.77993685473,-42250.666817127196,-42261.73202293104,-40650.600825655834,-113603.43183977998,-116923.17659123219,-116923.17659123219,-114742.50754256462,-117492.71444262452,-271844.78254255326,-271844.78254255326,-271844.78254255326,-271844.78254255326,-271844.78254255326,-266582.9569353127,-264115.41604105255,-266704.6741991551,-265830.5229406504,-266715.739404959,-235236.07058697892,-235236.07058697892,-233627.7870789607,-233343.01815326448,-235238.91827623596,-157454.46753601264,-159065.59873328783,-173565.77950876486,-155843.33633873743,-155843.33633873743,-270890.08387469954,-270879.0186688956,-270879.0186688956,-270890.08387469954,-270879.0186688956,-265022.70548497804,-264861.5923652506,-264861.5923652506,-265022.70548497804,-265022.70548497804,-267971.9605112032,-270682.93593314814,-269687.067410801,-270572.2838751097,-270616.544698325,-199615.0997861462,-199615.0997861462,-199586.62289357654,-199615.0997861462,-198003.96858887095,-238699.57474869242,-224043.1458208183,-228432.59590934642,-227876.66507686724,-243277.13333588614,-272814.71045361087,-272361.92786175397,-272418.88164689316,-272188.21881707927,-272361.92786175397,-253623.79015474024,-252297.4278831612,-253908.55908043648,-252297.4278831612,-253620.94246548324,-191652.09359280855,-191784.87606245486,-192001.3152112016,-191840.20209147412,-192001.3152112016,-257582.92310246505,-258579.61434240162,-258807.4294829586,-257124.44513209426,-257241.20039162962,-89159.17597121981,-90931.42028822254,-90942.4854940264,-90496.6034486027,-88896.53745713133,-257227.30105348743,-257073.85138483555,-256771.6707723736,-256036.96694407752,-257825.3157974494,-271689.86966129916,-271678.8044554954,-271783.92391063203,-271767.3261019263,-271778.3913077301,-257331.04981699924,-252633.20231769027,-252462.359263302,-254292.98318826882,-256091.88593783215,-261327.4151588688,-262751.2597873497,-262751.2597873497,-259900.72284113104,-262751.2597873497,-266043.603711782,-266043.603711782,-266043.603711782,-266043.603711782,-266043.603711782,-271844.78254255326,-271844.78254255326,-271844.78254255326,-271844.78254255326,-271844.78254255326,-257758.77555424286,-257764.30815714475,-259977.34931791623,-257753.24295134092,-261637.13018849478,-220018.1543231233,-219973.89349990783,-202173.99388925347,-212112.5462506709,-199223.49667246907,-267990.73951060936,-267990.73951060936,-267990.73951060936,-267990.73951060936,-267990.73951060936,-256765.95745996747,-256544.6533438903,-258315.08627250747,-257429.86980819883,-256876.6095180061,-249828.13277763387,-251439.2639749092,-249828.13277763387,-249828.13277763387,-249828.13277763387,-271843.6760219728,-271843.6760219728,-271843.6760219728,-271843.6760219728,-271843.6760219728,-266766.0144712277,-261813.66723842983,-264259.0777210824,-265907.793385857,-266615.96655730397,-239776.77080790585,-264064.8975473728,-249890.36891263147,-264175.54960541136,-244247.1139526642,-256216.80992898362,-256216.80992898362,-256216.80992898362,-256216.80992898362,-256216.80992898362,-171749.06650602078,-161358.83825619874,-183350.49244792288,-177189.5839921748,-180488.99378253004,-227780.95613762303,-230358.7660532634,-231969.8972505386,-226653.16429953036,-213603.00160160108,-263434.14201708685,-262789.6895381768,-262145.2370592666,-261017.44522117404,-263111.9157776318,-229961.94397420692,-196772.6413103374,-240917.6361156784,-219811.81743137306,-207728.3334518089,-269106.95798415854,-269106.95798415854,-269106.95798415854,-269106.95798415854,-269106.95798415854,-211176.4708871551,-209482.756701428,-208035.3060520132,-208017.89436524743,-208046.37125781705,-208196.4191717407,-208046.37125781705,-254074.17370252832,-254085.23890833228,-254074.17370252832,-254068.64109962643,-252474.10771105706,-249471.8588153108,-260285.1664939342,-245504.82367976656,-254305.25240713637,-254634.9234387789,-269929.5323564375,-269929.5323564375,-269929.5323564375,-269929.5323564375,-269929.5323564375,-270588.15007751435,-270588.15007751435,-270588.15007751435,-270588.15007751435,-270588.15007751435,-249525.065033093,-250791.36346206305,-250238.1031718702,-250520.93355544007,-250935.21113751316,-234989.37455362422,-234828.26143389673,-234989.37455362422,-234828.26143389673,-233378.243356349,-270295.65373001323,-271568.15239745687,-264652.39877004595,-268414.56874335743,-271368.97869298735,-271512.8263684374,-271512.8263684374,-271512.8263684374,-271512.8263684374,-271512.8263684374,-263813.1602284552,-263813.1602284552,-263813.1602284552,-263813.1602284552,-263813.1602284552,-273590.18245475454,-273590.18245475454,-273590.18245475454,-273429.06933502696,-273590.18245475454,-253296.27938586043,-253011.51046016422,-253000.44525436033,-254907.41058313567,-253011.51046016422,-220300.71700804099,-223354.15362627662,-220754.21329902855,-219014.65973947776,-220755.72571714234,-260802.43604061066,-255279.43513188374,-262079.81797641402,-257212.59063531898,-259030.53989939135,-236706.44081885242,-236711.48692502134,-247849.93610109497,-234971.9517286971,-235889.810014411,-231058.5139881668,-231224.4920752246,-228617.49235560224,-221978.36887328784,-230958.92713593206,-162468.7449448399,-162307.6318251124,-162307.6318251124,-162307.6318251124,-162468.7449448399,-239240.4093550328,-241012.65367203555,-241012.65367203555,-241012.65367203555,-239240.4093550328,-267469.2823414615,-263122.0757980754,-267794.3562701735,-255708.0246013524,-267794.3562701735,-258286.89444327806,-250070.12533717437,-256020.2455612889,-256031.31076709277,-253925.77500483108,-282855.902517311,-284129.71753289754,-280086.8391846604,-290432.8950065614,-278401.0142161626,-261222.18497085015,-261222.18497085015,-261332.83702888872,-261222.18497085015,-261222.18497085015,-273609.2433612891,-273580.7664687195,-273580.7664687195,-273609.2433612891,-273609.2433612891,-290342.31603152596,-290339.70180201693,-301672.51857133524,-292841.2948139594,-290951.3959812917,-235946.32848963584,-256713.0961013483,-250092.35310012975,-255124.09531568075,-255897.19729706694,-254415.9221442339,-260344.9405105742,-260234.28845253563,-260640.20227557342,-260540.6154233387,-260518.63125421942,-263504.44913562847,-263504.44913562847,-263504.44913562847,-263504.44913562847,-263504.44913562847,-265150.6229872939,-263383.9112731932,-265639.49494937854,-266439.5279451142,-265472.849226749,-278938.96652720444,-279270.92270132015,-278573.8147356771,-279370.5095535549,-278584.879941481,-215987.70708364146,-214215.46276663872,-214243.93965920835,-214215.46276663872,-215826.5939639139,-256848.29526202258,-256848.29526202258,-256848.29526202258,-256848.29526202258,-256848.29526202258,-271843.6760219728,-271843.6760219728,-271843.6760219728,-271843.6760219728,-271843.6760219728,-217224.6214208237,-217623.2979167984,-219205.95222150398,-218983.832459461,-216740.51424714027,-220059.14782306482,-239999.8694024711,-231147.70475938515,-243316.58345437128,-243319.4311436283,-261800.9249045304,-261639.81178480294,-261611.3348922333,-261800.9249045304,-261811.9901103343,-191239.93351205127,-194372.39169470908,-221964.0168604452,-192652.7129347282,-204128.98309025296,-263320.38433741254,-263320.38433741254,-263320.38433741254,-263320.38433741254,-263320.38433741254,-318394.60896620876,-321349.0189158386,-320302.2132145601,-316306.85041406,-321654.45582825877,-21979.383587650416,-164468.60533407028,-197692.5533957236,-203191.9606802407,-194505.77412421268,-203236.2215034561,-234718.5167283612,-230680.28580777958,-249024.77180335746,-250919.209501445,-226178.1753973368,-265510.84789560025,-265124.76732457266,-265297.27120132814,-265324.10557256,-265243.16510544595,-197865.59950963597,-199482.26330981313,-197871.13211253792,-199476.73070691124,-199476.73070691124,-200417.90592208374,-192201.1368159801,-202077.3710552772,-197517.86976698833,-195423.39921053057,-257767.75012990925,-258251.08948909177,-258089.97636936425,-253095.46965781105,-247456.51046734786,-254104.69089159006,-254104.69089159006,-254104.69089159006,-254104.69089159006,-254104.69089159006,-198238.64703402994,-198238.64703402994,-196627.51583675476,-198238.64703402994,-198238.64703402994,-205010.00868141506,-206621.1398786903,-206621.1398786903,-206621.1398786903,-205010.00868141506,-90511.9729763788,-90511.9729763788,-92112.0389678502,-90500.90777057495,-92123.10417365406,-281105.0672548332,-275240.50817878876,-281492.3494579682,-281536.6102811836,-280991.56750753766,15437.381080074852,-265481.36355180264,-265818.18469324877,-265873.510722268,-265873.510722268,-265873.510722268,-270295.65373001323,-269410.43726570456,-270406.3057880517,-270627.60990412894,-270627.60990412894,-256639.25107726463,-254743.35095429324,-254743.35095429324,-256354.4821515685,-254743.35095429324,-246529.49896943726,-244752.3896851042,-250842.8278884817,-245489.36962387475,-246263.9340301447,-239937.72491590565,-240999.25208658728,-239439.37929593734,-240908.1260303645,-239652.95599020948,-271844.78254255326,-271844.78254255326,-271844.78254255326,-271844.78254255326,-271844.78254255326,-235352.6145497251,-235352.6145497251,-235352.6145497251,-235381.09144229477,-235352.6145497251,-268052.02380139974,-267890.9106816722,-268052.02380139974,-267890.9106816722,-268052.02380139974,-180439.56935324677,-180439.56935324677,-180439.56935324677,-180439.56935324677,-180439.56935324677,-270904.24004922545,-270893.1748434215,-270893.1748434215,-270893.1748434215,-270904.24004922545,-168146.93030523128,-166535.799107956,-166535.799107956,-168146.93030523128,-166535.799107956,-151571.11407122115,-147765.35936524137,-136348.0952473021,-149668.23671823123,-143959.60465926162,-240909.63773204418,-240909.63773204418,-240909.63773204418,-240909.63773204418,-240909.63773204418,25095.77283759405,26868.017154596786,26706.904034869276,22034.62356277115,25740.225316504126,-252210.7123767162,-253174.02577666444,-256906.93149793462,-253302.60083108125,-251260.38566760972,-271433.90671520843,-271433.90671520843,-271433.90671520843,-271433.90671520843,-271433.90671520843,-209747.11097661417,-209383.44069871845,-209996.50246330755,-208804.55120521298,-209222.32757899095,-256729.0552891572,-262045.78824016533,-257212.39464833977,-253184.56665515172,-256245.71592997474,-271843.6760219728,-271843.6760219728,-271843.6760219728,-271843.6760219728,-271843.6760219728,-116710.3403054805,-115061.75179444642,-112474.19364311588,-110644.99554097392,-113242.3019279946,-313952.4624189999,-314826.357794587,-314544.130682,-314387.2792586197,-315406.96085178305,-269762.735087602,-269779.82122314366,-270097.53895097476,-269552.82172855275,-269427.93122422934,-262455.6351704739,-262370.2044927651,-262038.24831864936,-260071.7326542848,-262886.04407125805,-198509.23659211374,-197182.8743205347,-197988.4399191723,-207531.57129685496,-204953.76138121466,-271712.00007290696,-271767.3261019263,-271402.1743103989,-271745.1956903186,-271546.0219858491,-260077.06868105292,-260077.06868105292,-260077.06868105292,-260077.06868105292,-260077.06868105292,-267529.3522790489,-268857.1769755118,-268525.22080139595,-267971.9605112032,-268193.26462728035,115592.33347370844,-195593.512897084,-195593.512897084,-195593.512897084,-195593.512897084,-195593.512897084,-229419.62900905148,-230176.4534292382,-229419.62900905148,-229419.62900905148,-231030.76020632667,-271424.30472200667,-271424.30472200667,-271424.30472200667,-271424.30472200667,-271424.30472200667,-17744.45746367923,-18089.436474472743,-17131.15241962512,-17951.343824735963,-17728.101166532593,-211522.53921823422,-211522.53921823422,-211522.53921823422,-211522.53921823422,-211361.42609850664,-220265.0503115573,-218369.1501885859,-218653.91911428206,-218369.1501885859,-218369.1501885859,-146452.8477074628,-160049.36498445988,-140143.0188711751,-161104.9527094443,-175054.05485057202,-172682.84398112033,-167752.15104268785,-169363.2822399631,-171291.55447503846,-171893.4644385347,-222506.20040177362,-221215.96017281024,-221614.30758174908,-223878.2859214519,-224535.5219139674,-261663.5803592925,-261502.46723956498,-261502.46723956498,-261502.46723956498,-261663.5803592925,-273091.0578621635,-273091.0578621635,-273088.2101729065,-273088.2101729065,-273088.2101729065,-227633.92538341798,-227633.92538341798,-227633.92538341798,-227633.92538341798,-227633.92538341798,-262761.4270754288,-262761.4270754288,-262761.4270754288,-262761.4270754288,-262761.4270754288,-268292.851479515,-268298.38408241695,-268292.851479515,-268292.851479515,-268298.38408241695,-259311.569129496,-259311.569129496,-259311.569129496,-259150.45600976853,-259147.60832051153,-211826.7168829677,-213276.7349605154,-213437.84808024293,-213435.000390986,-213437.84808024293,-264906.8314525002,-264861.2684243888,-264935.3083450698,-264878.35455993057,-264963.7852376394,-195950.36204473287,-195657.37560248977,-193667.10098267923,-195924.7328414202,-197141.90547984448,-261775.445261043,-261775.445261043,-261886.09731908157,-261775.445261043,-261886.09731908157,-271844.78254255326,-271844.78254255326,-271844.78254255326,-271844.78254255326,-271844.78254255326,-241136.84645894912,-239235.4137330758,-241136.84645894912,-241136.84645894912,-239240.94633597776,-251173.30185216854,-251167.76924926665,-251173.30185216854,-251173.30185216854,-251167.76924926665,-215388.6205559626,-215673.38948165876,-215388.6205559626,-215388.6205559626,-215662.3242758549,-274067.60791910323,-274067.60791910323,-273459.0215998911,-273490.3426459059,-273800.0385415055,-196115.63265937308,-196001.72508909463,-200204.25351020493,-196172.5864445123,-196087.15576680348,-245136.61495707085,-246243.13553745666,-245136.61495707085,-245136.61495707085,-246243.13553745666,-90641.80239279025,-91533.34782474946,-89911.15142167037,-92070.3208077868,-90167.44345479694,-220270.1059827768,-221991.8892380906,-222276.65816378675,-220665.52696651148,-221991.8892380906,-143087.22029878202,-175605.67837578646,-188011.38859480558,-169322.26670641304,-159655.47952276174,-195654.4544737121,-194043.32327643695,-194043.32327643695,-194043.32327643695,-192147.42315346553,-120321.86360433938,-120321.86360433938,-118710.73240706415,-120321.86360433938,-120037.0946786432,-219057.23171261034,-220679.4281156894,-220668.36290988553,-220676.58042643243,-219353.06584411033,-263693.03217609995,-263693.03217609995,-263854.14529582753,-263693.03217609995,-263693.03217609995,-165939.48804910723,-166108.81868538167,-166074.20906087974,-164336.57436837896,-166071.36137162283,-222632.12157431073,-213071.78375977793,-221370.68811267096,-222344.42622341035,-221293.2316720439,-212447.06195797457,-214499.8204102021,-211073.99546109428,-214447.0165192158,-209626.97563882195,-264851.07964326965,-264822.6027507001,-264822.6027507001,-264851.07964326965,-264851.07964326965,-236195.20031009294,-236195.20031009294,-236195.20031009294,-236195.20031009294,-236195.20031009294,-38986.537650818645,-37120.90672005469,-38433.27736062576,-37106.91508904672,-37328.21920512387,-266947.4262814884,-267591.8787603985,-268880.7837182186,-261469.58021075264,-262275.1458093903,-273081.4211613717,-273092.48636717553,-273026.09513235226,-273432.581321891,-273037.1603381563,-248954.98846777552,-247890.61360783697,-247919.0905004066,-248801.21324789966,-248886.96947683243,-255547.8357379313,-255558.90094373515,-255720.01406346273,-255592.09656114675,-255525.70532632354,-248237.91498513333,-248237.91498513333,-261449.19080279017,-254682.43977423417,-254682.43977423417,-250710.41464911975,-250710.41464911975,-250871.5277688472,-250707.5669598628,-250868.68007959038,-271867.4341897005,-271867.4341897005,-271867.4341897005,-271867.4341897005,-271867.4341897005,-271457.5003394183,-271457.5003394183,-271457.5003394183,-271457.5003394183,-271457.5003394183,-23670.453697893114,-23209.244750318267,-24895.161845934123,-22202.311022167243,-22246.571845382674,-268626.1346092091,-268736.7866672477,-268958.09078332485,-268736.7866672477,-268875.91561785585,-261912.57666209774,-261846.18542727455,-261868.3158388823,-261724.46816343212,-261868.3158388823,-204153.7481818185,-190452.2288692906,-183359.01073486413,-203129.67557680223,-187139.08976269647,-275720.89544426097,-275720.89544426097,-275720.89544426097,-275720.89544426097,-275720.89544426097,-260063.35091890485,-266668.98882773326,-267313.4413066433,-264896.74451073044,-262641.16083454515,-269129.5565110986,-270107.5190941556,-270135.99598672526,-268873.264477972,-269442.80232936423,-221654.93998943802,-222365.78370317124,-221926.70516720408,-230876.44839864864,-231479.31059662974,-271479.630751026,-271490.69595682976,-271490.69595682976,-271490.69595682976,-271490.69595682976,-271147.62059164554,-271147.62059164554,-271147.62059164554,-271147.62059164554,-271147.62059164554,-133088.14168723446,-53407.269142433586,-53424.35527797536,-92290.90719714799,-53404.42145317663,-205111.29271826093,-205122.35792406477,-205122.35792406477,-205111.29271826093,-205111.29271826093,-266781.4861348942,-266942.5992546217,-266781.4861348942,-266781.4861348942,-266781.4861348942,-271734.13048451464,-271734.13048451464,-271734.13048451464,-271734.13048451464,-271734.13048451464,-110012.91313258048,-40131.15809034181,-96704.51295800226,-82908.22959223363,-81061.01631353659,-272871.925197274,-272871.925197274,-272882.9904030778,-272871.925197274,-272598.2214773817,-253213.06864841687,-251601.93745114165,-251601.93745114165,-251601.93745114165,-251601.93745114165,-187151.13883632512,-185540.00763904993,-187151.13883632512,-187151.13883632512,-185540.00763904993,-271512.8263684374,-271512.8263684374,-271512.8263684374,-271512.8263684374,-271512.8263684374,-265888.3882538767,-265613.36756387056,-265802.95757616777,-265774.48068359814,-265802.95757616777,-290496.91096781066,-291249.34496247285,-289921.5202660101,-290400.1718048328,-291315.73619729606,-252739.04161683706,-261600.2632018508,-260529.42514889734,-264822.52559640125,-261467.62697469283,-221277.49877108188,-222603.86104266095,-221277.49877108188,-221277.49877108188,-221277.49877108188,-272061.61474906525,-272061.61474906525,-272072.6799548691,-272050.5495432614,-272061.61474906525,-254902.7209806109,-255828.66857194778,-255564.91502104086,-257885.07854366367,-257300.81706110318,-271490.69595682976,-271490.69595682976,-271490.69595682976,-271490.69595682976,-271490.69595682976,-271843.6760219728,-271843.6760219728,-271843.6760219728,-271843.6760219728,-271843.6760219728,-239845.72787758484,-241454.01138560308,-239760.7050228589,-241482.4882781727,-239874.20477015447,-61680.1176406092,-61663.031505067425,-61668.72688358137,-62794.85573754183,-62769.55208545314,-271307.7998135598,-271307.7998135598,-271307.7998135598,-271307.7998135598,-271307.7998135598,-205715.10891245658,-207895.77796112414,-207895.77796112414,-208180.5468868203,-208465.3158125165,-166075.6398301708,-170377.72069886394,-174578.48992222574,-167928.93150662357,-181101.45751841646,-286409.9115891934,-286407.06389993645,-286409.9115891934,-286296.4118418979,-286409.9115891934,-247658.02629005825,-243231.9439685154,-241018.90280774387,-239912.38222735815,-244338.4645489011,-228025.77860111263,-209175.54359299253,-215620.06838209342,-220775.68821337412,-201119.88760661642,-271734.13048451464,-271734.13048451464,-271734.13048451464,-271734.13048451464,-271734.13048451464,-221694.58586495547,-231694.6644938657,-223477.89538776208,-226055.70530340238,-213972.22132383825,-245846.97549902342,-245846.97549902342,-246010.93630800783,-246008.0886187509,-246008.0886187509,-250204.28614819355,-249788.19796545332,-247881.23263667815,-251895.4880156049,-250072.96689114944,-249294.3988742347,-249101.96117268063,-249265.9219816652,-249291.55118497772,-249104.8088619376,-200919.29772094593,-183546.9246088899,-193616.26189040008,-181665.8396222342,-203574.94711387178,-272243.4343110247,-272214.95741845516,-272214.95741845516,-272376.07053818274,-272376.07053818274,-252635.65341337025,-252635.65341337025,-252635.65341337025,-252635.65341337025,-252474.54029364273,-260581.80645168293,-260581.80645168293,-260581.80645168293,-260581.80645168293,-260581.80645168293,-241435.58825019683,-241446.65345600064,-241435.58825019683,-241150.81932450066,-241407.1113576272,-262915.41402513755,-262948.60964254907,-262837.95758451044,-263109.72276227665,-263242.505231923,41145.22663822142,71089.69917815649,-274381.5906473878,-274381.5906473878,-274210.7292919701,-274381.5906473878,-274378.74295813084,-205914.78570009847,-207525.91689737368,-205914.78570009847,-207525.91689737368,-205914.78570009847,-261222.18497085015,-261222.18497085015,-261222.18497085015,-261222.18497085015,-261222.18497085015,-256748.07835646303,-258014.2018002274,-259785.22618409316,-255875.37338357756,-255436.39188458706,-39320.39243511651,-38963.69967169528,-39005.03406970658,-39007.14661685072,-38351.693296725345,-245881.81462759688,-247302.6429011625,-242404.193345657,-237036.99933295973,-246736.50601678021,-138040.46617297333,-138204.42698195783,-138040.46617297333,-136590.44809542567,-136429.33497569815,-261822.57350203532,-261994.75182756668,-262800.3174262043,-258278.0848680298,-261661.46038230782,-146687.06488271488,-145075.93368543967,-145075.93368543967,-146687.06488271488,-146402.29595701874,-271928.0628770188,-269719.68475028255,-270127.3416674464,-265038.4238569953,-268165.50733814656,-245551.87477737234,-246434.65844703044,-244669.0911077143,-246080.88405700217,-246564.99123068564,-224458.46714252356,-221789.6937887288,-223668.83171702016,-227063.27243710196,-226008.072072306,-250350.98662952674,-263995.75156130834,-267158.2203675262,-236318.82415660413,-247471.34820687893,-271553.9962229309,-271525.5193303613,-271576.7777369866,-271599.55925104226,-271587.8429427904,-257274.68083606593,-255824.66275851824,-255019.09715988065,-257435.79395579346,-256791.34147688336,-252964.8833543928,-252964.8833543928,-252964.8833543928,-252964.8833543928,-252803.77023466528,-258035.09122957516,-258037.93891883208,-258055.02505437384,-258055.02505437384,-258029.39585106116,-283111.47597534413,-281678.8520712509,-281421.5896683578,-284266.66469581047,-281227.13468873035,-224593.67685718965,-224754.78997691718,-224754.78997691718,-226365.9211741924,-224754.78997691718,-271384.19013273815,-271384.19013273815,-271384.19013273815,-271384.19013273815,-271384.19013273815,-228704.6277663926,-229606.61542245423,-227391.4351959503,-226225.3458131981,-226519.56986763707,-271070.2181362833,-271070.2181362833,-271070.2181362833,-271070.2181362833,-271070.2181362833,-180475.44532778655,-188681.33074253282,-185650.6615514503,-171514.07079052608,-178380.97477132882,-263134.6532679919,-259429.05151425884,-261362.40895098905,-260556.84335235148,-248956.69873196987,-263107.6641729591,-263268.7772926866,-263268.7772926866,-263268.7772926866,-263268.7772926866,-271686.9432360951,-271686.9432360951,-271686.9432360951,-271686.9432360951,-271686.9432360951,-271844.78254255326,-271844.78254255326,-271844.78254255326,-271844.78254255326,-271844.78254255326,-271527.2293582402,-271527.2293582402,-271527.2293582402,-271527.2293582402,-271527.2293582402,-144411.90507710574,-133778.43917508936,-135228.45725263702,-141189.6426825553,-136628.01426849572,-244699.898312388,-246418.83387844483,-244725.52751570067,-245389.4398639321,-246746.07132771856,-280234.0159428894,-280234.0159428894,-280231.1682536325,-280234.0159428894,-280231.1682536325,-296985.5713154773,-296985.5713154773,-296985.5713154773,-296985.5713154773,-296974.50610967353,-223130.62358195998,-223127.77589270304,-223127.77589270304,-223127.77589270304,-223127.77589270304,-241901.5910746832,-243610.02161856517,-245823.06277933664,-234757.8569754793,-249142.62452049388,-105845.06826337207,-102397.24750120314,-102703.3624286854,-104314.49362596063,-105845.06826337207,-263862.2770048037,-263585.6468597072,-263884.40741641144,-263563.51644809946,-263701.1638850761,-269108.4752044883,-269279.336559906,-269023.04452677944,-269023.04452677944,-269023.04452677944,-190404.76641397,-193665.3452761802,-193833.8167585538,-192323.39216772097,-190191.4642975043,-222989.4169360843,-222989.4169360843,-211924.2111322269,-217061.39305042088,-222989.4169360843,-308768.58669401315,-308390.90294826817,-308627.58670781995,-308600.1652048695,-308456.3175294194,-233834.10372714666,-233834.10372714666,-233672.99060741914,-233834.10372714666,-233845.16893295053,-271631.6172070759,-271631.6172070759,-271631.6172070759,-271631.6172070759,-271631.6172070759,-271368.97869298735,-271368.97869298735,-271368.97869298735,-271368.97869298735,-271368.97869298735,-269946.7668124859,-269946.7668124859,-270107.87993221334,-270107.87993221334,-270107.87993221334,-262621.42630864563,-263588.1050270108,-257304.69335763744,-262299.2000691906,-251343.5079277191,-235138.46274085867,-263115.85847861797,-262954.7453588904,-262954.7453588904,-262954.7453588904,-262954.7453588904,-281050.9499527243,-281039.88474692043,-281050.9499527243,-281050.9499527243,-281039.88474692043,-220564.98786202955,-228438.37011831,-229354.2643855272,-227952.8075913662,-226253.15907119017,-219069.1550489976,-223799.53368101956,-233279.03429587648,-217349.47628901672,-234599.86396455357,-77964.58422049506,-163646.11117855535,-168574.81034565566,-143131.91701232234,-173337.71443061525,-106815.3827822756,-135105.15106659956,-161704.92144162024,-119480.65457760436,-206459.95234654564,-274110.73461675236,-274110.73461675236,-274110.73461675236,-274110.73461675236,-274110.73461675236,-245370.97129231514,-245370.97129231514,-245370.97129231514,-245370.97129231514,-245370.97129231514,-272162.6172187526,-272162.6172187526,-272162.6172187526,-272159.76952949556,-272162.6172187526,-68975.45516296504,-71236.43785005584,-75694.85079248759,-60401.60272082388,-68268.26186982411,-139812.80685788192,-130064.90702344793,-128148.81503099504,-128797.27332333465,-137104.52170674314,-271822.6521309455,-271357.9134871836,-271767.3261019263,-271712.00007290696,-271833.7173367494,-218652.75906537625,-215430.4966708258,-215430.4966708258,-215430.4966708258,-215430.4966708258,-271291.5222523604,-271291.5222523604,-271291.5222523604,-271291.5222523604,-271291.5222523604,-265424.79022025963,-265424.79022025963,-265424.79022025963,-265453.26711282926,-265424.79022025963,-77254.23989276982,-75643.1086954946,-75643.1086954946,-77254.23989276982,-77254.23989276982,-197885.147886595,-197885.147886595,-197885.147886595,-197885.147886595,-197885.147886595,-202687.93140295148,-202687.93140295148,-202687.93140295148,-202687.93140295148,-202972.70032864765,-271734.13048451464,-271734.13048451464,-271734.13048451464,-271734.13048451464,-271734.13048451464,-254182.22665449276,-253987.37861710004,-253726.59637337897,-254094.3856409453,-253977.19302799145,-162806.66043156054,-162800.96505304662,-162809.50812081754,-162798.11736378964,-162812.35581007446,-271049.7154807955,-271049.7154807955,-271049.7154807955,-271049.7154807955,-271049.7154807955,-154375.2062005579,-146174.35382297396,-144575.34596921527,-143353.93213288026,-140282.2106608365,-263430.63992588565,-263791.09129360045,-263591.7530456131,-263591.7530456131,-263791.09129360045,-271512.8263684374,-271512.8263684374,-271512.8263684374,-271512.8263684374,-271512.8263684374,-152384.82068410915,-153480.27605869103,-149850.88855502577,-150393.0836394148,-152052.86450999344,-259087.65628009697,-259087.65628009697,-258926.5431603694,-259087.65628009697,-259087.65628009697,-222721.4825633628,-218543.60665625113,-184226.5121542889,-227753.22792978672,-191416.79615777268,-95477.06393211914,-122918.7743256854,-106542.2697359765,-128672.68134369123,-122476.16609353106,-150751.10159050857,-150751.10159050857,-150756.63419341051,-150751.10159050857,-150756.63419341051,-274848.53648539406,-275003.449366648,-275058.77539566736,-273697.75508179294,-274560.84113449376,-271048.0877246754,-271048.0877246754,-271048.0877246754,-271048.0877246754,-271048.0877246754,-248148.50877650653,-248134.92143266983,-248181.70439391807,-246618.00726033933,-248170.6391881143,-231876.51453434868,-231876.51453434868,-231876.51453434868,-231876.51453434868,-231876.51453434868,-256343.566724781,-256354.63193058496,-256504.6798445086,-256343.566724781,-256354.63193058496,-246418.20799182256,-246702.97691751874,-246446.6848843922,-244778.59990197766,-244607.73854656,-271734.13048451464,-271734.13048451464,-271734.13048451464,-271734.13048451464,-271734.13048451464,-271844.78254255326,-271844.78254255326,-271844.78254255326,-271844.78254255326,-271844.78254255326,-234207.2046130496,-234207.2046130496,-232596.07341577436,-234178.72772047995,-232596.07341577436,-249295.62213641612,-249074.31802033895,-249306.6873422199,-250685.44921761422,-250895.68812788744,-271909.17287488293,-271909.17287488293,-271906.325185626,-271909.17287488293,-271906.325185626,-225227.61742585048,-222016.42023710388,-223627.5514343791,-223650.49572404684,-222010.887634202,-151371.1031052277,-169977.49744342477,-161709.31656352527,-134805.19638602622,-137284.58882042693,-264444.9394205178,-264444.9394205178,-264473.4163130874,-264473.4163130874,-264473.4163130874,-1576.885082321934,17504.135914032042,36964.001336658366,-55768.70211982505,-230628.15064481754,-230599.67375224797,-230599.67375224797,-230628.15064481754,-230628.15064481754,-270793.58799118677,-270185.0016719746,-270793.58799118677,-270847.80749962566,-270793.58799118677,-243379.98411038908,-244993.96299692124,-243382.83179964608,-244991.1153076642,-244993.96299692124,-305617.27060953807,-305560.3168243989,-305902.0395352343,-305702.7012872469,-305275.5478987027,-222523.2052778437,-221843.01536841274,-222127.7842941089,-221668.89850075517,-222238.4363521475,-224426.34510171044,-224426.34510171044,-224426.34510171044,-224711.11402740658,-224426.34510171044,-110660.78357678548,-110649.71837098163,-110821.89669651302,-110649.71837098163,-110657.93588752853,-269510.2774095909,-269515.8100124929,-269510.2774095909,-269504.74480668904,-269510.2774095909,-261675.50629443364,-261405.07638781072,-261770.228179338,-261432.07176674876,-261659.57612129944,49286.18525388226,52907.12414440733,50547.0506725512,50925.793343727084,49501.94871524627,-211742.3070833389,-227167.8870113076,-227157.5671198393,-218760.2649433664,-219641.85863090388,-214891.5640223932,-214758.9277952352,-215043.69672093142,-214758.9277952352,-215043.69672093142,-264753.86611044547,-264894.62281717354,-264844.01551299624,-264793.4082088188,-264905.6880229774,-215481.43101261693,-217128.9975674164,-227081.5756329985,-188353.35531949767,-222248.1820411728,-265453.89801341004,-257076.015787579,-252242.6221957533,-252242.6221957533,-264487.219295045,-262308.60606298945,-252000.214089685,-260711.3877607751,-254264.0152824172,-263103.1064558233,-249026.8067426882,-250294.4404428015,-250122.26211727015,-252346.36848384544,-250294.4404428015,-271656.6740438877,-271712.00007290696,-271689.86966129916,-271712.00007290696,-271612.41322067217,-203165.9070886439,-202501.9947404124,-202944.6029725667,-203276.55914668247,-202612.646798451,-271805.7340747334,-271805.7340747334,-271805.7340747334,-271805.7340747334,-271805.7340747334,-266900.73689268896,-266900.73689268896,-266900.73689268896,-266900.73689268896,-266900.73689268896,-271777.28478714975,-271766.21958134585,-271500.65464205324,-271721.9587581304,-271611.3067000918,-257849.80071155966,-257744.03192188096,-258313.2406862375,-257857.93949215944,-257927.5862392225,-242605.64574151405,-242605.64574151405,-242605.64574151405,-242634.12263408367,-244216.7769387892,-213105.67953110536,-211494.54833383014,-211209.77940813403,-211209.77940813403,-211494.54833383014,-268934.6334161387,-269510.0241179393,-269576.41535276244,-269189.1331496274,-267418.7002210102,-271844.78254255326,-271844.78254255326,-271844.78254255326,-271844.78254255326,-271844.78254255326,-255003.1669867464,-254992.10178094267,-254992.10178094267,-254992.10178094267,-254992.10178094267,36033.51036729288,35737.67623579287,24969.411084015905,-15984.02211664058,-261585.81533006637,-262069.1546892489,-262069.1546892489,-259652.45789333605,-254174.61182260027,-242704.80702185543,-244183.3019919727,-242543.69390212785,-242572.17079469748,-242572.17079469748,-265678.53395569825,-265678.53395569825,-265517.4208359707,-265678.53395569825,-265517.4208359707,-192156.25533421375,-194684.13516956812,-192180.67936960713,-187590.13738787468,-182622.1043777204,-253663.32203061727,-252523.76958861962,-251169.4071636839,-250967.87232888755,-252370.79665918063,-134893.70400328163,-155430.72597524087,-158562.1792177325,-119590.52437654688,-158185.9622204014,-272704.05485976045,-274211.70240983024,-274099.42259567167,-272875.08075869613,-272876.70851481607,-252647.11719630574,-254258.24839358096,-252647.11719630574,-253973.47946788472,-254258.24839358096,-224990.12626461344,-246095.9449489188,-230467.97233534922,-187934.10872728346,-239490.3070400904,-257410.24918600477,-253060.19495336167,-260793.62470028267,-258215.81478464234,-257732.47542545982,-271754.4721322963,-271757.31982155325,-271754.4721322963,-271757.31982155325,-271757.31982155325,-291119.173974242,-291119.173974242,-291119.173974242,-291119.173974242,-291119.173974242,-271513.1519196615,-271579.5431544847,-271601.67356609245,-271543.49984781607,-271532.43464201223,-256263.8343750693,-257798.84440286073,-261264.54132509604,-250680.67733086774,-253894.06894465833,-124342.09087176085,-152002.25769214728,-133476.17675128594,-153568.57321301752,-96935.19017007978,-303749.2521624771,-291134.34022870037,-315347.1732354975,-297887.0271029225,-294610.0469671205,-193874.42530833036,-193874.42530833036,-193874.42530833036,-193589.65638263425,-191978.525185359,-232917.31421901408,-227730.64003346136,-233143.3370599332,-230851.02807014907,-230138.4660486143,-242103.29591016748,-241939.33510118304,-241942.18279043995,-241950.72585821088,-242094.7528423966,22055.22939490464,28235.366436121883,-256529.34283583701,-256529.34283583701,-256529.34283583701,-256529.34283583701,-256529.34283583701,-261905.371027235,-254285.26388063887,-264222.4809709132,-254985.04238856828,-262679.07627960417,-273381.4282207322,-276229.1174776938,-276229.1174776938,-275061.56488233944,-277083.4242547823,-270151.80605456297,-271059.1529304793,-271778.3913077301,-271745.1956903186,-271634.54363228,-131560.31505091174,-128803.13092083336,-123977.28253152184,-123977.28253152184,-123977.28253152184,-260967.65589047517,-264137.1697177087,-262579.8233886217,-263465.0398529303,-262798.2798154419,-239205.53126733974,-216901.00279196745,-239316.1833253783,-239316.1833253783,-239316.1833253783,-245963.70947312028,-246248.47839881646,-246248.47839881646,-246533.24732451263,-246533.24732451263,-275408.98297168885,-275389.04914689006,-275406.13528243196,-275408.98297168885,-275389.04914689006,-140608.78337953758,-140899.24768374773,-140890.70461597678,-138852.42003015734,-139282.42110795854,-49992.904510142034,13111.014800190045,14173.79561292894,-21693.178742978605,-279102.7409558298,-279102.7409558298,-279102.7409558298,-279102.7409558298,-279102.7409558298,-275419.98712060443,-248420.88495919242,-275851.5301469549,-275895.7909701703,-270551.29656690714,-269254.2929492338,-269254.2929492338,-269254.2929492338,-269415.4060689613,-269254.2929492338,-248519.77437696606,-246424.53600600737,-247750.89827758638,-248235.0054512698,-248235.0054512698,-75795.20603440054,-75784.14082859668,-75795.20603440054,-75803.42355094745,-75803.42355094745,-252892.47157477055,-252903.53678057448,-252892.47157477055,-252903.53678057448,-252903.53678057448,-271842.56950139237,-271842.56950139237,-271842.56950139237,-271842.56950139237,-271842.56950139237,-218221.17723955974,-218060.06411983215,-218221.17723955974,-218221.17723955974,-218221.17723955974,-273838.1650224264,-273838.1650224264,-273838.1650224264,-273838.1650224264,-273838.1650224264,-153459.31944342479,-153819.02805559806,-184703.3850983386,-199583.68125935545,-163936.76814169114,-32083.987569097513,-30574.263128680763,-30972.30704297761,-31514.449717705196,-30644.43887117657,-260557.134226966,-260073.79486778338,-252179.2520011349,-262812.71790315135,-261040.47358614855,118005.99712571639,118005.99712571639,118005.99712571639,119493.47251702296,119617.12832299159,-189260.0858423855,-190200.62833571335,-185686.0243677396,-190477.2584808098,-185785.61121997426,-212485.2127629029,-212485.2127629029,-214257.4570799056,-212646.32588263042,-212485.2127629029,-225527.37790593604,-222761.07645497174,-229021.05651475088,-229934.7498716291,-224642.16144162745,-235396.45271345577,-235396.45271345577,-235396.45271345577,-233753.99693435399,-235367.97582088612,-274611.11935163534,-274611.11935163534,-274611.11935163534,-274611.11935163534,-274611.11935163534,-265149.3014730265,-280229.40067934885,-267892.2210096635,-262194.9820750782,-267489.7271636117,-272751.17751547997,-272751.17751547997,-272751.17751547997,-272751.17751547997,-272751.17751547997,-232295.5428827609,-232295.5428827609,-232096.20463477363,-232865.08073415328,-232865.08073415328,-259190.82694388911,-259674.9341175726,-259617.9803324334,-259190.82694388911,-259674.9341175726,-244334.64905976068,-242723.51786248546,-242723.51786248546,-241112.38666521022,-241112.38666521022,-216005.05751216828,-214277.7153011118,-214761.82247479536,-215188.97586333955,-214704.8686896561,-271844.78254255326,-271844.78254255326,-271844.78254255326,-271844.78254255326,-271844.78254255326,-260405.9681663708,-260567.08128609828,-260567.08128609828,-260405.9681663708,-260567.08128609828,22389.86166677129,25747.007875428033,17890.711754689284,15688.735799721675,16795.256380107436,-190783.26239272256,-194404.19086828167,-193603.7461198922,-188575.753834853,-186137.3383799863,-271568.15239745687,-271800.52171933785,-271734.13048451464,-271828.18473384745,-271800.52171933785,-271827.45312754635,-271910.4421710754,-271910.4421710754,-271882.7791565656,-271783.192304331,-270771.45757957903,-270760.3923737752,-270760.3923737752,-270771.45757957903,-270771.45757957903,-244211.19730177723,-240891.63556062,-107113.29739198447,-210842.92544743133,-246583.5401938906,-241681.97397160876,-241690.51703937966,-241747.4708245189,-241736.08006749104,-241727.53699972015,-268753.1045855092,-266531.9069650791,-267386.2137421676,-266645.8145353575,-267414.69063473726,-255577.33407706892,-255500.88257660813,-257856.76647266364,-253191.10225285892,-261725.94284784974,-230100.6714384648,-228961.5957356801,-229370.02046734493,-228961.5957356801,-229085.2515416488,-275773.4871965799,-277596.00832103536,-274976.1342046307,-275887.39476685843,-277880.77724673145,-226447.03153306548,-226787.12648778097,-226499.50987282782,-226798.19169358478,-227908.54094042952,-310282.7983057393,-311126.19734891836,-308271.37425152306,-309347.54690375424,-305596.4421362466,-272364.61100749305,-272367.45869675,-272364.61100749305,-272367.45869675,-272364.61100749305,-267469.9586276356,-267469.9586276356,-267469.9586276356,-267469.9586276356,-267469.9586276356,-132635.12998229993,-129315.56824114271,-134848.17114307138,-130422.08882152845,-137061.21230384285,-246128.285570212,-246670.480654601,-246637.2850371894,-245895.916248331,-246006.5683063695,-96280.56388764839,-91695.1798347635,-126931.18396433325,-123994.51557622314,-73326.93820036027,-285961.5115635191,-284261.0367899419,-284537.6669350383,-282574.55364737246,-278665.24512825324,-273554.2188143196,-273554.2188143196,-273554.2188143196,-273554.2188143196,-273554.2188143196,-271353.6883928952,-271431.1448335222,-271409.01442191453,-271364.7535986991,-271447.74264222797,-271842.56950139237,-271842.56950139237,-228698.85289989435,-228727.32979246398,-229012.09871816012,-228442.56086676777,-228613.83004516838,-276304.27806220227,-276304.27806220227,-276304.27806220227,-276304.27806220227,-276304.27806220227,-34242.79502033383,-42841.11718601196,-35980.689587620385,-40074.815735047625,-45656.06831027969,-41569.262897716704,-41569.262897716704,-41558.19769191287,-41569.262897716704,-41558.19769191287,-255572.35745007356,-250900.07697797543,-248322.26706233498,-255411.24433034597,-256377.9230487112,-195228.17936345848,-193617.04816618326,-195228.17936345848,-193617.04816618326,-193617.04816618326,-216964.08560142445,-218996.80113982665,-238099.73520737243,-229081.59247722867,-232938.9604526869,-231613.15202034198,-231059.8917301491,-231723.80407838058,-230617.2834979948,-231059.8917301491,-237450.23159996403,-237450.23159996403,-239061.36279723927,-239061.36279723927,-237450.23159996403,-251843.0415754777,-248040.77194990823,-250779.6949852761,-254324.18361928163,-256531.4333595487,36811.44603280096,-252917.80280229723,-252917.80280229723,-252917.80280229723,-252917.80280229723,-252917.80280229723,-235314.0420334001,-235314.0420334001,-236925.1732306753,-235314.0420334001,-236925.1732306753,-232121.37741376067,-234865.54845311728,-231725.13134928187,-241340.6913979274,-225278.50521572097,-84167.75972272782,-107002.28795860645,-82253.81716393403,-106991.22275280257,-106991.22275280257,-383949.6071013803,-389884.5286196358,-381409.5753066119,-385110.5381140016,-393105.6659206188,-271844.78254255326,-271844.78254255326,-271844.78254255326,-271844.78254255326,-271844.78254255326],\"xaxis\":\"x\",\"y\":[25992.793609797933,27493.45945824294,26975.01505564592,27561.47556872186,26264.85805171489,15763.439251725918,13864.366222250439,14595.857726026628,13766.346681871457,13491.869510365865,26291.15034556933,26760.4615078762,27761.820294875903,26843.602803405953,28305.949178709954,30476.457154882908,30728.116763656148,30490.060376978756,30680.505486320664,30564.878098505935,35679.386828233175,37915.49937044814,36042.297910051064,36100.9439613587,37234.720036024126,45399.12621206061,44718.96510726806,45211.24955084242,44991.02954918508,45535.15843301912,-19856.6009867867,-36180.46750180808,32318.537975995918,32809.97853860698,33869.27613221938,32370.3824162556,32370.3824162556,-35609.5575777911,-35609.5575777911,-35609.5575777911,-35609.5575777911,-35609.5575777911,-5161.839573713275,-14472.206423337775,-18226.0267534001,4677.174095080136,5188.816886629192,-40280.136486988544,-40280.136486988544,-40280.136486988544,-40331.980927248216,-40280.136486988544,-22120.174963703124,-15977.167931064676,-12291.36371148159,-17205.769337592355,-25805.979183286185,-63615.73031915468,-62697.512827684724,-63275.64976675839,-63037.593380080994,-60861.07784474481,-111906.42188292797,-111529.76482716834,-111137.83983451236,-111273.87205547089,-111706.6067144144,22232.981182711064,23826.762205673094,27574.61328208775,28698.058997107866,26987.519023015615,31535.01828521245,31535.01828521245,31535.01828521245,31535.01828521245,31535.01828521245,34171.04666814626,34171.04666814626,34171.04666814626,34171.04666814626,34171.04666814626,31569.026340452077,31569.026340452077,31569.026340452077,31569.026340452077,31569.026340452077,-106868.18842548486,-97588.9796441438,-101690.9388136711,-105256.32767114598,-99779.60241829947,32527.732607010083,33046.17700960707,33046.17700960707,33046.17700960707,32527.732607010083,66593.8985392771,66593.8985392771,66593.8985392771,66593.8985392771,66075.45413668011,-21863.872441628493,-21020.758175377465,-22680.68399701101,-24312.000226689495,-23821.26168272439,34909.425568708815,35479.71441156549,34339.136725852135,36843.8415285372,34925.59723892838,-326853.5388848453,-326895.8705140875,-325286.78409728745,-328723.26816379535,-327112.9142550036,31813.884338177406,31909.10689284836,31827.487560273254,31691.45533931474,31664.248895123033,33529.74501114899,33270.52280985049,33633.4338916684,33063.1450488117,35499.83374101752,-4744.886971544534,-4744.886971544534,-4744.886971544534,-4744.886971544534,-4744.886971544534,37509.9711556963,35947.836336857436,34029.592047248596,34865.90470245168,34133.28092776798,19839.1873926201,18961.232713729187,18911.388235942715,18499.33309786372,18445.4886951308,18899.72079508369,18899.72079508369,18905.842245026823,19512.707591246857,19014.66802179363,31637.042450931345,31630.24083988341,31630.24083988341,31630.24083988341,31630.24083988341,16594.51475847598,17112.95916107297,16609.232584396617,15071.049014381648,16287.364406844057,22006.103078445223,24783.7112508664,22205.731894651646,19739.375300911724,25449.587822246714,17777.658165207533,15237.280592482308,17725.81372494783,15911.258315858384,15807.56943533899,38667.4342708586,39687.67592804743,38463.385939420834,38515.23037968053,38719.278711118284,40897.30069304466,41594.10894584237,43576.23171260416,46495.69203736682,45397.30322904977,32861.33243955794,32857.93163403398,32861.33243955794,32851.13002298606,32854.53082851001,31705.05856141059,31705.05856141059,31705.05856141059,31705.05856141059,31705.05856141059,-72515.91121846082,-55310.706170058744,-68115.37918088108,-74954.74010325268,-55419.53194682556,31637.042450931345,31637.042450931345,31637.042450931345,31637.042450931345,31637.042450931345,90834.32969562688,98951.15614300665,100698.20195213132,103312.05636223746,98049.28653774223,35590.83752113283,35590.83752113283,35590.83752113283,35590.83752113283,35590.83752113283,31970.32139227969,31970.32139227969,33330.6436018648,31970.32139227969,31970.32139227969,30693.677566626407,30693.677566626407,30693.677566626407,30693.677566626407,30693.677566626407,57329.533023411735,58638.010792737165,61698.73576430369,57685.78524602758,67872.0301476964,-19010.51210697413,-18962.0684722384,-19010.51210697413,-18958.66766671444,-18958.66766671444,33771.031604437936,33771.031604437936,33771.031604437936,33771.031604437936,33771.031604437936,20575.318374281047,20575.318374281047,20575.318374281047,20575.318374281047,20575.318374281047,24842.867042013535,25558.50844896159,24323.105431385975,24331.22425046448,24317.62102836862,-57077.204137440196,-58726.83646054669,-65877.15089667073,-48915.27087992951,-61252.05538408131,7562.415253572554,8065.172836580307,8068.573642104271,8775.329840511004,8791.016660100242,217961.93932891425,218013.78376917396,217961.93932891425,218013.78376917396,218013.78376917396,32181.171334765386,32181.171334765386,32181.171334765386,32181.171334765386,32181.171334765386,-93688.76338760144,-86946.97675614308,-92899.34536425199,-87438.41731875417,-95654.52563804577,71377.17693336625,97586.4900650654,62113.38268609161,98094.12070051298,71778.9365754036,33799.7871336331,33639.45480275713,33532.566582173145,34067.007685093035,33960.11946450906,37370.445009580166,31712.076928504885,39547.91948609037,39670.98223094895,37097.51828408293,29770.496053801227,29893.356194453994,29822.34049406094,29822.34049406094,29822.34049406094,-21888.437438143726,-14416.604943291886,-18738.2125963674,-19388.677063821397,-16574.746550364624,33402.15459784445,33362.596171650024,33414.440611909726,33414.440611909726,33350.31015758475,27145.712445822486,27391.432727128016,27022.852305169716,27145.712445822486,26777.132023864175,26843.241415039953,26321.396206919006,29253.801180952054,26321.396206919006,5153.2399216556805,37941.61210722282,40797.33779178042,-28808.99653154777,-28342.396569210458,-29586.663135443232,-29794.040896482024,-29742.19645622232,29493.360458765696,29493.360458765696,29493.360458765696,29493.360458765696,29493.360458765696,28158.2831324629,28035.422991810126,27983.57855155042,28035.422991810126,28158.2831324629,20602.091184162866,20602.091184162866,21120.535586759863,20602.091184162866,20602.091184162866,115865.99536876184,107554.55101742572,165106.88580962276,102138.24411602084,95483.26422084236,23968.743673540703,7243.036759760089,33284.13542087379,13409.599401250913,54288.98473450211,-45256.091694402094,-45256.091694402094,-45010.37141309656,-45256.091694402094,-45256.091694402094,36553.03696827692,36611.68301958456,36611.68301958456,36618.48463063249,36553.03696827692,31745.868227698145,31745.868227698145,31745.868227698145,31745.868227698145,31745.868227698145,-32859.309727579275,-32859.309727579275,-34729.215677356726,-33500.614270829035,-34087.91113410696,11041.18594939784,11041.18594939784,9864.428983129867,11047.987560445765,11041.18594939784,38869.09490939421,25184.253480967935,25205.975522142293,33375.96163079404,25227.631595379185,32521.251887161667,32521.251887161667,32521.251887161667,32521.251887161667,32521.251887161667,-17931.45191335009,-3311.3197601151,-3363.1642003748057,-8443.91934582525,-19279.40736010225,48332.68266529823,48458.943611474955,48387.92791108188,48507.38724621069,48701.263087256535,3993.30184540469,13822.113097626192,-14435.719252510635,-5835.509406816808,2764.7004388770115,9022.036508418072,9540.480911015053,9540.480911015053,9540.480911015053,9540.480911015053,31705.05856141059,31705.05856141059,31705.05856141059,31705.05856141059,31705.05856141059,41383.27291866926,40154.67151214158,40154.67151214158,39636.22710954458,40154.67151214158,34033.14943787171,34447.904959949294,37040.12697293422,35588.48264566267,33981.304997612,7814.124700649624,7814.124700649624,8332.569103246595,7814.124700649624,8332.569103246595,17818.81827517771,18732.846939718893,18214.402537121914,18214.402537121914,18202.116523056633,-37085.12867607459,-48932.50708190274,-50380.32198359321,-41724.07689414108,-35813.69099981559,19923.657139050523,24223.762061897418,14640.67109098146,24469.48234320295,24469.48234320295,35823.769298602245,35823.769298602245,35823.769298602245,35823.769298602245,35823.769298602245,-15901.456205720648,-15906.640649746587,-16414.604336664484,-15186.002930136794,-15704.44733273378,47008.68341924315,43342.615064411264,46940.6673087639,46804.635087805385,43689.497227855456,50932.091263163,135259.35405944212,46061.12486580378,102102.30948963223,134280.27098399962,9959.582747261538,9673.915083248663,10873.308311174154,10325.82325868044,6857.3826575280655,3028.989585023887,3028.989585023887,4871.891694815424,1650.5241978575275,3493.426307649059,38958.44502674316,38752.10108856401,38704.48981122852,38651.045700936564,38965.24663779108,34559.832205295024,34507.98776503534,34559.832205295024,34507.98776503534,34559.832205295024,15132.763347364089,15184.607787623796,15132.763347364089,15132.763347364089,15132.763347364089,23102.693006766214,23102.693006766214,23102.693006766214,23102.693006766214,23102.693006766214,23603.613983142022,23603.613983142022,24122.05838573901,23603.613983142022,24122.05838573901,6269.321223383719,6321.16566364341,6269.321223383719,6321.16566364341,6269.321223383719,37756.35111637626,38267.993907925345,37756.35111637626,37756.35111637626,37756.35111637626,32181.171334765386,32181.171334765386,32181.171334765386,32181.171334765386,32181.171334765386,31700.643849164106,31700.643849164106,31182.19944656712,32929.24525569179,31182.19944656712,-8102.875924041971,-8102.875924041971,-8102.875924041971,-8102.875924041971,-8109.677535089893,18205.81187376398,18199.010262716056,18205.81187376398,18205.81187376398,18205.81187376398,31933.770367453577,31881.92592719389,31933.770367453577,31933.770367453577,31933.770367453577,29974.287701178266,31422.036690815694,31046.654657809464,29333.414299718617,31299.176550162923,25975.721249712326,24699.28002826485,7426.839601058049,3996.9281531724514,7096.271859679269,41293.61025922822,41273.20542608444,41177.98287141348,41198.38770455726,41191.58609350933,36407.63468814679,36459.47912840648,36459.47912840648,36452.677517358556,36459.47912840648,31841.0907823691,31677.852117218892,31616.637617787565,31535.01828521245,31868.297226560797,48840.27451172597,48840.27451172597,48840.27451172597,48840.27451172597,48840.27451172597,92192.91118758258,93421.51259411026,93421.51259411026,92192.91118758258,93421.51259411026,31637.042450931345,31643.844061979264,31630.24083988341,31643.844061979264,31637.042450931345,24128.970649016574,24128.970649016574,24128.970649016574,24128.970649016574,24125.5698434926,37410.971360145326,37410.971360145326,37410.971360145326,37410.971360145326,37410.971360145326,31634.19246397513,31634.19246397513,31634.19246397513,31634.19246397513,31634.19246397513,32011.811219672036,32107.033774342992,32059.422497007512,32181.85149587017,31977.803164432407,19480.25899556503,19480.25899556503,19480.25899556503,19480.25899556503,19480.25899556503,29148.16350757286,267256.39462522784,29200.00794783254,29200.00794783254,29200.00794783254,31501.690391077624,31501.690391077624,31501.690391077624,31501.690391077624,31501.690391077624,9572.987572307853,9572.987572307853,9572.987572307853,9572.987572307853,9572.987572307853,62210.92657306442,60646.556032041524,58470.04049670535,58220.949336055804,17311.89337802781,-17596.82483676337,-17596.82483676337,-17596.82483676337,-17596.82483676337,-17596.82483676337,-44844.407029471244,-44896.25146973094,-44844.407029471244,-44851.208640519166,-44332.764237922194,13803.381653590308,5913.32881182719,5913.32881182719,8888.976027479546,3456.1259987718176,31501.010229972828,31501.010229972828,31501.010229972828,31501.010229972828,31501.010229972828,32628.256439174227,34145.01570286163,32553.438717647045,33090.76599043317,32546.637106599122,21318.34249206697,21318.34249206697,21824.500880598673,23053.102287126367,21306.05647800169,68310.56281435877,67792.11841176178,63126.1187883889,68829.00721695574,68829.00721695574,31771.78124651952,31778.58285756745,31778.58285756745,31771.78124651952,31778.58285756745,33712.48477611979,33764.32921637949,33764.32921637949,33712.48477611979,33712.48477611979,33881.57409674677,32215.17939000501,32827.32438431831,32283.195500484264,32255.98905629256,30671.550257202944,30671.550257202944,30794.410397855718,30671.550257202944,31189.99465979993,34259.86969740038,38927.53403557378,37550.70742982939,37703.672302484774,32767.415703841285,25310.415702659142,27263.891939038193,27018.17165773263,28013.33879702008,27263.891939038193,25318.470873442635,24608.31386951195,24089.869466914955,24608.31386951195,25330.756887507927,29361.871067095482,29280.25173452036,29194.399239021044,29246.24367928074,29194.399239021044,28542.461346725246,24242.356423878347,23259.475298656205,30520.509611234826,30016.783034558473,273.377540963496,-296.9113018931938,-303.71291294112086,976.7329338462679,1488.3757253953218,28099.270451954642,28720.37276626641,30065.03270239895,33234.82433124038,25519.207498246513,31596.23278464378,31603.03439569171,31538.41909073641,31548.6215073083,31541.819896260375,32189.35634658987,35029.861316499075,35182.06520767712,34009.61965931022,35664.18480338987,-22.221469478435644,-6165.228502116883,-6165.228502116883,6133.0715772253,-6165.228502116883,33368.090240426754,33368.090240426754,33368.090240426754,33368.090240426754,33368.090240426754,31501.010229972828,31501.010229972828,31501.010229972828,31501.010229972828,31501.010229972828,40159.46109398207,40156.060288458124,38795.73807887301,40162.86189950605,37775.49642168417,48304.649503685745,48331.85594787744,54082.355653779756,50851.8286874589,54999.38390823476,15848.758376659604,15848.758376659604,15848.758376659604,15848.758376659604,15848.758376659604,31994.537080734455,32130.569301692973,31042.311534024884,31586.44041785892,31926.52097025521,-12074.863388857244,-12593.307791454223,-12074.863388857244,-12074.863388857244,-12074.863388857244,31501.690391077624,31501.690391077624,31501.690391077624,31501.690391077624,31501.690391077624,25676.437357973617,28673.379381985076,27170.223340393524,26156.78329425262,25721.480187185374,49183.58146202678,34254.04521183013,42966.9089642228,34186.029101350876,46435.73059866484,36529.92093516357,36529.92093516357,36529.92093516357,36529.92093516357,36529.92093516357,13419.674950814031,19806.387724816163,9060.513450584242,13016.60346506896,12399.769990919396,12925.905367733625,12096.39432357844,11577.949920981451,13288.816449551512,17488.216110587087,25127.94009013104,25335.31785116983,25542.695612208634,25905.606694026523,25231.628970650436,49742.644471715495,60422.599165213374,46217.22253405599,53008.844208076494,56897.17722755386,33078.55285130145,33078.55285130145,33078.55285130145,33078.55285130145,33078.55285130145,40913.149082276395,41787.88789276641,-14631.41666426511,-14515.358134660264,-14638.218275313027,-14683.261104524805,-14638.218275313027,37022.79368218941,37015.99207114149,37022.79368218941,37026.19448771337,37534.436473738475,31537.48740780316,28626.3661734075,22922.432781400214,29982.1542000122,34992.41612678981,29939.033224502982,29939.033224502982,29939.033224502982,29939.033224502982,29939.033224502982,32010.05320409198,32010.05320409198,32010.05320409198,32010.05320409198,32010.05320409198,38032.427714394784,37206.864329472075,37546.94488186836,37420.28272008147,37118.44338584904,42442.60738511937,42494.45182537905,42442.60738511937,42494.45182537905,42961.05178771634,32453.23577668241,31671.05050617096,35922.05741112445,33609.50965482975,31793.47950503362,31705.05856141059,31705.05856141059,31705.05856141059,31705.05856141059,31705.05856141059,32992.78857944701,32992.78857944701,32992.78857944701,32992.78857944701,32992.78857944701,-24203.590908992504,-24203.590908992504,-24203.590908992504,-24151.74646873282,-24203.590908992504,-19213.28988102768,-17984.688474499984,-17977.886863452055,-19731.73428362467,-17984.688474499984,48827.383299780166,47904.804674370345,48747.91894062138,49229.852807792486,48642.07508668566,6681.819588970452,9549.943742244504,5264.497640261283,8783.086260989348,7244.197596997732,41942.67491922203,41944.29208624398,38358.44045877486,42499.19406850283,42208.69873156844,-29449.75714700315,-29551.78131272203,-28421.191915811745,-24340.225287056368,-29388.542647571816,41060.522878263306,41112.367318523,41112.367318523,41112.367318523,41060.522878263306,32756.65233238048,32186.3634895238,32186.3634895238,32186.3634895238,32756.65233238048,-13014.276187733933,-11626.762314787347,-13130.2510823186,-9229.632048775915,-13130.2510823186,38136.019585022594,40780.086038267225,38868.64335970629,38861.841748658364,39542.62108308238,-16250.774817666703,-22933.695973831916,-16339.723560673654,-58520.26804549057,-11932.08628643026,38030.556835981384,38030.556835981384,37962.54072550212,38030.556835981384,38030.556835981384,23884.36167060593,24007.221811258703,24007.221811258703,23884.36167060593,23884.36167060593,-204856.20396597468,-198166.7097363458,-240587.26371258483,-221824.70920235835,-207443.06853073073,52513.676950161775,21809.786170963274,26461.119897552166,22314.62735146441,23364.864907791398,22749.930458531646,17195.989142937917,17264.005253417177,17109.316549135565,17170.5310485669,17031.499237694563,32397.048885792723,32397.048885792723,32397.048885792723,32397.048885792723,32397.048885792723,33681.045169003875,34247.93320633658,33522.11104270081,33266.28964692628,33577.35628848447,-7416.388861406472,-7620.437192844237,-7191.935696824929,-7681.651692275567,-7198.737307872852,28343.582347728418,28913.871190585098,28791.011049932335,28913.871190585098,28395.426787988134,36261.37012443643,36261.37012443643,36261.37012443643,36261.37012443643,36261.37012443643,31501.690391077624,31501.690391077624,31501.690391077624,31501.690391077624,31501.690391077624,-35383.17929773648,-37103.221266875225,-37498.80552881945,-36540.49643172785,-33294.55690663939,31845.70530198189,21840.858494943193,27282.147333283658,19812.6611946308,19800.375180565527,18445.293886659027,18497.138326918735,18619.998467571506,18445.293886659027,18438.492275611105,31860.277934384958,18345.6624625804,20839.87892982217,25724.072512794453,27712.722713609088,20094.60421024375,20094.60421024375,20094.60421024375,20094.60421024375,20094.60421024375,-277227.1150533819,-279043.14520317805,-278871.58296402526,-274780.4715365132,-278758.9995021199,-51536.015234032275,93633.9643491148,73258.90609765345,69878.50540683445,75217.77007945604,69851.29896264273,44662.402282439114,48749.07681482534,39313.38760245821,39092.69212301533,52790.56576615396,2478.2553255171956,3500.6948769337773,3399.7063804129616,2640.673892364398,3633.1406476532234,-79181.39294993642,-79703.23815805737,-79184.79375546036,-79699.8373525334,-79699.8373525334,48751.110580829634,51395.17703407426,48217.112846154734,49684.31050550421,50358.28822888029,36095.6643132654,35940.1309924863,35991.97543274601,37599.153080796656,39413.70848988611,37922.58648518781,37922.58648518781,37922.58648518781,37922.58648518781,37922.58648518781,35086.48365315749,35086.48365315749,35604.92805575448,35086.48365315749,35086.48365315749,60785.986809918846,60267.54240732186,60267.54240732186,60267.54240732186,60785.986809918846,-101750.0274551399,-101750.0274551399,-102261.67024668897,-101743.22584409197,-102268.4718577369,-10907.652124641576,-7302.798269241013,-11145.708511318971,-11172.91495551067,-10827.35000009704,63070.490267143636,33896.95918868779,33642.73113179083,33608.7230765512,33608.7230765512,33608.7230765512,32453.23577668241,32997.364660516454,32385.21966620315,32249.18744524464,32249.18744524464,19908.30282758995,21655.34863671463,21655.34863671463,21136.90423411764,21655.34863671463,22764.47376434328,23384.94233265916,21528.81627580482,23403.8252028483,22927.712429493502,20975.71121451408,22828.467526515546,23125.763675937535,23221.619976604405,22204.31262104177,31501.010229972828,31501.010229972828,31501.010229972828,31501.010229972828,31501.010229972828,38126.91765237814,38126.91765237814,38126.91765237814,38004.057511725376,38126.91765237814,-6958.894070263903,-6907.049630004192,-6958.894070263903,-6907.049630004192,-6958.894070263903,35096.79334120359,35096.79334120359,35096.79334120359,35096.79334120359,35096.79334120359,32079.147169046497,32085.94878009443,32085.94878009443,32085.94878009443,32079.147169046497,-8235.868767504131,-7717.424364907139,-7717.424364907139,-8235.868767504131,-7717.424364907139,36994.99560033532,37101.88382091929,37422.54848267121,37048.439710627295,37208.77204150326,41811.579184039605,41811.579184039605,41811.579184039605,41811.579184039605,41811.579184039605,43383.12926382682,43953.418106683464,43901.57366642381,42398.08489889253,43590.50702486558,-21750.847743234644,-18128.748216229753,-30958.89116534067,-27689.806444435293,-12738.22981676421,31226.790079105253,31226.790079105253,31226.790079105253,31226.790079105253,31226.790079105253,49243.25082012298,49408.62679160679,48810.539943839685,49859.281470590555,49460.47123186648,32386.029494200557,30675.162965630498,32230.49617342147,33526.60717991394,32541.56281497967,31501.690391077624,31501.690391077624,31501.690391077624,31501.690391077624,31501.690391077624,38270.25344670326,37663.78532329196,39178.612771104046,39994.62189526626,37794.478043797266,-183032.46558964782,-184434.43670197466,-185503.271624799,-184306.10982538722,-186898.44112607793,32296.175792555205,32222.459708163547,32079.841447052157,32383.06395725261,32512.51013805825,35165.25736005047,35533.83778200878,35737.88611344654,37262.7404135522,32898.930798127105,26349.113329846023,25638.95632591532,25379.73412461682,23445.8246753029,24275.33571945809,31582.629562547936,31548.6215073083,31773.07467188985,31562.22472940415,31684.653728266814,34377.63241497882,34377.63241497882,34377.63241497882,34377.63241497882,34377.63241497882,34153.6385386638,33337.445212912724,33541.4935443505,33881.57409674677,33745.54187578827,269652.6194620391,12049.042444578208,12049.042444578208,12049.042444578208,12049.042444578208,12049.042444578208,22379.653379361338,25547.013196347412,22379.653379361338,22379.653379361338,21861.208976764345,31759.471449793993,31759.471449793993,31759.471449793993,31759.471449793993,31759.471449793993,-118788.10660099707,-118633.62265163953,-118516.47330087016,-118973.00133938418,-117735.02987368488,62303.98361797114,62303.98361797114,62303.98361797114,62303.98361797114,62355.82805823085,11526.656657313772,13273.702466438432,12045.101059910743,13273.702466438432,13273.702466438432,57889.55189565894,51939.20412498406,64138.10703694669,51437.848828153314,50863.46464901627,51133.3904954459,53692.31821242056,53173.87380982358,53042.15300676614,52200.275199778014,48615.668922995974,48936.866605203126,48692.008607477794,47772.269153053196,46896.38329082545,23731.645848706186,23783.490288965895,23783.490288965895,23783.490288965895,23731.645848706186,-1653.142326219538,-1653.142326219538,-1640.8563121542618,-1640.8563121542618,-1640.8563121542618,-17521.38795270188,-17521.38795270188,-17521.38795270188,-17521.38795270188,-17521.38795270188,-4980.957244178367,-4980.957244178367,-4980.957244178367,-4980.957244178367,-4980.957244178367,33684.32737635693,33680.92657083298,33684.32737635693,33684.32737635693,33680.92657083298,36042.41614370247,36042.41614370247,36042.41614370247,36094.26058396217,36106.546598027446,45120.21406611465,44653.61410377736,44601.76966351767,44614.05567758295,44601.76966351767,32483.228655583596,32679.804880628028,32360.368514930833,32606.088796236367,32237.50837427806,-54610.8468816843,-53387.72987817393,-53689.79021922909,-54500.27275509679,-55248.44997036859,37690.4762835851,37690.4762835851,37622.46017310586,37690.4762835851,37622.46017310586,31501.010229972828,31501.010229972828,31501.010229972828,31501.010229972828,31501.010229972828,28877.8081793337,30628.25479398234,28877.8081793337,28877.8081793337,30624.85398845838,-51672.6652290136,-51669.26442348963,-51672.6652290136,-51672.6652290136,-51669.26442348963,25622.00305723258,24393.401650704887,25622.00305723258,25622.00305723258,24400.203261752813,21706.20703299093,21706.20703299093,22080.29564062683,23377.99101210905,23061.198728232383,36069.09465852682,36560.5352211379,24861.818019138966,35823.374377221284,36191.9547991796,41956.60938981623,41276.44828502367,41956.60938981623,41956.60938981623,41276.44828502367,-69858.89586094522,-67875.09462127506,-67349.84860763013,-68509.03398379704,-68455.58987350507,9340.475030331398,8754.01451725515,7525.413110727451,8043.857513324453,8754.01451725515,-7578.205878140862,-19182.496947656186,-23174.518847652966,-17160.563777527936,-14049.897361946043,-5331.808205014978,-4813.363802417989,-4813.363802417989,-4813.363802417989,-3066.317993293329,-35630.9407472971,-35630.9407472971,-35112.496344700136,-35630.9407472971,-34402.33934076942,-398.59821994143994,-923.8442335863472,-917.0426225384226,-911.5582195210679,-1634.001237517074,28601.37240427377,28601.37240427377,28549.527964014083,28601.37240427377,28601.37240427377,2551.6226893245216,2505.2626520821673,1368.0641120086027,3075.5514949388553,1380.3501260738822,38056.513682165416,43933.1056275731,38831.89734162893,38233.35556941147,38879.508618964406,16498.803361644314,15215.933289647532,16849.84190410432,15279.997776035065,17770.90938253047,17053.09101354092,17175.95115419369,17175.95115419369,17053.09101354092,17053.09101354092,43554.97325463764,43554.97325463764,43554.97325463764,43554.97325463764,43554.97325463764,90592.60192165534,91267.4833783546,90932.6824740516,90222.52547012089,90086.49324916236,10467.246277697082,10259.86851665828,9845.112994580695,12229.95724652683,11970.73504522834,-61297.23151496287,-61304.03312601078,-61263.22345972324,-62566.64258777811,-61270.02507077117,38106.52267486259,36266.05237692641,36143.192236273644,38769.96743438753,38359.04456721604,40102.812483414666,40096.01087236674,40044.16643210705,40075.60603922298,40116.415705510524,36615.56284085423,36615.56284085423,32364.318739558963,34541.78523046629,34541.78523046629,-17528.853404081074,-17528.853404081074,-17580.697844340782,-17516.567390015796,-17568.41183027551,31276.37494291586,31276.37494291586,31276.37494291586,31276.37494291586,31276.37494291586,31739.066616650227,31739.066616650227,31739.066616650227,31739.066616650227,31739.066616650227,-55409.169898131724,-55267.2397994485,-56020.41115912184,-54648.29319408726,-54675.49963827896,23281.018580664608,23213.002470185358,23076.97024922684,23213.002470185358,23022.126219053323,34622.28027773676,34663.089944024316,34649.48672192846,34737.907665551495,34649.48672192846,61229.73253681541,68330.10258029195,70510.65331885564,63986.96036634508,70283.42553604225,14368.606649064437,14368.606649064437,14368.606649064437,14368.606649064437,14368.606649064437,32791.46935781828,30665.84730717063,30458.469546131837,31236.136150027327,31961.958313663094,-7193.252624162569,-12055.813810013635,-12178.673950666402,-6087.511358287648,-8544.714171343028,13102.941243321908,12854.753815995553,12983.080692582946,10077.223589916131,10084.16795280992,31725.463394554365,31718.661783506443,31718.661783506443,31718.661783506443,31718.661783506443,20835.575509243397,20835.575509243397,20835.575509243397,20835.575509243397,20835.575509243397,109011.06864066259,158031.81224198788,157958.09615759624,134198.9011621192,158044.09825605317,33453.17342276751,33446.37181171958,33446.37181171958,33453.17342276751,33453.17342276751,-2717.195845169305,-2769.0402854290146,-2717.195845169305,-2717.195845169305,-2717.195845169305,31569.026340452077,31569.026340452077,31569.026340452077,31569.026340452077,31569.026340452077,42373.34598075067,65236.52754032681,40507.78716184422,42290.798198900135,41193.8012640013,18226.94133799248,18226.94133799248,18220.139726944555,18226.94133799248,19448.741133472242,18963.421431978564,19481.865834575525,19481.865834575525,19481.865834575525,19481.865834575525,76482.48870108053,77000.93310367751,76482.48870108053,76482.48870108053,77000.93310367751,31705.05856141059,31705.05856141059,31705.05856141059,31705.05856141059,31705.05856141059,29129.651926813895,29672.936929684678,29498.232348772224,29621.092489424984,29498.232348772224,-52164.518497631456,-52627.0280488904,-51810.83472313933,-52115.590012265406,-52667.83771517796,36154.504983175946,33303.06076889254,33420.25156940488,32266.17196369855,33232.04506849945,22889.397819175192,23599.554823105893,22889.397819175192,22889.397819175192,22889.397819175192,30156.134722945233,30156.134722945233,30149.33311189731,30162.93633399317,30156.134722945233,37526.42832960761,37098.830566911485,37780.03815687312,36495.43740213839,36618.62738247836,31718.661783506443,31718.661783506443,31718.661783506443,31718.661783506443,31718.661783506443,31501.690391077624,31501.690391077624,31501.690391077624,31501.690391077624,31501.690391077624,-33183.346758578504,-33689.50514711022,-33225.90477468674,-33812.36528776301,-33306.206899231256,89592.04918808094,89665.76527247265,89641.19324434205,88917.37248630574,88985.60416768007,29723.96852171,29723.96852171,29723.96852171,29723.96852171,29723.96852171,559.0389421772445,-2416.6082734751267,-2416.6082734751267,-3645.2096800028166,-4873.811086530505,40643.17473294007,40736.86779389481,40624.398999738434,43582.76962282631,903.1783824118019,-36251.0409425864,-36238.75492852112,-36251.0409425864,-36170.73881804186,-36251.0409425864,22845.49678641709,25566.141205587322,26926.463415172442,27606.624519965,24885.980100794768,25118.579083449593,31184.37859383433,29110.600983446395,27451.57889513603,33776.60060681925,31569.026340452077,31569.026340452077,31569.026340452077,31569.026340452077,31569.026340452077,51938.217334970184,48717.06042782095,51361.12688106558,50531.615836910416,54419.9488563878,17582.61311403585,17582.61311403585,17518.482659710862,17530.768673776136,17530.768673776136,34820.78316342175,36656.88366216537,38410.73108233797,27565.233253860464,35428.282255637685,11246.082756918824,11433.073351896577,11368.942897571593,11258.3687709841,11420.787337831294,72927.10189701177,83605.63124225494,77416.16518864267,84761.9051204023,71294.71524550965,-6212.227946091356,-6089.367805438587,-6089.367805438587,-6141.212245698295,-6141.212245698295,37709.4398401623,37709.4398401623,37709.4398401623,37709.4398401623,37761.28428042199,32919.44094762218,32919.44094762218,32919.44094762218,32919.44094762218,32919.44094762218,23110.316973380002,23103.51536233208,23110.316973380002,24338.918379907693,23233.177114032773,34172.65441683934,34152.24958369556,34220.26569417482,34100.405143435855,34018.78581086075,22126.539407626442,22666.61620734466,18468.423076330495,18468.423076330495,19205.583920247107,18468.423076330495,18480.70909039577,22850.59505806544,22332.150655468446,22850.59505806544,22332.150655468446,22850.59505806544,38030.556835981384,38030.556835981384,38030.556835981384,38030.556835981384,38030.556835981384,32337.240946032747,32020.773536477373,31251.058481620064,32242.869123436787,32850.28458063256,-47242.9426583824,-45970.1307800432,-47049.096743516515,-45891.48111120194,-44435.02573456874,41702.95023897362,41537.428629391456,43227.1293433404,44921.824201690906,41366.34186802424,66457.0730942511,66392.94263992614,66457.0730942511,66923.6730565884,66975.5174968481,34735.77035921791,34677.12430791028,34417.90210661179,35876.348044931285,34787.6147994776,77429.83058401191,77948.27498660893,77948.27498660893,77429.83058401191,78658.43199053961,-28330.720518480855,-27165.302232493705,-27637.571534971412,-26909.586131623488,-26892.57811120225,28738.55182367848,24929.88746344266,32547.216183914315,32888.792765886734,30800.170374789657,36549.732107530544,37340.77836130349,36751.97297232193,35656.43811582034,36021.91764576194,2330.34524880813,-6009.249994251672,-7895.445819957884,11013.865250675488,4089.878912727464,31363.684583643982,31486.544724296753,31265.39647112177,31167.108358599555,31258.594860073845,36351.55708496287,36818.157047300156,37077.379248598656,36299.71264470316,36507.09040574196,37020.91659787669,37020.91659787669,37020.91659787669,37020.91659787669,37072.76103813638,35877.772670642276,35865.486656577,35791.770572185334,35791.770572185334,35902.34469877282,-164498.42787312865,-161510.69939833504,-165195.8439385437,-170792.36377419176,-164970.95963217205,47290.51218801318,47238.66774775346,47238.66774775346,46720.2233451565,47238.66774775346,31722.0134896154,31722.0134896154,31722.0134896154,31722.0134896154,31722.0134896154,-16553.141339237016,-21427.168440850306,-10478.150417077853,-4915.004890673515,-13102.903313184508,31977.123003327615,31977.123003327615,31977.123003327615,31977.123003327615,31977.123003327615,40151.32762630464,39187.40647140335,39603.761663513236,41917.237935198966,40825.30534968073,33579.37273988661,34771.79486585968,34149.66158274329,34408.88378404179,38141.68348274008,28725.242545718553,28673.39810545884,28673.39810545884,28673.39810545884,28673.39810545884,30544.47326536216,30544.47326536216,30544.47326536216,30544.47326536216,30544.47326536216,31501.010229972828,31501.010229972828,31501.010229972828,31501.010229972828,31501.010229972828,30906.036505377484,30906.036505377484,30906.036505377484,30906.036505377484,30906.036505377484,-74005.9952883737,-70584.26223123359,-71050.8621935709,-72969.10648317973,-71533.63382612771,11468.342461924893,10894.167962913942,11357.768335337403,10949.67167246187,10587.664323967183,-33476.76490487284,-33476.76490487284,-33464.47889080757,-33476.76490487284,-33464.47889080757,-78930.92923819783,-78930.92923819783,-78930.92923819783,-78930.92923819783,-78924.1276271499,60317.54366729852,60329.8296813638,60329.8296813638,60329.8296813638,60329.8296813638,-8905.899662007056,-10427.938573787747,-11788.260783372863,-4986.649735447282,-13828.74409775054,-43038.421622196714,-41928.95060063919,-42027.45503713257,-42545.89943972958,-43038.421622196714,30356.649886085073,30526.690162283216,30343.046663989226,30540.293384379063,30408.494326344764,-16930.061597592845,-17667.222441509457,-16561.48117563454,-16561.48117563454,-16561.48117563454,-64335.44731682925,-64578.27684108542,-64293.783633257284,-61657.259527837785,-62108.194330469996,-16659.408411739587,-16659.408411739587,-9857.79736381401,-11961.98537076986,-16659.408411739587,-133615.4991356347,-132477.2825934457,-133539.3642060769,-132479.48586771675,-132391.06492409375,44578.318690095664,44578.318690095664,44630.16313035539,44578.318690095664,44571.517079047735,30578.48132060179,30578.48132060179,30578.48132060179,30578.48132060179,30578.48132060179,31793.47950503362,31793.47950503362,31793.47950503362,31793.47950503362,31793.47950503362,-47122.760227663246,-47122.760227663246,-47174.60466792293,-47174.60466792293,-47174.60466792293,30651.65227510412,30340.58563354592,32362.518803674167,30755.341155623515,34280.763093283014,43682.17074657,32491.061235436122,32542.905675695827,32542.905675695827,32542.905675695827,32542.905675695827,-58978.03084739053,-58971.22923634261,-58978.03084739053,-58978.03084739053,-58971.22923634261,50515.478261091645,45612.61833267282,45637.41674766942,46361.908001051146,47554.15385515386,12201.191342777309,17502.42297707949,8767.193931456102,19579.601392991382,9480.75174091077,36969.60484044001,-1972.921121504132,-27682.3471670122,17932.949461810014,-24077.968964816635,124475.14792904328,84906.89100060113,84128.89384096995,117161.89408956864,59874.72987735699,19677.936857744982,19677.936857744982,19677.936857744982,19677.936857744982,19677.936857744982,37440.16190455961,37440.16190455961,37440.16190455961,37440.16190455961,37440.16190455961,30125.65681576661,30125.65681576661,30125.65681576661,30137.94282983188,30125.65681576661,-93393.98044189905,-101900.2534720931,-115173.59964668288,-92011.41772165244,-93638.52005188921,57745.901053731126,58285.33787883611,58944.04766531582,59017.34342388837,56684.19797410356,31514.613452068672,31800.28111608155,31548.6215073083,31582.629562547936,31507.811841020753,27663.45980642635,28700.348611620317,28700.348611620317,28700.348611620317,28700.348611620317,31841.0907823691,31841.0907823691,31841.0907823691,31841.0907823691,31841.0907823691,16740.12263160793,16740.12263160793,16740.12263160793,16617.262490955167,16740.12263160793,34755.80447730636,35274.24887990333,35274.24887990333,34755.80447730636,34755.80447730636,52506.00688531216,52506.00688531216,52506.00688531216,52506.00688531216,52506.00688531216,31219.161564078542,31219.161564078542,31219.161564078542,31219.161564078542,29990.56015755086,31569.026340452077,31569.026340452077,31569.026340452077,31569.026340452077,31569.026340452077,35144.25484411522,36628.16216201514,37110.01709455952,36809.7519889957,36028.847856815155,28863.880219528623,28888.452247659174,28851.594205463334,28900.738261724448,28839.308191398064,31779.013999357554,31779.013999357554,31779.013999357554,31779.013999357554,31779.013999357554,14318.691452837034,14903.076893961645,12866.666267695211,22568.28002798435,14768.099368583624,27273.421547619724,26361.55612279064,27221.577107360015,27221.577107360015,26361.55612279064,31705.05856141059,31705.05856141059,31705.05856141059,31705.05856141059,31705.05856141059,104931.2031033774,104257.84360963278,106488.77203335236,106155.493092004,105135.25143481516,35897.79936324411,35897.79936324411,35949.64380350382,35897.79936324411,35897.79936324411,30273.308524305256,31614.462360009493,42657.328135325275,34335.73633550784,43757.71195297134,54800.38228457823,37932.38688572277,47998.77123665264,34395.54914080147,38204.451327639814,95399.84151251038,95399.84151251038,95396.44070698641,95399.84151251038,95396.44070698641,13956.629710077925,13861.407155406969,13827.399100167338,14663.99725906219,14133.471597323989,31990.726225423467,31990.726225423467,31990.726225423467,31990.726225423467,31990.726225423467,30077.452404100466,30054.19758400048,30057.047570956685,30493.65707008351,30063.849182004615,46631.02601546044,46631.02601546044,46631.02601546044,46631.02601546044,46631.02601546044,35163.57282095371,35156.77120990578,35111.72838069402,35163.57282095371,35156.77120990578,22723.11036529329,21494.508958765597,22600.25022464052,23364.414908543047,24101.575752459656,31569.026340452077,31569.026340452077,31569.026340452077,31569.026340452077,31569.026340452077,31501.010229972828,31501.010229972828,31501.010229972828,31501.010229972828,31501.010229972828,-27753.904127260506,-27753.904127260506,-27235.459724663506,-27631.043986607736,-27235.459724663506,39227.02106568285,39363.053286641356,39220.21945463492,38844.608884044355,38715.37827413378,31219.112067576243,31219.112067576243,31231.398081641528,31219.112067576243,31231.398081641528,33512.19519670798,34542.282390854016,34023.837988257044,33904.378653128224,34545.68319637799,13672.292738145326,12156.006610355747,10287.95713992671,17345.58118704029,16528.535962525617,30676.43189502207,30676.43189502207,30553.571754369303,30553.571754369303,30553.571754369303,52977.6145418287,57441.03541425966,54202.03006844755,52304.090352219675,9854.478348134662,9977.33848878743,9977.33848878743,9854.478348134662,9854.478348134662,32147.163279525757,32521.251887161667,32147.163279525757,32113.83538539092,32147.163279525757,17300.54131676942,16769.81090010715,17288.25530270414,16782.096914172424,16769.81090010715,-114210.4364231062,-113964.71614180066,-115439.03782963392,-114579.01684506451,-112736.11473527297,10786.888016859624,13312.106940394247,12083.50553386657,14472.692236442681,12015.489423387313,-117955.79575270216,-117955.79575270216,-117955.79575270216,-119184.39715922985,-117955.79575270216,-98406.64057142104,-98399.83896037312,-98458.48501168074,-98399.83896037312,-98394.35455735576,22090.968099056638,22087.567293532673,22090.968099056638,22094.368904580595,22090.968099056638,27498.451171232904,27711.8695618423,27487.41639726076,27648.086614287276,27555.432507740017,88939.20462564116,91696.1353999739,87946.46929820908,89580.5091688909,83437.50213625246,59454.878859385826,51898.336858449686,51253.4679244484,56662.083582662526,55082.01684920566,51607.294493680274,51536.27879328721,50307.67738675953,51536.27879328721,50307.67738675953,28304.85416787762,27902.26569067968,28038.729053428302,28175.192416176917,27895.464079631758,55137.19824982795,56389.551193721505,51404.39855112966,75210.0372188692,52959.73175892062,2611.1094780888816,5307.0203715931975,6862.353579384164,6862.353579384164,2922.176119647071,29570.457368953663,32876.215531509086,30069.81414643745,32155.877770890656,29318.036778703106,43073.02354102002,42341.01799596777,42399.66404727539,41032.540226642355,42341.01799596777,31616.637617787565,31582.629562547936,31596.23278464378,31582.629562547936,31643.844061979264,41028.98184878065,41437.07851165619,41165.01406973916,40960.9657383014,41369.06240117693,29417.89602455336,29417.89602455336,29417.89602455336,29417.89602455336,29417.89602455336,33124.35954824302,33124.35954824302,33124.35954824302,33124.35954824302,33124.35954824302,31542.500057365167,31549.301668413093,31712.540333563305,31576.50811260479,31644.52422308405,14712.753157995241,14145.63259027677,13163.613748634843,13654.192027665691,13189.957909246328,16124.636747012482,16124.636747012482,16124.636747012482,16001.776606359716,15606.192344415487,12135.106649216481,12653.55105181346,13882.15245834114,13882.15245834114,12653.55105181346,33289.83393557725,32936.15016108512,32895.340494797565,33133.39688147497,34221.654649143056,31501.010229972828,31501.010229972828,31501.010229972828,31501.010229972828,31501.010229972828,37134.360585105744,37141.16219615367,37141.16219615367,37141.16219615367,37141.16219615367,30764.720325274495,29529.317307698846,23963.789438453663,-1209.6532110236906,35353.195001624495,35197.6616808454,35197.6616808454,35975.32828474087,37738.03925357061,34101.42223586861,33511.96213287857,34153.26667612832,34030.406535475544,34030.406535475544,32608.07838535817,32608.07838535817,32659.92282561786,32608.07838535817,32659.92282561786,31481.863359554154,32822.58798435409,32019.747594427758,32733.398935959634,34663.545475529136,19845.57181685215,17756.31567975917,24172.680579684944,24960.302687893265,25381.079757274678,72948.63902574229,60324.84892079243,58399.99299422948,82355.26710502336,58631.24776985894,26811.27333933866,20511.398110807822,20791.12644735299,25336.520509715327,25124.808283649414,-16549.61490378683,-17068.059306383802,-16549.61490378683,-15839.457899856114,-17068.059306383802,24941.33883890371,18149.71716488319,23178.627870073946,36865.56009863435,20275.339215530832,36351.185059998454,37750.984947010314,35262.4518145448,36091.96285869998,36247.496179479065,31071.8858039286,31059.599789863325,31071.8858039286,31059.599789863325,31059.599789863325,-55749.831330421264,-55749.831330421264,-55749.831330421264,-55749.831330421264,-55749.831330421264,31662.716116197407,31621.906449909857,31608.303227814,31654.59729711891,31661.398908166837,37869.50558566521,37492.230300274154,36305.70605202581,40074.464024455985,38807.08142510988,49615.12930618921,32623.38770044053,42957.52507538633,30643.69312374738,48027.29540846872,-214507.81132404285,-177742.53393764922,-275363.9335382823,-207694.95016255387,-179872.8779946528,-8185.595489016919,-8185.595489016919,-8185.595489016919,-6956.994082489242,-6438.549679892271,21511.488377869147,24285.93034204383,21477.91146441963,22367.876026528815,23277.769943996194,30184.54348243932,30248.673936764284,30236.38792269901,30199.529880503174,30221.401524635152,43006.212666416955,42262.08614207413,35356.677600085466,35356.677600085466,35356.677600085466,35356.677600085466,35356.677600085466,35062.3904413642,37670.023143091355,34345.938336900064,37428.63732681294,34917.13091307995,24867.242795828093,12581.228730551213,12581.228730551213,17618.494497314732,8895.424510968145,32541.656720305433,31983.924614375537,31541.819896260375,31562.22472940415,31630.24083988341,5400.716995210416,9139.965325085466,5491.633295725591,5491.633295725591,5491.633295725591,21002.466873263034,19007.026388097147,19953.767531789377,19409.63864795533,19830.02132489614,-15806.467229461623,-1042.6598375620085,-15874.483339940882,-15874.483339940882,-15874.483339940882,20533.2460788241,19304.64467229642,19304.64467229642,18076.04326576873,18076.04326576873,16119.600781350951,16205.602879807891,16131.886795416229,16119.600781350951,16205.602879807891,60329.82995160832,59076.656516950075,59113.51455914589,61474.861071534426,59619.67294767761,-4548.158071220686,-10676.492829531033,-3057.535651593531,-3896.131859895229,-4725.128851085922,-4725.128851085922,-4725.128851085922,-4725.128851085922,-4725.128851085922,7884.546005954806,24480.476962893234,7619.283175085707,7592.076730894004,10877.254867042058,4017.4057664246616,4017.4057664246616,4017.4057664246616,3965.5613261649737,4017.4057664246616,25118.764194721032,27725.830988415102,28435.98799234581,26347.365601248734,26347.365601248734,-185563.65888052745,-185556.85726947954,-185563.65888052745,-185558.17447751007,-185558.17447751007,27486.878854017392,27480.077242969466,27486.878854017392,27480.077242969466,27480.077242969466,31502.37055218241,31502.37055218241,31502.37055218241,31502.37055218241,31502.37055218241,18414.92568586461,18466.770126124306,18414.92568586461,18414.92568586461,18414.92568586461,22900.800384278988,22900.800384278988,22900.800384278988,22900.800384278988,22900.800384278988,65793.70967086066,61456.597208133804,47799.99354227164,41888.10736632264,56459.442584100005,-51275.08181357364,-49765.41223002158,-50917.35517578172,-48817.879000518275,-48537.919023115894,35230.480499070094,35386.01381984918,37926.39139257441,34504.6583354343,35074.94717829098,151508.8453281064,151508.8453281064,151508.8453281064,150850.53276443534,152027.28973070334,13469.370783482193,12891.233844408518,15666.291151962152,12721.193568210376,15605.076652530825,25032.265716846563,25032.265716846563,24461.97687398988,24980.421276586876,25032.265716846563,-6207.880238906251,-4507.47747692486,-9408.948849332352,-10075.937873819168,-5663.75135507221,16914.93192209772,16914.93192209772,16914.93192209772,17568.522479412746,17037.79206275049,15472.192205988813,15472.192205988813,15472.192205988813,15472.192205988813,15472.192205988813,6287.196037909824,-43338.00907697927,8037.279835013361,7653.2319236308,6825.729092524185,21040.414776280642,21040.414776280642,21040.414776280642,21040.414776280642,21040.414776280642,28421.326958384227,28421.326958384227,29281.34794295361,25964.12414532885,25964.12414532885,31885.746350944944,29797.12395984788,30042.84424115342,31885.746350944944,29797.12395984788,-35247.774183480185,-34729.329780883214,-34729.329780883214,-34210.88537828621,-34210.88537828621,46449.76580462956,53258.91798079154,51170.29558969448,49327.39347990296,51416.015871000025,31501.010229972828,31501.010229972828,31501.010229972828,31501.010229972828,31501.010229972828,1845.4793424978484,1793.63490223815,1793.63490223815,1845.4793424978484,1793.63490223815,-56356.173241432174,-53820.694283510566,-58649.83812753775,-60003.358726074934,-59323.19762128238,3790.2982457638072,511.0111082865715,1584.6974236666117,5147.219649824966,5120.624556210802,31671.05050617096,31528.216674164527,31569.026340452077,31511.21264654471,31528.216674164527,31248.272766724305,31197.26068386486,31197.26068386486,31214.26471148468,31275.47921091601,32160.766501621605,32167.568112669524,32167.568112669524,32160.766501621605,32160.766501621605,42824.23150818563,44864.71482256329,127096.19239198357,62863.29961832902,40894.0959335294,35318.30422250922,35281.44618031339,35035.72589900785,35084.86995526896,35121.7279974648,13378.38348329849,22961.474454214454,19275.670234631387,22470.033891603376,19152.810093978616,28815.51696068699,17273.368692780823,27414.385084814316,18682.619387731993,18704.176477237434,28851.929276360068,33766.33490247082,31360.976529675136,33766.33490247082,32589.577936202826,14546.99098099551,6683.941979218288,17987.074919273036,14055.550418384433,5455.340572690609,31585.304681098398,30322.69521933109,31563.58263992404,30315.893608283164,30115.8077169081,-162254.846161433,-163805.7577032743,-162050.94205290958,-162722.98433862365,-160417.23819337686,27989.19791067964,27976.91189661436,27989.19791067964,27976.91189661436,27989.19791067964,34000.50639596807,34000.50639596807,34000.50639596807,34000.50639596807,34000.50639596807,26586.147197012368,28626.630511390053,25225.824987427248,27946.469406597487,23865.50277784214,23606.574728872427,23273.295787524068,23293.70062066785,23749.408560878863,23681.392450399602,97578.42629395089,100868.88407819222,78737.96369119704,81014.98142929748,112159.55841774867,-29854.242374884398,-23541.195066047836,-23711.235342245982,-16183.18984897756,969.618565074593,20441.44186227308,20441.44186227308,20441.44186227308,20441.44186227308,20441.44186227308,29485.04985145239,29437.438574116906,29451.041796212765,29478.248240404464,29427.236157545027,31502.37055218241,31502.37055218241,23026.662778831622,22903.802638178848,21675.201231651165,24132.40404470653,22984.10476272339,6529.746098948157,6529.746098948157,6529.746098948157,6529.746098948157,6529.746098948157,151309.85986980205,146501.21606298597,150718.21491269983,148201.61882496736,144299.01604641273,79893.06340448745,79893.06340448745,79899.86501553537,79893.06340448745,79899.86501553537,36737.29869620238,38240.787463733635,39070.298507888794,36789.14313646207,36478.07649490388,8021.530371636851,8539.974774233826,8021.530371636851,8539.974774233826,8539.974774233826,57685.03788867365,56907.452105150696,44693.28062603101,50236.59363009035,48337.422184764466,-6982.728933433948,-6642.648381037669,-7050.745043913204,-6370.583939120646,-6642.648381037669,42591.48728262409,42591.48728262409,42073.0428800271,42073.0428800271,42591.48728262409,38066.989719417244,39290.51850954612,38409.16302513125,37268.585339417885,36558.31650786001,73412.98895903361,-409.63158495830027,-409.63158495830027,-409.63158495830027,-409.63158495830027,-409.63158495830027,40995.2351208398,40995.2351208398,40476.7907182428,40995.2351208398,40476.7907182428,47754.62382722896,46067.82428734342,46582.51100480176,44966.201579023254,50073.25943534223,37473.107031763604,36831.77770825974,37533.35275310352,36838.57931930769,36838.57931930769,-486877.15565422864,-484235.5168803269,-486316.7177842568,-479236.044314273,-495676.454173821,31501.010229972828,31501.010229972828,31501.010229972828,31501.010229972828,31501.010229972828],\"yaxis\":\"y\",\"type\":\"scattergl\"},{\"hovertemplate\":\"color=2<br>PC1=%{x}<br>PC2=%{y}<extra></extra>\",\"legendgroup\":\"2\",\"marker\":{\"color\":\"#EF553B\",\"symbol\":\"circle\"},\"mode\":\"markers\",\"name\":\"2\",\"showlegend\":true,\"x\":[593198.9979980619,591303.0978750907,591303.0978750907,592914.2290723658,591303.0978750907,132308.69941731566,64810.9440137858,54852.25879031417,275774.109926012,275774.109926012,275774.109926012,277385.24112328724,274162.97872873675,374685.11984451464,350518.1518853863,337467.9891874571,348907.02068811114,361796.07026631286,110034.14000675248,139039.01411361503,132785.28263476296,145755.36034020068,167743.78365319865,467470.47276641015,479451.34282446286,469579.06509274174,476600.80587824417,469213.2683757456,646751.4065418845,646754.2542311415,646751.4065418845,646751.4065418845,646751.4065418845,170206.79077726667,170974.89906214538,161737.4753694124,169637.25292587435,174717.95812963726,316405.2030662287,316405.2030662287,316244.08994650125,316405.2030662287,316244.08994650125,39113.57553654487,42038.356001261775,10864.745614309695,45561.3342202356,30033.595752902052,366850.5348399044,370154.2917670404,372404.51052579435,370433.5741533937,370455.05837241205,135648.9805718812,134985.06822364978,135917.4719363779,135206.37233972692,135920.7457496473,275920.9695135844,268773.23939117393,276014.4558472797,284895.0973829351,270399.6777798819,29912.976750177455,29912.976750177455,30074.089869904983,31524.107947452674,30074.089869904983,708886.5382649327,660066.8502583139,538095.0866823944,754342.4037071787,469656.7887855365,93168.65097683718,96163.09823083068,94836.73595925161,94665.8746038339,94608.92081869466,76945.83423608524,65670.76354441566,52309.4398128352,64559.4067394168,66640.28995203777,177122.64784147037,175130.91079677604,176901.34372539324,178512.47492266845,178401.82286462985,-5559.490209400897,-1129.0562557545543,237950.04360812632,100893.23813350042,188907.42625821286,639536.2908429168,628543.1413876866,626647.2412647152,631765.403782237,623424.9788701647,91263.64101883738,191384.66018759654,174538.96830817583,200090.70703209378,83835.05720924544,188700.1556875293,185095.64201038095,185140.54411632725,187076.97281106116,184184.3814481532,85939.98267377607,82324.24003502417,74967.47057346122,88391.46358753135,91184.56113776872,240475.504767075,239368.9841866893,165407.4266029033,239368.9841866893,256275.22612922563,240815.60915195374,240812.76146269674,240812.76146269674,240815.60915195374,240815.60915195374,70041.42161291814,71652.55281019337,70041.42161291814,71937.32173588956,70041.42161291814,658681.0918474257,247659.58360161007,354220.71536904376,563537.2241979312,308551.6588972865,72264.95139948945,72264.95139948945,70656.66789147117,70938.5891279104,70952.5020229712,370349.5815975412,567919.0763623115,750861.3130801893,207729.89035791537,206118.75916064015,207729.89035791537,206403.52808633633,206403.52808633633,204621.1780135393,197855.79621701827,222910.97916128035,195053.18971314322,178944.52728165913,295698.3743234549,312776.3650145723,302629.0861609953,320187.56852203823,303270.69095064845,124628.30895465238,124656.78584722201,124628.30895465238,124633.84155755435,124644.90676335819,459155.54029863287,460766.67149590806,460766.67149590806,459155.54029863287,459155.54029863287,400993.3252763419,405871.2696474575,405355.55123536923,378081.8106328915,374305.0542738271,466699.2697902874,463866.5771044999,463539.00978047226,466747.91946359084,472501.8264815966,341328.1556102987,340542.5259982249,340675.3084678711,340686.37367367506,340708.5040852827,10867.465674351219,8577.306118226323,33204.059649056275,46785.71525446367,117368.18241594672,104438.6443504096,172845.52062846415,194975.7500136021,129474.81623445085,81945.46915093681,82106.58227066435,84872.88372162868,85930.75462871105,81504.6723071681,545211.4000228847,522826.25901966344,514608.488746237,549635.0666068654,522145.11704149534,475860.76098206156,476575.13439198193,477117.32947637094,476686.2625672629,474057.1324360328,235093.40861172942,268919.48560949974,315811.0815952178,272632.765508242,207704.1782580506,133415.7769654478,89649.59784668042,207627.9937320533,158153.18255431633,318113.94909455004,319725.0802918253,319725.0802918253,319725.0802918253,319725.0802918253,353235.0576486409,322961.1689887527,354116.91066044435,359807.9101439968,150868.70798982886,154989.64480573492,170089.14260135393,155007.37229529166,174955.38661993298,135828.96567229886,128271.48389213931,137155.53757076722,131720.70776953298,146314.05571216476,20423.713578211882,20395.23668564227,20395.23668564227,20366.759793072662,22167.481002645007,53577.00253000849,53605.47942257812,53605.47942257812,53823.546327444856,53766.59254230563,243219.38418189136,818576.3753549873,660829.4554829586,530356.1591537468,112891.73569693527,112730.62257720773,112891.73569693527,112891.73569693527,112730.62257720773,597085.216999042,598696.3481963171,597085.216999042,598696.3481963171,597085.216999042,461629.99323599675,461579.5321743078,465894.9624378121,465894.9624378121,464788.44185742637,217104.48537107615,213471.6778116532,223430.3630351248,217104.48537107615,231489.25291609074,307141.9017641508,304391.69486409094,306197.7907751696,306672.6939589172,301926.2568897272,623172.8780823069,618178.3713707535,616889.4664129333,622850.6518428518,615761.6745748407,614928.2101863682,614928.2101863682,614361.5200242327,614767.0970666407,614781.3355129254,412355.95247909316,404439.4653620048,408323.8287164011,404831.61253247014,822086.1157341824,300900.50085127755,331778.0453703642,305525.84995787387,307929.28712293884,302131.88535503444,170242.33807248954,159077.91943885863,161992.63139365715,152409.24284442366,153561.48824834503,320969.4762571076,317145.303899061,315152.1044294828,320969.4762571076,310823.32145454653,836798.4617795483,865844.5578259622,771356.0263467354,719656.1115765533,877172.552683012,471596.56201803096,471311.79309233476,472922.92428961,473492.4621410023,472450.86879511946,92506.8730191123,52830.53495865529,97428.13813510849,46088.09316037147,48668.97162156403,113543.97469952558,113543.97469952558,115183.5827893704,115183.5827893704,115183.5827893704,168512.82568037394,92508.60150599225,164965.33280999758,561520.6466520807,113162.35367874493,588983.5410253814,565391.1700704632,598984.1207551536,673213.0592089895,549259.4521895335,584097.6078355749,590542.1326246756,588931.0014274005,588931.0014274005,584097.6078355749,606914.968133065,614882.2735671902,614631.4223917832,632208.1241317135,620414.8764691188,311163.6505435649,324788.4561355322,321932.370017646,317794.6577809202,319082.0271097385,152834.94851635498,152803.62393452838,152775.1470419588,154443.2320243732,152547.3319014019,269871.5285558814,269871.5285558814,269982.1806139201,268260.39735860634,269650.22443980444,137434.0034000066,137434.0034000066,137434.0034000066,137434.0034000066,137434.0034000066,505926.93605967343,299863.8773344379,373812.8768508667,233575.45722359046,455261.00281077105,225234.51188619895,435881.06257961143,335358.9857856244,552101.4466579292,451666.62057709676,334086.3356166152,159229.85953380298,231543.47684239346,11781.61459730792,11838.568382447156,13260.109567425237,11648.97837015002,12123.33730814332,223831.33959484356,223831.33959484356,223831.33959484356,223831.33959484356,223670.226475116,60268.064079972624,64779.23143234324,70095.96438335147,66384.83002671653,69773.73814389642,512370.7658493475,513697.12812092656,512940.30370073975,512370.7658493475,512085.99692365126,159912.6314653848,175497.48700855294,169051.4354299797,159188.05200356134,165159.4434853827,414126.1628453355,418584.9832995725,416022.06296830694,414028.6804884337,417258.62102799333,743730.0796365028,709896.3244937233,678640.379266584,706674.062099173,785619.4907656586,96667.88950220153,96506.77638247403,96506.77638247403,96506.77638247403,96667.88950220153,171124.04359687798,171788.43206235184,175495.27600664407,174278.10336821972,173321.63070175768,149819.04642280337,148777.45307692053,141516.07882449,157789.27173147062,161381.73372942608,190402.69019395014,173323.94638226542,173458.1133285666,185393.0752391339,218833.5138935117,52789.07119495334,53073.840120649504,52789.07119495334,53073.840120649504,51462.7089233743,424992.128448046,426957.34623104474,425287.96257954603,428072.0055920301,382213.83840783796,382213.83840783796,383824.9696051131,384931.4901854988,384931.4901854988,286995.48725212185,271082.74571285606,272693.87691013125,291544.1119182514,273821.6687482239,179273.9703065401,218470.79182550404,117815.70221686846,302132.21838306676,204532.40489317494,129860.10227383558,129860.10227383558,129871.16747963947,129871.16747963947,129860.10227383558,238584.08987950007,214835.52824054845,225792.52265820003,227508.8143573862,246101.98951787877,339078.2142375488,339078.2142375488,339078.2142375488,339078.2142375488,339078.2142375488,517775.0864456396,522863.40007299563,523430.6099847025,523121.02750165947,523015.20734470396,962701.3771699549,917495.036808787,919305.6740173366,1017917.2217934702,991694.3685262272,226385.35900286766,226672.8128422088,226654.01661659114,226366.40000163796,226552.0047254971,52761.79977098117,20686.39980133273,21019.04175450589,20992.19261805623,20132.35323806579,20344.67709049733,289364.8747546352,286150.2905050938,294561.3126575298,280240.7403058382,286455.56287399604,224177.70483518354,210853.65588650826,216827.05563220565,208025.35205080875,216434.9084617403,605213.6465920173,605659.528637441,605498.4155177135,606985.89090902,605498.4155177135,81905.46477999755,392604.7304361752,398517.939185523,408981.2350258841,397411.4186051373,407370.10382860893,147785.03907622772,370114.3697094563,370114.3697094563,370114.3697094563,370114.3697094563,370114.3697094563,245973.56636719365,245468.95575030416,245497.43264287384,245486.36743707,245962.5011613898,141661.6375095853,141661.6375095853,141661.6375095853,141661.6375095853,141661.6375095853,309703.2970938039,306040.33184851473,310788.1239940297,312586.0748406034,313209.22162151267,129984.26520723655,194202.4782458038,38935.0107373541,207659.9297304066,197345.88653000517,50703.903734337844,99173.47948396004,106722.3754197875,359509.51065605605,359509.51065605605,361120.6418533313,361120.6418533313,359509.51065605605,201702.8215796423,206375.10205174042,201702.8215796423,226836.4682571357,206213.98893201293,156581.6292501182,154970.498052843,156581.6292501182,154970.498052843,156581.6292501182,259039.08704939665,268375.358866166,263572.56591673836,246046.413427024,254285.10848253782,181439.73454175433,181439.73454175433,181439.73454175433,181439.73454175433,181439.73454175433,86295.38709937115,86456.50021909867,86456.50021909867,86295.38709937115,86456.50021909867,79285.08903414215,288893.652746914,292815.12445156754,288893.652746914,287282.52154963877,288926.0248590179,493551.08354073996,462563.37379517965,439819.42853466095,438363.21021863975,449364.49845446984,112964.06540592891,93843.86232081661,121502.56210414914,99272.27272478692,116529.64987473054,142420.62370525094,147776.76157978523,167754.48333756844,153740.48961053093,134137.1525783179,163261.02956484005,139485.96778287116,155205.37357846397,159603.9503306698,153320.5386612964,333008.96397234336,333174.9420594013,333900.8567923679,333922.9872039756,333967.24802719103,550348.9372283499,552041.9137163402,550127.633112273,546249.8530330086,550503.850109604,83036.17758635404,85428.23656220181,77255.36839472184,87078.9098578505,86833.68303052781,318313.8701310503,271242.48464144114,312346.1396034955,259516.0496350914,315231.0673495803,405282.79930125107,318974.1940311637,678593.382656528,869380.5666490409,1028297.6610378767,924931.2080666034,708633.7070143545,675396.195096482,356718.26794539,402266.80869986943],\"xaxis\":\"x\",\"y\":[165530.1585286819,163783.1127195572,163783.1127195572,164301.5571221542,163783.1127195572,57681.76495956492,16191.937567218883,10070.48762408586,177816.81774219222,177816.81774219222,177816.81774219222,178335.26214478916,177298.37333959521,72338.31218926403,64561.64615030932,60362.24648927376,64043.201747712264,68190.75696848816,105003.79687956149,112490.73994410083,100408.38768742341,115559.35045807532,117021.78665840166,-14355.905456036122,10317.252788393193,-25842.91841757204,-1981.0472909489845,9887.906395183452,-23146.824517676407,-23134.538503611155,-23146.824517676407,-23146.824517676407,-23146.824517676407,-140342.11670135503,-138957.98197404825,-144204.41567307542,-142799.31951441042,-138890.4723740835,-174181.23263347714,-174181.23263347714,-174233.07707373684,-174181.23263347714,-174233.07707373684,-150367.61543168747,-151785.35923316854,-171945.96812521588,-144773.47055355608,-156791.7853952501,-256947.55264715696,-254354.42361563942,-250435.45370095925,-254956.45597192066,-251852.16030628947,-130973.0451438332,-131381.1418067087,-131861.5659979646,-131245.10958575018,-130853.18459309422,-112450.88790061844,-122852.12921977608,-112079.71525664716,-106515.56627765395,-115425.67675043644,-72420.22336622681,-72420.22336622681,-72368.3789259671,-71901.77896362981,-72368.3789259671,634341.400629713,604332.6926862653,529358.5341049817,662282.4188145912,487290.56977356185,25798.265368077748,25852.273048049574,26562.430051980267,25825.26920806366,25579.54892675812,-49750.284312655574,-53367.10911676921,-57663.396047276256,-53740.98900462179,-53043.75646114574,-88682.31776083677,-89906.60774946338,-88818.34998179527,-88299.9055791983,-88367.92168967755,-113101.25273833252,-107124.2557454677,37209.150027706404,-49339.2911133282,5223.027958206741,89922.83096690611,87522.32155525492,85775.27574613024,88559.2103604489,84738.38694093627,35120.689497447944,71088.05825660231,81898.24805499571,80724.79957380285,19680.534327641886,-5183.449431839022,-14302.103680129845,-20540.967013435147,-12186.477449046879,-18233.628181018445,-153979.5004957247,-165894.77843009276,-184534.55281289993,-132349.64861398574,-152230.72083042143,179166.87094154124,178486.70983674875,154848.73676903444,178486.70983674875,184089.00107550435,-203578.91800152016,-203591.2040155854,-203591.2040155854,-203578.91800152016,-203578.91800152016,-182441.29297802315,-181922.84857542624,-182441.29297802315,-180694.2471688985,-182441.29297802315,59343.816129351784,47799.8883062824,50792.75848263375,56671.61061475237,49510.09983562606,-198807.5937229872,-198807.5937229872,-199313.75211151893,-198097.43671905654,-198078.34909394334,-134653.570816592,-73676.68447693686,-11072.090397175793,-200869.35139683768,-201387.79579943462,-200869.35139683768,-200159.19439290694,-200159.19439290694,-127059.7146482818,-162767.94641514568,-57740.703933240795,-169286.56401837463,-245499.27233336747,51185.9464250529,56681.45709258096,53427.543370285195,59066.3013445271,53622.6351172587,-155724.77297226543,-155601.9128316127,-155724.77297226543,-155721.37216674146,-155714.57055569356,267838.35691338114,268356.80131597817,268356.80131597817,267838.35691338114,267838.35691338114,-37548.88808681246,-34031.408689865886,-36141.606427647865,-50473.32796812298,-53470.88565637025,226785.63188677008,225044.4194585011,225314.9619374635,227287.4291413619,230824.2668862832,-203186.0867807723,-203669.00116517502,-203587.3818325999,-203580.58022155202,-203566.97699945615,-50321.39286191183,-50612.89335888122,-49986.136035564625,-48806.94641881944,-18340.319783020313,-27080.284032992677,15331.622724317349,21033.045203460464,-12162.829041937259,-119016.71584742298,-118964.87140716327,-117264.46864518189,-117086.10479498119,-119806.74921415142,-12410.117611102025,-114777.45537513231,-143799.45240917164,7318.5205937339715,-111926.83153984483,61245.67162680254,61637.59661945851,61970.87556080687,61281.201644996814,60137.009025990665,-4375.571403298445,-12819.129651941515,21598.49316681048,7704.1831772112555,-13189.12624744721,66384.02510524691,65154.81056853115,68468.34540663441,67078.79853904269,-153206.1455217961,-152687.70111919913,-152687.70111919913,-152687.70111919913,-152687.70111919913,-207322.40901736857,-249450.8866476853,-230449.1983368859,-200001.00634880894,-133263.56357261012,-112267.9814409796,-125600.58223373939,-139208.36828477847,-136768.6959738646,61265.9106866306,51373.4701105553,56697.46185869888,60032.53002694659,62310.65942023969,-67999.5431808351,-68122.40332148786,-68122.40332148786,-68245.26346214063,-67552.11447863119,43959.86258014178,44082.722720794554,44082.722720794554,44380.28744235978,44134.56716105427,257310.77245188542,674182.2010505477,391741.74133048323,349717.969827812,10554.946092034143,10503.101651774432,10554.946092034143,10554.946092034143,10503.101651774432,-48412.0274136011,-47893.583011004106,-48412.0274136011,-47893.583011004106,-48412.0274136011,-59364.674049885245,-59348.50237966569,-56695.87407097472,-56695.87407097472,-57376.03517576727,88751.1290234399,85359.18416188179,91480.63410501482,88751.1290234399,97593.22338574319,-102995.86593334419,-108428.71596205191,-94203.94348631665,-98587.61869576512,-112632.96458423197,-87913.38549477162,-89520.56314282234,-89935.3186648999,-88017.07437529106,-90298.22974671776,-68221.76392484359,-68221.76392484359,-70666.68072383368,-68273.60836510328,-68212.17829477691,243164.34935728516,238251.01773255915,240213.9721254401,238539.25384469578,372693.4939766621,376449.50385261653,391512.7410719898,378112.9018556969,378646.4714433444,376592.95591425436,-258106.291307223,-261655.10000085735,-261945.1007147133,-263877.1958462691,-265747.9381462482,8554.564172327819,6675.797560145722,3925.157241837321,8554.564172327819,2208.1073318507824,75253.88692952991,75099.62577917,74314.94332395263,72768.26346554964,78185.96964465428,-168859.92983443226,-170088.53124095997,-169570.08683836297,-167112.88402530755,-165174.12561484924,-67418.45877740027,-95294.16890627038,-63124.746719229566,-94908.34281270776,-100205.56367815031,-170466.32804349661,-170466.32804349661,-169825.02350024687,-169825.02350024687,-169825.02350024687,-48208.76529766657,49731.016032114385,1736.3394876327277,9685.354611380166,-26010.393455981375,3010.1736997902144,-15956.593014191945,1343.7991574565447,-14421.205158279465,-21407.60996226259,279353.6422414137,281427.41985180165,280908.9754492046,280908.9754492046,279353.6422414137,167913.11362630862,175014.2337332765,172373.16300710136,185159.24082163034,178415.03925723923,-193425.32039695707,-188846.02324808235,-190642.24374724017,-190073.2817938939,-193524.70441245224,-195376.54297152112,-195511.68912623922,-195634.54926689196,-194870.38458298944,-196617.43039211415,-336849.439637614,-336849.439637614,-336781.4235271347,-337367.884040211,-336985.47185857245,-65288.60717664852,-65288.60717664852,-65288.60717664852,-65288.60717664852,-65288.60717664852,226873.36350749288,157817.7578637481,191781.08450785538,139946.11758600132,210147.77008280528,163192.971300228,231583.747481527,203975.7776445503,271054.2022325677,242058.06676649326,115254.81927375005,55577.0195736926,84531.58032059838,-56173.12525876344,-55927.40497745789,-55583.66515577338,-56102.10955837036,-54698.8035709302,-167749.0101945566,-167749.0101945566,-167749.0101945566,-167749.0101945566,-167800.8546348163,-34677.3394349002,-33225.69510762866,-31514.828579058598,-32710.651510555632,-31618.517459578,-190790.61455057492,-191500.77155450563,-188333.41173751955,-190790.61455057492,-192019.21595710257,-9729.73293449147,-5199.218678368597,-7557.070613891832,-9797.606293124842,-8203.413637538606,-144951.92982493577,-132147.4713570619,-143204.8840158111,-151805.09386150495,-131437.31435313122,103201.66725243813,92314.33479790135,82256.51338751985,91277.44599270745,116681.22171995974,-30218.752494443146,-30270.59693470283,-30270.59693470283,-30270.59693470283,-30218.752494443146,135732.59566336125,135716.28124129583,137994.8209423509,137246.64372707906,136611.52545149828,-71767.95607353521,-69829.19766307682,-76713.6920190561,-69544.31448250858,-66910.24384882863,-237509.15064878177,-225037.601809396,-224417.81670311478,-233433.11961548342,-230634.35421509144,-37685.5914343694,-36456.99002784171,-37685.5914343694,-36456.99002784171,-36975.434430438705,40759.57869178116,41495.674647911816,41994.98170935679,43234.396883033885,103101.36467477014,103101.36467477014,103619.80907736713,104299.9701821597,104299.9701821597,-106466.73429330265,-112724.24640502114,-112205.80200242414,-106140.0024920394,-111842.89092060628,64288.95809712843,106840.22528757172,66271.7542335361,62645.99388249542,60544.06166219082,146963.98663878342,146963.98663878342,146970.78824983133,146970.78824983133,146963.98663878342,-214047.36277012536,-194288.51252215082,-211341.7539543321,-184639.25481198626,-181612.28563779438,-188675.33654668173,-188675.33654668173,-188675.33654668173,-188675.33654668173,-188675.33654668173,59332.611707998796,62233.18025171051,62446.41219904457,61929.51354206256,62174.604777765584,486346.3503602317,492689.7994964953,480408.0678289405,517582.33350460173,493005.64221180853,-120118.85715835895,-118899.14096037259,-118895.44019585724,-120136.32761645019,-120063.6119125753,56491.18379003576,-62280.667546411874,-61127.99516430626,-61039.143078893125,-64728.34810400015,-63754.9892342451,4597.18162786322,22891.18352584897,25904.85848360401,-3716.5944729900066,21869.44583908401,-175437.03675336964,-184088.48125140695,-179897.64236071575,-185355.10286927572,-180185.8784728523,-112560.11876079241,-111279.67291400497,-111331.51735426467,-111989.8299179357,-111331.51735426467,58489.60891957377,159128.04150680586,163234.69261679836,169194.42585773574,162554.53151200578,168675.98145513883,-24551.81172339615,23865.722212215365,23865.722212215365,23865.722212215365,23865.722212215365,23865.722212215365,-148421.19127632494,-148259.4745741294,-148136.6144334766,-148143.41604452458,-148427.99288737288,-128404.36224349035,-128404.36224349035,-128404.36224349035,-128404.36224349035,-128404.36224349035,-126070.47109345986,-151289.61121474055,-120109.29324135727,-111860.99503767467,-112815.97544069945,-135721.47258146937,-136616.88155596936,-153353.12902551773,-143806.65739410513,-153313.22909479652,46450.060760528206,43780.41580829738,45935.89045833814,-181813.7281717269,-181813.7281717269,-181295.28376912983,-181295.28376912983,-181813.7281717269,103520.32346750332,105023.81223503457,103520.32346750332,111608.05614801626,104971.96779477487,-78028.12451835208,-78546.56892094907,-78028.12451835208,-78546.56892094907,-78028.12451835208,-299474.4047612902,-291944.4935318526,-297109.16868377244,-303304.733636478,-298872.67008397117,-310361.9533772975,-310361.9533772975,-310361.9533772975,-310361.9533772975,-310361.9533772975,-107117.92775607575,-107066.08331581605,-107066.08331581605,-107117.92775607575,-107066.08331581605,-1630.618472443743,-29733.109812745275,-26850.74869137948,-29733.109812745275,-30251.554215342283,-31348.434818812562,117095.39986853485,107013.70144356262,99639.8524193901,99216.63057146403,102675.7011134448,-42748.39158345629,-126775.3876569585,-14266.739814733835,-127491.18056301022,-35971.49488288156,72539.64163305255,72256.50306225433,78918.13388042113,74419.95359189264,68964.5384948455,-104421.96342914595,-113209.4842255377,-107014.18544213088,-106732.49647007935,-108754.42964020763,60028.00714790463,60130.031313623476,60104.34683238643,60117.95005448228,60145.156498674005,295803.9068215558,296844.5533118885,295667.87460059737,294416.80642331665,295899.1293762268,21061.37370246651,31381.625517299097,-3879.234850045564,32029.731671596757,30930.79201676977,-154692.74144093256,-183626.79483880795,-160257.4182193097,-191561.80852125052,-158168.0302022262,299906.6368549554,246854.0706811359,467906.4297387174,417792.73674542457,427999.7483831114,470914.26802309556,263258.69045862736,250641.6818003174,54755.28362006065,75423.78168646524],\"yaxis\":\"y\",\"type\":\"scattergl\"},{\"hovertemplate\":\"color=0<br>PC1=%{x}<br>PC2=%{y}<extra></extra>\",\"legendgroup\":\"0\",\"marker\":{\"color\":\"#00cc96\",\"symbol\":\"circle\"},\"mode\":\"markers\",\"name\":\"0\",\"showlegend\":true,\"x\":[815625.8439389564,819459.2061436919,814092.3423728861,815005.0547525623,812455.2564210744,971792.3367105589,973735.4240819497,972396.0580624407,973403.467907834,973564.5810275616,538263.3490367228,648277.5291869408,489724.7364936105,570259.5577143554,624245.5362444631,619199.0518589558,624894.4303728789,593569.8485463009,623373.1033874963,602967.2230942743,570747.9393633871,572684.3680581211,570121.4477268554,573253.9059095134,573538.6748352095,898607.0044665138,903918.3032523651,900204.782952357,898434.3500237399,900930.6976853239,1501373.2436597154,1471690.9723160926,1476400.7101019493,1478296.610224921,1467775.9235067135,1246635.8180522209,1254983.9211093027,1244811.2268370849,1254691.4740385972,1251753.9805697429,743990.5447495991,737546.0199604981,737546.0199604981,744019.0216421689,737546.0199604981,300091.4757396033,212392.51645482058,286717.3039199428,207170.55887554472,234138.4228884704,1563654.7419795322,1563654.7419795322,1563654.7419795322,1565265.8731768078,1563654.7419795322,1486577.3603745708,1478038.365029012,1474010.5370358238,1475299.441993644,1486577.3603745708,1130736.8906113442,1132901.2820988125,1134609.7126426944,1133171.235888193,1133281.8879462313,1231160.3110902312,678940.0246126581,679385.9066580818,679101.1377323855,677613.662341079,676039.9884575626,974867.6716958897,764061.5941360074,907617.510617277,756449.6633096982,967472.921964639,606670.5859372289,606717.7731856485,608250.624436989,604932.5251207157,604994.5275054508,620109.6370837286,624094.9225615025,622999.4671869206,622999.4671869206,622988.4019811167,289081.6598252434,816179.0934829197,816179.0934829197,816179.0934829197,816179.0934829197,816179.0934829197,679965.5502412629,685502.074523097,691487.7749072277,693939.5034952622,680519.0516846308,941912.4192879202,924201.0413236967,946262.4735205633,927423.303718247,947873.6047178385,1541998.54515768,1541679.6039609003,1541708.0808534694,1540353.2416893216,1541651.1270683308,386827.7130678149,380383.188278714,380383.188278714,363627.4238270517,377160.9258841635,773438.95870542,770585.9094408858,773706.3159443504,773182.6666722937,776007.2390442583,214618.40675455227,177661.21380073746,186400.68754930687,169765.69012592034,196785.40409778873,763781.8657054614,765392.9969027364,765395.8445919931,765392.9969027364,765395.8445919931,1048903.9314904956,1083216.6840117944,1096432.7589999395,1021880.4621417011,1052226.3468372927,612390.7506746125,626246.4789711792,613035.2031535225,629468.7413657298,601596.1716528684,880387.536186992,881209.2878416815,876783.2055201387,871535.3715439062,880102.7672612957,611088.2445127019,611088.2445127019,611088.2445127019,609477.1133154267,612699.3757099771,710101.7549846914,708490.623787416,708490.623787416,710101.7549846914,708490.623787416,572549.0203420615,572387.9072223341,572710.1334617891,574027.5153121789,572577.497234631,698113.98281661,701980.6976900706,708908.5618383541,695213.9466615146,704397.3944859834,318646.5445697618,302610.9150390283,323811.7480932149,314151.6181765317,323688.40307325247,1210988.8456650344,875406.7639852439,1170370.7835168373,1213940.2253441385,1215088.392518231,1218354.3898981977,1199047.3417157682,1158169.1543741585,1158330.2674938866,1156719.136296611,1155584.138823656,1158045.49856819,618712.512777629,620636.8897931697,620636.8897931697,612386.6351135802,620352.1208674737,1206242.2401255947,1208138.140248566,1209749.2714458415,1206242.2401255947,1208166.6171411362,818587.5845791687,840289.1145639335,920755.8702158018,1198245.0092847282,780885.0305133298,774440.5057242288,764451.4923011225,762034.7955052098,776051.6369215042,505033.2792959444,505033.2792959444,505033.2792959444,505318.04822164046,505318.04822164046],\"xaxis\":\"x\",\"y\":[-411209.59057241003,-408589.89246448345,-412181.6088382095,-411022.2585862399,-412852.969812607,-196907.96579582512,-196185.4730617904,-196584.05691364847,-196389.52139322818,-196337.6769529685,-430863.9662227033,-428436.5858791117,-432511.1356215611,-430627.79440108314,-427786.60320622,-255294.69182204164,-230722.66369148786,-365868.81840953353,-243718.8347606955,-325324.9719941199,-361408.9155729563,-353054.426008568,-364111.83866731724,-350597.22319551255,-349368.62178898486,-505850.1457101183,-502585.37240711396,-504396.1229088169,-505484.3806764849,-504421.80739005393,-397434.9406608118,-405849.4051425881,-405470.828901065,-403723.7830919404,-407109.2250408988,-250118.6800116609,-226966.96588896858,-239336.15471391528,-247526.45799867593,-247334.74539734225,-44556.32945831559,-46630.10706870359,-46630.10706870359,-44433.46931766283,-46630.10706870359,-587750.6580554165,-582565.6517650115,-598916.4923374407,-601660.8992694004,-555976.0987510687,-200258.256627808,-200258.256627808,-200258.256627808,-199739.812225211,-200258.256627808,-643345.8054436275,-646093.5607773917,-647389.671783884,-646974.9162618064,-643345.8054436275,-578798.7232947163,-577940.1983397229,-576418.1594279422,-577302.3688641726,-577234.3527536935,-228936.9324195829,-373123.9032876846,-371843.4574408972,-373072.058847425,-372413.7462837539,-374057.1032123591,-122854.72468451006,-132325.77655419012,-130771.00380825775,-131792.85729957285,-124503.40268228862,-285018.26598881424,-286042.8190639041,-287207.7157778536,-287721.8487625495,-288155.6299066621,-340691.69576272473,-338761.084710283,-339434.4442040276,-339434.4442040276,-339441.2458150755,-405854.7991943217,-184698.30914018943,-184698.30914018943,-184698.30914018943,-184698.30914018943,-184698.30914018943,-84483.93686566489,-81422.90657260564,-80912.52765126165,-80976.55103097876,-85112.40099997909,-34723.1899481829,-40419.27676570183,-33323.390061171034,-39382.38796050792,-32804.94565857404,-647634.0674070851,-649010.100982396,-648887.2408417432,-648299.9439784653,-649132.9611230488,-325992.3335678919,-328066.11117827985,-328066.11117827985,-333457.9329652885,-329102.9999834738,-177882.11720638,-183799.60618665093,-176769.57432945716,-178987.85847225494,-173193.22963263682,-855745.8059736905,-833001.12559903,-812877.9216214038,-816631.2376675361,-843838.5323982682,-351613.7558097848,-351095.3114071878,-351083.0253931226,-351095.3114071878,-351083.0253931226,-349312.04909282405,-347212.6767619196,-349666.46052191977,-351301.3338630801,-349360.69419301924,-357868.4453016666,-353409.8234393326,-357661.06754062785,-352372.9346341386,-361342.02279906644,-342468.5304778071,-343016.9707795422,-345737.6151987124,-347909.81931614754,-343697.1318843347,-378194.3457975879,-378194.3457975879,-378194.3457975879,-378712.7902001848,-377675.901394991,-45266.406797419426,-45784.851200016405,-45784.851200016405,-45266.406797419426,-45784.851200016405,-332520.066452005,-332571.9108922647,-332468.22201174527,-331930.6063490149,-332397.20631135226,-247612.3970121619,-246368.13044592916,-244138.81951476212,-248545.59693683652,-245590.4638420337,-442276.9004120645,-447778.0804197329,-440670.15390580386,-442781.336384154,-440956.6838533969,-27379.010694260578,-55165.455526302314,-246101.3396884958,-124446.15131289416,-130428.27799353888,-154114.2943205662,-122280.33991067063,-210880.33653224393,-210828.4920919842,-211346.9364945812,-212149.95774002647,-212057.09349851188,-435374.7671123781,-433504.8611626005,-433504.8611626005,-438104.27219395293,-434733.46256912826,-377229.4640257729,-375482.4182166483,-374963.9738140513,-377229.4640257729,-375359.5580759955,-440570.126405995,-436997.70898922026,-398597.76219276054,-320674.4502061618,-271981.21410374774,-274054.9917141356,-277269.347010237,-278047.0136141324,-273536.54731153866,-359621.88618086826,-359621.88618086826,-359621.88618086826,-358393.28477434046,-358393.28477434046],\"yaxis\":\"y\",\"type\":\"scattergl\"},{\"hovertemplate\":\"color=4<br>PC1=%{x}<br>PC2=%{y}<extra></extra>\",\"legendgroup\":\"4\",\"marker\":{\"color\":\"#ab63fa\",\"symbol\":\"circle\"},\"mode\":\"markers\",\"name\":\"4\",\"showlegend\":true,\"x\":[1964892.5977254293,1980630.084001385,1960654.9048444289,1965324.3376272717,1938740.6728722292,1280239.3823969073,1296186.4422358924,1287939.2085965078,1271126.7767746302,1283098.136859673,1108912.3880423033,1108912.3880423033,1108912.3880423033,1108912.3880423033,1110523.5192395782,1432558.98424648,1388851.4213212435,1316927.5835961709,2194210.853311587,2032199.5363395966,1736857.1460572346,2044128.2390414171,1790154.6297587487,1332443.5036525445,1307263.4840930528,1312747.4373216783,1334386.5910239352,1320714.3855004557,1439960.1600670274,2060507.071018345,1383520.0658776346,2319186.4723574314,1761261.877887829,1751384.8517939043,2164063.053018179,2141932.6414104635,2087713.132971563,1962676.307387974,2093148.070506294,2384447.7311362387,2385239.5515252864,2384726.9674590332,2384442.1985333366,2385809.089376678,2576649.732074422,2576649.732074422,2576649.732074422,2575038.6008771462,2576649.732074422,2806326.8151336154,2781403.0227543004,2765801.2235897975,2782444.616100183,2789548.482952569,1359876.5535765933,1218904.727076679,1181385.6677747436,1247000.0292573445,1275152.7588114897,1259596.0638287182,1809184.9343984092,2703362.7488861554,2703362.7488861554,1762462.1296774277,1862513.377028219,2602086.3472353914,2602857.985216458,2602943.233049619,2601866.505544198,2601058.7455205168,2407908.86720064,1657829.530971417,2046856.9222557389,2406588.200307575,1733695.0817062003,1587583.5570948897,1496524.1643650995,1547901.8241561279,1492692.2715560426,1510845.8066187978,2315804.636136133,2315804.636136133,2315804.636136133,2314193.5049388576,2315804.636136133,1870081.025229118,2056410.3844066605,1423033.1810186866,1553445.0037860868,3118145.8434110293,1380855.9891817172,1380855.9891817172,1380855.9891817172,1380855.9891817172,1382467.1203789928,1618383.204293055,1589239.291515144,1603290.4512311576,1615250.7461103972,1593038.7699060957,1563153.8186854804,1467848.300353903,1426473.233964591,1709291.0041194947,1709291.0041194947,1711063.2484364975,1756430.5922323125,1711063.2484364975,2067783.800318856,1651377.7237479629,1649324.5397936937,1647549.2242186873,1633141.4472976045,1647903.5428544697,2053998.4640759982,1152100.7068824095,1254928.3345823272,1956182.750485845],\"xaxis\":\"x\",\"y\":[765753.052291739,774058.1521071959,767641.7275290585,769132.9302825244,760578.5976396742,147238.71152951798,216040.39029506862,180417.75111681354,107923.46652063205,159531.5272058429,299467.6441351349,299467.6441351349,299467.6441351349,299467.6441351349,299986.0885377318,944964.1152153622,918097.7515760562,873887.2797645399,908273.4759234926,767184.3919023278,632084.9692415444,786785.36253037,597534.4649905025,377934.7111517925,362928.83521711413,365827.84348648496,378657.2038858273,370725.0034409914,188931.4866813524,345928.0756507259,212748.3415749885,576098.262416698,314128.58225209237,310888.68522659986,544998.5122834669,531395.2901876158,498067.39605278044,421209.1912112213,488765.4680127887,136563.55320711795,140000.23633987154,137788.75380812166,136560.15240159398,142457.43915292685,987637.5466172164,987637.5466172164,987637.5466172164,987119.1022146194,987637.5466172164,674640.3015338371,670030.9953118684,659325.6775363763,668092.2369014099,660145.4906582425,652308.7222489926,176993.5892247764,154497.4748115314,184825.4763558398,194108.3423622955,200118.35302849408,-150387.18882552622,137349.45461580023,137349.45461580023,-165422.0765008389,-133226.6790995661,169891.53409808595,171419.4063907223,170465.4378742353,171281.85220680913,170785.3346003106,502023.97393663623,334241.0769283464,449534.2345226229,502758.7029686976,359222.2645536686,591840.8092384707,561980.0113189166,584101.590609485,570247.9273699194,572177.3693497544,65407.05668386027,65407.05668386027,65407.05668386027,64888.61228126329,65407.05668386027,220516.70774051818,297529.9463318926,60744.07733495955,115215.80061192598,639184.8076433056,566250.6285687815,566250.6285687815,566250.6285687815,566250.6285687815,566769.0729713787,56721.904593114115,-75448.60290927925,-8393.969952853357,43207.289121309586,-52623.62058785012,-19941.577850685684,-37545.609127542295,37962.55651858951,110776.01853412366,110776.01853412366,111346.30737698036,139232.91267347513,111346.30737698036,-36318.511580276194,4010.591460791822,-4847.62468027282,-13150.269804401398,-74626.70016802824,-10978.345698845918,1313346.6829958668,544014.9287892706,575966.7691489498,1019677.5849495938],\"yaxis\":\"y\",\"type\":\"scattergl\"},{\"hovertemplate\":\"color=3<br>PC1=%{x}<br>PC2=%{y}<extra></extra>\",\"legendgroup\":\"3\",\"marker\":{\"color\":\"#FFA15A\",\"symbol\":\"circle\"},\"mode\":\"markers\",\"name\":\"3\",\"showlegend\":true,\"x\":[2927743.3145798575,2962874.11953111,2932041.021914367,2933543.386890048,2951970.7742877724,3038662.4715149496,3036953.8579607727,3038092.933663557,3035627.495689193,3035627.495689193,2694727.1854973305,2781602.402193607,2757230.142657796,2986833.1630878365,2683709.9888717644,1052335.4235071961,1051140.161833773,1052193.0390443478,1052164.5621517783,1052335.4235071961],\"xaxis\":\"x\",\"y\":[-930811.3639227941,-851288.7022220467,-918058.74989518,-928944.964073445,-866166.9383003084,-73917.03095802657,-81288.63939719275,-76374.23377108191,-80578.482393262,-80578.482393262,-596468.9443232851,-539907.4158171285,-554416.7741453084,-413283.3449008526,-598554.9184284443,-965016.3243016162,-968243.3611387144,-965630.6250048801,-965753.4851455329,-965016.3243016162],\"yaxis\":\"y\",\"type\":\"scattergl\"}],                        {\"template\":{\"data\":{\"histogram2dcontour\":[{\"type\":\"histogram2dcontour\",\"colorbar\":{\"outlinewidth\":0,\"ticks\":\"\"},\"colorscale\":[[0.0,\"#0d0887\"],[0.1111111111111111,\"#46039f\"],[0.2222222222222222,\"#7201a8\"],[0.3333333333333333,\"#9c179e\"],[0.4444444444444444,\"#bd3786\"],[0.5555555555555556,\"#d8576b\"],[0.6666666666666666,\"#ed7953\"],[0.7777777777777778,\"#fb9f3a\"],[0.8888888888888888,\"#fdca26\"],[1.0,\"#f0f921\"]]}],\"choropleth\":[{\"type\":\"choropleth\",\"colorbar\":{\"outlinewidth\":0,\"ticks\":\"\"}}],\"histogram2d\":[{\"type\":\"histogram2d\",\"colorbar\":{\"outlinewidth\":0,\"ticks\":\"\"},\"colorscale\":[[0.0,\"#0d0887\"],[0.1111111111111111,\"#46039f\"],[0.2222222222222222,\"#7201a8\"],[0.3333333333333333,\"#9c179e\"],[0.4444444444444444,\"#bd3786\"],[0.5555555555555556,\"#d8576b\"],[0.6666666666666666,\"#ed7953\"],[0.7777777777777778,\"#fb9f3a\"],[0.8888888888888888,\"#fdca26\"],[1.0,\"#f0f921\"]]}],\"heatmap\":[{\"type\":\"heatmap\",\"colorbar\":{\"outlinewidth\":0,\"ticks\":\"\"},\"colorscale\":[[0.0,\"#0d0887\"],[0.1111111111111111,\"#46039f\"],[0.2222222222222222,\"#7201a8\"],[0.3333333333333333,\"#9c179e\"],[0.4444444444444444,\"#bd3786\"],[0.5555555555555556,\"#d8576b\"],[0.6666666666666666,\"#ed7953\"],[0.7777777777777778,\"#fb9f3a\"],[0.8888888888888888,\"#fdca26\"],[1.0,\"#f0f921\"]]}],\"heatmapgl\":[{\"type\":\"heatmapgl\",\"colorbar\":{\"outlinewidth\":0,\"ticks\":\"\"},\"colorscale\":[[0.0,\"#0d0887\"],[0.1111111111111111,\"#46039f\"],[0.2222222222222222,\"#7201a8\"],[0.3333333333333333,\"#9c179e\"],[0.4444444444444444,\"#bd3786\"],[0.5555555555555556,\"#d8576b\"],[0.6666666666666666,\"#ed7953\"],[0.7777777777777778,\"#fb9f3a\"],[0.8888888888888888,\"#fdca26\"],[1.0,\"#f0f921\"]]}],\"contourcarpet\":[{\"type\":\"contourcarpet\",\"colorbar\":{\"outlinewidth\":0,\"ticks\":\"\"}}],\"contour\":[{\"type\":\"contour\",\"colorbar\":{\"outlinewidth\":0,\"ticks\":\"\"},\"colorscale\":[[0.0,\"#0d0887\"],[0.1111111111111111,\"#46039f\"],[0.2222222222222222,\"#7201a8\"],[0.3333333333333333,\"#9c179e\"],[0.4444444444444444,\"#bd3786\"],[0.5555555555555556,\"#d8576b\"],[0.6666666666666666,\"#ed7953\"],[0.7777777777777778,\"#fb9f3a\"],[0.8888888888888888,\"#fdca26\"],[1.0,\"#f0f921\"]]}],\"surface\":[{\"type\":\"surface\",\"colorbar\":{\"outlinewidth\":0,\"ticks\":\"\"},\"colorscale\":[[0.0,\"#0d0887\"],[0.1111111111111111,\"#46039f\"],[0.2222222222222222,\"#7201a8\"],[0.3333333333333333,\"#9c179e\"],[0.4444444444444444,\"#bd3786\"],[0.5555555555555556,\"#d8576b\"],[0.6666666666666666,\"#ed7953\"],[0.7777777777777778,\"#fb9f3a\"],[0.8888888888888888,\"#fdca26\"],[1.0,\"#f0f921\"]]}],\"mesh3d\":[{\"type\":\"mesh3d\",\"colorbar\":{\"outlinewidth\":0,\"ticks\":\"\"}}],\"scatter\":[{\"fillpattern\":{\"fillmode\":\"overlay\",\"size\":10,\"solidity\":0.2},\"type\":\"scatter\"}],\"parcoords\":[{\"type\":\"parcoords\",\"line\":{\"colorbar\":{\"outlinewidth\":0,\"ticks\":\"\"}}}],\"scatterpolargl\":[{\"type\":\"scatterpolargl\",\"marker\":{\"colorbar\":{\"outlinewidth\":0,\"ticks\":\"\"}}}],\"bar\":[{\"error_x\":{\"color\":\"#2a3f5f\"},\"error_y\":{\"color\":\"#2a3f5f\"},\"marker\":{\"line\":{\"color\":\"#E5ECF6\",\"width\":0.5},\"pattern\":{\"fillmode\":\"overlay\",\"size\":10,\"solidity\":0.2}},\"type\":\"bar\"}],\"scattergeo\":[{\"type\":\"scattergeo\",\"marker\":{\"colorbar\":{\"outlinewidth\":0,\"ticks\":\"\"}}}],\"scatterpolar\":[{\"type\":\"scatterpolar\",\"marker\":{\"colorbar\":{\"outlinewidth\":0,\"ticks\":\"\"}}}],\"histogram\":[{\"marker\":{\"pattern\":{\"fillmode\":\"overlay\",\"size\":10,\"solidity\":0.2}},\"type\":\"histogram\"}],\"scattergl\":[{\"type\":\"scattergl\",\"marker\":{\"colorbar\":{\"outlinewidth\":0,\"ticks\":\"\"}}}],\"scatter3d\":[{\"type\":\"scatter3d\",\"line\":{\"colorbar\":{\"outlinewidth\":0,\"ticks\":\"\"}},\"marker\":{\"colorbar\":{\"outlinewidth\":0,\"ticks\":\"\"}}}],\"scattermapbox\":[{\"type\":\"scattermapbox\",\"marker\":{\"colorbar\":{\"outlinewidth\":0,\"ticks\":\"\"}}}],\"scatterternary\":[{\"type\":\"scatterternary\",\"marker\":{\"colorbar\":{\"outlinewidth\":0,\"ticks\":\"\"}}}],\"scattercarpet\":[{\"type\":\"scattercarpet\",\"marker\":{\"colorbar\":{\"outlinewidth\":0,\"ticks\":\"\"}}}],\"carpet\":[{\"aaxis\":{\"endlinecolor\":\"#2a3f5f\",\"gridcolor\":\"white\",\"linecolor\":\"white\",\"minorgridcolor\":\"white\",\"startlinecolor\":\"#2a3f5f\"},\"baxis\":{\"endlinecolor\":\"#2a3f5f\",\"gridcolor\":\"white\",\"linecolor\":\"white\",\"minorgridcolor\":\"white\",\"startlinecolor\":\"#2a3f5f\"},\"type\":\"carpet\"}],\"table\":[{\"cells\":{\"fill\":{\"color\":\"#EBF0F8\"},\"line\":{\"color\":\"white\"}},\"header\":{\"fill\":{\"color\":\"#C8D4E3\"},\"line\":{\"color\":\"white\"}},\"type\":\"table\"}],\"barpolar\":[{\"marker\":{\"line\":{\"color\":\"#E5ECF6\",\"width\":0.5},\"pattern\":{\"fillmode\":\"overlay\",\"size\":10,\"solidity\":0.2}},\"type\":\"barpolar\"}],\"pie\":[{\"automargin\":true,\"type\":\"pie\"}]},\"layout\":{\"autotypenumbers\":\"strict\",\"colorway\":[\"#636efa\",\"#EF553B\",\"#00cc96\",\"#ab63fa\",\"#FFA15A\",\"#19d3f3\",\"#FF6692\",\"#B6E880\",\"#FF97FF\",\"#FECB52\"],\"font\":{\"color\":\"#2a3f5f\"},\"hovermode\":\"closest\",\"hoverlabel\":{\"align\":\"left\"},\"paper_bgcolor\":\"white\",\"plot_bgcolor\":\"#E5ECF6\",\"polar\":{\"bgcolor\":\"#E5ECF6\",\"angularaxis\":{\"gridcolor\":\"white\",\"linecolor\":\"white\",\"ticks\":\"\"},\"radialaxis\":{\"gridcolor\":\"white\",\"linecolor\":\"white\",\"ticks\":\"\"}},\"ternary\":{\"bgcolor\":\"#E5ECF6\",\"aaxis\":{\"gridcolor\":\"white\",\"linecolor\":\"white\",\"ticks\":\"\"},\"baxis\":{\"gridcolor\":\"white\",\"linecolor\":\"white\",\"ticks\":\"\"},\"caxis\":{\"gridcolor\":\"white\",\"linecolor\":\"white\",\"ticks\":\"\"}},\"coloraxis\":{\"colorbar\":{\"outlinewidth\":0,\"ticks\":\"\"}},\"colorscale\":{\"sequential\":[[0.0,\"#0d0887\"],[0.1111111111111111,\"#46039f\"],[0.2222222222222222,\"#7201a8\"],[0.3333333333333333,\"#9c179e\"],[0.4444444444444444,\"#bd3786\"],[0.5555555555555556,\"#d8576b\"],[0.6666666666666666,\"#ed7953\"],[0.7777777777777778,\"#fb9f3a\"],[0.8888888888888888,\"#fdca26\"],[1.0,\"#f0f921\"]],\"sequentialminus\":[[0.0,\"#0d0887\"],[0.1111111111111111,\"#46039f\"],[0.2222222222222222,\"#7201a8\"],[0.3333333333333333,\"#9c179e\"],[0.4444444444444444,\"#bd3786\"],[0.5555555555555556,\"#d8576b\"],[0.6666666666666666,\"#ed7953\"],[0.7777777777777778,\"#fb9f3a\"],[0.8888888888888888,\"#fdca26\"],[1.0,\"#f0f921\"]],\"diverging\":[[0,\"#8e0152\"],[0.1,\"#c51b7d\"],[0.2,\"#de77ae\"],[0.3,\"#f1b6da\"],[0.4,\"#fde0ef\"],[0.5,\"#f7f7f7\"],[0.6,\"#e6f5d0\"],[0.7,\"#b8e186\"],[0.8,\"#7fbc41\"],[0.9,\"#4d9221\"],[1,\"#276419\"]]},\"xaxis\":{\"gridcolor\":\"white\",\"linecolor\":\"white\",\"ticks\":\"\",\"title\":{\"standoff\":15},\"zerolinecolor\":\"white\",\"automargin\":true,\"zerolinewidth\":2},\"yaxis\":{\"gridcolor\":\"white\",\"linecolor\":\"white\",\"ticks\":\"\",\"title\":{\"standoff\":15},\"zerolinecolor\":\"white\",\"automargin\":true,\"zerolinewidth\":2},\"scene\":{\"xaxis\":{\"backgroundcolor\":\"#E5ECF6\",\"gridcolor\":\"white\",\"linecolor\":\"white\",\"showbackground\":true,\"ticks\":\"\",\"zerolinecolor\":\"white\",\"gridwidth\":2},\"yaxis\":{\"backgroundcolor\":\"#E5ECF6\",\"gridcolor\":\"white\",\"linecolor\":\"white\",\"showbackground\":true,\"ticks\":\"\",\"zerolinecolor\":\"white\",\"gridwidth\":2},\"zaxis\":{\"backgroundcolor\":\"#E5ECF6\",\"gridcolor\":\"white\",\"linecolor\":\"white\",\"showbackground\":true,\"ticks\":\"\",\"zerolinecolor\":\"white\",\"gridwidth\":2}},\"shapedefaults\":{\"line\":{\"color\":\"#2a3f5f\"}},\"annotationdefaults\":{\"arrowcolor\":\"#2a3f5f\",\"arrowhead\":0,\"arrowwidth\":1},\"geo\":{\"bgcolor\":\"white\",\"landcolor\":\"#E5ECF6\",\"subunitcolor\":\"white\",\"showland\":true,\"showlakes\":true,\"lakecolor\":\"white\"},\"title\":{\"x\":0.05},\"mapbox\":{\"style\":\"light\"}}},\"xaxis\":{\"anchor\":\"y\",\"domain\":[0.0,1.0],\"title\":{\"text\":\"PC1\"}},\"yaxis\":{\"anchor\":\"x\",\"domain\":[0.0,1.0],\"title\":{\"text\":\"PC2\"}},\"legend\":{\"title\":{\"text\":\"color\"},\"tracegroupgap\":0},\"title\":{\"text\":\"PCA Representation of Clusters\"}},                        {\"responsive\": true}                    ).then(function(){\n",
       "                            \n",
       "var gd = document.getElementById('e37afda4-8928-4c63-bfaa-5df10c2977c3');\n",
       "var x = new MutationObserver(function (mutations, observer) {{\n",
       "        var display = window.getComputedStyle(gd).display;\n",
       "        if (!display || display === 'none') {{\n",
       "            console.log([gd, 'removed!']);\n",
       "            Plotly.purge(gd);\n",
       "            observer.disconnect();\n",
       "        }}\n",
       "}});\n",
       "\n",
       "// Listen for the removal of the full notebook cells\n",
       "var notebookContainer = gd.closest('#notebook-container');\n",
       "if (notebookContainer) {{\n",
       "    x.observe(notebookContainer, {childList: true});\n",
       "}}\n",
       "\n",
       "// Listen for the clearing of the current output cell\n",
       "var outputEl = gd.closest('.output');\n",
       "if (outputEl) {{\n",
       "    x.observe(outputEl, {childList: true});\n",
       "}}\n",
       "\n",
       "                        })                };                });            </script>        </div>"
      ]
     },
     "metadata": {},
     "output_type": "display_data"
    }
   ],
   "source": [
    "# Create scatter plot of `PC2` vs `PC1`\n",
    "\n",
    "fig  = px.scatter(\n",
    "    data_frame = X_pca,\n",
    "    x = \"PC1\",\n",
    "    y = \"PC2\",\n",
    "    color = labels.astype(str),\n",
    "    title= \"PCA Representation of Clusters\"\n",
    "\n",
    ")\n",
    "\n",
    "fig.update_layout(xaxis_title = \"PC1\", yaxis_title = \"PC2\")\n",
    "\n",
    "fig.show()"
   ]
  },
  {
   "cell_type": "code",
   "execution_count": null,
   "id": "1b036df8",
   "metadata": {},
   "outputs": [],
   "source": []
  }
 ],
 "metadata": {
  "kernelspec": {
   "display_name": "Python 3 (ipykernel)",
   "language": "python",
   "name": "python3"
  },
  "language_info": {
   "codemirror_mode": {
    "name": "ipython",
    "version": 3
   },
   "file_extension": ".py",
   "mimetype": "text/x-python",
   "name": "python",
   "nbconvert_exporter": "python",
   "pygments_lexer": "ipython3",
   "version": "3.10.9"
  }
 },
 "nbformat": 4,
 "nbformat_minor": 5
}
